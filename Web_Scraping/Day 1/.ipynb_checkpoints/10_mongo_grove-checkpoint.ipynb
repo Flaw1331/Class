{
 "cells": [
  {
   "cell_type": "markdown",
   "metadata": {},
   "source": [
    "# Mongo Grove\n",
    "\n",
    "## Instructions\n",
    "\n",
    "* You are the purchaser for the produce department of a large supermarket chain. You decide to use MongoDB to create a database of fruits received from your various suppliers.\n",
    "\n",
    "### Part I\n",
    "\n",
    "* Use Pymongo to create a `fruits_db` database, and a `fruits` collection.\n",
    "\n",
    "* Into that collection, insert two documents of fruit shipments received by your supermarket. They should contain the following information: vendor name, type of fruit, quantity received, and ripeness rating (1 for unripe, 2 for ripe, 3 for over-ripe).\n",
    "\n",
    "### Part II\n",
    "\n",
    "* Because not every supermarket employee is versed in using MongoDB, your task is to build an easy-to-use app that can be run from the console.\n",
    "\n",
    "* Build a Python script that asks the user for the above information, then inserts a document into a MongoDB database.\n",
    "\n",
    "### Part III\n",
    "\n",
    "* It would be good to Modify the app so that when the record is entered, the current date and time is automatically inserted into the document.\n",
    "\n",
    "* Hint: consult the [documentation](https://docs.python.org/3/library/datetime.html) on the `datetime` library.\n"
   ]
  },
  {
   "cell_type": "code",
   "execution_count": null,
   "metadata": {
    "collapsed": true
   },
   "outputs": [],
   "source": []
  }
 ],
 "metadata": {
  "kernelspec": {
   "display_name": "Python 3",
   "language": "python",
   "name": "python3"
  },
  "language_info": {
   "codemirror_mode": {
    "name": "ipython",
    "version": 3
   },
   "file_extension": ".py",
   "mimetype": "text/x-python",
   "name": "python",
   "nbconvert_exporter": "python",
   "pygments_lexer": "ipython3",
   "version": "3.6.3"
  }
 },
 "nbformat": 4,
 "nbformat_minor": 2
}
