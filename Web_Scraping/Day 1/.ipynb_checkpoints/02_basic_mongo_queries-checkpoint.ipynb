{
 "cells": [
  {
   "cell_type": "markdown",
   "metadata": {},
   "source": [
    "## Basic MongoDB Queries\n",
    "\n",
    "### Getting Started \n",
    "\n",
    "* The **`mongod`** window must remain open so that MongoDB can continue to run.\n",
    "\n",
    "* While **`mongod`** is running, open up another terminal/bash window and run **`mongo`** to start up the mongo shell.\n",
    "\n",
    "### Create a Database \n",
    "\n",
    "* As with MySQL, the first step in working with any kind of database is to create that database on the server.\n",
    "\n",
    "* Create the database `travel_db` by typing the command **`use travel_db`** into the mongo shell.\n",
    "\n",
    "* The existence of this database can be verified using the **`db`** command. This command lets users know which database they are currently working inside of.\n",
    "\n",
    "* To show all of the databases that currently exist on the server, type **`show dbs`** into the Mongo shell.\n",
    "  \n",
    "* Only those databases that contain some data will be shown. So you will not see the travel_db. MongoDB will not save a database until some values exist within it.\n",
    "\n",
    "* To show the collections within the current database, enter **`show collections`** into the mongo shell.\n",
    "\n",
    "* Because no collection has been created within `travel_db` yet, nothing will be returned at this time.\n",
    "\n",
    "### Insert a Document\n",
    "\n",
    "  * To insert a document into a database's collection, the syntax `db.collectionName.insert({key:value})` is used.\n",
    "\n",
    "    ![Inserting Data](Images/03-BasicMongo_Collections.png)\n",
    "  \n",
    "  * **`db` implicitly refers to the currently selected database**. In this specific case that means it is referring to `travel_db`.\n",
    "  \n",
    "  * `collectionName` should be replaced with the name of the collection that the data will be inserted into. If the named collection does not yet exist, then mongo will create it automatically.\n",
    "  \n",
    "  * `insert({key:value})` allows users to then insert a document into the collection. \n",
    "\n",
    "  * `db.collectionName.find().pretty()` can then be used in order to print out the data that are stored within the named collection. The `pretty()` method prints out the data in a more readable format.\n",
    "\n",
    "    ![Pretty Print](Images/03-BasicMongo_PrettyPrint.png)\n",
    "  \n",
    "\n",
    "### Finding Documents\n",
    "\n",
    "* To find specific documents within a collection, the syntax used is `db.collectionName.find({key:value})`.\n",
    "\n",
    "    ![Finding Documents](Images/03-BasicMongo_Find.png)\n",
    "\n",
    "  * The first line of code above will perform a search for all documents whose `country` matches `USA`.\n",
    "  \n",
    "  * The second line will return all documents whose `continent` is `Europe`.\n",
    "\n",
    "  * Lastly, it is possible to find a single document by its `_id` which is a uniquely generated string that is automatically set whenever a document is made.\n"
   ]
  },
  {
   "cell_type": "code",
   "execution_count": null,
   "metadata": {
    "collapsed": true
   },
   "outputs": [],
   "source": []
  }
 ],
 "metadata": {
  "kernelspec": {
   "display_name": "Python 3",
   "language": "python",
   "name": "python3"
  },
  "language_info": {
   "codemirror_mode": {
    "name": "ipython",
    "version": 3
   },
   "file_extension": ".py",
   "mimetype": "text/x-python",
   "name": "python",
   "nbconvert_exporter": "python",
   "pygments_lexer": "ipython3",
   "version": "3.6.3"
  }
 },
 "nbformat": 4,
 "nbformat_minor": 2
}
