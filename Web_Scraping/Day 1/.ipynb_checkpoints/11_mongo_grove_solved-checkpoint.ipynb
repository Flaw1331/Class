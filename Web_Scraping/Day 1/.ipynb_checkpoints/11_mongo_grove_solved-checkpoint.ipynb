{
 "cells": [
  {
   "cell_type": "markdown",
   "metadata": {},
   "source": [
    "# Mongo Grove\n",
    "\n",
    "## Instructions\n",
    "\n",
    "* You are the purchaser for the produce department of a large supermarket chain. You decide to use MongoDB to create a database of fruits received from your various suppliers.\n",
    "\n",
    "### Part I\n",
    "\n",
    "* Use Pymongo to create a `fruits_db` database, and a `fruits` collection.\n",
    "\n",
    "* Into that collection, insert two documents of fruit shipments received by your supermarket. They should contain the following information: vendor name, type of fruit, quantity received, and ripeness rating (1 for unripe, 2 for ripe, 3 for over-ripe).\n",
    "\n",
    "### Part II\n",
    "\n",
    "* Because not every supermarket employee is versed in using MongoDB, your task is to build an easy-to-use app that can be run from the console.\n",
    "\n",
    "* Build a Python script that asks the user for the above information, then inserts a document into a MongoDB database.\n",
    "\n",
    "### Part III\n",
    "\n",
    "* It would be good to Modify the app so that when the record is entered, the current date and time is automatically inserted into the document.\n",
    "\n",
    "* Hint: consult the [documentation](https://docs.python.org/3/library/datetime.html) on the `datetime` library.\n",
    "\n"
   ]
  },
  {
   "cell_type": "code",
   "execution_count": 1,
   "metadata": {
    "collapsed": true
   },
   "outputs": [],
   "source": [
    "# Dependencies\n",
    "import pymongo\n",
    "import datetime\n",
    "from bson.json_util import dumps\n",
    "# The default port used by MongoDB is 27017\n",
    "# https://docs.mongodb.com/manual/reference/default-mongodb-port/\n",
    "conn = 'mongodb://localhost:27017'\n",
    "client = pymongo.MongoClient(conn)"
   ]
  },
  {
   "cell_type": "code",
   "execution_count": 2,
   "metadata": {
    "collapsed": true
   },
   "outputs": [],
   "source": [
    "# Declare the database\n",
    "db = client.fruits_db\n",
    "\n",
    "# Declare the collection\n",
    "collection = db.fruits_db"
   ]
  },
  {
   "cell_type": "code",
   "execution_count": 3,
   "metadata": {},
   "outputs": [
    {
     "data": {
      "text/plain": [
       "<pymongo.results.InsertOneResult at 0x108855a20>"
      ]
     },
     "execution_count": 3,
     "metadata": {},
     "output_type": "execute_result"
    }
   ],
   "source": [
    "# Part I\n",
    "# A dictionary that represents the document to be inserted\n",
    "post = {\n",
    "    'vendor': 'fruit star',\n",
    "    'fruit': 'raspberry',\n",
    "    'quantity': 21,\n",
    "    'ripeness': 2,\n",
    "    'date': datetime.datetime.utcnow()\n",
    "}\n",
    "# Insert the document into the database\n",
    "# The database and collection, if they don't already exist, will be created at this point.\n",
    "collection.insert_one(post)"
   ]
  },
  {
   "cell_type": "code",
   "execution_count": 4,
   "metadata": {},
   "outputs": [
    {
     "name": "stdout",
     "output_type": "stream",
     "text": [
      "{\n",
      "  \"_id\": {\n",
      "    \"$oid\": \"5aa00b9ac3b5a00476a37152\"\n",
      "  },\n",
      "  \"vendor\": \"fruit star\",\n",
      "  \"fruit\": \"raspberry\",\n",
      "  \"quantity\": 21,\n",
      "  \"ripeness\": 2,\n",
      "  \"date\": {\n",
      "    \"$date\": 1520438170356\n",
      "  }\n",
      "}\n"
     ]
    }
   ],
   "source": [
    "fruits = db.fruits_db.find()\n",
    "\n",
    "# Iterate through each student in the collection\n",
    "for fruit in fruits:\n",
    "    print(dumps(fruit, indent=2))"
   ]
  },
  {
   "cell_type": "code",
   "execution_count": 5,
   "metadata": {},
   "outputs": [
    {
     "name": "stdout",
     "output_type": "stream",
     "text": [
      "Vendor name: fruit star\n",
      "Type of fruit: pear\n",
      "Number of boxes received: 3\n",
      "Ripeness of fruit (1 is unripe; 2 is ripe, 3 is over-ripe: 1\n",
      "{'_id': ObjectId('5aa00b9ac3b5a00476a37152'), 'vendor': 'fruit star', 'fruit': 'raspberry', 'quantity': 21, 'ripeness': 2, 'date': datetime.datetime(2018, 3, 7, 15, 56, 10, 356000)}\n",
      "{'_id': ObjectId('5aa00bb8c3b5a00476a37153'), 'vendor': 'fruit star', 'fruit': 'pear', 'quantity': '3', 'ripeness': '1', 'date': datetime.datetime(2018, 3, 7, 15, 56, 40, 261000)}\n"
     ]
    }
   ],
   "source": [
    "# Part II\n",
    "# Ask the user for input. Store information into variables.\n",
    "vendor = input('Vendor name: ')\n",
    "fruit_type = input('Type of fruit: ')\n",
    "quantity = input('Number of boxes received: ')\n",
    "ripeness = input('Ripeness of fruit (1 is unripe; 2 is ripe, 3 is over-ripe: ')\n",
    "\n",
    "# A dictionary that will become a MongoDB document\n",
    "post = {\n",
    "    'vendor': vendor,\n",
    "    'fruit': fruit_type,\n",
    "    'quantity': quantity,\n",
    "    'ripeness': ripeness,\n",
    "    'date': datetime.datetime.utcnow()\n",
    "}\n",
    "\n",
    "# Insert document into collection\n",
    "collection.insert_one(post)\n",
    "\n",
    "\n",
    "# Verify results:\n",
    "results = db.fruits_db.find()\n",
    "for result in results:\n",
    "    print(result)\n",
    "\n"
   ]
  },
  {
   "cell_type": "code",
   "execution_count": 8,
   "metadata": {},
   "outputs": [],
   "source": [
    "results = db.fruits_db.find()\n",
    "for result in results:\n",
    "    print(result['vendor'])"
   ]
  },
  {
   "cell_type": "code",
   "execution_count": 7,
   "metadata": {
    "collapsed": true
   },
   "outputs": [],
   "source": [
    "# Delete the entire database\n",
    "client.drop_database('fruits_db')"
   ]
  },
  {
   "cell_type": "code",
   "execution_count": null,
   "metadata": {
    "collapsed": true
   },
   "outputs": [],
   "source": []
  }
 ],
 "metadata": {
  "kernelspec": {
   "display_name": "Python 3",
   "language": "python",
   "name": "python3"
  },
  "language_info": {
   "codemirror_mode": {
    "name": "ipython",
    "version": 3
   },
   "file_extension": ".py",
   "mimetype": "text/x-python",
   "name": "python",
   "nbconvert_exporter": "python",
   "pygments_lexer": "ipython3",
   "version": "3.6.3"
  }
 },
 "nbformat": 4,
 "nbformat_minor": 2
}
