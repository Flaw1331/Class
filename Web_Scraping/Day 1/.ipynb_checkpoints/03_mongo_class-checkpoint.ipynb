{
 "cells": [
  {
   "cell_type": "markdown",
   "metadata": {},
   "source": [
    "* **Instructions**:\n",
    "\n",
    "  * Use the command line to create a `ClassDB` database\n",
    "\n",
    "  * Insert entries into this database for yourself and the people around you within a collection called `students`\n",
    "\n",
    "  * Each document should have a field of `name` with the person's name, a field of `favoriteLibrary` for the person's favorite Python library, a field of `age` for the person's age, and a field of `hobbies` which will hold a list of that person's hobbies.\n",
    "\n",
    "  * Use the `find()` commands to get a list of everyone of a specific age before using `_id` to collect the entry for a single person.\n",
    "\n",
    "* **Bonus**:\n",
    "\n",
    "  * Check out the MongoDB documentation and figure out how to find users by a hobby that they have.\n"
   ]
  },
  {
   "cell_type": "code",
   "execution_count": null,
   "metadata": {
    "collapsed": true
   },
   "outputs": [],
   "source": []
  }
 ],
 "metadata": {
  "kernelspec": {
   "display_name": "Python 3",
   "language": "python",
   "name": "python3"
  },
  "language_info": {
   "codemirror_mode": {
    "name": "ipython",
    "version": 3
   },
   "file_extension": ".py",
   "mimetype": "text/x-python",
   "name": "python",
   "nbconvert_exporter": "python",
   "pygments_lexer": "ipython3",
   "version": "3.6.3"
  }
 },
 "nbformat": 4,
 "nbformat_minor": 2
}
