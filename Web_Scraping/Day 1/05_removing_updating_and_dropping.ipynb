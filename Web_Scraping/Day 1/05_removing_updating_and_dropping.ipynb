{
 "cells": [
  {
   "cell_type": "markdown",
   "metadata": {},
   "source": [
    "## Removing, Updating and Dropping in MongoDB\n",
    "\n",
    "### Update\n",
    "\n",
    "** `use destinations`**\n",
    "\n",
    "* The **`update()`** method takes in two objects as its paramerters. The first object tells the application what document(s) to search through whilst the second object informs the application on what values to change.\n",
    "\n",
    "* The second object passed uses the following syntax: **`{$set: {KEY:VALUE}}`**. Failing to use this syntax could lead to errors or might even break the document.\n",
    "\n",
    "* **`update()` method will only update the first entry which matches.**\n",
    "\n",
    "* To update more than one document, the **`updateMany()`** method can be used instead. This method will update all of the records that meet the given criterion.\n",
    "\n",
    "* Passing the parameter **`{multi:true}`** into the **`update()`** method would also work but is more complex and not ideal.\n",
    "\n",
    "    ![Updating Mongo](Images/05-MongoCRUD_Update.png)\n",
    "\n",
    "* If the field to update does not yet exist, the field will be inserted into the document instead.\n",
    "\n",
    "* If the document being searched for within a collecion does not exist, the `update()` method will not create the document in question unless **`{upsert:true}`** is passed as a parameter. This option combines `update` and `insert`, meaning that if a document already exists that meets the given criterion, it will be updated. If the document doesn't exist, however, MongoDB will create one with the given information.\n",
    "\n",
    "    ![Upsert Option](Images/05-MongoCRUD_Upsert.png)\n",
    "\n",
    "  * To add elements into an array, use **`$push`** instead of **`$set`**. This will push the value provided into the array without modifying any of the other elements.\n",
    "\n",
    "    ![Push to Array](Images/05-MongoCRUD_Push.png)\n",
    "\n",
    "* Deleting documents from a Mongo collection is easy as the **`db.collectionName.remove({})`** method is used.\n",
    "\n",
    "* The object being passed into the **`remove()`** method dictates what key/value pairing to search for. The first document that matches will then be dropped from the collection. \n",
    "\n",
    "* Passing an empty object into the **`remove()`** method will drop all documents from the collection. This is extremely risky as all of that data will be lost.\n",
    "\n",
    "* The **`db.collectionName.drop()`** method will delete the collection named from the Mongo database while **`db.dropDatabase()`** will delete the database itself.\n",
    "\n",
    "    ![Deleting Docs](Images/05-MongoCRUD_Delete.png)\n",
    "\n"
   ]
  },
  {
   "cell_type": "code",
   "execution_count": null,
   "metadata": {
    "collapsed": true
   },
   "outputs": [],
   "source": []
  }
 ],
 "metadata": {
  "kernelspec": {
   "display_name": "Python 3",
   "language": "python",
   "name": "python3"
  },
  "language_info": {
   "codemirror_mode": {
    "name": "ipython",
    "version": 3
   },
   "file_extension": ".py",
   "mimetype": "text/x-python",
   "name": "python",
   "nbconvert_exporter": "python",
   "pygments_lexer": "ipython3",
   "version": "3.6.3"
  }
 },
 "nbformat": 4,
 "nbformat_minor": 2
}
