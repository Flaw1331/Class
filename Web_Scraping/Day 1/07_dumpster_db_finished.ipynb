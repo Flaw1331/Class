{
 "cells": [
  {
   "cell_type": "markdown",
   "metadata": {},
   "source": [
    "\n",
    "* **Instructions**:\n",
    "\n",
    "  * Create and use a new database called `Dumpster_DB` using the Mongo shell.\n",
    "\n",
    "  * Create a collection called `divers` which will contain a string field for `name`, an integer field for `yearsDiving`, a boolean field for `stillDiving`, and an array of strings for `bestFinds`.\n",
    "\n",
    "  * Insert three new documents into the collection. Be creative with what you put in here and have some fun with it.\n",
    "\n",
    "  * Update the `yearsDiving` fields for your documents so that they are one greater than their original values.\n",
    "\n",
    "  * Update the `stillDiving` value for one of the documents so that it is now false.\n",
    "\n",
    "  * Push a new value into the `bestFinds` array for one of the documents.\n",
    "\n",
    "  * Look through the collection, find the diver with the smallest number of `bestFinds`, and remove it from the collection."
   ]
  },
  {
   "cell_type": "markdown",
   "metadata": {
    "collapsed": true
   },
   "source": [
    "```python\n",
    "# Create and use a database called \"Dumpster_DB\"\n",
    "use Dumpster_DB\n",
    "\n",
    "# Create the \"divers\" collection and then insert a couple documents into it\n",
    "db.divers.insert({\"name\":\"Davey\", \"yearsDiving\":10, \"stillDiving\":\"True\", \"bestFinds\":[\"Flat Screen\", \"Ruby Collar\", \"$100\"]})\n",
    "\n",
    "db.divers.insert({\"name\":\"Jeanie\", \"yearsDiving\":1, \"stillDiving\":\"True\", \"bestFinds\":[\"Movie Theater Chairs\", \"Music Box\"]})\n",
    "\n",
    "db.divers.insert({\"name\":\"Boppo\", \"yearsDiving\":5, \"stillDiving\":\"True\", \"bestFinds\":[\"Half-Eaten Hamburger\", \"Some Goop\"]})\n",
    "\n",
    "# Update 'yearsDiving' so that it is one year higher for each diver\n",
    "db.divers.Update({\"name\":\"Davey\"},{$set:{\"yearsDiving\":11}})\n",
    "db.divers.Update({\"name\":\"Jeanie\"},{$set:{\"yearsDiving\":2}})\n",
    "db.divers.Update({\"name\":\"Boppo\"},{$set:{\"yearsDiving\":6}})\n",
    "\n",
    "# Update 'stillDiving' to False for Davey\n",
    "db.divers.Update({\"name\":\"Davey\"},{$set:{\"stillDiving\":\"False\"}})\n",
    "\n",
    "# Add a new value to Jeanie's \"bestFinds\"\n",
    "db.divers.Update({\"name\":\"Jeanie\"},{$push:{\"bestFinds\":\"Mona Lisa\"}})\n",
    "\n",
    "# Remove Boppo from the collection\n",
    "db.divers.remove({\"name\":\"Boppo\"})\n",
    "\n",
    "```"
   ]
  },
  {
   "cell_type": "code",
   "execution_count": null,
   "metadata": {
    "collapsed": true
   },
   "outputs": [],
   "source": []
  }
 ],
 "metadata": {
  "kernelspec": {
   "display_name": "Python 3",
   "language": "python",
   "name": "python3"
  },
  "language_info": {
   "codemirror_mode": {
    "name": "ipython",
    "version": 3
   },
   "file_extension": ".py",
   "mimetype": "text/x-python",
   "name": "python",
   "nbconvert_exporter": "python",
   "pygments_lexer": "ipython3",
   "version": "3.6.3"
  }
 },
 "nbformat": 4,
 "nbformat_minor": 2
}
