{
 "cells": [
  {
   "cell_type": "markdown",
   "metadata": {},
   "source": [
    " While working within the mongo shell is fine and dandy, life would be far simpler if there were an application to view/modify Mongo databases. Thankfully there is in [MongoDB Compass](https://www.mongodb.com/products/compass).\n",
    "\n",
    "* You may have already installed MongoDB Compass during your installation of MongoDB Server. If not, download the application from [here](https://www.mongodb.com/download-center?filter=enterprise#compass).\n",
    "\n",
    "* Connecting to localhost is REALLY simple with MongoDB Compass as the default values for the connection are always set for localhost. You should be able to connect straight away so long as `mongod` is running.\n",
    "\n",
    "    ![Mongo Compass Connect](Images/07-MongoCompass_Connect.png)\n",
    "\n",
    "* Upon hitting that \"CONNECT\" button, you will see a list of all of the MongoDB databases hosted on your localhost server.\n",
    "\n",
    "* Clicking on a database's name will take you to a list of all of the collections stored on that database. Clicking on a collection name will then take you into a view where you can peruse all of that collection's documents.\n",
    "\n",
    "    ![Compass Docs View](Images/07-MongoCompass_DocsView.png)\n",
    "\n",
    "* When inside of the Document Viewer, users can create, read, update, and even delete data using the GUI. "
   ]
  },
  {
   "cell_type": "code",
   "execution_count": null,
   "metadata": {
    "collapsed": true
   },
   "outputs": [],
   "source": []
  }
 ],
 "metadata": {
  "kernelspec": {
   "display_name": "Python 3",
   "language": "python",
   "name": "python3"
  },
  "language_info": {
   "codemirror_mode": {
    "name": "ipython",
    "version": 3
   },
   "file_extension": ".py",
   "mimetype": "text/x-python",
   "name": "python",
   "nbconvert_exporter": "python",
   "pygments_lexer": "ipython3",
   "version": "3.6.3"
  }
 },
 "nbformat": 4,
 "nbformat_minor": 2
}
