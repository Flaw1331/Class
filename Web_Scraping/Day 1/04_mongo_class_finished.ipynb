{
 "cells": [
  {
   "cell_type": "markdown",
   "metadata": {},
   "source": [
    "```python\n",
    "\n",
    "\n",
    "# A. Use the command line to create a classDB database.\n",
    "# Insert entries for yourself and the people in your row in a classroom collection.\n",
    "# Each document should have:\n",
    "\n",
    "# 1. A field of name with the person's name.\n",
    "# 2. A field of rownumber which will contain the row number that they are in.\n",
    "# 3. A field of the person's favorite Python library, e.g. pandas.\n",
    "# 4. A field of a list of the person's hobbies .\n",
    "\n",
    "# Example:\n",
    "use classDB\n",
    "\n",
    "db.classroom.insert({name: 'Mariah', age: 23, favorite_python_library: 'Seaborn', hobbies: ['Coding', 'Reading', 'Running']})\n",
    "\n",
    "db.classroom.insert({name: 'Ricky', age: 34, favorite_python_library: 'Matplotlib', hobbies: ['Not Coding', 'Not Reading', 'Not Running', 'Guitar']})\n",
    "\n",
    "db.classroom.insert({name: 'Srikanth', age: 28, favorite_python_library: 'Pandas', hobbies: ['Netflix', 'Guitar', 'Traveling']})\n",
    "\n",
    "\n",
    "# B. Use find commands to get:\n",
    "# 1. A list of everyone in a particular row.\n",
    "db.classroom.find({row: 3}).pretty()\n",
    "\n",
    "# 2. An entry for a single person.\n",
    "db.classroom.find({name: 'Ricky'}).pretty()\n",
    "\n",
    "\n",
    "# Bonus:\n",
    "# If you finish early, check out the MongoDB documentation\n",
    "# and figure out how to find users by an entry in an array.\n",
    "db.classroom.find({\"hobbies\": {$in: [\"Guitar\"]}}).pretty()\n",
    "\n",
    "\n",
    "```"
   ]
  },
  {
   "cell_type": "code",
   "execution_count": null,
   "metadata": {
    "collapsed": true
   },
   "outputs": [],
   "source": []
  }
 ],
 "metadata": {
  "kernelspec": {
   "display_name": "Python 3",
   "language": "python",
   "name": "python3"
  },
  "language_info": {
   "codemirror_mode": {
    "name": "ipython",
    "version": 3
   },
   "file_extension": ".py",
   "mimetype": "text/x-python",
   "name": "python",
   "nbconvert_exporter": "python",
   "pygments_lexer": "ipython3",
   "version": "3.6.3"
  }
 },
 "nbformat": 4,
 "nbformat_minor": 2
}
