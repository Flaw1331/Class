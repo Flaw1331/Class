{
 "cells": [
  {
   "cell_type": "markdown",
   "metadata": {},
   "source": [
    "\n",
    "* **Instructions**:\n",
    "\n",
    "  * Create and use a new database called `Dumpster_DB` using the Mongo shell.\n",
    "\n",
    "  * Create a collection called `divers` which will contain a string field for `name`, an integer field for `yearsDiving`, a boolean field for `stillDiving`, and an array of strings for `bestFinds`.\n",
    "\n",
    "  * Insert three new documents into the collection. Be creative with what you put in here and have some fun with it.\n",
    "\n",
    "  * Update the `yearsDiving` fields for your documents so that they are one greater than their original values.\n",
    "\n",
    "  * Update the `stillDiving` value for one of the documents so that it is now false.\n",
    "\n",
    "  * Push a new value into the `bestFinds` array for one of the documents.\n",
    "\n",
    "  * Look through the collection, find the diver with the smallest number of `bestFinds`, and remove it from the collection."
   ]
  },
  {
   "cell_type": "code",
   "execution_count": null,
   "metadata": {
    "collapsed": true
   },
   "outputs": [],
   "source": []
  }
 ],
 "metadata": {
  "kernelspec": {
   "display_name": "Python 3",
   "language": "python",
   "name": "python3"
  },
  "language_info": {
   "codemirror_mode": {
    "name": "ipython",
    "version": 3
   },
   "file_extension": ".py",
   "mimetype": "text/x-python",
   "name": "python",
   "nbconvert_exporter": "python",
   "pygments_lexer": "ipython3",
   "version": "3.6.3"
  }
 },
 "nbformat": 4,
 "nbformat_minor": 2
}
