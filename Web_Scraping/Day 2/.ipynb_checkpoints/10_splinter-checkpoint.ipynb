{
 "cells": [
  {
   "cell_type": "markdown",
   "metadata": {},
   "source": [
    "###  Introduction to Splinter (0:15)\n",
    "\n",
    "\n",
    "Chrome Webdriver: [https://splinter.readthedocs.io/en/latest/drivers/chrome.html](https://splinter.readthedocs.io/en/latest/drivers/chrome.html)\n",
    "\n",
    "\n",
    "* Up to now, we have used Beautiful Soup to scrape a single, static page at a time.\n",
    "\n",
    "* Often, you can only access interesting parts of a website after logging in, filling out and submitting forms, etc.\n",
    "\n",
    "* When the data is \"buried\" behind such dynamic interactions, a web driver can be used to write scripts for the browser!\n",
    "\n",
    "* This allows developers to simulate user interactions programmatically and scrape multiple pages along the way.\n",
    "\n",
    "* The Chrome webdriver can also be used to simulate user interaction with a webpage for testing purposes.\n",
    "\n",
    "### Installing Chomedriver\n",
    "\n",
    "### Mac:\n",
    "* Mac users, if they have `brew` installed, can simply run `brew install chromedriver` from their terminal.\n",
    "* To install brew, go to https://brew.sh and follow the instructions.\n",
    "\n",
    "### Windows:\n",
    "* Download the Chromedriver\n",
    "* https://sites.google.com/a/chromium.org/chromedriver/downloads\n",
    "\n",
    "* Extract the executable program file, and then place it in the same folder as their Python script.\n"
   ]
  },
  {
   "cell_type": "markdown",
   "metadata": {},
   "source": [
    "* An instance of a Splinter browser on the Browser line below.\n",
    "  \n",
    "* The driver being used for the browser interaction is 'chrome'\n",
    "\n",
    "* `False` is passed for the `headless` option. This means that the browser's actions will be displayed in a Chrome window so that the process can be seen. You can set this to true if you don't want to see it.\n",
    "\n"
   ]
  },
  {
   "cell_type": "code",
   "execution_count": 1,
   "metadata": {},
   "outputs": [
    {
     "ename": "ModuleNotFoundError",
     "evalue": "No module named 'splinter'",
     "output_type": "error",
     "traceback": [
      "\u001b[1;31m---------------------------------------------------------------------------\u001b[0m",
      "\u001b[1;31mModuleNotFoundError\u001b[0m                       Traceback (most recent call last)",
      "\u001b[1;32m<ipython-input-1-395860d08318>\u001b[0m in \u001b[0;36m<module>\u001b[1;34m()\u001b[0m\n\u001b[1;32m----> 1\u001b[1;33m \u001b[1;32mfrom\u001b[0m \u001b[0msplinter\u001b[0m \u001b[1;32mimport\u001b[0m \u001b[0mBrowser\u001b[0m\u001b[1;33m\u001b[0m\u001b[0m\n\u001b[0m\u001b[0;32m      2\u001b[0m \u001b[1;32mfrom\u001b[0m \u001b[0mbs4\u001b[0m \u001b[1;32mimport\u001b[0m \u001b[0mBeautifulSoup\u001b[0m\u001b[1;33m\u001b[0m\u001b[0m\n\u001b[0;32m      3\u001b[0m \u001b[1;32mfrom\u001b[0m \u001b[0msys\u001b[0m \u001b[1;32mimport\u001b[0m \u001b[0mplatform\u001b[0m\u001b[1;33m\u001b[0m\u001b[0m\n\u001b[0;32m      4\u001b[0m \u001b[1;32mif\u001b[0m \u001b[0mplatform\u001b[0m \u001b[1;33m==\u001b[0m \u001b[1;34m\"darwin\"\u001b[0m\u001b[1;33m:\u001b[0m\u001b[1;33m\u001b[0m\u001b[0m\n\u001b[0;32m      5\u001b[0m     \u001b[0mexecutable_path\u001b[0m \u001b[1;33m=\u001b[0m \u001b[1;33m{\u001b[0m\u001b[1;34m\"executable_path\"\u001b[0m\u001b[1;33m:\u001b[0m \u001b[1;34m\"/usr/local/bin/chromedriver\"\u001b[0m\u001b[1;33m}\u001b[0m\u001b[1;33m\u001b[0m\u001b[0m\n",
      "\u001b[1;31mModuleNotFoundError\u001b[0m: No module named 'splinter'"
     ]
    }
   ],
   "source": [
    "from splinter import Browser\n",
    "from bs4 import BeautifulSoup\n",
    "from sys import platform\n",
    "if platform == \"darwin\":\n",
    "    executable_path = {\"executable_path\": \"/usr/local/bin/chromedriver\"}\n",
    "else:\n",
    "    executable_path = {'executable_path': 'chromedriver.exe'}\n",
    "browser = Browser(\"chrome\", **executable_path, headless=False)\n",
    "\n"
   ]
  },
  {
   "cell_type": "markdown",
   "metadata": {},
   "source": [
    "### Take a look at  http://quotes.toscrape.com/"
   ]
  },
  {
   "cell_type": "markdown",
   "metadata": {},
   "source": [
    "* For each page, we need to parse the html. \n",
    "* The browser then needs to click the `Next` button to proceed onto the next page \n",
    "  \n",
    "![Next](images/next.png)\n",
    "    \n",
    "\n",
    "* Open the Chrome inspector to identify the element that the application will need to click.\n",
    "\n",
    "\n",
    "![Next](images/next_html.png)\n",
    "\n",
    "\n",
    "* Navigate to [Splinter's documentation](https://splinter.readthedocs.io/en/latest/elements-in-the-page.html)\n",
    "  \n",
    "* Splinter offers various ways of interacting with the page, including clicking an element by its text.\n",
    "\n",
    "* The next part is a for-loop with five iterations that uses Beautiful Soup to parse the page by collecting all of the quotes in that location.\n",
    "\n",
    "* After printing all the quotes on a page, the application clicks on the `Next` button with Splinter's `click_link_by_partial_text()` method.\n",
    "\n",
    "* There are ten total pages on this practice website, but we chose five to cycle through.\n",
    "\n",
    "\n"
   ]
  },
  {
   "cell_type": "code",
   "execution_count": 71,
   "metadata": {},
   "outputs": [
    {
     "name": "stdout",
     "output_type": "stream",
     "text": [
      "page: 1 -------------\n",
      "“The world as we have created it is a process of our thinking. It cannot be changed without changing our thinking.”\n",
      "page: 1 -------------\n",
      "“It is our choices, Harry, that show what we truly are, far more than our abilities.”\n",
      "page: 1 -------------\n",
      "“There are only two ways to live your life. One is as though nothing is a miracle. The other is as though everything is a miracle.”\n",
      "page: 1 -------------\n",
      "“The person, be it gentleman or lady, who has not pleasure in a good novel, must be intolerably stupid.”\n",
      "page: 1 -------------\n",
      "“Imperfection is beauty, madness is genius and it's better to be absolutely ridiculous than absolutely boring.”\n",
      "page: 1 -------------\n",
      "“Try not to become a man of success. Rather become a man of value.”\n",
      "page: 1 -------------\n",
      "“It is better to be hated for what you are than to be loved for what you are not.”\n",
      "page: 1 -------------\n",
      "“I have not failed. I've just found 10,000 ways that won't work.”\n",
      "page: 1 -------------\n",
      "“A woman is like a tea bag; you never know how strong it is until it's in hot water.”\n",
      "page: 1 -------------\n",
      "“A day without sunshine is like, you know, night.”\n",
      "page: 2 -------------\n",
      "“This life is what you make it. No matter what, you're going to mess up sometimes, it's a universal truth. But the good part is you get to decide how you're going to mess it up. Girls will be your friends - they'll act like it anyway. But just remember, some come, some go. The ones that stay with you through everything - they're your true best friends. Don't let go of them. Also remember, sisters make the best friends in the world. As for lovers, well, they'll come and go too. And baby, I hate to say it, most of them - actually pretty much all of them are going to break your heart, but you can't give up because if you give up, you'll never find your soulmate. You'll never find that half who makes you whole and that goes for everything. Just because you fail once, doesn't mean you're gonna fail at everything. Keep trying, hold on, and always, always, always believe in yourself, because if you don't, then who will, sweetie? So keep your head high, keep your chin up, and most importantly, keep smiling, because life's a beautiful thing and there's so much to smile about.”\n",
      "page: 2 -------------\n",
      "“It takes a great deal of bravery to stand up to our enemies, but just as much to stand up to our friends.”\n",
      "page: 2 -------------\n",
      "“If you can't explain it to a six year old, you don't understand it yourself.”\n",
      "page: 2 -------------\n",
      "“You may not be her first, her last, or her only. She loved before she may love again. But if she loves you now, what else matters? She's not perfect—you aren't either, and the two of you may never be perfect together but if she can make you laugh, cause you to think twice, and admit to being human and making mistakes, hold onto her and give her the most you can. She may not be thinking about you every second of the day, but she will give you a part of her that she knows you can break—her heart. So don't hurt her, don't change her, don't analyze and don't expect more than she can give. Smile when she makes you happy, let her know when she makes you mad, and miss her when she's not there.”\n",
      "page: 2 -------------\n",
      "“I like nonsense, it wakes up the brain cells. Fantasy is a necessary ingredient in living.”\n",
      "page: 2 -------------\n",
      "“I may not have gone where I intended to go, but I think I have ended up where I needed to be.”\n",
      "page: 2 -------------\n",
      "“The opposite of love is not hate, it's indifference. The opposite of art is not ugliness, it's indifference. The opposite of faith is not heresy, it's indifference. And the opposite of life is not death, it's indifference.”\n",
      "page: 2 -------------\n",
      "“It is not a lack of love, but a lack of friendship that makes unhappy marriages.”\n",
      "page: 2 -------------\n",
      "“Good friends, good books, and a sleepy conscience: this is the ideal life.”\n",
      "page: 2 -------------\n",
      "“Life is what happens to us while we are making other plans.”\n",
      "page: 3 -------------\n",
      "“I love you without knowing how, or when, or from where. I love you simply, without problems or pride: I love you in this way because I do not know any other way of loving but this, in which there is no I or you, so intimate that your hand upon my chest is my hand, so intimate that when I fall asleep your eyes close.”\n",
      "page: 3 -------------\n",
      "“For every minute you are angry you lose sixty seconds of happiness.”\n",
      "page: 3 -------------\n",
      "“If you judge people, you have no time to love them.”\n",
      "page: 3 -------------\n",
      "“Anyone who thinks sitting in church can make you a Christian must also think that sitting in a garage can make you a car.”\n",
      "page: 3 -------------\n",
      "“Beauty is in the eye of the beholder and it may be necessary from time to time to give a stupid or misinformed beholder a black eye.”\n",
      "page: 3 -------------\n",
      "“Today you are You, that is truer than true. There is no one alive who is Youer than You.”\n",
      "page: 3 -------------\n",
      "“If you want your children to be intelligent, read them fairy tales. If you want them to be more intelligent, read them more fairy tales.”\n",
      "page: 3 -------------\n",
      "“It is impossible to live without failing at something, unless you live so cautiously that you might as well not have lived at all - in which case, you fail by default.”\n",
      "page: 3 -------------\n",
      "“Logic will get you from A to Z; imagination will get you everywhere.”\n",
      "page: 3 -------------\n",
      "“One good thing about music, when it hits you, you feel no pain.”\n",
      "page: 4 -------------\n",
      "“The more that you read, the more things you will know. The more that you learn, the more places you'll go.”\n",
      "page: 4 -------------\n",
      "“Of course it is happening inside your head, Harry, but why on earth should that mean that it is not real?”\n",
      "page: 4 -------------\n",
      "“The truth is, everyone is going to hurt you. You just got to find the ones worth suffering for.”\n",
      "page: 4 -------------\n",
      "“Not all of us can do great things. But we can do small things with great love.”\n",
      "page: 4 -------------\n",
      "“To the well-organized mind, death is but the next great adventure.”\n",
      "page: 4 -------------\n",
      "“All you need is love. But a little chocolate now and then doesn't hurt.”\n",
      "page: 4 -------------\n",
      "“We read to know we're not alone.”\n",
      "page: 4 -------------\n",
      "“Any fool can know. The point is to understand.”\n",
      "page: 4 -------------\n",
      "“I have always imagined that Paradise will be a kind of library.”\n",
      "page: 4 -------------\n",
      "“It is never too late to be what you might have been.”\n",
      "page: 5 -------------\n",
      "“A reader lives a thousand lives before he dies, said Jojen. The man who never reads lives only one.”\n",
      "page: 5 -------------\n",
      "“You can never get a cup of tea large enough or a book long enough to suit me.”\n",
      "page: 5 -------------\n",
      "“You believe lies so you eventually learn to trust no one but yourself.”\n",
      "page: 5 -------------\n",
      "“If you can make a woman laugh, you can make her do anything.”\n",
      "page: 5 -------------\n",
      "“Life is like riding a bicycle. To keep your balance, you must keep moving.”\n",
      "page: 5 -------------\n",
      "“The real lover is the man who can thrill you by kissing your forehead or smiling into your eyes or just staring into space.”\n",
      "page: 5 -------------\n",
      "“A wise girl kisses but doesn't love, listens but doesn't believe, and leaves before she is left.”\n",
      "page: 5 -------------\n",
      "“Only in the darkness can you see the stars.”\n",
      "page: 5 -------------\n",
      "“It matters not what someone is born, but what they grow to be.”\n",
      "page: 5 -------------\n",
      "“Love does not begin and end the way we seem to think it does. Love is a battle, love is a war; love is a growing up.”\n"
     ]
    }
   ],
   "source": [
    "url = 'http://quotes.toscrape.com/'\n",
    "browser.visit(url)\n",
    "\n",
    "for x in range(1, 6):\n",
    "\n",
    "    html = browser.html\n",
    "    soup = BeautifulSoup(html, 'html.parser')\n",
    "\n",
    "    quotes = soup.find_all('span', class_='text')\n",
    "\n",
    "    for quote in quotes:\n",
    "        print('page:', x, '-------------')\n",
    "        print(quote.text)\n",
    "\n",
    "    browser.click_link_by_partial_text('Next')\n"
   ]
  },
  {
   "cell_type": "markdown",
   "metadata": {},
   "source": [
    "This one is harder. Since they use react, the HTML Elements are very cluttered. I used the FireFox Developer Edition https://www.mozilla.org/en-US/firefox/developer/.\n",
    "Their dev tools allow you to right click on an element and choose -> `Copy XPath` or `Copy CSS` which gives you a path to that specific element."
   ]
  },
  {
   "cell_type": "code",
   "execution_count": 90,
   "metadata": {
    "collapsed": true
   },
   "outputs": [],
   "source": [
    "url = 'https://unsplash.com/'\n",
    "browser.visit(url)\n",
    "\n",
    "html = browser.html\n",
    "soup = BeautifulSoup(html, 'html.parser')\n",
    "input_field = browser.find_by_css('html body.js-focus-ring div#app div div div.F5xv_ div._11ii- div.RuSEo div._258j4._2sCnE.PrOBO._1CR66 div._2FVCK._1pgnK._3vQsl div div div._2PV-w div._2-RsN div._3PSbf form._3_k_e div._3SDxY input#FEED_HEADER_SEARCH_INPUT.qWUF0')\n",
    "input_field[0].fill('paris')\n",
    "search_button = browser.find_by_xpath('/html/body/div/div/div[4]/div[2]/div/div[2]/div[1]/div/div/div[2]/div/div[1]/div[2]/form/div[2]/button')\n",
    "search_button.click()\n",
    "\n"
   ]
  },
  {
   "cell_type": "code",
   "execution_count": 93,
   "metadata": {
    "collapsed": true
   },
   "outputs": [],
   "source": [
    "weather = \"http://www.surfline.com/surf-forecasts/southern-california/santa-barbara_2141\"\n",
    "browser.visit(weather)\n",
    "\n",
    "html = browser.html\n",
    "forecast_soup = BeautifulSoup(html, \"html.parser\")\n",
    "report = forecast_soup.find(class_=\"forecast-outlook\")\n",
    "surf_report = report.find_all(\"p\")"
   ]
  },
  {
   "cell_type": "code",
   "execution_count": 96,
   "metadata": {
    "collapsed": true
   },
   "outputs": [],
   "source": [
    "surf_report = report.find_all(\"ul\")"
   ]
  },
  {
   "cell_type": "code",
   "execution_count": 97,
   "metadata": {},
   "outputs": [
    {
     "data": {
      "text/plain": [
       "[<ul>\n",
       " <li>Small WNW swell-mix for the end of the work week</li>\n",
       " <li>Light  early AM winds for the next few days</li>\n",
       " <li>Better WNW and S swell possible long range</li>\n",
       " </ul>]"
      ]
     },
     "execution_count": 97,
     "metadata": {},
     "output_type": "execute_result"
    }
   ],
   "source": [
    "surf_report"
   ]
  },
  {
   "cell_type": "code",
   "execution_count": 100,
   "metadata": {},
   "outputs": [
    {
     "name": "stdout",
     "output_type": "stream",
     "text": [
      "\n",
      "Small WNW swell-mix for the end of the work week\n",
      "Light  early AM winds for the next few days\n",
      "Better WNW and S swell possible long range\n",
      "\n"
     ]
    }
   ],
   "source": [
    "for bullet in surf_report:\n",
    "    print(bullet.text)"
   ]
  },
  {
   "cell_type": "code",
   "execution_count": null,
   "metadata": {
    "collapsed": true
   },
   "outputs": [],
   "source": []
  },
  {
   "cell_type": "code",
   "execution_count": null,
   "metadata": {
    "collapsed": true
   },
   "outputs": [],
   "source": []
  },
  {
   "cell_type": "code",
   "execution_count": null,
   "metadata": {
    "collapsed": true
   },
   "outputs": [],
   "source": []
  },
  {
   "cell_type": "code",
   "execution_count": null,
   "metadata": {
    "collapsed": true
   },
   "outputs": [],
   "source": []
  },
  {
   "cell_type": "code",
   "execution_count": null,
   "metadata": {
    "collapsed": true
   },
   "outputs": [],
   "source": []
  },
  {
   "cell_type": "code",
   "execution_count": null,
   "metadata": {
    "collapsed": true
   },
   "outputs": [],
   "source": []
  }
 ],
 "metadata": {
  "kernelspec": {
   "display_name": "Python 3",
   "language": "python",
   "name": "python3"
  },
  "language_info": {
   "codemirror_mode": {
    "name": "ipython",
    "version": 3
   },
   "file_extension": ".py",
   "mimetype": "text/x-python",
   "name": "python",
   "nbconvert_exporter": "python",
   "pygments_lexer": "ipython3",
   "version": "3.6.3"
  }
 },
 "nbformat": 4,
 "nbformat_minor": 2
}
