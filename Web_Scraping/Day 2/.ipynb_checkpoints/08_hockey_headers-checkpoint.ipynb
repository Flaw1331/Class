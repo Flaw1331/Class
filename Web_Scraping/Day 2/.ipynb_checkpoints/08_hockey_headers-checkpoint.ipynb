{
 "cells": [
  {
   "cell_type": "markdown",
   "metadata": {},
   "source": [
    "\n",
    "* **Instructions**:\n",
    "\n",
    "  * Teamwork! Speed! Mental and physical toughness! Passion! Excitement! Unpredictable matchups down to the wire! What could be better? While these terms could easily be applied to a data science hackathon, we're talking about the magnificent sport of hockey.\n",
    "\n",
    "  * Your assignment is to scrape the articles on the front page of the [NHL website](https://www.nhl.com/) - which is frequently updated - and then post the results of your scraping to MongoDB.\n",
    "\n",
    "  * Use Beautiful Soup and requests to scrape the title and heading of each article on the front page.\n",
    "\n",
    "  * Post the above information as a MongoDB document and then print all of the documents on the database to the console.\n",
    "\n",
    "  * In addition to the above, post the time and date of the article publication as well.\n"
   ]
  },
  {
   "cell_type": "code",
   "execution_count": 1,
   "metadata": {
    "collapsed": true
   },
   "outputs": [],
   "source": [
    "# Dependencies\n",
    "from bs4 import BeautifulSoup\n",
    "import requests\n",
    "import pymongo\n",
    "from bson.json_util import dumps\n",
    "\n",
    "# Initialize PyMongo to work with MongoDBs\n",
    "conn = 'mongodb://localhost:27017'\n",
    "client = pymongo.MongoClient(conn)"
   ]
  },
  {
   "cell_type": "code",
   "execution_count": 5,
   "metadata": {},
   "outputs": [
    {
     "data": {
      "text/plain": [
       "[<ul class=\"featured-content__list\">\n",
       " <li><a href=\"/news/calgary-flames-ottawa-senators-game-recap/c-296802592?game_pk=2017021045\">Flames defeat Senators, close gap in wild-card race</a></li>\n",
       " <li><a href=\"/news/minnesota-wild-vancouver-canucks-game-recap/c-296806948?game_pk=2017021047\">Wild defeat Canucks, gain in Central Division</a></li>\n",
       " <li><a href=\"/news/new-jersey-devils-travis-zajac-didnt-travel-with-team/c-296787408\">Zajac doesn't travel with Devils for opener of road trip</a></li>\n",
       " <li><a href=\"/news/sabres-kyle-okposo-out-with-concussion/c-296785192\">Okposo out indefinitely for Sabres because of concussion</a></li>\n",
       " <li><a href=\"/news/2017-18-fantasy-hockey-mailbag-march-10/c-296799246?tid=277729150\">Fantasy mailbag: Go all-in on Panthers; prioritize schedule</a></li>\n",
       " <li><a href=\"/news/martin-hanzal-may-miss-start-of-next-season-for-dallas-stars/c-296783060\">Hanzal could miss start of next season for Stars because of back surgery</a></li>\n",
       " <li><a href=\"/news/bryan-rust-sidelined-with-concussion-for-pittsburgh/c-296783320\">Rust out indefinitely for Penguins with concussion</a></li>\n",
       " <li><a href=\"/news/brian-maclellan-re-signs-to-stay-with-washington-as-gm/c-296782798\">MacLellan signs contract to remain general manager of Capitals</a></li>\n",
       " <li><a href=\"/news/nhl-gaming-world-championship-registration-open/c-296767778\">NHL Gaming World Championship registration open</a></li>\n",
       " <li><a href=\"https://www.nhl.com/news/t-277729150\"><b>Latest Fantasy News</b></a></li>\n",
       " </ul>, <ul class=\"featured-content__list\">\n",
       " <li><a href=\"/video/top-10-saves-of-the-week/t-277350912/c-58676403\">Top 10 Saves of the Week: Dubnyk, Vasilevskiy</a></li>\n",
       " <li><a href=\"/video/benns-go-ahead-ppg/t-277350912/c-58713603\">ANA@DAL: Benn tips in PPG to put Stars ahead in 3rd</a></li>\n",
       " <li><a href=\"/video/bobrovskys-last-second-save/t-277350912/c-58710603\">DET@CBJ: Bobrovsky robs Helm late to seal win</a></li>\n",
       " <li><a href=\"/video/staals-great-deflection/t-277350912/c-58716003\">MIN@VAN: Staal tips in Granlund's shot for lead</a></li>\n",
       " <li><a href=\"/video/stajan-scores-off-lazars-pass/t-277350912/c-58710803\">CGY@OTT: Stajan taps in Lazar's sweet pass</a></li>\n",
       " <li><a href=\"/video/jones-second-goal-of-the-game/t-277350912/c-58707403\">DET@CBJ: Jones knocks in rebound for second goal</a></li>\n",
       " </ul>, <ul class=\"featured-content__list\">\n",
       " <li><a href=\"/news/carolina-opening-gm-job-to-twitter-applications/c-296789120?tid=281396148\">Hurricanes taking applications for general manager job through Twitter</a></li>\n",
       " <li><a href=\"/news/echl-teams-wear-spongebob-squarepants-themed-jerseys/c-296803054?tid=281396148\">ECHL teams wear SpongeBob SquarePants themed jerseys</a></li>\n",
       " <li><a href=\"/news/dan-girardis-son-joins-dad-on-ice-for-8th-birthday/c-296767988?tid=281396148\">Girardi's son celebrates 8th birthday, pumps up crowd, joins dad on ice</a></li>\n",
       " <li><a href=\"/news/san-jose-sharks-season-ticket-holder-tommy-wingels-jerseys/c-296755460?tid=281396148\">Sharks season ticket holder has so many Wingels jerseys</a></li>\n",
       " <li><a href=\"/news/short-shifts-poile-honored-by-nashville-for-all-time-wins-record-as-a-general-manager/c-296762490?tid=281396148\">Poile honored by Predators for all-time GM wins record</a></li>\n",
       " <li><a href=\"/news/predators-subban-wins-canadian-screen-award/c-296724624?tid=281396148\">Subban wins Canadian Screen Award for 'Just for Laughs' performance</a></li>\n",
       " </ul>, <ul class=\"featured-content__list\">\n",
       " <li><a href=\"https://www.nhl.com/info/nhl-green\">Learn more at <b>NHL.com/Green</b></a></li>\n",
       " </ul>, <ul class=\"featured-content__list\">\n",
       " <li><a href=\"/news/penguins-sidney-crosby-reaches-1100th-point-milestone/c-296727804?tid=294573244\">Crosby collects 1,100th NHL point</a></li>\n",
       " <li><a href=\"/video/chabots-wicked-wrister/t-290784982/c-58598203\">Paajarvi's 100th career point</a></li>\n",
       " <li><a href=\"/video/t-290784982\">Watch the latest milestones</a></li>\n",
       " <li><a href=\"/news/t-294573244\">Read history as it's being made</a></li>\n",
       " <li><a href=\"http://www.nhl.com/stats/milestone?navid=nav-sts-mlstn#\"><b>NHL.com/Milestones</b></a></li>\n",
       " </ul>, <ul class=\"featured-content__list\">\n",
       " <li><a href=\"/gamecenter/chi-vs-bos/2018/03/10/2017021048\">Sat 3/10, 1 PM: Blackhawks at Bruins</a></li>\n",
       " <li><a href=\"/gamecenter/stl-vs-lak/2018/03/10/2017021053\">Sat 3/10, 4 PM: Blues at Kings</a></li>\n",
       " <li><a href=\"/gamecenter/pit-vs-tor/2018/03/10/2017021055\">Sat 3/10, 7 PM: Penguins at Maple Leafs</a></li>\n",
       " <li><a href=\"https://nhlnetwork.viewerlink.tv/\"><b>CHANNEL FINDER: Where to Watch</b></a></li>\n",
       " </ul>, <ul class=\"featured-content__list\">\n",
       " <li><a href=\"https://subscribe.nhl.com/us?partnerId=NHLTV-NHLCOM-RIGHTRAIL-PROSP-NHL-NA-1\">I want my NHL.TV! Subscribe Now</a></li>\n",
       " <li><a href=\"https://www.nhl.com/news/c-291516040\"><b>RELATED: NHL.TV Free Game Schedule</b></a></li>\n",
       " </ul>, <ul class=\"featured-content__list\">\n",
       " <li><a href=\"/video/t-280064652/c-58706803\">Karlsson assists boy to center ice as Sens hold telethon</a></li>\n",
       " <li><a href=\"/video/t-280064652/c-58593503\">Dan Girardi gives son memorable birthday gift</a></li>\n",
       " <li><a href=\"/video/t-280064652/c-58600503\">Edmonton welcomes back Jordan Eberle with tribute</a></li>\n",
       " <li><a href=\"/video/t-280064652/c-58350103\">NHL stars reveal their all-time favorite cereals</a></li>\n",
       " </ul>, <ul class=\"featured-content__list\">\n",
       " <li><a href=\"/fans/gaming\">More Info</a></li>\n",
       " <li><a href=\"https://fce.gg/NHL\">Register Now</a></li>\n",
       " </ul>, <ul class=\"featured-content__list\">\n",
       " <li><a href=\"/gamecenter/bos-vs-chi/2018/03/11/2017021059\">Sun 3/11, 12:30 PM: Bruins at Blackhawks, NBC</a></li>\n",
       " <li><a href=\"/gamecenter/dal-vs-pit/2018/03/11/2017021061\">Sun 3/11, 7:30 PM: Stars at Penguins, NBCSN</a></li>\n",
       " <li><a href=\"/gamecenter/col-vs-min/2018/03/13/2017021075\">Tue 3/13, 8:30 PM: Avalanche at Wild, NBCSN</a></li>\n",
       " </ul>, <ul class=\"featured-content__list\">\n",
       " <li><a href=\"https://www.nhl.com/news/fantasy-hockey-top-100-forward-rankings-2017-18/c-282775028?tid=277729150\">Top 100 Forward Rankings</a></li>\n",
       " <li><a href=\"https://www.nhl.com/news/fantasy-hockey-top-50-defenseman-rankings-for-2017-18/c-282830728?tid=277729150\">Top 50 Defenseman Rankings</a></li>\n",
       " <li><a href=\"https://www.nhl.com/news/fantasy-hockey-top-25-goalie-rankings-for-2017-18/c-282860450?tid=277729150\">Top 25 Goalie Rankings</a></li>\n",
       " <li><a href=\"https://www.nhl.com/news/fantasy-hockey-top-250-rankings-2017-18/c-281505474?tid=277729150\">Top 250 Overall Player Rankings</a></li>\n",
       " <li><a href=\"/news/fantasy-hockey-projected-nhl-lineups-goalie-starters/c-278165828?tid=277729150\">Projected lineups, starting goalies</a></li>\n",
       " <li><a href=\"/fans/fantasy\"><b>NHL.com/Fantasy</b></a></li>\n",
       " </ul>, <ul class=\"featured-content__list\">\n",
       " <li><a href=\"/news/t-279684992\">1980: Kings trade Butch Goring to Islanders for Billy Harris and Dave Lewis</a></li>\n",
       " <li><a href=\"/news/t-279684992\">1992: Al Arbour earns his 700th win as an NHL coach</a></li>\n",
       " <li><a href=\"/news/t-279684992\">2002: Evgeni Nabokov becomes the seventh goaltender in NHL history to score a goal and first to get a power-play goal</a></li>\n",
       " </ul>, <ul class=\"featured-content__list\">\n",
       " <li><a href=\"/video/jones-second-goal-of-the-game/t-282472998/c-58707403\">DET@CBJ: Jones knocks in rebound for second goal</a></li>\n",
       " <li><a href=\"/video/bennett-backhands-in-rebound/t-282472998/c-58706503\">CGY@OTT: Bennett slips home his own rebound</a></li>\n",
       " <li><a href=\"/video/athanasious-slick-snap-shot/t-282472998/c-58710303\">DET@CBJ: Athanasiou beats Bobrovsky on odd-man rush</a></li>\n",
       " <li><a href=\"/video/laine-buries-loose-puck-in-front/t-282472998/c-58589303\">WPG@NJD: Laine snaps loose puck past Schneider</a></li>\n",
       " </ul>, <ul class=\"featured-content__list\">\n",
       " <li><a href=\"/fans/nhl-global-series-switzerland\">Switzerland: Devils take on SC Bern</a></li>\n",
       " <li><a href=\"/fans/nhl-global-series-germany\">Germany: Oilers face Kölner Haie</a></li>\n",
       " <li><a href=\"/fans/nhl-global-series-sweden\">Sweden: Oilers vs. Devils</a></li>\n",
       " <li><a href=\"/fans/nhl-global-series-finland\">Finland: Panthers and Jets</a></li>\n",
       " </ul>, <ul class=\"featured-content__list\">\n",
       " <li><a href=\"http://shop.nhl.com/Hoodies_And_Sweatshirts_Cold_Weather_Gear/source/bm-nhlcom-Cold-Weather-Gear-Right-Rail-CTA1\">Shop Sweatshirts &amp; Hoodies</a></li>\n",
       " <li><a href=\"http://shop.nhl.com/Jackets_Cold_Weather_Gear/source/bm-nhlcom-Cold-Weather-Gear-Right-Rail-CTA2\">Shop Jackets</a></li>\n",
       " <li><a href=\"http://shop.nhl.com/Hats_Cold_Weather_Gear/source/bm-nhlcom-Cold-Weather-Gear-Right-Rail-CTA3\">Shop Knit Hats</a></li>\n",
       " <li><a href=\"http://shop.nhl.com/Accessories_Cold_Weather_Gear/source/bm-nhlcom-Cold-Weather-Gear-Right-Rail-CTA4\">Shop Accessories</a></li>\n",
       " </ul>, <ul class=\"featured-content__list\">\n",
       " <li><a href=\"/video/t-280346364/c-58483403\">Leafs, Caps mic'd up for 2018 Stadium Series matchup</a></li>\n",
       " <li><a href=\"/video/t-280346364/c-58202503\">Stars and Sharks mic'd up for West Coast clash</a></li>\n",
       " <li><a href=\"/video/t-280346364/c-58035203\">Preds mic'd up as Forsberg caps rally against Blues</a></li>\n",
       " </ul>, <ul class=\"featured-content__list\">\n",
       " <li><a href=\"https://www.draftkings.com/gateway?s=384448272\">Play Now</a></li>\n",
       " <li><a href=\"http://www.draftkings.com/help/terms\">Official Rules</a></li>\n",
       " </ul>, <ul class=\"featured-content__list\">\n",
       " <li><a href=\"https://www.nhl.com/video/ep-1-the-founding-years/t-293090250/c-54930003\">Episode 1: The Founding Years</a></li>\n",
       " <li><a href=\"https://www.nhl.com/video/ep-2-the-original-six/t-293090250/c-54930303\">Episode 2: The Original Six</a></li>\n",
       " <li><a href=\"https://www.nhl.com/video/ep-3-the-expansion-era/t-293090250/c-54930503\">Episode 3: The Expansion Era</a></li>\n",
       " <li><a href=\"https://www.nhl.com/video/ep-4-the-global-game/t-293090250/c-54930703\">Episode 4: The Global Game</a></li>\n",
       " </ul>]"
      ]
     },
     "execution_count": 5,
     "metadata": {},
     "output_type": "execute_result"
    }
   ],
   "source": [
    "\n",
    "# Define database and collection\n",
    "db = client.NHL_db\n",
    "collection = db.items\n",
    "\n",
    "# URL of page to be scraped\n",
    "url = 'https://www.nhl.com/'\n",
    "\n",
    "# Retrieve page with the requests module\n",
    "response = requests.get(url)\n",
    "# Create BeautifulSoup object; parse with 'lxml'\n",
    "soup = BeautifulSoup(response.text, 'lxml')\n",
    "\n",
    "# print(soup)\n",
    "# Examine the results, then determine element that contains sought info\n",
    "# results are returned as an iterable list\n",
    "results = soup.find_all('ul', class_='featured-content__list')\n",
    "results"
   ]
  },
  {
   "cell_type": "code",
   "execution_count": 9,
   "metadata": {},
   "outputs": [
    {
     "name": "stdout",
     "output_type": "stream",
     "text": [
      "-------------\n",
      "Flames defeat Senators, close gap in wild-card race\n",
      "/news/calgary-flames-ottawa-senators-game-recap/c-296802592?game_pk=2017021045\n",
      "-------------\n",
      "Top 10 Saves of the Week: Dubnyk, Vasilevskiy\n",
      "/video/top-10-saves-of-the-week/t-277350912/c-58676403\n",
      "-------------\n",
      "Hurricanes taking applications for general manager job through Twitter\n",
      "/news/carolina-opening-gm-job-to-twitter-applications/c-296789120?tid=281396148\n",
      "-------------\n",
      "Learn more at NHL.com/Green\n",
      "https://www.nhl.com/info/nhl-green\n",
      "-------------\n",
      "Crosby collects 1,100th NHL point\n",
      "/news/penguins-sidney-crosby-reaches-1100th-point-milestone/c-296727804?tid=294573244\n",
      "-------------\n",
      "Sat 3/10, 1 PM: Blackhawks at Bruins\n",
      "/gamecenter/chi-vs-bos/2018/03/10/2017021048\n",
      "-------------\n",
      "I want my NHL.TV! Subscribe Now\n",
      "https://subscribe.nhl.com/us?partnerId=NHLTV-NHLCOM-RIGHTRAIL-PROSP-NHL-NA-1\n",
      "-------------\n",
      "Karlsson assists boy to center ice as Sens hold telethon\n",
      "/video/t-280064652/c-58706803\n",
      "-------------\n",
      "More Info\n",
      "/fans/gaming\n",
      "-------------\n",
      "Sun 3/11, 12:30 PM: Bruins at Blackhawks, NBC\n",
      "/gamecenter/bos-vs-chi/2018/03/11/2017021059\n",
      "-------------\n",
      "Top 100 Forward Rankings\n",
      "https://www.nhl.com/news/fantasy-hockey-top-100-forward-rankings-2017-18/c-282775028?tid=277729150\n",
      "-------------\n",
      "1980: Kings trade Butch Goring to Islanders for Billy Harris and Dave Lewis\n",
      "/news/t-279684992\n",
      "-------------\n",
      "DET@CBJ: Jones knocks in rebound for second goal\n",
      "/video/jones-second-goal-of-the-game/t-282472998/c-58707403\n",
      "-------------\n",
      "Switzerland: Devils take on SC Bern\n",
      "/fans/nhl-global-series-switzerland\n",
      "-------------\n",
      "Shop Sweatshirts & Hoodies\n",
      "http://shop.nhl.com/Hoodies_And_Sweatshirts_Cold_Weather_Gear/source/bm-nhlcom-Cold-Weather-Gear-Right-Rail-CTA1\n",
      "-------------\n",
      "Leafs, Caps mic'd up for 2018 Stadium Series matchup\n",
      "/video/t-280346364/c-58483403\n",
      "-------------\n",
      "Play Now\n",
      "https://www.draftkings.com/gateway?s=384448272\n",
      "-------------\n",
      "Episode 1: The Founding Years\n",
      "https://www.nhl.com/video/ep-1-the-founding-years/t-293090250/c-54930003\n"
     ]
    }
   ],
   "source": [
    "for result in results:\n",
    "    try:\n",
    "        title = result.a.text\n",
    "        link = result.a['href']\n",
    "        if (title and link):\n",
    "            print('-------------')\n",
    "            print(title)\n",
    "            print(link)\n",
    "            post = {\n",
    "                'title': title,\n",
    "                if (link == 'h%'):\n",
    "                    'url': link\n",
    "                else:\n",
    "                    'url': str(url) + str(link)\n",
    "            }\n",
    "            #collection.insert_one(post)\n",
    "    except Exception as e:\n",
    "        print(e)\n",
    "\n",
    "\n",
    "\n"
   ]
  },
  {
   "cell_type": "code",
   "execution_count": 8,
   "metadata": {},
   "outputs": [
    {
     "data": {
      "text/plain": [
       "18"
      ]
     },
     "execution_count": 8,
     "metadata": {},
     "output_type": "execute_result"
    }
   ],
   "source": []
  },
  {
   "cell_type": "code",
   "execution_count": null,
   "metadata": {
    "collapsed": true
   },
   "outputs": [],
   "source": []
  },
  {
   "cell_type": "code",
   "execution_count": null,
   "metadata": {
    "collapsed": true
   },
   "outputs": [],
   "source": []
  },
  {
   "cell_type": "code",
   "execution_count": null,
   "metadata": {
    "collapsed": true
   },
   "outputs": [],
   "source": []
  }
 ],
 "metadata": {
  "kernelspec": {
   "display_name": "Python 3",
   "language": "python",
   "name": "python3"
  },
  "language_info": {
   "codemirror_mode": {
    "name": "ipython",
    "version": 3
   },
   "file_extension": ".py",
   "mimetype": "text/x-python",
   "name": "python",
   "nbconvert_exporter": "python",
   "pygments_lexer": "ipython3",
   "version": "3.6.3"
  }
 },
 "nbformat": 4,
 "nbformat_minor": 2
}
