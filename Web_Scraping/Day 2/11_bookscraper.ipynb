{
 "cells": [
  {
   "cell_type": "markdown",
   "metadata": {},
   "source": [
    "# Bookscraper\n",
    "\n",
    "## Instructions\n",
    "\n",
    "* Go to [http://books.toscrape.com/](http://books.toscrape.com/)\n",
    "\n",
    "* Scrape the titles and the URLs to all books on this fictional online bookstore. Display the results in console.\n",
    "\n",
    "* That's it!\n",
    "\n",
    "* If you're craving extra challenge, try scraping all books by **category**. Good luck!\n"
   ]
  },
  {
   "cell_type": "markdown",
   "metadata": {},
   "source": [
    "\n"
   ]
  },
  {
   "cell_type": "code",
   "execution_count": null,
   "metadata": {
    "collapsed": true
   },
   "outputs": [],
   "source": []
  }
 ],
 "metadata": {
  "kernelspec": {
   "display_name": "Python 3",
   "language": "python",
   "name": "python3"
  },
  "language_info": {
   "codemirror_mode": {
    "name": "ipython",
    "version": 3
   },
   "file_extension": ".py",
   "mimetype": "text/x-python",
   "name": "python",
   "nbconvert_exporter": "python",
   "pygments_lexer": "ipython3",
   "version": "3.6.3"
  }
 },
 "nbformat": 4,
 "nbformat_minor": 2
}
