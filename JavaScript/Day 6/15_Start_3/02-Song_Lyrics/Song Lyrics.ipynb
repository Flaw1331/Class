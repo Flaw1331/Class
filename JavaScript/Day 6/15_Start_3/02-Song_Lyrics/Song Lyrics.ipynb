{
 "cells": [
  {
   "cell_type": "code",
   "execution_count": 3,
   "metadata": {
    "collapsed": true
   },
   "outputs": [],
   "source": [
    "from collections import Counter\n",
    "\n",
    "def get_lyrics():\n",
    "    with open('lyrics.txt') as fh:\n",
    "        lyrics = [line.strip() for line in fh if line.strip()]\n",
    "        return Counter(lyrics)"
   ]
  },
  {
   "cell_type": "code",
   "execution_count": 4,
   "metadata": {},
   "outputs": [],
   "source": [
    "lyrics = get_lyrics()"
   ]
  },
  {
   "cell_type": "code",
   "execution_count": 5,
   "metadata": {},
   "outputs": [
    {
     "data": {
      "text/plain": [
       "Counter({\"A full commitment's what I'm thinking of\": 1,\n",
       "         \"And if you ask me how I'm feeling\": 1,\n",
       "         \"Don't tell me you're too blind to see\": 1,\n",
       "         'Gotta make you understand': 2,\n",
       "         \"I just want to tell you how I'm feeling\": 2,\n",
       "         \"Inside we both know what's been going on\": 2,\n",
       "         'Never gonna give you up, never gonna let you down': 4,\n",
       "         'Never gonna make you cry, never gonna say goodbye': 4,\n",
       "         'Never gonna run around and desert you': 4,\n",
       "         'Never gonna tell a lie and hurt you': 4,\n",
       "         \"We know the game and we're gonna play it\": 2,\n",
       "         \"We're no strangers to love\": 1,\n",
       "         \"We've known each other for so long\": 2,\n",
       "         'You know the rules and so do I': 1,\n",
       "         \"You wouldn't get this from any other guy\": 1,\n",
       "         \"Your heart's been aching but you're too shy to say it\": 2})"
      ]
     },
     "execution_count": 5,
     "metadata": {},
     "output_type": "execute_result"
    }
   ],
   "source": [
    "lyrics"
   ]
  },
  {
   "cell_type": "code",
   "execution_count": 6,
   "metadata": {
    "collapsed": true
   },
   "outputs": [],
   "source": [
    "labels, values = zip(*lyrics.items())"
   ]
  },
  {
   "cell_type": "markdown",
   "metadata": {},
   "source": [
    "The single star `*` unpacks the sequence into positional arguments. Sometimes this is called the 'splat' operator.\n",
    "\n",
    "\n",
    "```\n",
    "def sum(a,b):\n",
    "  return a+b\n",
    "\n",
    "values = (1,2)\n",
    "s = sum(*values)\n",
    "```\n",
    "\n",
    "Zip then is basically unzipping the collection into a tuple of lyric lines and their frequency. See: https://stackoverflow.com/questions/5917522/unzipping-and-the-operator "
   ]
  },
  {
   "cell_type": "code",
   "execution_count": 7,
   "metadata": {},
   "outputs": [
    {
     "data": {
      "text/plain": [
       "(\"We're no strangers to love\",\n",
       " 'You know the rules and so do I',\n",
       " \"A full commitment's what I'm thinking of\",\n",
       " \"You wouldn't get this from any other guy\",\n",
       " \"I just want to tell you how I'm feeling\",\n",
       " 'Gotta make you understand',\n",
       " 'Never gonna give you up, never gonna let you down',\n",
       " 'Never gonna run around and desert you',\n",
       " 'Never gonna make you cry, never gonna say goodbye',\n",
       " 'Never gonna tell a lie and hurt you',\n",
       " \"We've known each other for so long\",\n",
       " \"Your heart's been aching but you're too shy to say it\",\n",
       " \"Inside we both know what's been going on\",\n",
       " \"We know the game and we're gonna play it\",\n",
       " \"And if you ask me how I'm feeling\",\n",
       " \"Don't tell me you're too blind to see\")"
      ]
     },
     "execution_count": 7,
     "metadata": {},
     "output_type": "execute_result"
    }
   ],
   "source": [
    "labels"
   ]
  },
  {
   "cell_type": "code",
   "execution_count": 8,
   "metadata": {},
   "outputs": [
    {
     "data": {
      "text/plain": [
       "(1, 1, 1, 1, 2, 2, 4, 4, 4, 4, 2, 2, 2, 2, 1, 1)"
      ]
     },
     "execution_count": 8,
     "metadata": {},
     "output_type": "execute_result"
    }
   ],
   "source": [
    "values"
   ]
  },
  {
   "cell_type": "code",
   "execution_count": 9,
   "metadata": {},
   "outputs": [
    {
     "data": {
      "text/plain": [
       "dict_items([(\"We're no strangers to love\", 1), ('You know the rules and so do I', 1), (\"A full commitment's what I'm thinking of\", 1), (\"You wouldn't get this from any other guy\", 1), (\"I just want to tell you how I'm feeling\", 2), ('Gotta make you understand', 2), ('Never gonna give you up, never gonna let you down', 4), ('Never gonna run around and desert you', 4), ('Never gonna make you cry, never gonna say goodbye', 4), ('Never gonna tell a lie and hurt you', 4), (\"We've known each other for so long\", 2), (\"Your heart's been aching but you're too shy to say it\", 2), (\"Inside we both know what's been going on\", 2), (\"We know the game and we're gonna play it\", 2), (\"And if you ask me how I'm feeling\", 1), (\"Don't tell me you're too blind to see\", 1)])"
      ]
     },
     "execution_count": 9,
     "metadata": {},
     "output_type": "execute_result"
    }
   ],
   "source": [
    "lyrics.items()"
   ]
  },
  {
   "cell_type": "code",
   "execution_count": null,
   "metadata": {
    "collapsed": true
   },
   "outputs": [],
   "source": []
  }
 ],
 "metadata": {
  "kernelspec": {
   "display_name": "Python 3",
   "language": "python",
   "name": "python3"
  },
  "language_info": {
   "codemirror_mode": {
    "name": "ipython",
    "version": 3
   },
   "file_extension": ".py",
   "mimetype": "text/x-python",
   "name": "python",
   "nbconvert_exporter": "python",
   "pygments_lexer": "ipython3",
   "version": "3.6.3"
  }
 },
 "nbformat": 4,
 "nbformat_minor": 2
}
