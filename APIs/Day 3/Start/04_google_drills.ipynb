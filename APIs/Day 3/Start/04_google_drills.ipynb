{
 "cells": [
  {
   "cell_type": "markdown",
   "metadata": {},
   "source": [
    "# Google Drills\n",
    "\n",
    "In this activity we will perform API calls to the Google Places and Google Maps API.\n",
    "\n",
    "## Instructions\n",
    "\n",
    "* Using the previous Ipython Notebooks as a starting point, complete each of the six drills articulated in the code provided. Feel encouraged to look back at the previous examples but know that you will have to consult the Google API documentation.\n",
    "\n",
    "### Hints\n",
    "\n",
    "* See the [Google Geocoding Documentation](https://developers.google.com/maps/documentation/geocoding/intro)\n",
    "\n",
    "* See the [Google Places Documentation](https://developers.google.com/maps/documentation/javascript/places#place_search_requests)\n"
   ]
  },
  {
   "cell_type": "code",
   "execution_count": 32,
   "metadata": {
    "collapsed": true
   },
   "outputs": [],
   "source": [
    "# Create code to answer each of the following questions.\n",
    "# Hint: You will need multiple target urls and multiple API requests.\n"
   ]
  },
  {
   "cell_type": "code",
   "execution_count": 50,
   "metadata": {
    "collapsed": true
   },
   "outputs": [],
   "source": [
    "import requests\n",
    "import json\n",
    "import os"
   ]
  },
  {
   "cell_type": "code",
   "execution_count": 51,
   "metadata": {
    "collapsed": true
   },
   "outputs": [],
   "source": [
    "api_dir = os.path.dirname(os.path.dirname(os.path.dirname(os.path.dirname(os.path.realpath('__file__')))))\n",
    "file_name = os.path.join(api_dir, \"api_keys.json\")\n",
    "data = json.load(open(file_name))\n",
    "\n",
    "gkey = data['google_places_api_key']"
   ]
  },
  {
   "cell_type": "code",
   "execution_count": 52,
   "metadata": {},
   "outputs": [
    {
     "name": "stdout",
     "output_type": "stream",
     "text": [
      "47.6062095\n",
      "-122.3320708\n"
     ]
    }
   ],
   "source": [
    "# 1. What are the geocoordinates (latitude/longitude) of Seattle, Washington?\n",
    "# ...\n",
    "# Target city\n",
    "url = \"https://maps.googleapis.com/maps/api/geocode/json\"\n",
    "target_city = \"Seattle, Washington\"\n",
    "target_url = url + \"?address=\" + target_city + \"&key=\" + gkey\n",
    "    \n",
    "geo_data = requests.get(target_url).json()\n",
    "lat_sea = geo_data['results'][0]['geometry']['location']['lat']\n",
    "lng_sea = geo_data['results'][0]['geometry']['location']['lng']\n",
    "print(lat_sea)\n",
    "print(lng_sea)"
   ]
  },
  {
   "cell_type": "code",
   "execution_count": 53,
   "metadata": {},
   "outputs": [
    {
     "name": "stdout",
     "output_type": "stream",
     "text": [
      "38.8976763\n",
      "-77.0365298\n"
     ]
    }
   ],
   "source": [
    "# 2. What are the geocoordinates (latitude/longitude) of The White House?\n",
    "# ...\n",
    "\n",
    "target_city = \"The White House\"\n",
    "target_url = url + \"?address=\" + target_city + \"&key=\" + gkey\n",
    "geo_data = requests.get(target_url).json()\n",
    "lat_sea = geo_data['results'][0]['geometry']['location']['lat']\n",
    "lng_sea = geo_data['results'][0]['geometry']['location']['lng']\n",
    "\n",
    "print(lat_sea)\n",
    "print(lng_sea)"
   ]
  },
  {
   "cell_type": "code",
   "execution_count": 61,
   "metadata": {},
   "outputs": [
    {
     "name": "stdout",
     "output_type": "stream",
     "text": [
      "BicycleSPACE- Downtown\n",
      "440 K Street Northwest, Washington\n"
     ]
    }
   ],
   "source": [
    "# 3. Find the names and addresses of a bike store in Seattle, Washington.\n",
    "#    Hint: See https://developers.google.com/places/web-service/supported_types\n",
    "# ...\n",
    "target_type = \"bicycle_store\"\n",
    "radius = \"8000\"\n",
    "\n",
    "url = \"https://maps.googleapis.com/maps/api/place/nearbysearch/json\"\n",
    "target_url = url + \"?location=\" + str(lat_sea) + \",\" + str(lng_sea) + \"&radius=\" + radius + \"&types=\" +  \\\n",
    "        target_type + \"&key=\" + gkey\n",
    "    \n",
    "bike_data = requests.get(target_url).json()\n",
    "\n",
    "\n",
    "print(bike_data['results'][0]['name'])\n",
    "print(bike_data['results'][0]['vicinity'])"
   ]
  },
  {
   "cell_type": "code",
   "execution_count": 63,
   "metadata": {},
   "outputs": [
    {
     "name": "stdout",
     "output_type": "stream",
     "text": [
      "Party Depot\n",
      "3513 S Jefferson St, Falls Church\n"
     ]
    }
   ],
   "source": [
    "# 4. Find a balloon store near the White House.\n",
    "# ...\n",
    "target_type = \"balloon store\"\n",
    "radius = \"8000\"\n",
    "\n",
    "\n",
    "url = \"https://maps.googleapis.com/maps/api/place/nearbysearch/json\"\n",
    "target_url = url + \"?location=\" + str(lat_sea) + \",\" + str(lng_sea) + \"&radius=\" + radius + \"&keyword=\" + target_type + \\\n",
    "                \"&key=\" + gkey\n",
    "    \n",
    "balloon_data = requests.get(target_url).json()\n",
    "\n",
    "\n",
    "print(balloon_data['results'][0]['name'])\n",
    "print(balloon_data['results'][0]['vicinity'])\n"
   ]
  },
  {
   "cell_type": "code",
   "execution_count": 67,
   "metadata": {},
   "outputs": [
    {
     "name": "stdout",
     "output_type": "stream",
     "text": [
      "Dental Care Center of South Kansas City\n",
      "325 East 135th Street, Kansas City\n"
     ]
    }
   ],
   "source": [
    "# 5. Find the nearest dentist to your house.\n",
    "#    Hint: Use Google Maps to find your latitude and Google Places to find the\n",
    "#    dentist. You will also need the rankby property.\n",
    "# ...\n",
    "\n",
    "url = \"https://maps.googleapis.com/maps/api/geocode/json\"\n",
    "target_city = \"Grandview, Missouri\"\n",
    "target_url = url + \"?address=\" + target_city + \"&key=\" + gkey\n",
    "    \n",
    "geo_data = requests.get(target_url).json()\n",
    "lat_gran = geo_data['results'][0]['geometry']['location']['lat']\n",
    "lng_gran = geo_data['results'][0]['geometry']['location']['lng']\n",
    "\n",
    "target_type = \"dentist\"\n",
    "radius = \"8000\"\n",
    "\n",
    "url = \"https://maps.googleapis.com/maps/api/place/nearbysearch/json\"\n",
    "target_url = url + \"?location=\" + str(lat_gran) + \",\" + str(lng_gran) + \"&radius=\" + radius + \"&types=\" +  \\\n",
    "        target_type + \"&key=\" + gkey\n",
    "    \n",
    "balloon_data = requests.get(target_url).json()\n",
    "\n",
    "\n",
    "print(balloon_data['results'][0]['name'])\n",
    "print(balloon_data['results'][0]['vicinity'])\n"
   ]
  },
  {
   "cell_type": "code",
   "execution_count": 9,
   "metadata": {
    "collapsed": true
   },
   "outputs": [],
   "source": [
    "# 6. Bonus: Find the names and addresses of the top place Google suggests\n",
    "#    for the phrase: \"Happy Place \".\n",
    "#    Hint: Read about \"Text Search Results\"\n",
    "# (https://developers.google.com/places/web-service/search#TextSearchRequests)\n",
    "# ...\n"
   ]
  },
  {
   "cell_type": "code",
   "execution_count": null,
   "metadata": {
    "collapsed": true
   },
   "outputs": [],
   "source": []
  }
 ],
 "metadata": {
  "kernelspec": {
   "display_name": "Python 3",
   "language": "python",
   "name": "python3"
  },
  "language_info": {
   "codemirror_mode": {
    "name": "ipython",
    "version": 3
   },
   "file_extension": ".py",
   "mimetype": "text/x-python",
   "name": "python",
   "nbconvert_exporter": "python",
   "pygments_lexer": "ipython3",
   "version": "3.6.3"
  }
 },
 "nbformat": 4,
 "nbformat_minor": 2
}
