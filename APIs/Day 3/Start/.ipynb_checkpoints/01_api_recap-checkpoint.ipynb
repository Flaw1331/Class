{
 "cells": [
  {
   "cell_type": "markdown",
   "metadata": {},
   "source": [
    "# API Recap\n",
    "\n",
    "In this warm-up activity, we will utilize Python Requests to query the OpenWeatherMap API.\n",
    "\n",
    "## Instructions\n",
    "\n",
    "* Create a simple Python script that utilizes the Requests library to check the five-day forecast for Phoenix, Arizona.\n",
    "\n",
    "  * Your final code should the print the results using the below format:\n",
    "\n",
    "    ```\n",
    "    2017-01-17 09:00:00 | 43.92 F\n",
    "    2017-01-17 12:00:00 | 40.62 F\n",
    "    2017-01-17 15:00:00 | 39.07 F\n",
    "    ```\n",
    "\n",
    "### Hints\n",
    "\n",
    "* See the [OpenWeatherMap API Documentation](https://openweathermap.org/api)\n",
    "* See the [Python Requests Documentation](http://docs.python-requests.org/en/master/)\n",
    "\n",
    "### Bonus\n",
    "\n",
    "* If you finish early, create code that will plot the forecasted temperature over time."
   ]
  },
  {
   "cell_type": "code",
   "execution_count": 1,
   "metadata": {
    "collapsed": true
   },
   "outputs": [],
   "source": [
    "import requests\n",
    "import json"
   ]
  },
  {
   "cell_type": "code",
   "execution_count": 2,
   "metadata": {
    "collapsed": true
   },
   "outputs": [],
   "source": [
    "api_key = \"c7f9f57b4779391ea1f5ae067591c971\"\n",
    "# Remember last time we used this to get a cities current weather\n",
    "url = \"http://api.openweathermap.org/data/2.5/forecast?\"\n",
    "city = \"Phoenix\"\n",
    "units = \"metric\"\n",
    "query_url = url + \"appid=\" + api_key + \"&q=\" + city + \"&units=\" + units\n",
    "weather_response = requests.get(query_url)\n",
    "weather_json = weather_response.json()\n",
    "\n",
    "# this time we want to get a five day forecast. See the documentation on how to do this: https://openweathermap.org/api"
   ]
  },
  {
   "cell_type": "code",
   "execution_count": null,
   "metadata": {
    "collapsed": true
   },
   "outputs": [],
   "source": [
    "api.openweathermap.org/data/2.5/forecast?q={city name},{country code}"
   ]
  },
  {
   "cell_type": "code",
   "execution_count": null,
   "metadata": {
    "collapsed": true
   },
   "outputs": [],
   "source": []
  }
 ],
 "metadata": {
  "kernelspec": {
   "display_name": "Python 3",
   "language": "python",
   "name": "python3"
  },
  "language_info": {
   "codemirror_mode": {
    "name": "ipython",
    "version": 3
   },
   "file_extension": ".py",
   "mimetype": "text/x-python",
   "name": "python",
   "nbconvert_exporter": "python",
   "pygments_lexer": "ipython3",
   "version": "3.6.3"
  }
 },
 "nbformat": 4,
 "nbformat_minor": 2
}
