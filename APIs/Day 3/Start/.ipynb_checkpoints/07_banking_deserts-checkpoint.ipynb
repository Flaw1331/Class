{
 "cells": [
  {
   "cell_type": "markdown",
   "metadata": {},
   "source": [
    "# Banking Deserts\n",
    "\n",
    "![SpeedyCash](Img/cash.jpg)\n",
    "\n",
    "The below script uncovers the well-known phenomenon of [Banking Deserts](https://en.wikipedia.org/wiki/Banking_desert). The concept is simple: many neighborhoods with predominantly low-income and elderly populations tend to have inadequate coverage of banking services. This leads such communities to be  vulnerable to predatory loan and pricey check casher providers.\n",
    "\n",
    "For more information on \"Banking Deserts\" read this Atlantic Article [banking deserts](http://www.theatlantic.com/business/archive/2016/03/banking-desert-ny-fed/473436/).\n",
    "\n",
    "* For the next 45 minutes we'll be creating a data visualization to understand how prominent the \"banking desert\" phenomenon truly is. In order to accomplish this, we will be utilizing the US Census and Google Geocoder and Radar APIs.\n",
    "\n",
    "\n",
    "\n",
    "Example Visualization:\n",
    "  ![Per Capita Income Example](PerCapitaIncome_BankCount.png)\n"
   ]
  },
  {
   "cell_type": "code",
   "execution_count": 2,
   "metadata": {},
   "outputs": [],
   "source": [
    "import numpy as np\n",
    "import pandas as pd\n",
    "import matplotlib.pyplot as plt\n",
    "import requests\n",
    "import time\n",
    "import os\n",
    "import json\n",
    "\n",
    "# Google Places API Key\n",
    "api_dir = os.path.dirname(os.path.dirname(os.path.dirname(os.path.dirname(os.path.dirname(os.path.realpath('__file__'))))))\n",
    "file_name = os.path.join(api_dir, \"api_keys.json\")\n",
    "data = json.load(open(file_name))\n",
    "gkey = data['google_places_api_key']"
   ]
  },
  {
   "cell_type": "code",
   "execution_count": null,
   "metadata": {},
   "outputs": [],
   "source": [
    "file_name = os.path.join(\"Resources\",\"Census_Data.csv\")\n",
    "census_pd = pd.read_csv(file_name)\n",
    "census_pd.head()"
   ]
  },
  {
   "cell_type": "code",
   "execution_count": 8,
   "metadata": {
    "collapsed": true
   },
   "outputs": [],
   "source": [
    "# Randomly select 700 zip codes locations that have at least 100 residents\n",
    "# Hint: `pd.sample()`\n",
    "# Hint: `pd[pd[astype(int) > 100`]]`\n",
    "\n",
    "\n",
    "\n",
    "# Visualize the DataFrame"
   ]
  },
  {
   "cell_type": "code",
   "execution_count": 10,
   "metadata": {
    "collapsed": true
   },
   "outputs": [],
   "source": [
    "# Create blank columns in DataFrame for lat/lng\n",
    "\n",
    "\n",
    "\n",
    "# Loop through and grab the lat/lng for each of the selected zips using Google maps\n",
    "# Inside the loop add the lat/lng to our DataFrame\n",
    "# Note: Be sure to use try/except to handle cities with missing data\n",
    "\n",
    "\n",
    "\n",
    "\n",
    "# Visualize the DataFrame\n"
   ]
  },
  {
   "cell_type": "code",
   "execution_count": 11,
   "metadata": {
    "collapsed": true
   },
   "outputs": [],
   "source": [
    "# Create an empty column for bank count\n",
    "\n",
    "\n",
    "# Re-loop through the DataFrame and run a Google Places search to get all banks in 5 mile radius (8000 meters)\n",
    "# Inside the loop add the bank count to our DataFrame\n",
    "\n",
    "\n",
    "\n",
    "\n",
    "\n",
    "\n",
    "\n",
    "# Visualize the DataFrame"
   ]
  },
  {
   "cell_type": "code",
   "execution_count": 12,
   "metadata": {
    "collapsed": true
   },
   "outputs": [],
   "source": [
    "# Save the DataFrame as a csv\n"
   ]
  },
  {
   "cell_type": "code",
   "execution_count": 13,
   "metadata": {
    "collapsed": true
   },
   "outputs": [],
   "source": [
    "# Build a scatter plot for each data type \n"
   ]
  },
  {
   "cell_type": "code",
   "execution_count": 14,
   "metadata": {
    "collapsed": true
   },
   "outputs": [],
   "source": [
    "# Build a scatter plot for each data type\n",
    "#plt.scatter(selected_zips[\"Bank Count\"], \n",
    "#            selected_zips[\"Median Age\"],\n",
    "#            edgecolor=\"black\", linewidths=1, marker=\"o\", \n",
    "#            alpha=0.8, label=\"Zip Codes\")\n",
    "\n",
    "# Incorporate the other graph properties\n",
    "#plt.title(\"Median Age vs. Bank Count by Zip Code\")\n",
    "#plt.ylabel(\"Median Age\")\n",
    "#plt.xlabel(\"Bank Count\")\n",
    "#plt.grid(True)\n",
    "#plt.xlim([-2.5, 202])\n",
    "\n",
    "# Save the figure\n",
    "#plt.savefig(\"output_analysis/Age_BankCount.png\")\n",
    "\n",
    "# Show plot\n",
    "#plt.show()"
   ]
  },
  {
   "cell_type": "code",
   "execution_count": 15,
   "metadata": {
    "collapsed": true
   },
   "outputs": [],
   "source": [
    "# Build a scatter plot for each data type\n",
    "#plt.scatter(selected_zips[\"Bank Count\"], \n",
    "#            selected_zips[\"Household Income\"],\n",
    "#            edgecolor=\"black\", linewidths=1, marker=\"o\", \n",
    "#            alpha=0.8, label=\"Zip Codes\")\n",
    "\n",
    "# Incorporate the other graph properties\n",
    "#plt.title(\"Household Income vs. Bank Count by Zip Code\")\n",
    "#plt.ylabel(\"Household Income ($)\")\n",
    "#plt.xlabel(\"Bank Count\")\n",
    "#plt.grid(True)\n",
    "#plt.xlim([-2.5, 202])\n",
    "#plt.ylim([-2.5, 230000])\n",
    "\n",
    "# Save the figure\n",
    "#plt.savefig(\"output_analysis/HouseholdIncome_BankCount.png\")\n",
    "\n",
    "# Show plot\n",
    "#plt.show()"
   ]
  },
  {
   "cell_type": "code",
   "execution_count": 16,
   "metadata": {
    "collapsed": true
   },
   "outputs": [],
   "source": [
    "# Build a scatter plot for each data type\n",
    "#plt.scatter(selected_zips[\"Bank Count\"], \n",
    "#            selected_zips[\"Per Capita Income\"],\n",
    "#            edgecolor=\"black\", linewidths=1, marker=\"o\", \n",
    "#            alpha=0.8, label=\"Zip Codes\")\n",
    "\n",
    "# Incorporate the other graph properties\n",
    "#plt.title(\"Per Capita Income vs. Bank Count by Zip Code\")\n",
    "#plt.ylabel(\"Per Capita Income (%)\")\n",
    "#plt.xlabel(\"Bank Count\")\n",
    "#plt.grid(True)\n",
    "#plt.xlim([-2.5, 202])\n",
    "#plt.ylim([0, 165000])\n",
    "#\n",
    "# Save the figure\n",
    "#plt.savefig(\"output_analysis/PerCapitaIncome_BankCount.png\")\n",
    "\n",
    "# Show plot\n",
    "#plt.show()"
   ]
  },
  {
   "cell_type": "code",
   "execution_count": 17,
   "metadata": {
    "collapsed": true
   },
   "outputs": [],
   "source": [
    "# Build a scatter plot for each data type\n",
    "#plt.scatter(selected_zips[\"Bank Count\"], \n",
    "#            selected_zips[\"Poverty Rate\"],\n",
    "#            edgecolor=\"black\", linewidths=1, marker=\"o\", \n",
    "#            alpha=0.8, label=\"Zip Codes\")\n",
    "\n",
    "# Incorporate the other graph properties\n",
    "#plt.title(\"Poverty Rate vs. Bank Count by Zip Code\")\n",
    "#plt.ylabel(\"Poverty Rate (%)\")\n",
    "#plt.xlabel(\"Bank Count\")\n",
    "#plt.grid(True)\n",
    "#plt.xlim([-2.5, 202])\n",
    "#plt.ylim([-2.5, 102])\n",
    "\n",
    "# Save the figure\n",
    "#plt.savefig(\"output_analysis/PovertyRate_BankCount.png\")\n",
    "\n",
    "# Show plot\n",
    "#plt.show()"
   ]
  },
  {
   "cell_type": "code",
   "execution_count": null,
   "metadata": {
    "collapsed": true
   },
   "outputs": [],
   "source": []
  }
 ],
 "metadata": {
  "kernelspec": {
   "display_name": "Python 3",
   "language": "python",
   "name": "python3"
  },
  "language_info": {
   "codemirror_mode": {
    "name": "ipython",
    "version": 3
   },
   "file_extension": ".py",
   "mimetype": "text/x-python",
   "name": "python",
   "nbconvert_exporter": "python",
   "pygments_lexer": "ipython3",
   "version": "3.6.3"
  }
 },
 "nbformat": 4,
 "nbformat_minor": 2
}
