{
 "cells": [
  {
   "cell_type": "markdown",
   "metadata": {},
   "source": [
    "  * [Radar Search Search](https://developers.google.com/maps/documentation/javascript/places#radar_search_requests).  Radar Search lets you search for places within a specified search radius by keyword, type or name. The Radar Search returns more results than a Nearby Search or Text Search, but the results contain fewer fields. You can call PlacesService.getDetails() to get more information about any of the places in the response.\n",
    "  \n",
    "\n",
    "Google Radar is provided as a means to obtain up to 200 search results for a given location (e.g. if I wanted to know the number of bakeries within 5 miles of Orlando, Florida). \n",
    "\n",
    "Google Radar allows developers to get around the rate limit of 60 that Google's Nearby Search enforces.\n",
    "\n",
    "\n",
    "Notice: Radar search is deprecated as of June 30, 2018. After that time, this feature will no longer be available."
   ]
  },
  {
   "cell_type": "code",
   "execution_count": 1,
   "metadata": {
    "collapsed": true
   },
   "outputs": [],
   "source": [
    "import json\n",
    "import requests\n",
    "import os"
   ]
  },
  {
   "cell_type": "code",
   "execution_count": 2,
   "metadata": {
    "collapsed": true
   },
   "outputs": [],
   "source": [
    "api_dir = os.path.dirname(os.path.dirname(os.path.dirname(os.path.dirname(os.path.dirname(os.path.realpath('__file__'))))))\n",
    "file_name = os.path.join(api_dir, \"api_keys.json\")\n",
    "data = json.load(open(file_name))\n",
    "\n",
    "gkey = data['google_places_api_key']"
   ]
  },
  {
   "cell_type": "code",
   "execution_count": 8,
   "metadata": {
    "collapsed": true
   },
   "outputs": [],
   "source": [
    "# Target city\n",
    "# Boise, Idaho {\"lat\": 43.6187102, \"lng\": -116.2146068}\n",
    "# New York, NY {\"lat\": 40.7128, \"lng\": -74.0059}\n",
    "target_city = {\"lat\": 43.6187102, \"lng\": -116.2146068}\n",
    "\n",
    "# Build the endpoint URL (Checks all ice cream shops)\n",
    "target_url = \"https://maps.googleapis.com/maps/api/place/radarsearch/json\" \\\n",
    "    \"?location={},{}&radius=8000&keyword=ice+cream&type=food&key={}\".format(\n",
    "        target_city[\"lat\"], target_city[\"lng\"], gkey)"
   ]
  },
  {
   "cell_type": "code",
   "execution_count": null,
   "metadata": {
    "collapsed": true
   },
   "outputs": [],
   "source": []
  },
  {
   "cell_type": "code",
   "execution_count": null,
   "metadata": {
    "collapsed": true
   },
   "outputs": [],
   "source": [
    "\n"
   ]
  },
  {
   "cell_type": "code",
   "execution_count": null,
   "metadata": {
    "collapsed": true
   },
   "outputs": [],
   "source": []
  },
  {
   "cell_type": "code",
   "execution_count": null,
   "metadata": {
    "collapsed": true
   },
   "outputs": [],
   "source": []
  }
 ],
 "metadata": {
  "kernelspec": {
   "display_name": "Python 3",
   "language": "python",
   "name": "python3"
  },
  "language_info": {
   "codemirror_mode": {
    "name": "ipython",
    "version": 3
   },
   "file_extension": ".py",
   "mimetype": "text/x-python",
   "name": "python",
   "nbconvert_exporter": "python",
   "pygments_lexer": "ipython3",
   "version": "3.6.3"
  }
 },
 "nbformat": 4,
 "nbformat_minor": 2
}
