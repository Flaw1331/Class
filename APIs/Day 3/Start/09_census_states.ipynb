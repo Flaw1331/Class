{
 "cells": [
  {
   "cell_type": "code",
   "execution_count": 1,
   "metadata": {
    "collapsed": true
   },
   "outputs": [],
   "source": [
    "# Dependencies\n",
    "import numpy as np\n",
    "import pandas as pd\n",
    "import matplotlib.pyplot as plt \n",
    "import requests\n",
    "from census import Census\n",
    "from us import states\n",
    "# you can get your own Census API key at https://www.census.gov/developers/\n",
    "# Or use Trilogy's API key below\n",
    "# Census API Key\n",
    "c = Census(\"85ac64b6b5a9c0901b00329d1ef41f0c53ccfc98\", year=2013)"
   ]
  },
  {
   "cell_type": "markdown",
   "metadata": {},
   "source": [
    "# Census Activity\n",
    "\n",
    "In this activity we will utilize the Census API in order to obtain census data at a state level.\n",
    "\n",
    "## Instructions\n",
    "\n",
    "* Using [Census_States_Unsolved.ipynb](Unsolved/Census_States_Unsolved.ipynb) as a reference, create a completely new script that calculates each of the following fields at the **state** level:\n",
    "\n",
    "  1. Population\n",
    "\n",
    "  2. Median Age\n",
    "\n",
    "  3. Household Income\n",
    "\n",
    "  4. Per Capita Income\n",
    "\n",
    "  5. Poverty Count\n",
    "\n",
    "  6. Poverty Rate\n",
    "\n",
    "  7. Unemployment Rate\n",
    "\n",
    "* Save the resulting data as a csv\n",
    "\n",
    "### Hints\n",
    "\n",
    "* See documentation for the [Census API Wrapper](https://github.com/datamade/census)\n"
   ]
  },
  {
   "cell_type": "code",
   "execution_count": 2,
   "metadata": {
    "collapsed": true
   },
   "outputs": [],
   "source": [
    "# Run Census Search to retrieve data on all states\n",
    "# Note the addition of \"B23025_005E\" for unemployment count\n",
    "\n"
   ]
  },
  {
   "cell_type": "code",
   "execution_count": 3,
   "metadata": {
    "collapsed": true
   },
   "outputs": [],
   "source": [
    "# Convert to DataFrame\n"
   ]
  },
  {
   "cell_type": "code",
   "execution_count": null,
   "metadata": {
    "collapsed": true
   },
   "outputs": [],
   "source": [
    "\n",
    "# Rename Columns\n",
    "census_pd = census_pd.rename(columns={\"B01003_001E\": \"Population\", \n",
    "                                      \"B01002_001E\": \"Median Age\",\n",
    "                                      \"B19013_001E\": \"Household Income\",\n",
    "                                      \"B19301_001E\": \"Per Capita Income\",\n",
    "                                      \"B17001_002E\": \"Poverty Count\",\n",
    "                                      \"B23025_005E\": \"Unemployment Count\",\n",
    "                                      \"NAME\": \"Name\", \"state\": \"State\"})\n",
    "\n"
   ]
  },
  {
   "cell_type": "code",
   "execution_count": null,
   "metadata": {
    "collapsed": true
   },
   "outputs": [],
   "source": [
    "# Add in Poverty Rate (Poverty Count / Population) * 100\n"
   ]
  },
  {
   "cell_type": "code",
   "execution_count": null,
   "metadata": {
    "collapsed": true
   },
   "outputs": [],
   "source": [
    "# Add in Employment Rate (Employment Count / Population) * 100\n",
    "\n"
   ]
  },
  {
   "cell_type": "code",
   "execution_count": 4,
   "metadata": {
    "collapsed": true
   },
   "outputs": [],
   "source": [
    "# Create Final DataFrame with \"Poverty Rate\" and \"Unemployment Rate\"\n"
   ]
  },
  {
   "cell_type": "code",
   "execution_count": 24,
   "metadata": {
    "collapsed": true
   },
   "outputs": [],
   "source": [
    "# Save as a csv\n",
    "# Note to avoid any issues later, use encoding=\"utf-8\"\n",
    "census_pd.to_csv(\"census_data_states.csv\", encoding=\"utf-8\", index=False)"
   ]
  }
 ],
 "metadata": {
  "anaconda-cloud": {},
  "kernelspec": {
   "display_name": "Python 3",
   "language": "python",
   "name": "python3"
  },
  "language_info": {
   "codemirror_mode": {
    "name": "ipython",
    "version": 3
   },
   "file_extension": ".py",
   "mimetype": "text/x-python",
   "name": "python",
   "nbconvert_exporter": "python",
   "pygments_lexer": "ipython3",
   "version": "3.6.3"
  }
 },
 "nbformat": 4,
 "nbformat_minor": 1
}
