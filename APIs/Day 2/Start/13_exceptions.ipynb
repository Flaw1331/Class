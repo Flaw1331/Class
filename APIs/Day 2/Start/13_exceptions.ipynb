{
 "cells": [
  {
   "cell_type": "markdown",
   "metadata": {},
   "source": [
    "# Instructions\n",
    "\n",
    "Your assignment is to get the last line to print without changing any of the code below. \n",
    "\n",
    "Instead, wrap each line that throws an error in a try/except block.\n",
    "\n",
    "### See this reference for a list of exceptions you can catch:\n",
    "### https://docs.python.org/3/library/exceptions.html#bltin-exceptions"
   ]
  },
  {
   "cell_type": "code",
   "execution_count": 5,
   "metadata": {},
   "outputs": [
    {
     "name": "stdout",
     "output_type": "stream",
     "text": [
      "Line 1 wonky\n",
      "Line 2 wonky\n",
      "Line 3 wonky\n",
      "You made it through the gauntlet--the message survived!\n"
     ]
    }
   ],
   "source": [
    "try:\n",
    "    print(\"Infinity looks like + \" + str(10 / 0) + \".\")\n",
    "except ZeroDivisionError:\n",
    "    print(\"Line 1 wonky\")\n",
    "try:\n",
    "    print(\"I think her name was + \" + name + \"?\")\n",
    "except NameError:\n",
    "    print(\"Line 2 wonky\")\n",
    "try:\n",
    "    print(\"Your name is a nonsense number. Look: \" + int(\"Gabriel\"))\n",
    "except ValueError:\n",
    "    print(\"Line 3 wonky\")\n",
    "try:\n",
    "    print(\"You made it through the gauntlet--the message survived!\")\n",
    "except ZeroDivisionError:\n",
    "    print(\"Line 4 wonky\")"
   ]
  },
  {
   "cell_type": "code",
   "execution_count": null,
   "metadata": {
    "collapsed": true
   },
   "outputs": [],
   "source": []
  }
 ],
 "metadata": {
  "kernelspec": {
   "display_name": "Python 3",
   "language": "python",
   "name": "python3"
  },
  "language_info": {
   "codemirror_mode": {
    "name": "ipython",
    "version": 3
   },
   "file_extension": ".py",
   "mimetype": "text/x-python",
   "name": "python",
   "nbconvert_exporter": "python",
   "pygments_lexer": "ipython3",
   "version": "3.6.3"
  }
 },
 "nbformat": 4,
 "nbformat_minor": 2
}
