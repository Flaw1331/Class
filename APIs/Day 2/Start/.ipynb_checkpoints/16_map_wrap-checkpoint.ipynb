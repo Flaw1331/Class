{
 "cells": [
  {
   "cell_type": "markdown",
   "metadata": {},
   "source": [
    "# OpenWeather API Wrapper\n",
    "\n",
    "## Instructions\n",
    "\n",
    "* Install the openweathermapy API wrapper. use `pip install openweathermapy`\n",
    "\n",
    "* Remember source code and documentation are here: https://github.com/crazycapivara/openweathermapy\n",
    "\n",
    "* Create a settings object with your API key and preferred units of measurement.\n",
    "\n",
    "* Get data for each city in `cities.csv`.\n",
    "\n",
    "* Create a list to get the temperature, latitude, and longitude in each city\n",
    "\n",
    "* Create a Pandas DataFrame with the results.\n",
    "\n",
    "* Print your summaries to verify that everything went smoothly.\n",
    "\n",
    "## Bonus\n",
    "\n",
    "* If you finish early, read about, and experiment with, the `*` syntax.\n",
    "\n",
    "* Pass a `columns` keyword argument to `pd.DataFrame`, and provide labels for the temperature and coordinate data.\n",
    "\n"
   ]
  },
  {
   "cell_type": "code",
   "execution_count": 1,
   "metadata": {
    "collapsed": true
   },
   "outputs": [],
   "source": [
    "import openweathermapy.core as ow\n",
    "api_key = \"25bc90a1196e6f153eece0bc0b0fc9eb\"\n",
    "settings = {\"units\": \"imperial\", \"appid\": api_key}"
   ]
  },
  {
   "cell_type": "code",
   "execution_count": 4,
   "metadata": {
    "collapsed": true
   },
   "outputs": [],
   "source": []
  },
  {
   "cell_type": "code",
   "execution_count": null,
   "metadata": {
    "collapsed": true
   },
   "outputs": [],
   "source": []
  }
 ],
 "metadata": {
  "kernelspec": {
   "display_name": "Python 3",
   "language": "python",
   "name": "python3"
  },
  "language_info": {
   "codemirror_mode": {
    "name": "ipython",
    "version": 3
   },
   "file_extension": ".py",
   "mimetype": "text/x-python",
   "name": "python",
   "nbconvert_exporter": "python",
   "pygments_lexer": "ipython3",
   "version": "3.6.3"
  }
 },
 "nbformat": 4,
 "nbformat_minor": 2
}
