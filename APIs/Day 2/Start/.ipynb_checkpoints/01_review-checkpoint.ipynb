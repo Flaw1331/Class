{
 "cells": [
  {
   "cell_type": "markdown",
   "metadata": {},
   "source": [
    "# JSON Traversal Review\n",
    "\n",
    "This activity is an opportunity to practice loading and parsing JSON in Python.\n",
    "\n",
    "## Instructions\n",
    "\n",
    "* Load the provided JSON\n",
    "\n",
    "* Retrieve the video's title\n",
    "\n",
    "* Retrieve the video's rating\n",
    "\n",
    "* Retrieve the link to the video's thumbnail\n",
    "\n",
    "* Retrieve the number of views this video has"
   ]
  },
  {
   "cell_type": "code",
   "execution_count": 3,
   "metadata": {
    "collapsed": true
   },
   "outputs": [],
   "source": [
    "import requests\n",
    "import json\n",
    "import os"
   ]
  },
  {
   "cell_type": "code",
   "execution_count": 6,
   "metadata": {
    "collapsed": true
   },
   "outputs": [],
   "source": [
    "file_name = os.path.join(\"Resources\", \"youtube_response.json\")\n",
    "video_file = open(file_name)\n",
    "video_json = json.load(video_file)"
   ]
  },
  {
   "cell_type": "code",
   "execution_count": null,
   "metadata": {
    "collapsed": true
   },
   "outputs": [],
   "source": []
  }
 ],
 "metadata": {
  "kernelspec": {
   "display_name": "Python 3",
   "language": "python",
   "name": "python3"
  },
  "language_info": {
   "codemirror_mode": {
    "name": "ipython",
    "version": 3
   },
   "file_extension": ".py",
   "mimetype": "text/x-python",
   "name": "python",
   "nbconvert_exporter": "python",
   "pygments_lexer": "ipython3",
   "version": "3.6.3"
  }
 },
 "nbformat": 4,
 "nbformat_minor": 2
}
