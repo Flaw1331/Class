{
 "cells": [
  {
   "cell_type": "code",
   "execution_count": 1,
   "metadata": {
    "collapsed": true
   },
   "outputs": [],
   "source": [
    "import json\n",
    "import requests"
   ]
  },
  {
   "cell_type": "code",
   "execution_count": 2,
   "metadata": {
    "collapsed": true
   },
   "outputs": [],
   "source": [
    "api_key = \"25bc90a1196e6f153eece0bc0b0fc9eb\"\n",
    "url = \"http://api.openweathermap.org/data/2.5/weather?\"\n",
    "city = \"London\""
   ]
  },
  {
   "cell_type": "code",
   "execution_count": 3,
   "metadata": {
    "collapsed": true
   },
   "outputs": [],
   "source": [
    "query_url = url + \"appid=\" + api_key + \"&q=\" + city\n"
   ]
  },
  {
   "cell_type": "code",
   "execution_count": 4,
   "metadata": {
    "collapsed": true
   },
   "outputs": [],
   "source": [
    "weather_response = requests.get(query_url)\n",
    "weather_json = weather_response.json()"
   ]
  },
  {
   "cell_type": "code",
   "execution_count": 5,
   "metadata": {},
   "outputs": [
    {
     "name": "stdout",
     "output_type": "stream",
     "text": [
      "The weather API responded with: {\n",
      "  \"coord\": {\n",
      "    \"lon\": -0.13,\n",
      "    \"lat\": 51.51\n",
      "  },\n",
      "  \"weather\": [\n",
      "    {\n",
      "      \"id\": 800,\n",
      "      \"main\": \"Clear\",\n",
      "      \"description\": \"clear sky\",\n",
      "      \"icon\": \"01n\"\n",
      "    }\n",
      "  ],\n",
      "  \"base\": \"stations\",\n",
      "  \"main\": {\n",
      "    \"temp\": 278.15,\n",
      "    \"pressure\": 1007,\n",
      "    \"humidity\": 70,\n",
      "    \"temp_min\": 277.15,\n",
      "    \"temp_max\": 279.15\n",
      "  },\n",
      "  \"visibility\": 10000,\n",
      "  \"wind\": {\n",
      "    \"speed\": 6.7,\n",
      "    \"deg\": 240\n",
      "  },\n",
      "  \"clouds\": {\n",
      "    \"all\": 0\n",
      "  },\n",
      "  \"dt\": 1516218600,\n",
      "  \"sys\": {\n",
      "    \"type\": 1,\n",
      "    \"id\": 5168,\n",
      "    \"message\": 0.006,\n",
      "    \"country\": \"GB\",\n",
      "    \"sunrise\": 1516175816,\n",
      "    \"sunset\": 1516206315\n",
      "  },\n",
      "  \"id\": 2643743,\n",
      "  \"name\": \"London\",\n",
      "  \"cod\": 200\n",
      "}\n"
     ]
    }
   ],
   "source": [
    "print(\"The weather API responded with: \" + json.dumps(weather_json, indent=2))\n"
   ]
  },
  {
   "cell_type": "code",
   "execution_count": null,
   "metadata": {
    "collapsed": true
   },
   "outputs": [],
   "source": []
  }
 ],
 "metadata": {
  "kernelspec": {
   "display_name": "Python 3",
   "language": "python",
   "name": "python3"
  },
  "language_info": {
   "codemirror_mode": {
    "name": "ipython",
    "version": 3
   },
   "file_extension": ".py",
   "mimetype": "text/x-python",
   "name": "python",
   "nbconvert_exporter": "python",
   "pygments_lexer": "ipython3",
   "version": "3.6.3"
  }
 },
 "nbformat": 4,
 "nbformat_minor": 2
}
