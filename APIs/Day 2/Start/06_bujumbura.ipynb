{
 "cells": [
  {
   "cell_type": "markdown",
   "metadata": {},
   "source": [
    "# Weather in Bujumbura\n",
    "\n",
    "## Instructions\n",
    "\n",
    "* See documentation: http://openweathermap.org/current\n",
    "\n",
    "* Save all of your \"config\" information—i.e., your API key; the base URL; etc.—before moving on.\n",
    "\n",
    "* Build your query URL. Check the documentation to figure out how to request temperatures in Celsius.\n",
    "\n",
    "* Make your request, and save the API's response.\n",
    "\n",
    "* Retrieve the current temperature in Bujumbura from the JSON response.\n",
    "\n",
    "* Print the temperature to the console.\n",
    "\n",
    "## Bonus\n",
    "\n",
    "* Augment your code to report the temperature in both Fahrenheit _and_ Celsius.\n"
   ]
  },
  {
   "cell_type": "code",
   "execution_count": 1,
   "metadata": {
    "collapsed": true
   },
   "outputs": [],
   "source": [
    "import requests\n",
    "import json"
   ]
  },
  {
   "cell_type": "code",
   "execution_count": 2,
   "metadata": {
    "collapsed": true
   },
   "outputs": [],
   "source": [
    "api_key = \"25bc90a1196e6f153eece0bc0b0fc9eb\"\n",
    "url = \"http://api.openweathermap.org/data/2.5/weather?\""
   ]
  },
  {
   "cell_type": "code",
   "execution_count": 3,
   "metadata": {
    "collapsed": true
   },
   "outputs": [],
   "source": [
    "city = \"bujumbura\"\n",
    "query_url = url + \"appid=\" + api_key + \"&q=\" + city\n",
    "weather_response = requests.get(query_url)\n",
    "weather_json = weather_response.json()"
   ]
  },
  {
   "cell_type": "code",
   "execution_count": 4,
   "metadata": {},
   "outputs": [
    {
     "name": "stdout",
     "output_type": "stream",
     "text": [
      "{\n",
      "  \"coord\": {\n",
      "    \"lon\": 29.37,\n",
      "    \"lat\": -3.36\n",
      "  },\n",
      "  \"weather\": [\n",
      "    {\n",
      "      \"id\": 500,\n",
      "      \"main\": \"Rain\",\n",
      "      \"description\": \"light rain\",\n",
      "      \"icon\": \"10n\"\n",
      "    }\n",
      "  ],\n",
      "  \"base\": \"stations\",\n",
      "  \"main\": {\n",
      "    \"temp\": 289.275,\n",
      "    \"pressure\": 856.21,\n",
      "    \"humidity\": 100,\n",
      "    \"temp_min\": 289.275,\n",
      "    \"temp_max\": 289.275,\n",
      "    \"sea_level\": 1023.28,\n",
      "    \"grnd_level\": 856.21\n",
      "  },\n",
      "  \"wind\": {\n",
      "    \"speed\": 1.86,\n",
      "    \"deg\": 42.5004\n",
      "  },\n",
      "  \"rain\": {\n",
      "    \"3h\": 0.43\n",
      "  },\n",
      "  \"clouds\": {\n",
      "    \"all\": 80\n",
      "  },\n",
      "  \"dt\": 1516324414,\n",
      "  \"sys\": {\n",
      "    \"message\": 0.0037,\n",
      "    \"country\": \"BI\",\n",
      "    \"sunrise\": 1516334676,\n",
      "    \"sunset\": 1516378909\n",
      "  },\n",
      "  \"id\": 425378,\n",
      "  \"name\": \"Bujumbura\",\n",
      "  \"cod\": 200\n",
      "}\n"
     ]
    }
   ],
   "source": [
    "print(json.dumps(weather_json, indent=2))"
   ]
  },
  {
   "cell_type": "code",
   "execution_count": 13,
   "metadata": {},
   "outputs": [],
   "source": [
    "temp = weather_json['main']['temp']"
   ]
  },
  {
   "cell_type": "code",
   "execution_count": 15,
   "metadata": {},
   "outputs": [
    {
     "data": {
      "text/plain": [
       "16.125"
      ]
     },
     "execution_count": 15,
     "metadata": {},
     "output_type": "execute_result"
    }
   ],
   "source": [
    "celc_temp = float(temp) - 273.15\n",
    "celc_temp"
   ]
  },
  {
   "cell_type": "code",
   "execution_count": 16,
   "metadata": {},
   "outputs": [
    {
     "data": {
      "text/plain": [
       "61.02499999999992"
      ]
     },
     "execution_count": 16,
     "metadata": {},
     "output_type": "execute_result"
    }
   ],
   "source": [
    "fahr_temp = (float(temp)* (9/5)) - 459.67\n",
    "fahr_temp"
   ]
  },
  {
   "cell_type": "code",
   "execution_count": null,
   "metadata": {
    "collapsed": true
   },
   "outputs": [],
   "source": []
  }
 ],
 "metadata": {
  "kernelspec": {
   "display_name": "Python 3",
   "language": "python",
   "name": "python3"
  },
  "language_info": {
   "codemirror_mode": {
    "name": "ipython",
    "version": 3
   },
   "file_extension": ".py",
   "mimetype": "text/x-python",
   "name": "python",
   "nbconvert_exporter": "python",
   "pygments_lexer": "ipython3",
   "version": "3.6.3"
  }
 },
 "nbformat": 4,
 "nbformat_minor": 2
}
