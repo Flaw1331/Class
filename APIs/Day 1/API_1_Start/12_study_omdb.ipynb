{
 "cells": [
  {
   "cell_type": "code",
   "execution_count": 4,
   "metadata": {
    "collapsed": true
   },
   "outputs": [],
   "source": [
    "import requests as req\n",
    "import json"
   ]
  },
  {
   "cell_type": "code",
   "execution_count": 15,
   "metadata": {
    "collapsed": true
   },
   "outputs": [],
   "source": [
    "url = \"http://www.omdbapi.com/?t=\"\n",
    "api_key = \"&apikey=40e9cece\""
   ]
  },
  {
   "cell_type": "markdown",
   "metadata": {
    "collapsed": true
   },
   "source": [
    "# Instructions\n",
    "\n",
    "Read the OMDb documentation. See: http://www.omdbapi.com/\n",
    "\n",
    "Make a few API calls to\n",
    "get some information about your favorite movie.\n",
    "\n",
    "Be sure to print two or three\n",
    "properties of the JSON you retrieve.\n",
    "\n",
    "- - -\n"
   ]
  },
  {
   "cell_type": "code",
   "execution_count": 16,
   "metadata": {},
   "outputs": [
    {
     "name": "stdout",
     "output_type": "stream",
     "text": [
      "{'Title': 'The Chronicles of Riddick', 'Year': '2004', 'Rated': 'PG-13', 'Released': '11 Jun 2004', 'Runtime': '119 min', 'Genre': 'Action, Adventure, Sci-Fi', 'Director': 'David Twohy', 'Writer': 'Jim Wheat (characters), Ken Wheat (characters), David Twohy', 'Actors': 'Vin Diesel, Colm Feore, Thandie Newton, Judi Dench', 'Plot': 'The wanted criminal Riddick arrives on a planet called Helion Prime, and finds himself up against an invading empire called the Necromongers, an army that plans to convert or kill all humans in the universe.', 'Language': 'English', 'Country': 'USA', 'Awards': '5 nominations.', 'Poster': 'https://images-na.ssl-images-amazon.com/images/M/MV5BNzBjNmJkYjUtMTFjMC00ZWI5LWEyM2YtNzczOTczMmM1ODY5XkEyXkFqcGdeQXVyNzQ1ODk3MTQ@._V1_SX300.jpg', 'Ratings': [{'Source': 'Internet Movie Database', 'Value': '6.7/10'}, {'Source': 'Rotten Tomatoes', 'Value': '29%'}, {'Source': 'Metacritic', 'Value': '38/100'}], 'Metascore': '38', 'imdbRating': '6.7', 'imdbVotes': '195,230', 'imdbID': 'tt0296572', 'Type': 'movie', 'DVD': '16 Nov 2004', 'BoxOffice': '$56,800,000', 'Production': 'Universal Pictures', 'Website': 'http://www.thechroniclesofriddick.com', 'Response': 'True'}\n"
     ]
    }
   ],
   "source": [
    "response = req.get(url + \"Chronicles of Riddick\" + api_key)\n",
    "json = response.json()\n",
    "print(json)"
   ]
  },
  {
   "cell_type": "code",
   "execution_count": 20,
   "metadata": {},
   "outputs": [
    {
     "name": "stdout",
     "output_type": "stream",
     "text": [
      "Vin Diesel, Colm Feore, Thandie Newton, Judi Dench\n"
     ]
    }
   ],
   "source": [
    "response2 = req.get(url + \"Chronicles of Riddick\" + api_key).json()\n",
    "print(response2['Actors'])"
   ]
  },
  {
   "cell_type": "code",
   "execution_count": null,
   "metadata": {},
   "outputs": [],
   "source": []
  },
  {
   "cell_type": "code",
   "execution_count": null,
   "metadata": {
    "collapsed": true
   },
   "outputs": [],
   "source": []
  }
 ],
 "metadata": {
  "kernelspec": {
   "display_name": "Python 3",
   "language": "python",
   "name": "python3"
  },
  "language_info": {
   "codemirror_mode": {
    "name": "ipython",
    "version": 3
   },
   "file_extension": ".py",
   "mimetype": "text/x-python",
   "name": "python",
   "nbconvert_exporter": "python",
   "pygments_lexer": "ipython3",
   "version": "3.6.3"
  }
 },
 "nbformat": 4,
 "nbformat_minor": 2
}
