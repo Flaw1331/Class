{
 "cells": [
  {
   "cell_type": "markdown",
   "metadata": {},
   "source": [
    "# Instructions\n",
    "\n",
    "* Select a movie\n",
    "\n",
    "* Initialize your info dictionary, and the name of the movie you'll search for.\n",
    "\n",
    "* Initialize variables containing the URLs of the NYT and OMBd APIs, as well as your NYT API KEY.\n",
    "\n",
    "* Make a request to the OMDb and NYT APIs for the movie you've selected.\n",
    "\n",
    "* Save some information from the OMDb response to your info dictionary, such as its director or plot summary.\n",
    "\n",
    "* Save a list of URLs to some of the articles from the NYT response, and save them to your info dictionary.\n",
    "\n",
    "* Finally, print a summary of information on the article. This should look something like the following:\n",
    "\n",
    "\n",
    "```\n",
    "The director of Gladiator was Ridley Scott. It was released in 2000.\n",
    "\n",
    "We found 3 articles about Gladiator. Their urls are:\n",
    "\n",
    "http://query.nytimes.com/gst/abstract.html?res=9F0DE0DB1E38EE3ABC4151DFBE668383629EDE\n",
    "http://query.nytimes.com/gst/abstract.html?res=9B03E0DF133DE13BBC4F53DFB7678383659EDE\n",
    "http://www.nytimes.com/video/movies/100000003327680/gladiator.html\n",
    "```\n",
    "\n",
    "- - -"
   ]
  },
  {
   "cell_type": "code",
   "execution_count": 1,
   "metadata": {
    "collapsed": true
   },
   "outputs": [],
   "source": [
    "import requests as req\n",
    "import pandas as pd"
   ]
  },
  {
   "cell_type": "code",
   "execution_count": 2,
   "metadata": {
    "collapsed": true
   },
   "outputs": [],
   "source": [
    "info = {}\n",
    "name = \"Gladiator\""
   ]
  },
  {
   "cell_type": "code",
   "execution_count": 3,
   "metadata": {
    "collapsed": true
   },
   "outputs": [],
   "source": [
    "omdb_url = \"http://www.omdbapi.com/?apikey=40e9cece&t=\"\n",
    "nyt_url = \"https://api.nytimes.com/svc/search/v2/articlesearch.json?\"\n",
    "api_key = \"164b73c522a8420c8e05343ef1da0a7e\"\n"
   ]
  },
  {
   "cell_type": "code",
   "execution_count": 4,
   "metadata": {
    "collapsed": true
   },
   "outputs": [],
   "source": [
    "movie = req.get(omdb_url + name).json()\n",
    "movie_articles = req.get(nyt_url + \"api-key=\" + api_key + \"&q=\" + name).json()\n",
    "movie_articles = [\n",
    "    article for article in movie_articles[\"response\"][\"docs\"]][0:3]\n",
    "\n"
   ]
  },
  {
   "cell_type": "code",
   "execution_count": 5,
   "metadata": {
    "collapsed": true
   },
   "outputs": [],
   "source": [
    "info[\"Year\"] = movie[\"Year\"]\n",
    "info[\"Director\"] = movie[\"Director\"]"
   ]
  },
  {
   "cell_type": "code",
   "execution_count": 6,
   "metadata": {
    "collapsed": true
   },
   "outputs": [],
   "source": [
    "info[\"Links\"] = []\n",
    "for article in movie_articles:\n",
    "    url = article[\"web_url\"]\n",
    "    if url is not None:\n",
    "        info[\"Links\"] += [url]"
   ]
  },
  {
   "cell_type": "code",
   "execution_count": 7,
   "metadata": {},
   "outputs": [
    {
     "name": "stdout",
     "output_type": "stream",
     "text": [
      "The director of  Gladiator was Ridley Scott.\n",
      "It was released in 2000.\n",
      "We collected 3 articles. Their links are:\n",
      "\n",
      "https://www.nytimes.com/2017/11/23/us/ben-shapiro-conservative.html\n",
      "https://www.nytimes.com/aponline/2018/01/04/sports/ncaabasketball/ap-bkc-t25-houston-wichita-state.html\n",
      "https://www.nytimes.com/2017/12/15/fashion/open-thread-style-newsletter-star-wars-supermodelmania.html\n"
     ]
    }
   ],
   "source": [
    "print(\"The director of  \" + name + \" was \" + info[\"Director\"] + \".\")\n",
    "print(\"It was released in \" + str(info[\"Year\"]) + \".\")\n",
    "print(\"We collected \" +\n",
    "      str(len(info[\"Links\"])) +\n",
    "      \" articles. Their links are:\\n\")\n",
    "for url in info[\"Links\"]:\n",
    "    print(url)\n"
   ]
  },
  {
   "cell_type": "code",
   "execution_count": null,
   "metadata": {
    "collapsed": true
   },
   "outputs": [],
   "source": []
  }
 ],
 "metadata": {
  "kernelspec": {
   "display_name": "Python 3",
   "language": "python",
   "name": "python3"
  },
  "language_info": {
   "codemirror_mode": {
    "name": "ipython",
    "version": 3
   },
   "file_extension": ".py",
   "mimetype": "text/x-python",
   "name": "python",
   "nbconvert_exporter": "python",
   "pygments_lexer": "ipython3",
   "version": "3.6.3"
  }
 },
 "nbformat": 4,
 "nbformat_minor": 2
}
