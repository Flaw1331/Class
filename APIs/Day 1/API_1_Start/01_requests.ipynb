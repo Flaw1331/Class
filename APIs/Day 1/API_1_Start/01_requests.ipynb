{
 "cells": [
  {
   "cell_type": "code",
   "execution_count": 2,
   "metadata": {
    "collapsed": true
   },
   "outputs": [],
   "source": [
    "import requests as req\n",
    "import json"
   ]
  },
  {
   "cell_type": "code",
   "execution_count": 3,
   "metadata": {
    "collapsed": true
   },
   "outputs": [],
   "source": [
    "url = \"https://api.spacexdata.com/v2/launches/latest\"\n"
   ]
  },
  {
   "cell_type": "code",
   "execution_count": 4,
   "metadata": {},
   "outputs": [
    {
     "name": "stdout",
     "output_type": "stream",
     "text": [
      "<Response [200]>\n"
     ]
    }
   ],
   "source": [
    "print(req.get(url))"
   ]
  },
  {
   "cell_type": "code",
   "execution_count": 5,
   "metadata": {},
   "outputs": [
    {
     "name": "stdout",
     "output_type": "stream",
     "text": [
      "{'flight_number': 53, 'launch_year': '2018', 'launch_date_unix': 1515373200, 'launch_date_utc': '2018-01-08T01:00:00Z', 'launch_date_local': '2018-01-07T20:00:00-05:00', 'rocket': {'rocket_id': 'falcon9', 'rocket_name': 'Falcon 9', 'rocket_type': 'FT', 'first_stage': {'cores': [{'core_serial': 'B1043', 'reused': False, 'land_success': True, 'landing_type': 'RTLS', 'landing_vehicle': 'LZ-1'}]}, 'second_stage': {'payloads': [{'payload_id': 'ZUMA', 'reused': False, 'customers': ['Northrop Grumman'], 'payload_type': 'Satellite', 'payload_mass_kg': None, 'payload_mass_lbs': None, 'orbit': 'LEO'}]}}, 'telemetry': {'flight_club': 'https://www.flightclub.io/result?code=ZUMA'}, 'reuse': {'core': False, 'side_core1': False, 'side_core2': False, 'fairings': False, 'capsule': False}, 'launch_site': {'site_id': 'ccafs_slc_40', 'site_name': 'CCAFS SLC 40', 'site_name_long': 'Cape Canaveral Air Force Station Space Launch Complex 40'}, 'launch_success': True, 'links': {'mission_patch': 'https://i.imgur.com/c5pL42B.png', 'reddit_campaign': 'https://www.reddit.com/r/spacex/comments/7895bo/zuma_launch_campaign_thread/', 'reddit_launch': 'https://www.reddit.com/r/spacex/comments/7oqjf0/rspacex_zuma_official_launch_discussion_updates/', 'reddit_recovery': None, 'reddit_media': 'https://www.reddit.com/r/spacex/comments/7orksl/rspacex_zuma_media_thread_videos_images_gifs/', 'presskit': 'http://www.spacex.com/sites/spacex/files/zumapresskit.pdf', 'article_link': 'https://spaceflightnow.com/2018/01/08/spacex-kicks-off-ambitious-2018-schedule-with-launch-for-u-s-government/', 'video_link': 'https://www.youtube.com/watch?v=0PWu3BRxn60'}, 'details': 'Originally planned for mid-November 2017, the mission was delayed due to test results from the fairing of another customer. First-stage booster will attempt landing at LZ-1'}\n"
     ]
    }
   ],
   "source": [
    "print(req.get(url).json())"
   ]
  },
  {
   "cell_type": "code",
   "execution_count": 7,
   "metadata": {},
   "outputs": [],
   "source": [
    "response = req.get(url).json()"
   ]
  },
  {
   "cell_type": "code",
   "execution_count": 9,
   "metadata": {},
   "outputs": [
    {
     "name": "stdout",
     "output_type": "stream",
     "text": [
      "{\n",
      "    \"details\": \"Originally planned for mid-November 2017, the mission was delayed due to test results from the fairing of another customer. First-stage booster will attempt landing at LZ-1\",\n",
      "    \"flight_number\": 53,\n",
      "    \"launch_date_local\": \"2018-01-07T20:00:00-05:00\",\n",
      "    \"launch_date_unix\": 1515373200,\n",
      "    \"launch_date_utc\": \"2018-01-08T01:00:00Z\",\n",
      "    \"launch_site\": {\n",
      "        \"site_id\": \"ccafs_slc_40\",\n",
      "        \"site_name\": \"CCAFS SLC 40\",\n",
      "        \"site_name_long\": \"Cape Canaveral Air Force Station Space Launch Complex 40\"\n",
      "    },\n",
      "    \"launch_success\": true,\n",
      "    \"launch_year\": \"2018\",\n",
      "    \"links\": {\n",
      "        \"article_link\": \"https://spaceflightnow.com/2018/01/08/spacex-kicks-off-ambitious-2018-schedule-with-launch-for-u-s-government/\",\n",
      "        \"mission_patch\": \"https://i.imgur.com/c5pL42B.png\",\n",
      "        \"presskit\": \"http://www.spacex.com/sites/spacex/files/zumapresskit.pdf\",\n",
      "        \"reddit_campaign\": \"https://www.reddit.com/r/spacex/comments/7895bo/zuma_launch_campaign_thread/\",\n",
      "        \"reddit_launch\": \"https://www.reddit.com/r/spacex/comments/7oqjf0/rspacex_zuma_official_launch_discussion_updates/\",\n",
      "        \"reddit_media\": \"https://www.reddit.com/r/spacex/comments/7orksl/rspacex_zuma_media_thread_videos_images_gifs/\",\n",
      "        \"reddit_recovery\": null,\n",
      "        \"video_link\": \"https://www.youtube.com/watch?v=0PWu3BRxn60\"\n",
      "    },\n",
      "    \"reuse\": {\n",
      "        \"capsule\": false,\n",
      "        \"core\": false,\n",
      "        \"fairings\": false,\n",
      "        \"side_core1\": false,\n",
      "        \"side_core2\": false\n",
      "    },\n",
      "    \"rocket\": {\n",
      "        \"first_stage\": {\n",
      "            \"cores\": [\n",
      "                {\n",
      "                    \"core_serial\": \"B1043\",\n",
      "                    \"land_success\": true,\n",
      "                    \"landing_type\": \"RTLS\",\n",
      "                    \"landing_vehicle\": \"LZ-1\",\n",
      "                    \"reused\": false\n",
      "                }\n",
      "            ]\n",
      "        },\n",
      "        \"rocket_id\": \"falcon9\",\n",
      "        \"rocket_name\": \"Falcon 9\",\n",
      "        \"rocket_type\": \"FT\",\n",
      "        \"second_stage\": {\n",
      "            \"payloads\": [\n",
      "                {\n",
      "                    \"customers\": [\n",
      "                        \"Northrop Grumman\"\n",
      "                    ],\n",
      "                    \"orbit\": \"LEO\",\n",
      "                    \"payload_id\": \"ZUMA\",\n",
      "                    \"payload_mass_kg\": null,\n",
      "                    \"payload_mass_lbs\": null,\n",
      "                    \"payload_type\": \"Satellite\",\n",
      "                    \"reused\": false\n",
      "                }\n",
      "            ]\n",
      "        }\n",
      "    },\n",
      "    \"telemetry\": {\n",
      "        \"flight_club\": \"https://www.flightclub.io/result?code=ZUMA\"\n",
      "    }\n",
      "}\n"
     ]
    }
   ],
   "source": [
    "print(json.dumps(response, indent = 4, sort_keys=True))"
   ]
  },
  {
   "cell_type": "code",
   "execution_count": null,
   "metadata": {
    "collapsed": true
   },
   "outputs": [],
   "source": [
    "with open('space_x.json', 'w') as outfile:\n",
    "        json.dump(response, outfile, indent=4)"
   ]
  },
  {
   "cell_type": "code",
   "execution_count": null,
   "metadata": {
    "collapsed": true
   },
   "outputs": [],
   "source": []
  },
  {
   "cell_type": "code",
   "execution_count": null,
   "metadata": {
    "collapsed": true
   },
   "outputs": [],
   "source": []
  }
 ],
 "metadata": {
  "kernelspec": {
   "display_name": "Python 3",
   "language": "python",
   "name": "python3"
  },
  "language_info": {
   "codemirror_mode": {
    "name": "ipython",
    "version": 3
   },
   "file_extension": ".py",
   "mimetype": "text/x-python",
   "name": "python",
   "nbconvert_exporter": "python",
   "pygments_lexer": "ipython3",
   "version": "3.6.3"
  }
 },
 "nbformat": 4,
 "nbformat_minor": 2
}
