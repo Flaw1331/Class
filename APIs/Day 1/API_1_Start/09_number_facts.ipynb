{
 "cells": [
  {
   "cell_type": "code",
   "execution_count": 28,
   "metadata": {
    "collapsed": true
   },
   "outputs": [],
   "source": [
    "import requests as req\n",
    "import json"
   ]
  },
  {
   "cell_type": "code",
   "execution_count": 29,
   "metadata": {
    "collapsed": true
   },
   "outputs": [],
   "source": [
    "url = \"http://numbersapi.com/\"\n",
    "# Go to the url above with a web browser and scroll down to read the API instructions. Important!"
   ]
  },
  {
   "cell_type": "code",
   "execution_count": 36,
   "metadata": {},
   "outputs": [
    {
     "name": "stdout",
     "output_type": "stream",
     "text": [
      "What type of data would you like to search for? [Trivia, Math, Date, or Year] trivia\n"
     ]
    }
   ],
   "source": [
    "kind_of_search = input(\"What type of data would you like to search for? [Trivia, Math, Date, or Year] \")"
   ]
  },
  {
   "cell_type": "code",
   "execution_count": 37,
   "metadata": {},
   "outputs": [
    {
     "data": {
      "text/plain": [
       "'trivia'"
      ]
     },
     "execution_count": 37,
     "metadata": {},
     "output_type": "execute_result"
    }
   ],
   "source": [
    "kind_of_search"
   ]
  },
  {
   "cell_type": "code",
   "execution_count": 38,
   "metadata": {},
   "outputs": [],
   "source": [
    "if kind_of_search.lower() == \"date\":\n",
    "    # Input the month to search for\n",
    "    month = 5\n",
    "    # Input the day to search for\n",
    "    day = 5\n",
    "    # Make an API call to the \"date\" API and convert response object to JSON\n",
    "    my_request = url + str(month) + \"/\" + str(day) + \"/\" + kind_of_search.lower() + \"?json\"\n",
    "    response = req.get(my_request).json()\n",
    "    # Print the fact stored within the response\n",
    "    print(response['text'])"
   ]
  },
  {
   "cell_type": "code",
   "execution_count": 41,
   "metadata": {},
   "outputs": [
    {
     "name": "stdout",
     "output_type": "stream",
     "text": [
      "42 is the angle in degrees for which a rainbow appears or the critical angle.\n"
     ]
    }
   ],
   "source": [
    "if kind_of_search.lower() != \"date\":\n",
    "    # Input the number to search for\n",
    "    number = 42\n",
    "    # Make an API call to the API and convert response object to JSON\n",
    "    response = req.get(url + str(number) + \"/\" + kind_of_search.lower() + \"?json\").json()\n",
    "    # Print the fact stored within the response\n",
    "    print(response['text'])"
   ]
  },
  {
   "cell_type": "code",
   "execution_count": null,
   "metadata": {
    "collapsed": true
   },
   "outputs": [],
   "source": []
  }
 ],
 "metadata": {
  "kernelspec": {
   "display_name": "Python 3",
   "language": "python",
   "name": "python3"
  },
  "language_info": {
   "codemirror_mode": {
    "name": "ipython",
    "version": 3
   },
   "file_extension": ".py",
   "mimetype": "text/x-python",
   "name": "python",
   "nbconvert_exporter": "python",
   "pygments_lexer": "ipython3",
   "version": "3.6.3"
  }
 },
 "nbformat": 4,
 "nbformat_minor": 2
}
