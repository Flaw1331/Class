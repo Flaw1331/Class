{
 "cells": [
  {
   "cell_type": "markdown",
   "metadata": {},
   "source": [
    "# Instructions\n",
    "\n",
    "* Select a movie\n",
    "\n",
    "* Initialize your info dictionary, and the name of the movie you'll search for.\n",
    "\n",
    "* Initialize variables containing the URLs of the NYT and OMBd APIs, as well as your NYT API KEY.\n",
    "\n",
    "* Make a request to the OMDb and NYT APIs for the movie you've selected.\n",
    "\n",
    "* Save some information from the OMDb response to your info dictionary, such as its director or plot summary.\n",
    "\n",
    "* Save a list of URLs to some of the articles from the NYT response, and save them to your info dictionary.\n",
    "\n",
    "* Finally, print a summary of information on the article. This should look something like the following:\n",
    "\n",
    "\n",
    "```\n",
    "The director of Gladiator was Ridley Scott. It was released in 2000.\n",
    "\n",
    "We found 3 articles about Gladiator. Their urls are:\n",
    "\n",
    "http://query.nytimes.com/gst/abstract.html?res=9F0DE0DB1E38EE3ABC4151DFBE668383629EDE\n",
    "http://query.nytimes.com/gst/abstract.html?res=9B03E0DF133DE13BBC4F53DFB7678383659EDE\n",
    "http://www.nytimes.com/video/movies/100000003327680/gladiator.html\n",
    "```\n",
    "\n",
    "- - -"
   ]
  },
  {
   "cell_type": "code",
   "execution_count": 62,
   "metadata": {
    "collapsed": true
   },
   "outputs": [],
   "source": [
    "import json\n",
    "import requests as req\n",
    "import time\n",
    "\n",
    "\n",
    "info = {}\n",
    "url_nyt = \"https://api.nytimes.com/svc/search/v2/articlesearch.json?\"\n",
    "nyt_api_key = \"1ecabb81c59f42619112b9611cf9949c\"\n",
    "\n",
    "url_omdb = \"http://www.omdbapi.com/?apikey=40e9cece?t=\""
   ]
  },
  {
   "cell_type": "code",
   "execution_count": 63,
   "metadata": {
    "collapsed": true
   },
   "outputs": [],
   "source": [
    "movie = \"Gladiator\""
   ]
  },
  {
   "cell_type": "code",
   "execution_count": 64,
   "metadata": {},
   "outputs": [],
   "source": [
    "movie = req.get(url_omdb + str(movie)).json()\n",
    "movie_articles = req.get(url_nyt + \"api-key=\" + nyt_api_key + \"&q=\" + str(movie)).json()"
   ]
  },
  {
   "cell_type": "code",
   "execution_count": 65,
   "metadata": {
    "collapsed": true
   },
   "outputs": [],
   "source": [
    "movie_list = [article for article in movie_articles['response']['docs']][0:3]"
   ]
  },
  {
   "cell_type": "code",
   "execution_count": 66,
   "metadata": {},
   "outputs": [
    {
     "ename": "KeyError",
     "evalue": "'Year'",
     "output_type": "error",
     "traceback": [
      "\u001b[1;31m---------------------------------------------------------------------------\u001b[0m",
      "\u001b[1;31mKeyError\u001b[0m                                  Traceback (most recent call last)",
      "\u001b[1;32m<ipython-input-66-8aa5735a34c0>\u001b[0m in \u001b[0;36m<module>\u001b[1;34m()\u001b[0m\n\u001b[1;32m----> 1\u001b[1;33m \u001b[0minfo\u001b[0m\u001b[1;33m[\u001b[0m\u001b[1;34m\"Year\"\u001b[0m\u001b[1;33m]\u001b[0m \u001b[1;33m=\u001b[0m \u001b[0mmovie\u001b[0m\u001b[1;33m[\u001b[0m\u001b[1;34m\"Year\"\u001b[0m\u001b[1;33m]\u001b[0m\u001b[1;33m\u001b[0m\u001b[0m\n\u001b[0m\u001b[0;32m      2\u001b[0m \u001b[0minfo\u001b[0m\u001b[1;33m[\u001b[0m\u001b[1;34m\"Director\"\u001b[0m\u001b[1;33m]\u001b[0m \u001b[1;33m=\u001b[0m \u001b[0mmovie\u001b[0m\u001b[1;33m[\u001b[0m\u001b[1;34m\"Director\"\u001b[0m\u001b[1;33m]\u001b[0m\u001b[1;33m\u001b[0m\u001b[0m\n",
      "\u001b[1;31mKeyError\u001b[0m: 'Year'"
     ]
    }
   ],
   "source": [
    "info[\"Year\"] = movie[\"Year\"]\n",
    "info[\"Director\"] = movie[\"Director\"]"
   ]
  },
  {
   "cell_type": "code",
   "execution_count": null,
   "metadata": {
    "collapsed": true
   },
   "outputs": [],
   "source": []
  },
  {
   "cell_type": "code",
   "execution_count": null,
   "metadata": {
    "collapsed": true
   },
   "outputs": [],
   "source": []
  }
 ],
 "metadata": {
  "kernelspec": {
   "display_name": "Python 3",
   "language": "python",
   "name": "python3"
  },
  "language_info": {
   "codemirror_mode": {
    "name": "ipython",
    "version": 3
   },
   "file_extension": ".py",
   "mimetype": "text/x-python",
   "name": "python",
   "nbconvert_exporter": "python",
   "pygments_lexer": "ipython3",
   "version": "3.6.3"
  }
 },
 "nbformat": 4,
 "nbformat_minor": 2
}
