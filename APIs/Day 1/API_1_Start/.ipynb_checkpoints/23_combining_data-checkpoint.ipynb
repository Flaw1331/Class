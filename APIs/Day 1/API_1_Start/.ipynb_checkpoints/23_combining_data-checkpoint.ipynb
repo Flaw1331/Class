{
 "cells": [
  {
   "cell_type": "markdown",
   "metadata": {},
   "source": [
    "# Instructions\n",
    "\n",
    "* Select a movie\n",
    "\n",
    "* Initialize your info dictionary, and the name of the movie you'll search for.\n",
    "\n",
    "* Initialize variables containing the URLs of the NYT and OMBd APIs, as well as your NYT API KEY.\n",
    "\n",
    "* Make a request to the OMDb and NYT APIs for the movie you've selected.\n",
    "\n",
    "* Save some information from the OMDb response to your info dictionary, such as its director or plot summary.\n",
    "\n",
    "* Save a list of URLs to some of the articles from the NYT response, and save them to your info dictionary.\n",
    "\n",
    "* Finally, print a summary of information on the article. This should look something like the following:\n",
    "\n",
    "\n",
    "```\n",
    "The director of Gladiator was Ridley Scott. It was released in 2000.\n",
    "\n",
    "We found 3 articles about Gladiator. Their urls are:\n",
    "\n",
    "http://query.nytimes.com/gst/abstract.html?res=9F0DE0DB1E38EE3ABC4151DFBE668383629EDE\n",
    "http://query.nytimes.com/gst/abstract.html?res=9B03E0DF133DE13BBC4F53DFB7678383659EDE\n",
    "http://www.nytimes.com/video/movies/100000003327680/gladiator.html\n",
    "```\n",
    "\n",
    "- - -"
   ]
  },
  {
   "cell_type": "code",
   "execution_count": null,
   "metadata": {
    "collapsed": true
   },
   "outputs": [],
   "source": []
  }
 ],
 "metadata": {
  "kernelspec": {
   "display_name": "Python 3",
   "language": "python",
   "name": "python3"
  },
  "language_info": {
   "codemirror_mode": {
    "name": "ipython",
    "version": 3
   },
   "file_extension": ".py",
   "mimetype": "text/x-python",
   "name": "python",
   "nbconvert_exporter": "python",
   "pygments_lexer": "ipython3",
   "version": "3.6.3"
  }
 },
 "nbformat": 4,
 "nbformat_minor": 2
}
