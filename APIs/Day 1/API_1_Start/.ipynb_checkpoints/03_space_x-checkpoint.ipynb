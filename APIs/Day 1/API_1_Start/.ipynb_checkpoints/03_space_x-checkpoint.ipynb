{
 "cells": [
  {
   "cell_type": "markdown",
   "metadata": {},
   "source": [
    "# Instructions\n",
    "\n",
    "* Take a few minutes to explore the JSON Placeholder API: https://github.com/r-spacex/SpaceX-API\n",
    "\n",
    "* Once you understand the structure of the API and its endpoint, choose one of the endpoints that is _not_ `vehicles`, and do the following:\n",
    "\n",
    "  * Retrieve and print the JSON for _all_ of the records from your chosen endpoint.\n",
    "\n",
    "  * Retrieve and print the JSON for the a _specific_ record from your chosen endpoint.\n",
    "\n"
   ]
  },
  {
   "cell_type": "code",
   "execution_count": null,
   "metadata": {
    "collapsed": true
   },
   "outputs": [],
   "source": []
  }
 ],
 "metadata": {
  "kernelspec": {
   "display_name": "Python 3",
   "language": "python",
   "name": "python3"
  },
  "language_info": {
   "codemirror_mode": {
    "name": "ipython",
    "version": 3
   },
   "file_extension": ".py",
   "mimetype": "text/x-python",
   "name": "python",
   "nbconvert_exporter": "python",
   "pygments_lexer": "ipython3",
   "version": "3.6.3"
  }
 },
 "nbformat": 4,
 "nbformat_minor": 2
}
