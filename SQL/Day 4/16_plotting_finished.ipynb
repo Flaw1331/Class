{
 "cells": [
  {
   "cell_type": "markdown",
   "metadata": {
    "slideshow": {
     "slide_type": "slide"
    }
   },
   "source": [
    "# Plotting Query Results\n",
    "\n",
    "### Instructions:\n",
    "\n",
    "* Use the inspector to explore the database and print out the table names stored within it.\n",
    "\n",
    "* Using the inspector, print out the column names and types for each of the tables contained within the SQLite file.\n",
    "\n",
    "* Reflect the database into a SQLAlchemy class and start a session that can be used to query the database.\n",
    "\n",
    "* Using Matplotlib, create a horizontal bar chart and plot the emoji score in descending order. Use `emoji_char` as the y-axis labels and plot only the top 10 emojis ranked by score\n",
    "\n",
    "* Create the same kind of chart using Pandas to plot the data instead of Matplotlib."
   ]
  },
  {
   "cell_type": "markdown",
   "metadata": {
    "slideshow": {
     "slide_type": "slide"
    }
   },
   "source": [
    "## Setup"
   ]
  },
  {
   "cell_type": "code",
   "execution_count": 1,
   "metadata": {
    "collapsed": true,
    "nbgrader": {
     "grade": false,
     "grade_id": "cell-e510ac54ba806bbd",
     "locked": false,
     "schema_version": 1,
     "solution": true
    },
    "slideshow": {
     "slide_type": "subslide"
    }
   },
   "outputs": [],
   "source": [
    "import matplotlib\n",
    "from matplotlib import style\n",
    "style.use('seaborn')\n",
    "import matplotlib.pyplot as plt"
   ]
  },
  {
   "cell_type": "code",
   "execution_count": 2,
   "metadata": {
    "collapsed": true,
    "slideshow": {
     "slide_type": "subslide"
    }
   },
   "outputs": [],
   "source": [
    "import pandas as pd"
   ]
  },
  {
   "cell_type": "code",
   "execution_count": 3,
   "metadata": {
    "collapsed": true,
    "nbgrader": {
     "grade": false,
     "grade_id": "cell-921fdfc7ea01c680",
     "locked": false,
     "schema_version": 1,
     "solution": true
    },
    "slideshow": {
     "slide_type": "subslide"
    }
   },
   "outputs": [],
   "source": [
    "import sqlalchemy\n",
    "from sqlalchemy.ext.automap import automap_base\n",
    "from sqlalchemy.orm import Session\n",
    "from sqlalchemy import create_engine, inspect, func"
   ]
  },
  {
   "cell_type": "code",
   "execution_count": 4,
   "metadata": {
    "collapsed": true,
    "nbgrader": {
     "grade": false,
     "grade_id": "cell-efd553d6954b61df",
     "locked": false,
     "schema_version": 1,
     "solution": true
    },
    "slideshow": {
     "slide_type": "subslide"
    }
   },
   "outputs": [],
   "source": [
    "engine = create_engine(\"sqlite:///databases/emoji.sqlite\", echo=False)"
   ]
  },
  {
   "cell_type": "markdown",
   "metadata": {
    "slideshow": {
     "slide_type": "slide"
    }
   },
   "source": [
    "## Explore Database"
   ]
  },
  {
   "cell_type": "code",
   "execution_count": 5,
   "metadata": {
    "nbgrader": {
     "grade": false,
     "grade_id": "cell-0e48aa1f13dad563",
     "locked": false,
     "schema_version": 1,
     "solution": true
    },
    "slideshow": {
     "slide_type": "subslide"
    }
   },
   "outputs": [
    {
     "data": {
      "text/plain": [
       "['emoji']"
      ]
     },
     "execution_count": 5,
     "metadata": {},
     "output_type": "execute_result"
    }
   ],
   "source": [
    "# Use the Inspector to explore the database and print the table names\n",
    "inspector = inspect(engine)\n",
    "inspector.get_table_names()"
   ]
  },
  {
   "cell_type": "code",
   "execution_count": 6,
   "metadata": {
    "nbgrader": {
     "grade": false,
     "grade_id": "cell-087efd9d2f394098",
     "locked": false,
     "schema_version": 1,
     "solution": true
    },
    "slideshow": {
     "slide_type": "subslide"
    }
   },
   "outputs": [
    {
     "name": "stdout",
     "output_type": "stream",
     "text": [
      "id INTEGER\n",
      "emoji_char TEXT\n",
      "emoji_id TEXT\n",
      "name TEXT\n",
      "score INTEGER\n"
     ]
    }
   ],
   "source": [
    "# Use Inspector to print the column names and types\n",
    "columns = inspector.get_columns('emoji')\n",
    "for c in columns:\n",
    "    print(c['name'], c[\"type\"])"
   ]
  },
  {
   "cell_type": "code",
   "execution_count": 7,
   "metadata": {
    "nbgrader": {
     "grade": false,
     "grade_id": "cell-d7b08585acddc3cc",
     "locked": false,
     "schema_version": 1,
     "solution": true
    },
    "slideshow": {
     "slide_type": "subslide"
    }
   },
   "outputs": [
    {
     "data": {
      "text/plain": [
       "[(1, '😂', '1F602', 'FACE WITH TEARS OF JOY', 1814832150),\n",
       " (2, '❤️', '2764', 'HEAVY BLACK HEART', 840619939),\n",
       " (3, '😍', '1F60D', 'SMILING FACE WITH HEART-SHAPED EYES', 680382416),\n",
       " (4, '♥️', '2665', 'BLACK HEART SUIT', 652715459),\n",
       " (5, '😭', '1F62D', 'LOUDLY CRYING FACE', 515991922),\n",
       " (6, '😊', '1F60A', 'SMILING FACE WITH SMILING EYES', 484540701),\n",
       " (7, '♻️', '267B', 'BLACK UNIVERSAL RECYCLING SYMBOL', 452489849),\n",
       " (8, '😒', '1F612', 'UNAMUSED FACE', 441690175),\n",
       " (9, '💕', '1F495', 'TWO HEARTS', 381679908),\n",
       " (10, '😘', '1F618', 'FACE THROWING A KISS', 377847645)]"
      ]
     },
     "execution_count": 7,
     "metadata": {},
     "output_type": "execute_result"
    }
   ],
   "source": [
    "# Use `engine.execute` to select and display the first 10 rows from the emoji table\n",
    "engine.execute('SELECT * FROM emoji LIMIT 10').fetchall()"
   ]
  },
  {
   "cell_type": "markdown",
   "metadata": {
    "slideshow": {
     "slide_type": "slide"
    }
   },
   "source": [
    "## Reflect database and Query"
   ]
  },
  {
   "cell_type": "code",
   "execution_count": 8,
   "metadata": {
    "collapsed": true,
    "slideshow": {
     "slide_type": "subslide"
    }
   },
   "outputs": [],
   "source": [
    "# Reflect Database into ORM class\n",
    "Base = automap_base()\n",
    "Base.prepare(engine, reflect=True)\n",
    "Emoji = Base.classes.emoji"
   ]
  },
  {
   "cell_type": "code",
   "execution_count": 9,
   "metadata": {
    "collapsed": true,
    "slideshow": {
     "slide_type": "fragment"
    }
   },
   "outputs": [],
   "source": [
    "# Start a session to query the database\n",
    "session = Session(engine)"
   ]
  },
  {
   "cell_type": "markdown",
   "metadata": {
    "slideshow": {
     "slide_type": "subslide"
    }
   },
   "source": [
    "Use Matplotlib to create a horizontal bar chart and plot the emoji `score` in descending order. Use `emoji_char` as the y-axis labels. Plot only the top 10 emojis ranked by score"
   ]
  },
  {
   "cell_type": "code",
   "execution_count": 10,
   "metadata": {
    "collapsed": true,
    "nbgrader": {
     "grade": false,
     "grade_id": "cell-f542e9079952a0d2",
     "locked": false,
     "schema_version": 1,
     "solution": true
    },
    "slideshow": {
     "slide_type": "fragment"
    }
   },
   "outputs": [],
   "source": [
    "# Query Emojis for `emoji_char`, `emoji_id`, and `score` and save the query into results\n",
    "\n",
    "results = session.query(Emoji.emoji_char, Emoji.emoji_id, Emoji.score).\\\n",
    "    order_by(Emoji.score.desc()).all()"
   ]
  },
  {
   "cell_type": "markdown",
   "metadata": {
    "slideshow": {
     "slide_type": "subslide"
    }
   },
   "source": [
    "Unpack tuples using list comprehensions"
   ]
  },
  {
   "cell_type": "code",
   "execution_count": 11,
   "metadata": {
    "collapsed": true,
    "nbgrader": {
     "grade": false,
     "grade_id": "cell-cb3a057af2014c2c",
     "locked": false,
     "schema_version": 1,
     "solution": true
    },
    "slideshow": {
     "slide_type": "fragment"
    }
   },
   "outputs": [],
   "source": [
    "# Unpack the `emoji_id` and `scores` from results and save into separate lists\n",
    "\n",
    "emoji_id = [result[1] for result in results[:10]]\n",
    "scores = [int(result[2]) for result in results[:10]]\n",
    "emoji_char = [result[0] for result in results[:10]]"
   ]
  },
  {
   "cell_type": "code",
   "execution_count": 12,
   "metadata": {},
   "outputs": [
    {
     "data": {
      "text/plain": [
       "['DejaVu Serif',\n",
       " 'cmsy10',\n",
       " 'DejaVu Sans',\n",
       " 'DejaVu Serif',\n",
       " 'STIXGeneral',\n",
       " 'STIXNonUnicode',\n",
       " 'STIXSizeTwoSym',\n",
       " 'cmb10',\n",
       " 'STIXGeneral',\n",
       " 'DejaVu Sans Mono',\n",
       " 'STIXNonUnicode',\n",
       " 'DejaVu Sans Mono',\n",
       " 'STIXGeneral',\n",
       " 'DejaVu Serif Display',\n",
       " 'STIXSizeOneSym',\n",
       " 'STIXSizeFourSym',\n",
       " 'STIXGeneral',\n",
       " 'STIXSizeThreeSym',\n",
       " 'DejaVu Sans Mono',\n",
       " 'STIXSizeOneSym',\n",
       " 'DejaVu Sans',\n",
       " 'cmex10',\n",
       " 'STIXSizeThreeSym',\n",
       " 'STIXSizeFourSym',\n",
       " 'DejaVu Sans Display',\n",
       " 'DejaVu Sans',\n",
       " 'STIXNonUnicode',\n",
       " 'DejaVu Serif',\n",
       " 'DejaVu Sans Mono',\n",
       " 'DejaVu Sans',\n",
       " 'STIXNonUnicode',\n",
       " 'cmmi10',\n",
       " 'cmtt10',\n",
       " 'STIXSizeFiveSym',\n",
       " 'STIXSizeTwoSym',\n",
       " 'cmr10',\n",
       " 'cmss10',\n",
       " 'DejaVu Serif',\n",
       " 'Finale Lyrics',\n",
       " 'MaestroTimes',\n",
       " 'Verdana',\n",
       " 'Luxi Serif',\n",
       " 'STIXNonUnicode',\n",
       " 'Bravura',\n",
       " 'SF UI Display',\n",
       " 'Serto Kharput',\n",
       " 'Nueva Std',\n",
       " 'Opus Figured Bass Std',\n",
       " 'Andale Mono',\n",
       " 'Goha-Tibeb Zemen',\n",
       " 'Times New Roman',\n",
       " 'Opus Special Extra Std',\n",
       " 'Courier New',\n",
       " 'Times New Roman',\n",
       " 'Myriad Hebrew',\n",
       " '.SF Compact Text',\n",
       " 'Bitstream Vera Serif',\n",
       " 'Reprise Rehearsal Std',\n",
       " 'Estrangelo Talada',\n",
       " 'Wingdings 2',\n",
       " 'Luxi Serif',\n",
       " 'Myriad Pro',\n",
       " 'AvidOmnes',\n",
       " 'STIXIntegralsUpSm',\n",
       " 'Myriad Hebrew',\n",
       " 'Adobe Hebrew',\n",
       " 'STIXSizeFourSym',\n",
       " 'Impact',\n",
       " 'Verdana',\n",
       " 'Inkpen2 Std',\n",
       " 'Myriad Pro',\n",
       " 'STIXIntegralsUpD',\n",
       " 'Hobo Std',\n",
       " 'Adobe Myungjo Std',\n",
       " 'Plantin MT Std',\n",
       " 'System Font',\n",
       " 'Bitstream Vera Sans Mono',\n",
       " 'Luxi Sans',\n",
       " 'System Font',\n",
       " '.SF NS Display Condensed',\n",
       " 'Kozuka Gothic Pro',\n",
       " 'Chaparral Pro',\n",
       " 'Prestige Elite Std',\n",
       " 'Serto Jerusalem',\n",
       " 'Luxi Sans',\n",
       " 'Kozuka Gothic Pro',\n",
       " '.SF Compact Rounded',\n",
       " 'Letter Gothic Std',\n",
       " 'Apple Braille',\n",
       " 'Serto Batnan',\n",
       " 'STIXIntegralsD',\n",
       " '.SF NS Text Condensed',\n",
       " 'Estrangelo TurAbdin',\n",
       " 'Myriad Pro',\n",
       " 'SF UI Text',\n",
       " 'STIXVariants',\n",
       " 'East Syriac Adiabene',\n",
       " 'Chaparral Pro',\n",
       " 'Silom',\n",
       " 'Luxi Sans',\n",
       " 'Opus Chords Sans Std',\n",
       " 'Alex Brush',\n",
       " 'Reprise Text Std',\n",
       " 'Opus Percussion Std',\n",
       " 'Khmer Sangam MN',\n",
       " 'SF Compact Display',\n",
       " 'Opus Chords Std',\n",
       " 'Minion Pro',\n",
       " 'Arial Narrow',\n",
       " 'STIXSizeFourSym',\n",
       " 'SF UI Display',\n",
       " 'STIXIntegralsUp',\n",
       " '.LastResort',\n",
       " 'Adobe Garamond Pro',\n",
       " 'Myriad Pro',\n",
       " 'Times New Roman',\n",
       " 'Brush Script Std',\n",
       " 'Blackoak Std',\n",
       " 'Lao Sangam MN',\n",
       " 'Estrangelo Midyat',\n",
       " 'Inkpen2 Script Std',\n",
       " 'Myriad Pro',\n",
       " 'Luxi Mono',\n",
       " 'Kozuka Gothic Pr6N',\n",
       " 'Bitstream Vera Serif',\n",
       " 'Serto Jerusalem',\n",
       " 'System Font',\n",
       " 'Comic Sans MS',\n",
       " 'Bitstream Vera Sans',\n",
       " 'Adobe Devanagari',\n",
       " 'Adobe Fangsong Std',\n",
       " 'Adobe Caslon Pro',\n",
       " 'Webdings',\n",
       " 'Zapfino',\n",
       " 'Plantagenet Cherokee',\n",
       " 'STIXSizeTwoSym',\n",
       " 'Estrangelo Nisibin',\n",
       " 'Serto Mardin',\n",
       " 'STIXSizeTwoSym',\n",
       " 'Apple Braille',\n",
       " 'STIXNonUnicode',\n",
       " 'Trebuchet MS',\n",
       " 'SF Compact Text',\n",
       " 'East Syriac Ctesiphon',\n",
       " 'System Font',\n",
       " 'Nueva Std',\n",
       " 'Adobe Arabic',\n",
       " 'SF Compact Display',\n",
       " 'Mesquite Std',\n",
       " '.SF Compact Text',\n",
       " 'AppleGothic',\n",
       " 'Adobe Hebrew',\n",
       " 'Tekton Pro',\n",
       " '.SF Compact Rounded',\n",
       " 'OCR A Std',\n",
       " 'Luxi Serif',\n",
       " 'Tekton Pro',\n",
       " 'Nueva Std',\n",
       " 'Reprise Script Std',\n",
       " '.SF Compact Rounded',\n",
       " 'Opus Metronome Std',\n",
       " 'Hoefler Text',\n",
       " 'Estrangelo Antioch',\n",
       " 'Trajan Pro',\n",
       " 'Kozuka Mincho Pro',\n",
       " '.SF Compact Text',\n",
       " 'Courier New',\n",
       " 'Serto Mardin',\n",
       " 'DIN Alternate',\n",
       " 'Apple Braille',\n",
       " 'Tahoma',\n",
       " 'Adobe Heiti Std',\n",
       " 'System Font',\n",
       " 'Serto Urhoy',\n",
       " 'STIXGeneral',\n",
       " '.SF Compact Text',\n",
       " 'Estrangelo Quenneshrin',\n",
       " '.SF NS Display Condensed',\n",
       " 'Bravura Text',\n",
       " '.SF Compact Text',\n",
       " 'Serto Jerusalem Outline',\n",
       " 'AvidOmnes',\n",
       " 'Adobe Ming Std',\n",
       " 'Trattatello',\n",
       " 'Letter Gothic Std',\n",
       " 'Georgia',\n",
       " 'Wingdings 3',\n",
       " 'Aloisen New',\n",
       " 'Trebuchet MS',\n",
       " 'Myriad Pro',\n",
       " 'STIXNonUnicode',\n",
       " 'Inkpen2 Text Std',\n",
       " 'Apple Symbols',\n",
       " 'Kozuka Mincho Pr6N',\n",
       " '.SF Compact Text',\n",
       " '.SF NS Display Condensed',\n",
       " 'Arial',\n",
       " 'Reprise Title Std',\n",
       " 'Myriad Pro',\n",
       " 'Reprise Stamp Std',\n",
       " 'Estrangelo Edessa',\n",
       " '.SF Compact Text',\n",
       " 'SF Compact Display',\n",
       " 'Ayuthaya',\n",
       " 'Opus Std',\n",
       " 'STIXSizeThreeSym',\n",
       " 'Mishafi',\n",
       " 'SF UI Text',\n",
       " 'SF UI Text',\n",
       " 'Goha-Tibeb Zemen',\n",
       " 'Tekton Pro',\n",
       " 'SF UI Text',\n",
       " 'Yanone Kaffeesatz',\n",
       " '.Keyboard',\n",
       " 'AppleMyungjo',\n",
       " 'Arial Black',\n",
       " 'Minion Pro',\n",
       " 'Bitstream Vera Sans Mono',\n",
       " 'Inkpen2 Chords Std',\n",
       " '.SF Compact Rounded',\n",
       " 'Opus PlainChords Std',\n",
       " 'STIXVariants',\n",
       " 'Minion Pro',\n",
       " 'Bitstream Vera Sans',\n",
       " 'Opus Ornaments Std',\n",
       " 'SF UI Display',\n",
       " 'Georgia',\n",
       " 'Minion Pro',\n",
       " 'Myriad Pro',\n",
       " 'Luxi Mono',\n",
       " 'Adobe Hebrew',\n",
       " 'Kozuka Gothic Pro',\n",
       " 'Yanone Kaffeesatz',\n",
       " 'Serto Urhoy',\n",
       " 'Adobe Caslon Pro',\n",
       " 'Lithos Pro',\n",
       " 'STIXIntegralsSm',\n",
       " 'Poplar Std',\n",
       " 'Myriad Pro',\n",
       " 'Adobe Caslon Pro',\n",
       " 'Myriad Arabic',\n",
       " 'Serto Jerusalem',\n",
       " 'Bodoni Ornaments',\n",
       " 'Cooper Std',\n",
       " 'Adobe Devanagari',\n",
       " 'SF UI Text',\n",
       " '.SF NS Display Condensed',\n",
       " 'Minion Pro',\n",
       " 'Arial',\n",
       " '.SF NS Display Condensed',\n",
       " 'Skia',\n",
       " 'Reprise Big Time Std',\n",
       " '.SF Compact Display',\n",
       " 'Opus Function Symbols Std',\n",
       " 'Cooper Std',\n",
       " 'Myriad Hebrew',\n",
       " 'Adobe Naskh',\n",
       " 'Big Caslon',\n",
       " 'Chaparral Pro',\n",
       " 'Orator Std',\n",
       " 'SF UI Display',\n",
       " 'Opus Chords Sans Condensed Std',\n",
       " 'Yanone Kaffeesatz',\n",
       " 'Kozuka Mincho Pr6N',\n",
       " 'Finale Lyrics',\n",
       " 'Inkpen2 Special Std',\n",
       " 'Adobe Gothic Std',\n",
       " '.SF NS Text Condensed',\n",
       " 'SF Compact Display',\n",
       " 'System Font',\n",
       " 'STIXGeneral',\n",
       " 'SF UI Text',\n",
       " '.SF Compact Rounded',\n",
       " 'Myriad Arabic',\n",
       " 'Letter Gothic Std',\n",
       " 'Chalkduster',\n",
       " 'Myriad Pro',\n",
       " 'Trajan Pro',\n",
       " '.SF Compact Display',\n",
       " 'Reprise Metronome Std',\n",
       " 'Bitstream Vera Sans Mono',\n",
       " 'Kozuka Gothic Pro',\n",
       " 'Kozuka Gothic Pr6N',\n",
       " 'DIN Condensed',\n",
       " 'Kozuka Mincho Pro',\n",
       " 'SF Compact Text',\n",
       " 'STIXSizeFiveSym',\n",
       " 'Opus Roman Chords Std',\n",
       " 'Estrangelo Nisibin Outline',\n",
       " 'Mishafi Gold',\n",
       " 'System Font',\n",
       " 'Trebuchet MS',\n",
       " 'Nueva Std',\n",
       " 'Arial Narrow',\n",
       " 'Adobe Caslon Pro',\n",
       " 'Adobe Kaiti Std',\n",
       " 'SF Compact Text',\n",
       " '.SF Compact Display',\n",
       " 'Microsoft Sans Serif',\n",
       " 'Myriad Hebrew',\n",
       " 'STIXGeneral',\n",
       " 'Times New Roman',\n",
       " 'Kozuka Mincho Pro',\n",
       " 'Krungthep',\n",
       " 'Nueva Std',\n",
       " 'Kozuka Mincho Pro',\n",
       " 'Giddyup Std',\n",
       " 'Kozuka Mincho Pr6N',\n",
       " 'Farisi',\n",
       " 'Serto Batnan',\n",
       " 'Kozuka Mincho Pr6N',\n",
       " 'Bitstream Vera Sans',\n",
       " 'Adobe Arabic',\n",
       " 'SF Compact Display',\n",
       " 'Stencil Std',\n",
       " 'Apple Braille',\n",
       " 'Finale Lyrics',\n",
       " 'Adobe Song Std',\n",
       " 'Adobe Caslon Pro',\n",
       " 'SF Compact Display',\n",
       " 'Serto Malankara',\n",
       " 'SF UI Text',\n",
       " 'Opus Figured Bass Extras Std',\n",
       " 'Verdana',\n",
       " 'System Font',\n",
       " 'Plantin MT Std',\n",
       " 'Luxi Sans',\n",
       " 'Kokonor',\n",
       " 'Kozuka Gothic Pr6N',\n",
       " 'SF Compact Text',\n",
       " 'STIXGeneral',\n",
       " 'Adobe Arabic',\n",
       " 'System Font',\n",
       " 'Minion Pro',\n",
       " 'Kozuka Mincho Pro',\n",
       " 'Adobe Garamond Pro',\n",
       " 'SF UI Display',\n",
       " 'Bitstream Vera Sans Mono',\n",
       " 'MaestroTimes',\n",
       " 'SF Compact Text',\n",
       " 'Zapf Dingbats',\n",
       " 'SF Compact Text',\n",
       " '.SF Compact Text',\n",
       " 'STIXIntegralsUp',\n",
       " 'Opus Special Std',\n",
       " 'Inkpen2 Metronome Std',\n",
       " 'Lithos Pro',\n",
       " '.SF Compact Text',\n",
       " 'STIXIntegralsSm',\n",
       " 'Helsinki Special Std',\n",
       " 'Bradley Hand',\n",
       " 'Myriad Arabic',\n",
       " 'System Font',\n",
       " 'Kozuka Gothic Pro',\n",
       " 'Arial Rounded MT Bold',\n",
       " 'SF UI Text',\n",
       " 'System Font',\n",
       " 'Arial',\n",
       " 'Charlemagne Std',\n",
       " 'Opus Big Time Std',\n",
       " '.SF Compact Display',\n",
       " '.SF Compact Display',\n",
       " 'Reprise Chords Std',\n",
       " 'Symbol',\n",
       " 'Myriad Arabic',\n",
       " 'Sathu',\n",
       " 'Yanone Kaffeesatz',\n",
       " 'Georgia',\n",
       " 'SF UI Text',\n",
       " 'Birch Std',\n",
       " 'SF Compact Text',\n",
       " 'Luxi Serif',\n",
       " 'Minion Pro',\n",
       " 'Rosewood Std',\n",
       " 'Adobe Arabic',\n",
       " 'Comic Sans MS',\n",
       " '.SF NS Text Condensed',\n",
       " '.SF Compact Display',\n",
       " 'Reprise Special Std',\n",
       " 'Trebuchet MS',\n",
       " 'Reprise Std',\n",
       " 'Arial Unicode MS',\n",
       " '.SF Compact Text',\n",
       " 'ChunkFive',\n",
       " '.SF NS Text Condensed',\n",
       " 'Kozuka Mincho Pr6N',\n",
       " 'Finale Numerics',\n",
       " '.SF Compact Rounded',\n",
       " '.SF Compact Text',\n",
       " 'Apple Braille',\n",
       " 'SF UI Display',\n",
       " 'SF Compact Text',\n",
       " 'Adobe Hebrew',\n",
       " 'Helsinki Std',\n",
       " 'Luxi Mono',\n",
       " 'STIXSizeThreeSym',\n",
       " 'SF Compact Display',\n",
       " 'Adobe Garamond Pro',\n",
       " 'Nueva Std',\n",
       " 'Luxi Mono',\n",
       " 'Helsinki Metronome Std',\n",
       " 'SF UI Display',\n",
       " 'Kozuka Gothic Pro',\n",
       " 'Diwan Thuluth',\n",
       " 'SF UI Text',\n",
       " 'STIXIntegralsD',\n",
       " 'Gurmukhi MT',\n",
       " 'Herculanum',\n",
       " 'Plantin MT Std',\n",
       " 'Verdana',\n",
       " 'MaestroTimes',\n",
       " '.SF Compact Display',\n",
       " '.SF Compact Display',\n",
       " 'Adobe Fan Heiti Std',\n",
       " 'System Font',\n",
       " 'Adobe Caslon Pro',\n",
       " 'SF Compact Text',\n",
       " '.SF Compact Text',\n",
       " '.SF Compact Rounded',\n",
       " 'SF UI Text',\n",
       " 'Arial Narrow',\n",
       " 'Minion Pro',\n",
       " 'Luminari',\n",
       " 'Opus Text Std',\n",
       " '.SF NS Text Condensed',\n",
       " 'Kozuka Gothic Pr6N',\n",
       " 'MaestroTimes',\n",
       " 'Adobe Devanagari',\n",
       " 'Arial',\n",
       " 'Helsinki Text Std',\n",
       " 'Chaparral Pro',\n",
       " 'Arial Narrow',\n",
       " 'STIXNonUnicode',\n",
       " '.SF NS Display Condensed',\n",
       " 'Finale Copyist Text Ext',\n",
       " 'Letter Gothic Std',\n",
       " 'SF UI Display',\n",
       " 'STIXIntegralsUpSm',\n",
       " 'Bitstream Vera Sans',\n",
       " 'Kozuka Gothic Pr6N',\n",
       " 'Georgia',\n",
       " '.SF Compact Display',\n",
       " 'Adobe Devanagari',\n",
       " 'SF Compact Display',\n",
       " 'Minion Pro',\n",
       " 'Courier New',\n",
       " '.SF Compact Rounded',\n",
       " 'Adobe Garamond Pro',\n",
       " '.SF Compact Rounded',\n",
       " 'System Font',\n",
       " '.SF NS Text Condensed',\n",
       " 'STIXSizeOneSym',\n",
       " 'SF UI Text',\n",
       " 'Wingdings',\n",
       " 'Plantin MT Std',\n",
       " 'Minion Pro',\n",
       " '.SF NS Display Condensed',\n",
       " 'STIXSizeOneSym',\n",
       " 'Chaparral Pro',\n",
       " 'SF UI Display',\n",
       " 'Bodoni 72 Smallcaps',\n",
       " 'Kozuka Gothic Pr6N',\n",
       " 'Greifswaler Deutsche Schrift',\n",
       " '.SF NS Display Condensed',\n",
       " 'STIXIntegralsUpD',\n",
       " 'Finale Copyist Text',\n",
       " '.SF NS Display Condensed',\n",
       " 'Orator Std',\n",
       " 'Opus Note Names Std',\n",
       " 'SF Compact Display',\n",
       " 'SF Compact Text',\n",
       " 'Apple Chancery',\n",
       " 'Tahoma',\n",
       " 'SF Compact Text',\n",
       " 'Tekton Pro',\n",
       " 'Brush Script MT',\n",
       " 'SF Compact Text',\n",
       " 'Courier New',\n",
       " 'Kozuka Mincho Pro',\n",
       " 'Kozuka Mincho Pr6N']"
      ]
     },
     "execution_count": 12,
     "metadata": {},
     "output_type": "execute_result"
    }
   ],
   "source": [
    "import matplotlib.font_manager\n",
    "[f.name for f in matplotlib.font_manager.fontManager.ttflist]"
   ]
  },
  {
   "cell_type": "markdown",
   "metadata": {
    "slideshow": {
     "slide_type": "slide"
    }
   },
   "source": [
    "## Plot using Matplotlib"
   ]
  },
  {
   "cell_type": "code",
   "execution_count": 14,
   "metadata": {
    "nbgrader": {
     "grade": false,
     "grade_id": "cell-80891ad9d9412629",
     "locked": false,
     "schema_version": 1,
     "solution": true
    },
    "slideshow": {
     "slide_type": "subslide"
    }
   },
   "outputs": [
    {
     "data": {
      "image/png": "[encoded data removed]",
      "text/plain": [
       "<matplotlib.figure.Figure at 0x111dafbe0>"
      ]
     },
     "metadata": {},
     "output_type": "display_data"
    }
   ],
   "source": [
    "# Create a horizontal bar chart and plot the `emoji_char` on the y-axis and the `score` on the x-axis\n",
    "# Challenge: Try to plot the scores in descending order on the graph (The largest score is at the top)\n",
    "\n",
    "# to plot the emoji characters in Matplotlib you'll have to use a font that has emojis:\n",
    "from matplotlib import rcParams\n",
    "rcParams['font.family'] = 'DejaVu Sans'\n",
    "\n",
    "fig, ax = plt.subplots()\n",
    "ypos = range(1, len(scores)+1)\n",
    "ax.barh(ypos, scores[::-1])\n",
    "ax.set_xlabel(\"score\")\n",
    "ax.set_ylabel(\"emoji\")\n",
    "ax.set_yticks(ypos)\n",
    "ax.set_yticklabels(emoji_char[::-1])\n",
    "ax.set_title(\"Emoji Scores\")\n",
    "\n",
    "plt.show()\n"
   ]
  },
  {
   "cell_type": "markdown",
   "metadata": {
    "slideshow": {
     "slide_type": "slide"
    }
   },
   "source": [
    "## Plot using Pandas Plotting"
   ]
  },
  {
   "cell_type": "markdown",
   "metadata": {
    "slideshow": {
     "slide_type": "subslide"
    }
   },
   "source": [
    "Load the results into a Pandas DataFrame"
   ]
  },
  {
   "cell_type": "code",
   "execution_count": 48,
   "metadata": {
    "nbgrader": {
     "grade": false,
     "grade_id": "cell-8f9936e71374d442",
     "locked": false,
     "schema_version": 1,
     "solution": true
    },
    "slideshow": {
     "slide_type": "fragment"
    }
   },
   "outputs": [
    {
     "data": {
      "text/html": [
       "<div>\n",
       "<style>\n",
       "    .dataframe thead tr:only-child th {\n",
       "        text-align: right;\n",
       "    }\n",
       "\n",
       "    .dataframe thead th {\n",
       "        text-align: left;\n",
       "    }\n",
       "\n",
       "    .dataframe tbody tr th {\n",
       "        vertical-align: top;\n",
       "    }\n",
       "</style>\n",
       "<table border=\"1\" class=\"dataframe\">\n",
       "  <thead>\n",
       "    <tr style=\"text-align: right;\">\n",
       "      <th></th>\n",
       "      <th>emoji_id</th>\n",
       "      <th>score</th>\n",
       "    </tr>\n",
       "    <tr>\n",
       "      <th>emoji_char</th>\n",
       "      <th></th>\n",
       "      <th></th>\n",
       "    </tr>\n",
       "  </thead>\n",
       "  <tbody>\n",
       "    <tr>\n",
       "      <th>😂</th>\n",
       "      <td>1F602</td>\n",
       "      <td>1814832150</td>\n",
       "    </tr>\n",
       "    <tr>\n",
       "      <th>❤️</th>\n",
       "      <td>2764</td>\n",
       "      <td>840619939</td>\n",
       "    </tr>\n",
       "    <tr>\n",
       "      <th>😍</th>\n",
       "      <td>1F60D</td>\n",
       "      <td>680382416</td>\n",
       "    </tr>\n",
       "    <tr>\n",
       "      <th>♥️</th>\n",
       "      <td>2665</td>\n",
       "      <td>652715459</td>\n",
       "    </tr>\n",
       "    <tr>\n",
       "      <th>😭</th>\n",
       "      <td>1F62D</td>\n",
       "      <td>515991922</td>\n",
       "    </tr>\n",
       "    <tr>\n",
       "      <th>😊</th>\n",
       "      <td>1F60A</td>\n",
       "      <td>484540701</td>\n",
       "    </tr>\n",
       "    <tr>\n",
       "      <th>♻️</th>\n",
       "      <td>267B</td>\n",
       "      <td>452489849</td>\n",
       "    </tr>\n",
       "    <tr>\n",
       "      <th>😒</th>\n",
       "      <td>1F612</td>\n",
       "      <td>441690175</td>\n",
       "    </tr>\n",
       "    <tr>\n",
       "      <th>💕</th>\n",
       "      <td>1F495</td>\n",
       "      <td>381679908</td>\n",
       "    </tr>\n",
       "    <tr>\n",
       "      <th>😘</th>\n",
       "      <td>1F618</td>\n",
       "      <td>377847645</td>\n",
       "    </tr>\n",
       "  </tbody>\n",
       "</table>\n",
       "</div>"
      ],
      "text/plain": [
       "           emoji_id       score\n",
       "emoji_char                     \n",
       "😂             1F602  1814832150\n",
       "❤️             2764   840619939\n",
       "😍             1F60D   680382416\n",
       "♥️             2665   652715459\n",
       "😭             1F62D   515991922\n",
       "😊             1F60A   484540701\n",
       "♻️             267B   452489849\n",
       "😒             1F612   441690175\n",
       "💕             1F495   381679908\n",
       "😘             1F618   377847645"
      ]
     },
     "execution_count": 48,
     "metadata": {},
     "output_type": "execute_result"
    }
   ],
   "source": [
    "# Load the results into a pandas dataframe. Set the index to the `emoji_char`\n",
    "\n",
    "df = pd.DataFrame(results[:10], columns=['emoji_char', 'emoji_id', 'score'])\n",
    "df.set_index('emoji_char', inplace=True, )\n",
    "df.head(10)"
   ]
  },
  {
   "cell_type": "markdown",
   "metadata": {
    "slideshow": {
     "slide_type": "subslide"
    }
   },
   "source": [
    "Plot using Pandas"
   ]
  },
  {
   "cell_type": "code",
   "execution_count": 51,
   "metadata": {
    "nbgrader": {
     "grade": false,
     "grade_id": "cell-9684754419fc6916",
     "locked": false,
     "schema_version": 1,
     "solution": true
    },
    "slideshow": {
     "slide_type": "fragment"
    }
   },
   "outputs": [
    {
     "data": {
      "image/png": "[encoded data removed]",
      "text/plain": [
       "<matplotlib.figure.Figure at 0x1107e2be0>"
      ]
     },
     "metadata": {},
     "output_type": "display_data"
    }
   ],
   "source": [
    "# Plot the dataframe as a horizontal bar chart using pandas plotting\n",
    "\n",
    "df.iloc[::-1].plot.barh(title=\"emoji ranking\")\n",
    "plt.tight_layout()\n",
    "plt.show()\n"
   ]
  },
  {
   "cell_type": "code",
   "execution_count": 52,
   "metadata": {
    "nbgrader": {
     "grade": false,
     "grade_id": "cell-e4fbc88164f5ce01",
     "locked": false,
     "schema_version": 1,
     "solution": true
    }
   },
   "outputs": [
    {
     "data": {
      "text/html": [
       "<div>\n",
       "<style>\n",
       "    .dataframe thead tr:only-child th {\n",
       "        text-align: right;\n",
       "    }\n",
       "\n",
       "    .dataframe thead th {\n",
       "        text-align: left;\n",
       "    }\n",
       "\n",
       "    .dataframe tbody tr th {\n",
       "        vertical-align: top;\n",
       "    }\n",
       "</style>\n",
       "<table border=\"1\" class=\"dataframe\">\n",
       "  <thead>\n",
       "    <tr style=\"text-align: right;\">\n",
       "      <th></th>\n",
       "      <th>id</th>\n",
       "      <th>emoji_char</th>\n",
       "      <th>emoji_id</th>\n",
       "      <th>name</th>\n",
       "      <th>score</th>\n",
       "    </tr>\n",
       "  </thead>\n",
       "  <tbody>\n",
       "    <tr>\n",
       "      <th>0</th>\n",
       "      <td>1</td>\n",
       "      <td>😂</td>\n",
       "      <td>1F602</td>\n",
       "      <td>FACE WITH TEARS OF JOY</td>\n",
       "      <td>1814832150</td>\n",
       "    </tr>\n",
       "    <tr>\n",
       "      <th>1</th>\n",
       "      <td>2</td>\n",
       "      <td>❤️</td>\n",
       "      <td>2764</td>\n",
       "      <td>HEAVY BLACK HEART</td>\n",
       "      <td>840619939</td>\n",
       "    </tr>\n",
       "    <tr>\n",
       "      <th>2</th>\n",
       "      <td>3</td>\n",
       "      <td>😍</td>\n",
       "      <td>1F60D</td>\n",
       "      <td>SMILING FACE WITH HEART-SHAPED EYES</td>\n",
       "      <td>680382416</td>\n",
       "    </tr>\n",
       "    <tr>\n",
       "      <th>3</th>\n",
       "      <td>4</td>\n",
       "      <td>♥️</td>\n",
       "      <td>2665</td>\n",
       "      <td>BLACK HEART SUIT</td>\n",
       "      <td>652715459</td>\n",
       "    </tr>\n",
       "    <tr>\n",
       "      <th>4</th>\n",
       "      <td>5</td>\n",
       "      <td>😭</td>\n",
       "      <td>1F62D</td>\n",
       "      <td>LOUDLY CRYING FACE</td>\n",
       "      <td>515991922</td>\n",
       "    </tr>\n",
       "    <tr>\n",
       "      <th>5</th>\n",
       "      <td>6</td>\n",
       "      <td>😊</td>\n",
       "      <td>1F60A</td>\n",
       "      <td>SMILING FACE WITH SMILING EYES</td>\n",
       "      <td>484540701</td>\n",
       "    </tr>\n",
       "    <tr>\n",
       "      <th>6</th>\n",
       "      <td>7</td>\n",
       "      <td>♻️</td>\n",
       "      <td>267B</td>\n",
       "      <td>BLACK UNIVERSAL RECYCLING SYMBOL</td>\n",
       "      <td>452489849</td>\n",
       "    </tr>\n",
       "    <tr>\n",
       "      <th>7</th>\n",
       "      <td>8</td>\n",
       "      <td>😒</td>\n",
       "      <td>1F612</td>\n",
       "      <td>UNAMUSED FACE</td>\n",
       "      <td>441690175</td>\n",
       "    </tr>\n",
       "    <tr>\n",
       "      <th>8</th>\n",
       "      <td>9</td>\n",
       "      <td>💕</td>\n",
       "      <td>1F495</td>\n",
       "      <td>TWO HEARTS</td>\n",
       "      <td>381679908</td>\n",
       "    </tr>\n",
       "    <tr>\n",
       "      <th>9</th>\n",
       "      <td>10</td>\n",
       "      <td>😘</td>\n",
       "      <td>1F618</td>\n",
       "      <td>FACE THROWING A KISS</td>\n",
       "      <td>377847645</td>\n",
       "    </tr>\n",
       "  </tbody>\n",
       "</table>\n",
       "</div>"
      ],
      "text/plain": [
       "   id emoji_char emoji_id                                 name       score\n",
       "0   1          😂    1F602               FACE WITH TEARS OF JOY  1814832150\n",
       "1   2         ❤️     2764                    HEAVY BLACK HEART   840619939\n",
       "2   3          😍    1F60D  SMILING FACE WITH HEART-SHAPED EYES   680382416\n",
       "3   4         ♥️     2665                     BLACK HEART SUIT   652715459\n",
       "4   5          😭    1F62D                   LOUDLY CRYING FACE   515991922\n",
       "5   6          😊    1F60A       SMILING FACE WITH SMILING EYES   484540701\n",
       "6   7         ♻️     267B     BLACK UNIVERSAL RECYCLING SYMBOL   452489849\n",
       "7   8          😒    1F612                        UNAMUSED FACE   441690175\n",
       "8   9          💕    1F495                           TWO HEARTS   381679908\n",
       "9  10          😘    1F618                 FACE THROWING A KISS   377847645"
      ]
     },
     "execution_count": 52,
     "metadata": {},
     "output_type": "execute_result"
    }
   ],
   "source": [
    "# BONUS: Use Pandas `read_sql_query` to load a query statement directly into the DataFrame\n",
    "### BEGIN SOLUTION\n",
    "stmt = session.query(Emoji).\\\n",
    "    order_by(Emoji.score.desc()).statement\n",
    "df2 = pd.read_sql_query(stmt, session.bind)\n",
    "df2.head(10)\n"
   ]
  },
  {
   "cell_type": "code",
   "execution_count": null,
   "metadata": {
    "collapsed": true
   },
   "outputs": [],
   "source": []
  }
 ],
 "metadata": {
  "celltoolbar": "Create Assignment",
  "kernelspec": {
   "display_name": "Python 3",
   "language": "python",
   "name": "python3"
  },
  "language_info": {
   "codemirror_mode": {
    "name": "ipython",
    "version": 3
   },
   "file_extension": ".py",
   "mimetype": "text/x-python",
   "name": "python",
   "nbconvert_exporter": "python",
   "pygments_lexer": "ipython3",
   "version": "3.6.3"
  },
  "varInspector": {
   "cols": {
    "lenName": 16,
    "lenType": 16,
    "lenVar": 40
   },
   "kernels_config": {
    "python": {
     "delete_cmd_postfix": "",
     "delete_cmd_prefix": "del ",
     "library": "var_list.py",
     "varRefreshCmd": "print(var_dic_list())"
    },
    "r": {
     "delete_cmd_postfix": ") ",
     "delete_cmd_prefix": "rm(",
     "library": "var_list.r",
     "varRefreshCmd": "cat(var_dic_list()) "
    }
   },
   "types_to_exclude": [
    "module",
    "function",
    "builtin_function_or_method",
    "instance",
    "_Feature"
   ],
   "window_display": false
  }
 },
 "nbformat": 4,
 "nbformat_minor": 2
}
