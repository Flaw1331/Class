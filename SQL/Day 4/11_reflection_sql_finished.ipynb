{
 "cells": [
  {
   "cell_type": "markdown",
   "metadata": {},
   "source": [
    "* **Instructions**:\n",
    "\n",
    "  * Create engine using the included `databases/demographics.sqlite` database file\n",
    "\n",
    "  * Declare a Base using `automap_base()` and use this new Base class to reflect the database's tables\n",
    "\n",
    "  * Assign the demographics table/class to a variable called `Demographics`\n",
    "\n",
    "  * Create a session and use this session to query the `Demographics` table and display the first five locations\n",
    "\n",
    "* **Bonus**:\n",
    "\n",
    "  * Query and print the number of unique locations in the table.\n",
    "\n",
    "* **Hint**:\n",
    "\n",
    "  * For the bonus, look into counting and grouping operations in SQLAlchemy"
   ]
  },
  {
   "cell_type": "code",
   "execution_count": 1,
   "metadata": {
    "collapsed": true
   },
   "outputs": [],
   "source": [
    "import sqlalchemy\n",
    "from sqlalchemy.ext.automap import automap_base\n",
    "from sqlalchemy.orm import Session\n",
    "from sqlalchemy import create_engine"
   ]
  },
  {
   "cell_type": "code",
   "execution_count": 2,
   "metadata": {
    "collapsed": true
   },
   "outputs": [],
   "source": [
    "# Create engine using the `demographics.sqlite` database file\n",
    "\n",
    "engine = create_engine(\"sqlite:///databases/demographics.sqlite\")"
   ]
  },
  {
   "cell_type": "code",
   "execution_count": 3,
   "metadata": {
    "collapsed": true
   },
   "outputs": [],
   "source": [
    "# Declare a Base using `automap_base()`\n",
    "\n",
    "Base = automap_base()"
   ]
  },
  {
   "cell_type": "code",
   "execution_count": 4,
   "metadata": {
    "collapsed": true
   },
   "outputs": [],
   "source": [
    "# Use the Base class to reflect the database tables\n",
    "\n",
    "Base.prepare(engine, reflect=True)"
   ]
  },
  {
   "cell_type": "code",
   "execution_count": 5,
   "metadata": {},
   "outputs": [
    {
     "data": {
      "text/plain": [
       "['demographics']"
      ]
     },
     "execution_count": 5,
     "metadata": {},
     "output_type": "execute_result"
    }
   ],
   "source": [
    "# Print all of the classes mapped to the Base\n",
    "Base.classes.keys()"
   ]
  },
  {
   "cell_type": "code",
   "execution_count": 6,
   "metadata": {
    "collapsed": true
   },
   "outputs": [],
   "source": [
    "# Assign the demographics class to a variable called `Demographics`\n",
    "Demographics = Base.classes.demographics"
   ]
  },
  {
   "cell_type": "code",
   "execution_count": 7,
   "metadata": {
    "collapsed": true
   },
   "outputs": [],
   "source": [
    "# Create a session\n",
    "session = Session(engine)"
   ]
  },
  {
   "cell_type": "code",
   "execution_count": 8,
   "metadata": {},
   "outputs": [
    {
     "name": "stdout",
     "output_type": "stream",
     "text": [
      "(<sqlalchemy.ext.automap.demographics object at 0x104592ef0>, 'South Dakota')\n",
      "(<sqlalchemy.ext.automap.demographics object at 0x104592f60>, 'Delaware')\n",
      "(<sqlalchemy.ext.automap.demographics object at 0x104592fd0>, 'South Dakota')\n",
      "(<sqlalchemy.ext.automap.demographics object at 0x1045a0080>, 'Louisiana')\n",
      "(<sqlalchemy.ext.automap.demographics object at 0x1045a00f0>, 'West Virginia')\n"
     ]
    }
   ],
   "source": [
    "# Use the session to query Demographics table and display the first 5 locations\n",
    "for row in session.query(Demographics, Demographics.location).limit(5).all():\n",
    "    print(row)"
   ]
  },
  {
   "cell_type": "code",
   "execution_count": 9,
   "metadata": {},
   "outputs": [
    {
     "name": "stdout",
     "output_type": "stream",
     "text": [
      "5\n"
     ]
    }
   ],
   "source": [
    "# BONUS: Query and print the number of unique Locations\n",
    "# Hints: Look into counting and grouping operations in SQLAlchemy\n",
    "locations = session.query(Demographics).group_by(Demographics.location).count()\n",
    "print(locations)"
   ]
  },
  {
   "cell_type": "code",
   "execution_count": null,
   "metadata": {
    "collapsed": true
   },
   "outputs": [],
   "source": []
  }
 ],
 "metadata": {
  "kernelspec": {
   "display_name": "Python 3",
   "language": "python",
   "name": "python3"
  },
  "language_info": {
   "codemirror_mode": {
    "name": "ipython",
    "version": 3
   },
   "file_extension": ".py",
   "mimetype": "text/x-python",
   "name": "python",
   "nbconvert_exporter": "python",
   "pygments_lexer": "ipython3",
   "version": "3.6.3"
  }
 },
 "nbformat": 4,
 "nbformat_minor": 2
}
