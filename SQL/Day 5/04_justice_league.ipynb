{
 "cells": [
  {
   "cell_type": "markdown",
   "metadata": {},
   "source": [
    "# Justice League API\n",
    "\n",
    "* In this activity, you will create an API route that returns the superhero name and real name for every member of the DC Comics Justice League.\n",
    "\n",
    "## Instructions\n",
    "\n",
    "* Create a file called `justice.py` for your Flask app.\n",
    "\n",
    "* Define a Python dictionary containing the superhero name and real name for each member of the DC Comics Justice League (Superman, Batman, Wonder Woman, Green Lantern, Flash, Aquaman, and Cyborg).\n",
    "\n",
    "  * You can gather that information here: [Justice League](https://en.wikipedia.org/wiki/Justice_League)\n",
    "\n",
    "  * Only gather the information for the 7 characters listed above.\n",
    "\n",
    "* Create a **GET** route called `/api/v1.0/justice-league`.\n",
    "\n",
    "  * Inside of your GET route, create a function called `justice_league` that will use `jsonify` to convert the dictionary of Justice League members to a JSON object and return that data as a request.\n",
    "\n",
    "* Define a root route `/` that will return the usage statement for your API.\n",
    "\n",
    "- - -\n",
    "\n",
    "### Copyright\n",
    "\n",
    "Trilogy Education Services © 2017. All Rights Reserved.\n"
   ]
  },
  {
   "cell_type": "code",
   "execution_count": null,
   "metadata": {
    "collapsed": true
   },
   "outputs": [],
   "source": []
  }
 ],
 "metadata": {
  "kernelspec": {
   "display_name": "Python 3",
   "language": "python",
   "name": "python3"
  },
  "language_info": {
   "codemirror_mode": {
    "name": "ipython",
    "version": 3
   },
   "file_extension": ".py",
   "mimetype": "text/x-python",
   "name": "python",
   "nbconvert_exporter": "python",
   "pygments_lexer": "ipython3",
   "version": "3.6.3"
  }
 },
 "nbformat": 4,
 "nbformat_minor": 2
}
