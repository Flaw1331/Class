{
 "cells": [
  {
   "cell_type": "markdown",
   "metadata": {},
   "source": [
    "## JSON APIs with jsonify\n",
    "\n",
    "* All of the the routes we've written thus far have returned _string_ responses.\n",
    "\n",
    "* The APIs we've dealt with do _not_ return raw text: rather, they return JSON data.\n",
    "\n",
    "* Fortunately, Python dictionaries map naturally to JSON.\n",
    "\n",
    "* Flask has a built-in method to automatically convert a dictionary into a properly formatted JSON response: `jsonify`.\n",
    "\n",
    "* Flask routes must return HTTP responses. This means we can't simply return the dictionary itself.\n",
    "\n",
    "* We can use `jsonify` to create an HTTP response with the dictionary data we want to send back to the client.\n",
    "\n",
    "\n",
    "```python\n",
    "from flask import Flask, jsonify\n",
    "\n",
    "app = Flask(__name__)\n",
    "\n",
    "hello_dict = {\"Hello\": \"World!\"}\n",
    "\n",
    "@app.route(\"/normal\")\n",
    "def normal():\n",
    "  return hello_dict\n",
    "\n",
    "@app.route(\"/jsonified\")\n",
    "def jsonified():\n",
    "  return jsonify(hello_dict)\n",
    "\n",
    "if __name__ == \"__main__\":\n",
    "  app.run(debug=True)\n",
    "```\n",
    "\n",
    "* Import `jsonify` in addition to Flask.\n",
    "\n",
    "* The `/normal` route simply returns `hello_dict`, with no call to `jsonify`.\n",
    "\n",
    "* We've used `return jsonify(<dictionary_name>)` to send a JSON response.\n",
    "\n",
    "* Run `app.py`, and navigate to `localhost:5000/normal` to demonstrate the error Flask generates.\n",
    "\n",
    "* We've used `debug=True` to see detailed log output.\n",
    "\n",
    "* Navigate to `/jsonified`, and point out the working response.\n",
    "\n"
   ]
  },
  {
   "cell_type": "code",
   "execution_count": 6,
   "metadata": {
    "collapsed": true
   },
   "outputs": [],
   "source": [
    "import requests\n",
    "import json"
   ]
  },
  {
   "cell_type": "code",
   "execution_count": 13,
   "metadata": {},
   "outputs": [],
   "source": [
    "query_url = \"http://127.0.0.1:5000/jsonified\"\n",
    "hello_dict = requests.get(query_url).json()\n",
    "\n"
   ]
  },
  {
   "cell_type": "code",
   "execution_count": 8,
   "metadata": {},
   "outputs": [
    {
     "data": {
      "text/plain": [
       "{'Hello': 'World!'}"
      ]
     },
     "execution_count": 8,
     "metadata": {},
     "output_type": "execute_result"
    }
   ],
   "source": [
    "hello_dict"
   ]
  },
  {
   "cell_type": "code",
   "execution_count": 9,
   "metadata": {},
   "outputs": [],
   "source": [
    "hello_dict = requests.get(query_url)\n"
   ]
  },
  {
   "cell_type": "code",
   "execution_count": 12,
   "metadata": {},
   "outputs": [
    {
     "data": {
      "text/plain": [
       "{'Content-Type': 'application/json', 'Content-Length': '24', 'Server': 'Werkzeug/0.12.2 Python/3.6.3', 'Date': 'Mon, 26 Feb 2018 16:37:18 GMT'}"
      ]
     },
     "execution_count": 12,
     "metadata": {},
     "output_type": "execute_result"
    }
   ],
   "source": [
    "hello_dict.headers"
   ]
  },
  {
   "cell_type": "code",
   "execution_count": null,
   "metadata": {
    "collapsed": true
   },
   "outputs": [],
   "source": []
  }
 ],
 "metadata": {
  "kernelspec": {
   "display_name": "Python 3",
   "language": "python",
   "name": "python3"
  },
  "language_info": {
   "codemirror_mode": {
    "name": "ipython",
    "version": 3
   },
   "file_extension": ".py",
   "mimetype": "text/x-python",
   "name": "python",
   "nbconvert_exporter": "python",
   "pygments_lexer": "ipython3",
   "version": "3.6.3"
  }
 },
 "nbformat": 4,
 "nbformat_minor": 2
}
