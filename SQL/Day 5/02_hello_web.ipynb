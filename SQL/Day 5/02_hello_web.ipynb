{
 "cells": [
  {
   "cell_type": "markdown",
   "metadata": {},
   "source": [
    "# Hello, Web\n",
    "\n",
    "This activity allows students to practice setting up a server and defining basic routes with Flask.\n",
    "\n",
    "## Instructions\n",
    "\n",
    "* Create an `app2.py`, and make the necessary imports.\n",
    "\n",
    "* Use Flask to create an `app` instance.\n",
    "\n",
    "* Use route decorators to define the following endpoints:\n",
    "\n",
    "  * `/`, or your **index route**: This should return a simple string, such as `\"Hello, world!\"`, or `\"Welcome to my API!\"`\n",
    "\n",
    "  * `/about`, which should return a string containing your **name** and **current location**.\n",
    "\n",
    "  * `/contact`, which should return a string telling visitors where to email you.\n",
    "  \n",
    "* Finally, add code at the bottom of the file that allows you to run the server from the command line with: `python app.py`.\n",
    "\n",
    "## Hints\n",
    "\n",
    "* Refer to the [Flask documentation](http://flask.pocoo.org/docs/0.12/quickstart/#a-minimal-application) as you work through this activity.\n"
   ]
  },
  {
   "cell_type": "code",
   "execution_count": null,
   "metadata": {
    "collapsed": true
   },
   "outputs": [],
   "source": []
  }
 ],
 "metadata": {
  "kernelspec": {
   "display_name": "Python 3",
   "language": "python",
   "name": "python3"
  },
  "language_info": {
   "codemirror_mode": {
    "name": "ipython",
    "version": 3
   },
   "file_extension": ".py",
   "mimetype": "text/x-python",
   "name": "python",
   "nbconvert_exporter": "python",
   "pygments_lexer": "ipython3",
   "version": "3.6.3"
  }
 },
 "nbformat": 4,
 "nbformat_minor": 2
}
