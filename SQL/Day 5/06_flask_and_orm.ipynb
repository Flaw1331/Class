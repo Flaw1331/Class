{
 "cells": [
  {
   "cell_type": "markdown",
   "metadata": {},
   "source": [
    "\n",
    "## Flask with ORM\n",
    "\n",
    "* Any useful API must make queries against data sets much too large to load into memory.\n",
    "\n",
    "* See Titanic.py\n",
    "\n",
    "* This sample app has two routes:\n",
    "\n",
    "  * [/api/v1.0/names](http:127.0.0.1:5000/api/v1.0/names)\n",
    "\n",
    "  * [/api/v1.0/passengers](http://127.0.0.1:5000/api/v1.0/passengers)\n",
    "\n",
    "\n",
    "* We start by initializing our database connection and reflecting our tables using `automap_base`.\n",
    "\n",
    "* Our root route `/` simply shows the available API routes for our application.\n",
    "\n",
    "* `/api/v1.0/names` uses a simple query. This query will get executed each time that we visit the route.\n",
    "\n",
    "* `/api/v1.0/passengers` here we are extracting the results into a list of dictionaries containing the `name`, `age`, and `sex` of each passenger.\n"
   ]
  },
  {
   "cell_type": "code",
   "execution_count": null,
   "metadata": {
    "collapsed": true
   },
   "outputs": [],
   "source": []
  }
 ],
 "metadata": {
  "kernelspec": {
   "display_name": "Python 3",
   "language": "python",
   "name": "python3"
  },
  "language_info": {
   "codemirror_mode": {
    "name": "ipython",
    "version": 3
   },
   "file_extension": ".py",
   "mimetype": "text/x-python",
   "name": "python",
   "nbconvert_exporter": "python",
   "pygments_lexer": "ipython3",
   "version": "3.6.3"
  }
 },
 "nbformat": 4,
 "nbformat_minor": 2
}
