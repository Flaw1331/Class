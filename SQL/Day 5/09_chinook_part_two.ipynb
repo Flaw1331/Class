{
 "cells": [
  {
   "cell_type": "markdown",
   "metadata": {},
   "source": [
    "# Chinook Database Analysis Part 2\n",
    "\n",
    "* In part 2 of this activity, you will create Flask api routes to return data from the queries that you designed in part 1 of the assignment.\n",
    "\n",
    "## Instructions\n",
    "\n",
    "* Create a file called `chinook.py` for your Flask app.\n",
    "\n",
    "* Use SQLAlchemy to import the database `chinook.sqlite` and reflect all of the tables into ORM classes. For this activity, we will only need the `invoices` table and the `invoice_items` table.\n",
    "\n",
    "* Initialize your flask app and save it to a variable called `app`.\n",
    "\n",
    "* Uncomment the `/` route provided and use it as a guide to complete the missing routes. For each of the routes listed, you will need to create a route that returns the database query results from part 1 of the activity in JSON format.\n",
    "\n",
    "* Define a **GET** route called `/api/v1.0/countries` that returns a list of Billing Countries.\n",
    "\n",
    "* Define a **GET** route called `/api/v1.0/countries/invoice/totals` that returns a list of Invoice Totals by Billing Country.\n",
    "\n",
    "  * Return a list of dictionaries with `country` and `total` as the keys. Use the query results as the values.\n",
    "\n",
    "* Define a **GET** route called `/api/v1.0/postalcodes/<country>` that returns a list of Billing postal codes for a given country. Use 'USA' as the default country if no country is supplied.\n",
    "\n",
    "* Define a **GET** route called `/api/v1.0/invoice/total/<country>` that returns the invoice items total for a specific country. Use 'USA' as the default country if not country is supplied.\n",
    "\n",
    "* Define a **GET** route called `/api/v1.0/postalcodes/totals/<country>` that returns the invoice totals per billing postal code for a specific country. Use 'USA' as the default country if not country is supplied.\n",
    "\n",
    "  * Return a list of dictionaries with `postal_code` and `invoice_total` as the keys. Use the query results as values.\n",
    "\n",
    "## HINTS\n",
    "\n",
    "* Use Flask Jsonify to return your results as json data.\n",
    "\n",
    "* Convert the data to JSON friendly values when necessary (i.e. convert sqlite Decimal type to Python Float before using jsonify).\n",
    "\n",
    "- - -\n",
    "\n",
    "### Copyright\n",
    "\n",
    "Trilogy Education Services © 2017. All Rights Reserved.\n"
   ]
  },
  {
   "cell_type": "code",
   "execution_count": null,
   "metadata": {
    "collapsed": true
   },
   "outputs": [],
   "source": []
  }
 ],
 "metadata": {
  "kernelspec": {
   "display_name": "Python 3",
   "language": "python",
   "name": "python3"
  },
  "language_info": {
   "codemirror_mode": {
    "name": "ipython",
    "version": 3
   },
   "file_extension": ".py",
   "mimetype": "text/x-python",
   "name": "python",
   "nbconvert_exporter": "python",
   "pygments_lexer": "ipython3",
   "version": "3.6.3"
  }
 },
 "nbformat": 4,
 "nbformat_minor": 2
}
