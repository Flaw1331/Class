{
 "cells": [
  {
   "cell_type": "markdown",
   "metadata": {},
   "source": [
    "## Adding and Updating Data In Tables"
   ]
  },
  {
   "cell_type": "markdown",
   "metadata": {},
   "source": [
    "```sql\n",
    "use animals_db;\n",
    "select * from people;\n",
    "\n",
    "```\n"
   ]
  },
  {
   "cell_type": "markdown",
   "metadata": {},
   "source": [
    "```sql\n",
    "INSERT INTO people (name, has_pet, pet_name, pet_age)\n",
    "VALUES (\"Jacob\", true, \"Misty\", 10);\n",
    "\n",
    "INSERT INTO people (name, has_pet, pet_name, pet_age)\n",
    "VALUES (\"Ahmed\", true, \"Rockington\", 100);\n",
    "\n",
    "INSERT INTO people (name, has_pet)\n",
    "VALUES (\"Peter\", false);\n",
    "\n",
    "UPDATE people\n",
    "SET has_pet = true\n",
    "WHERE name = \"Peter\";\n",
    "\n",
    "SELECT * FROM people;\n",
    "```"
   ]
  },
  {
   "cell_type": "code",
   "execution_count": null,
   "metadata": {
    "collapsed": true
   },
   "outputs": [],
   "source": []
  }
 ],
 "metadata": {
  "kernelspec": {
   "display_name": "Python 3",
   "language": "python",
   "name": "python3"
  },
  "language_info": {
   "codemirror_mode": {
    "name": "ipython",
    "version": 3
   },
   "file_extension": ".py",
   "mimetype": "text/x-python",
   "name": "python",
   "nbconvert_exporter": "python",
   "pygments_lexer": "ipython3",
   "version": "3.6.3"
  }
 },
 "nbformat": 4,
 "nbformat_minor": 2
}
