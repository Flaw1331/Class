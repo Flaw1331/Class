{
 "cells": [
  {
   "cell_type": "markdown",
   "metadata": {},
   "source": [
    "## Creating a Database\n",
    "\n",
    "* Within the MySQL Workbench editor, type `CREATE DATABASE animals_db;`\n",
    "\n",
    "* This line of code will, when executed, creates a MySQL database on the server they are connected to.\n",
    "\n",
    "* The semicolon at the end of the statement that tells MySQL that this line of code has concluded. \n",
    "\n",
    "* Next, find the lightning-bolt symbol just above the editor and click on it to execute the code.\n",
    "\n",
    "  ![SQL Bar](Images/04-CreatingDatabases_SQLBar.png)\n",
    "\n",
    "* On the bottom of the screen, there is a confirmation stating that the database has successfully been created.\n",
    "\n",
    "  ![Confirmation](Images/04-CreatingDatabases_Confirmation.png)\n"
   ]
  },
  {
   "cell_type": "markdown",
   "metadata": {},
   "source": [
    "```sql\n",
    "-- Drops the animals_db if it exists currently --\n",
    "DROP DATABASE IF EXISTS animals_db;\n",
    "-- Creates the \"favorite_db\" database --\n",
    "CREATE DATABASE animals_db;\n",
    "\n",
    "USE animals_db;\n",
    "\n",
    "CREATE TABLE people (\n",
    "  name VARCHAR(30) NOT NULL, -- String of length 30. Can't be null\n",
    "  has_pet BOOLEAN NOT NULL, -- bool. Can't be null\n",
    "  pet_name VARCHAR(30),\n",
    "  pet_age INTEGER(10) -- unsigned int has the max value of 4294967295 no matter if its INT(1) or int(10) and will use 4 bytes of data.\n",
    ");\n",
    "\n",
    "\n",
    "```"
   ]
  },
  {
   "cell_type": "code",
   "execution_count": null,
   "metadata": {
    "collapsed": true
   },
   "outputs": [],
   "source": []
  }
 ],
 "metadata": {
  "kernelspec": {
   "display_name": "Python 3",
   "language": "python",
   "name": "python3"
  },
  "language_info": {
   "codemirror_mode": {
    "name": "ipython",
    "version": 3
   },
   "file_extension": ".py",
   "mimetype": "text/x-python",
   "name": "python",
   "nbconvert_exporter": "python",
   "pygments_lexer": "ipython3",
   "version": "3.6.3"
  }
 },
 "nbformat": 4,
 "nbformat_minor": 2
}
