{
 "cells": [
  {
   "cell_type": "markdown",
   "metadata": {},
   "source": [
    "* **Instructions**:\n",
    "\n",
    "  * Make a new database called \"programming_db\" and switch into it for this activity\n",
    "\n",
    "  * Create a table called \"programming_languages\" which includes a primary key named \"id\" which will automatically increment which each new row created, a string column called \"languages,\" and a numeric column called \"rating.\"\n",
    "\n",
    "  * Insert some data into the table and then modify the data using the id column.\n",
    "\n",
    "* **Bonus**:\n",
    "\n",
    " * Study up on how to add columns to a table and then create a boolean column called \"mastered\" which has a default value of `true`.\n",
    "\n",
    " * Start looking into the concept of joins in SQL"
   ]
  },
  {
   "cell_type": "code",
   "execution_count": null,
   "metadata": {
    "collapsed": true
   },
   "outputs": [],
   "source": []
  }
 ],
 "metadata": {
  "kernelspec": {
   "display_name": "Python 3",
   "language": "python",
   "name": "python3"
  },
  "language_info": {
   "codemirror_mode": {
    "name": "ipython",
    "version": 3
   },
   "file_extension": ".py",
   "mimetype": "text/x-python",
   "name": "python",
   "nbconvert_exporter": "python",
   "pygments_lexer": "ipython3",
   "version": "3.6.3"
  }
 },
 "nbformat": 4,
 "nbformat_minor": 2
}
