{
 "cells": [
  {
   "cell_type": "markdown",
   "metadata": {},
   "source": [
    " **Instructions**\n",
    "\n",
    "  * It is time to add some data into FavoriteDB! The data that you add should be unique to you and you should try to test your skills in not only adding new data, but also attempt to update old data as well!\n",
    "\n",
    "  * Try to add at least three rows of data to each table.\n",
    "\n",
    "* **Bonus**:\n",
    "\n",
    "  * Look into how you you might go about creating a column that can hold a default value within it and how default values work when creating new rows.\n",
    "\n",
    "  * Look into how you might go about creating a column with a default value that automatically go up with each new row\n",
    "\n",
    "  * Look into the concept of making a column the \"primary key\"\n",
    "\n",
    "  * Try to create a column called \"id\" in one of your tables that can contain an integer, is the primary key for the table, cannot be NULL, and automatically increments with each new row added.\n"
   ]
  },
  {
   "cell_type": "code",
   "execution_count": null,
   "metadata": {
    "collapsed": true
   },
   "outputs": [],
   "source": []
  }
 ],
 "metadata": {
  "kernelspec": {
   "display_name": "Python 3",
   "language": "python",
   "name": "python3"
  },
  "language_info": {
   "codemirror_mode": {
    "name": "ipython",
    "version": 3
   },
   "file_extension": ".py",
   "mimetype": "text/x-python",
   "name": "python",
   "nbconvert_exporter": "python",
   "pygments_lexer": "ipython3",
   "version": "3.6.3"
  }
 },
 "nbformat": 4,
 "nbformat_minor": 2
}
