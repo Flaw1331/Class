{
 "cells": [
  {
   "cell_type": "markdown",
   "metadata": {},
   "source": [
    "## SQL\n",
    "\n",
    "* First appeared in 1974.\n",
    "* Back in the day languages, like COBOL, used ALL CAPS, and the convention stuck.\n",
    "* Designed for managing databases\n",
    "* **SQL** stands for **\"Structured Query Language\"** and is a powerful programming tool that was specifically designed to allow programmers to create, populate, manipulate, and access databases, and to provide them with an easy method to deal with server-side storage. "
   ]
  },
  {
   "cell_type": "markdown",
   "metadata": {},
   "source": [
    "## MySQL\n",
    "\n",
    "* MySQL (often pronounced \"My Sequel\") is a popular type of open source software that can be placed on a server to allow SQL commands to update, read and chage data stored on the server. \n",
    "\n",
    "* Data using SQL is stored in tables on the server, much like spreadsheets you would create in Microsoft Excel.\n",
    "\n",
    "* MySQL is a central component of the LAMP web application software stack. LAMP is an acronym for \"Linux, Apache, MySQL, Perl/PHP/Python\". \n",
    "\n",
    "* Websites that use the MySQL database include: WordPress,Facebook, Twitter, Flickr, and YouTube."
   ]
  },
  {
   "cell_type": "markdown",
   "metadata": {},
   "source": [
    "## Installation\n",
    "\n",
    "* **PC** https://dev.mysql.com/downloads/installer/. Download the Installer found on this page and use it to install `MySQL Server`, `MySQL Workbench`, and the `Sample Databases` using this installer.\n",
    "\n",
    "* **MAC** https://dev.mysql.com/downloads/. `Download MySQL Community Server` and `MySQL Workbench`.\n",
    "\n",
    "* You don't need to set up an account. Just click 'no thanks, start my download'."
   ]
  },
  {
   "cell_type": "markdown",
   "metadata": {},
   "source": [
    "### I set my password to :  kcmo1728\n",
    "\n",
    "* You don't need to do the same, but my code examples will work quicker if you do."
   ]
  },
  {
   "cell_type": "markdown",
   "metadata": {},
   "source": [
    "## Create a Localhost Connection\n",
    "\n",
    "* Since there is currently no defined server to connect to, first we are going to set up a \"localhost connection\" \n",
    "\n",
    "* This type of connection allows you to create a locally stored database on your computer as if it was an external server.\n",
    "\n",
    "* Cheaper than spending money on a real server or a cloud server for the purposes of practicing on.\n",
    "\n",
    "\n",
    "1. Open up MySQL Workbench and click the (+) symbol next to the text which reads \"MySQL Connections\"\n",
    "\n",
    "2. Enter \"Local Instance MySQL\" as the connection name\n",
    "\n",
    "3. Make sure the connection is set to \"Standard (TCP/IP)\"\n",
    "\n",
    "4. Enter \"localhost\" as the Hostname\n",
    "\n",
    "5. Enter \"3306\" as the port for this connection. It is possible to leave this part out of the connection and still have a working instance. That is because MySQL uses port 3306 by default.\n",
    "\n",
    "6. Enter your MySQL username into the Username section (Default is \"root\")\n",
    "\n",
    "7. [PC] Click on the **Store In Vault...** button beside the Password option and enter in your MySQL password (Default is empty) [Mac] users will see **Store in Keychain** instead\n",
    "\n",
    "8. Leave the Default Schema field empty\n",
    "\n",
    "    ![New Connection](Images/01-Localhost_NewConnection.png)\n",
    "\n",
    "9. Click on the \"Test Connection\" button so as to ensure the new localhost connection was created correctly. If successful, hit okay and the new connection should appear on the main page.\n",
    "\n",
    "10. Now double-click on that connection, enter your password if necessary, and the SQL editor will appear."
   ]
  },
  {
   "cell_type": "markdown",
   "metadata": {
    "collapsed": true
   },
   "source": [
    "## Various Flavors of SQL. Similar Workflows\n",
    "\n",
    "* MySQL - MySQLWorkbench. No licensing cost. Most widely used.\n",
    "* MsSQL - T-SQL. $$. Microsoft. Good tooling and nice features. Check out Julie Lerman's blog and teaching courses. http://thedatafarm.com/blog/\n",
    "* PostgreSQL - Postgres.app. No licensing cost. Newcomer. Nice Features. Check out Rob Conery's courses and book. https://rob.conery.io/2018/01/17/my-new-book-about-postgresql-data-and-saturn-a-curious-moon/"
   ]
  },
  {
   "cell_type": "code",
   "execution_count": null,
   "metadata": {
    "collapsed": true
   },
   "outputs": [],
   "source": []
  }
 ],
 "metadata": {
  "kernelspec": {
   "display_name": "Python 3",
   "language": "python",
   "name": "python3"
  },
  "language_info": {
   "codemirror_mode": {
    "name": "ipython",
    "version": 3
   },
   "file_extension": ".py",
   "mimetype": "text/x-python",
   "name": "python",
   "nbconvert_exporter": "python",
   "pygments_lexer": "ipython3",
   "version": "3.6.3"
  }
 },
 "nbformat": 4,
 "nbformat_minor": 2
}
