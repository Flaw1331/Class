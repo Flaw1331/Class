{
 "cells": [
  {
   "cell_type": "markdown",
   "metadata": {},
   "source": [
    "# **Instructions**\n",
    "\n",
    "Create the following tables:\n",
    "\n",
    "### For the table favorite_foods...\n",
    "* Create the column \"food\" which can take in a 50 character string and cannot be NULL\n",
    "* Create the column \"score\" which can take in an integer\n",
    "\n",
    "\n",
    "### For the table favorite_songs...\n",
    "* Create the column \"song\" which can take in a 100 character string and cannot be NULL\n",
    "* Create the column \"artist\" which can take in a 50 character string\n",
    "* Create the column \"score\" which can take in an integer\n",
    "\n",
    "\n",
    "### For the table favorite_movies...\n",
    "* Create the column \"film\" which can take in a string and cannot be NULL\n",
    "* Create the column \"five_times\" which can take in a boolean\n",
    "* create the column \"score\" which can take in an integer\n",
    "\n",
    "### BONUS: Go online and look into how one might go about adding data into a table.\n"
   ]
  },
  {
   "cell_type": "code",
   "execution_count": null,
   "metadata": {
    "collapsed": true
   },
   "outputs": [],
   "source": []
  }
 ],
 "metadata": {
  "kernelspec": {
   "display_name": "Python 3",
   "language": "python",
   "name": "python3"
  },
  "language_info": {
   "codemirror_mode": {
    "name": "ipython",
    "version": 3
   },
   "file_extension": ".py",
   "mimetype": "text/x-python",
   "name": "python",
   "nbconvert_exporter": "python",
   "pygments_lexer": "ipython3",
   "version": "3.6.3"
  }
 },
 "nbformat": 4,
 "nbformat_minor": 2
}
