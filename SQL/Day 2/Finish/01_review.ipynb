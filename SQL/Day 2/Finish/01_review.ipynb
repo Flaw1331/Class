{
 "cells": [
  {
   "cell_type": "markdown",
   "metadata": {},
   "source": [
    "* **Instructions**:\n",
    "\n",
    "    * Create a new database called `Second_International_Bank` using MySQL Workbench\n",
    "\n",
    "    * Within this new database, create a table called `Customers` with six columns that are capable of holding the following values...\n",
    "\n",
    "        * `ID`: An integer that will be used as the primary key for the table and automatically increments\n",
    "\n",
    "        * `FirstName`: A string which will hold a customer's first name\n",
    "\n",
    "        * `LastName`: A string which will hold a customer's last name\n",
    "\n",
    "        * `Loan`: A boolean which will let users know if the customer has any unpaid loans\n",
    "\n",
    "        * `Checking`: A decimal value which will let users know how much money a customer has in their checking account\n",
    "\n",
    "        * `Savings`: A decimal values which will let users know how much money a customer has in their savings account\n",
    "\n",
    "    * Create five new rows of data to fill up the `Customers` table with some data\n",
    "\n",
    "* **Bonus**:\n",
    "\n",
    "    * Look into the [decimal](https://dev.mysql.com/doc/refman/5.7/en/precision-math-decimal-characteristics.html) datatype in MySQL and convert the `Checkings` and `Savings` columns so that they can only hold values with two or less numbers after a decimal point\n"
   ]
  },
  {
   "cell_type": "markdown",
   "metadata": {
    "collapsed": true
   },
   "source": [
    "```sql\n",
    "create database if not exists Second_International_Bank;\n",
    "use Second_International_Bank;\n",
    "\n",
    "drop table if exists Customers;\n",
    "create table Customers (\n",
    "    ID int(50) auto_increment,\n",
    "    FirstName varchar(50),\n",
    "    LastName varchar(50),\n",
    "    Loan decimal(20,2),\n",
    "    Checking decimal(20,2),\n",
    "    Savings decimal(20,2),\n",
    "    primary key(ID)\n",
    ");\n",
    "\n",
    "insert into Customers(FirstName,LastName,Loan,Checking,Savings)\n",
    "values(\"Josh\", \"Doctson\", 1000.55, 10000.73, 200000.50);\n",
    "\n",
    "insert into Customers(FirstName,LastName,Loan,Checking,Savings)\n",
    "values(\"Tim\", \"Hardaway\", 550000.00, 15.54, 6.05);\n",
    "\n",
    "insert into Customers(FirstName,LastName,Loan,Checking,Savings)\n",
    "values(\"Sandy\", \"Cofax\", 0.00, 1005000.00, 50130025.00);\n",
    "\n",
    "insert into Customers(FirstName,LastName,Loan,Checking,Savings)\n",
    "values(\"Tank\", \"Abbott\", 600.00, 2330.00, 1001450.00);\n",
    "\n",
    "insert into Customers(FirstName,LastName,Loan,Checking,Savings)\n",
    "values(\"Dozer\", \"Kensington\", 2000.00, 1000.00, 20000.50);\n",
    "\n",
    "select * from Customers;\n",
    "```"
   ]
  },
  {
   "cell_type": "code",
   "execution_count": null,
   "metadata": {
    "collapsed": true
   },
   "outputs": [],
   "source": []
  }
 ],
 "metadata": {
  "kernelspec": {
   "display_name": "Python 3",
   "language": "python",
   "name": "python3"
  },
  "language_info": {
   "codemirror_mode": {
    "name": "ipython",
    "version": 3
   },
   "file_extension": ".py",
   "mimetype": "text/x-python",
   "name": "python",
   "nbconvert_exporter": "python",
   "pygments_lexer": "ipython3",
   "version": "3.6.3"
  }
 },
 "nbformat": 4,
 "nbformat_minor": 2
}
