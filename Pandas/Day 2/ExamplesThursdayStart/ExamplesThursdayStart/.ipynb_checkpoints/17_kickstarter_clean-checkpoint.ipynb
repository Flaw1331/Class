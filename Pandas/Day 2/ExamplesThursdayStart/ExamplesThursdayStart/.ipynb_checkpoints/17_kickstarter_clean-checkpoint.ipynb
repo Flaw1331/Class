{
 "cells": [
  {
   "cell_type": "code",
   "execution_count": 1,
   "metadata": {
    "collapsed": true
   },
   "outputs": [],
   "source": [
    "import pandas as pd\n",
    "import os"
   ]
  },
  {
   "cell_type": "code",
   "execution_count": 2,
   "metadata": {},
   "outputs": [
    {
     "data": {
      "text/html": [
       "<div>\n",
       "<style>\n",
       "    .dataframe thead tr:only-child th {\n",
       "        text-align: right;\n",
       "    }\n",
       "\n",
       "    .dataframe thead th {\n",
       "        text-align: left;\n",
       "    }\n",
       "\n",
       "    .dataframe tbody tr th {\n",
       "        vertical-align: top;\n",
       "    }\n",
       "</style>\n",
       "<table border=\"1\" class=\"dataframe\">\n",
       "  <thead>\n",
       "    <tr style=\"text-align: right;\">\n",
       "      <th></th>\n",
       "      <th>id</th>\n",
       "      <th>photo</th>\n",
       "      <th>name</th>\n",
       "      <th>blurb</th>\n",
       "      <th>goal</th>\n",
       "      <th>pledged</th>\n",
       "      <th>state</th>\n",
       "      <th>slug</th>\n",
       "      <th>disable_communication</th>\n",
       "      <th>country</th>\n",
       "      <th>...</th>\n",
       "      <th>location</th>\n",
       "      <th>category</th>\n",
       "      <th>profile</th>\n",
       "      <th>spotlight</th>\n",
       "      <th>urls</th>\n",
       "      <th>source_url</th>\n",
       "      <th>friends</th>\n",
       "      <th>is_starred</th>\n",
       "      <th>is_backing</th>\n",
       "      <th>permissions</th>\n",
       "    </tr>\n",
       "  </thead>\n",
       "  <tbody>\n",
       "    <tr>\n",
       "      <th>0</th>\n",
       "      <td>1645666704</td>\n",
       "      <td>{\"small\":\"https://ksr-ugc.imgix.net/assets/012...</td>\n",
       "      <td>The Class Act Players Theatre Company Presents...</td>\n",
       "      <td>The Class Act Players put on another one of th...</td>\n",
       "      <td>1500.0</td>\n",
       "      <td>2925.0</td>\n",
       "      <td>successful</td>\n",
       "      <td>the-class-act-players-theatre-company-presents...</td>\n",
       "      <td>False</td>\n",
       "      <td>US</td>\n",
       "      <td>...</td>\n",
       "      <td>{\"country\":\"US\",\"urls\":{\"web\":{\"discover\":\"htt...</td>\n",
       "      <td>{\"urls\":{\"web\":{\"discover\":\"http://www.kicksta...</td>\n",
       "      <td>{\"background_image_opacity\":0.8,\"should_show_f...</td>\n",
       "      <td>True</td>\n",
       "      <td>{\"web\":{\"project\":\"https://www.kickstarter.com...</td>\n",
       "      <td>https://www.kickstarter.com/discover/categorie...</td>\n",
       "      <td>NaN</td>\n",
       "      <td>NaN</td>\n",
       "      <td>NaN</td>\n",
       "      <td>NaN</td>\n",
       "    </tr>\n",
       "    <tr>\n",
       "      <th>1</th>\n",
       "      <td>874638240</td>\n",
       "      <td>{\"small\":\"https://ksr-ugc.imgix.net/assets/012...</td>\n",
       "      <td>MR INCREDIBLE by Camilla Whitehill - VAULT Fes...</td>\n",
       "      <td>A brand new play about love and entitlement, b...</td>\n",
       "      <td>2500.0</td>\n",
       "      <td>2936.0</td>\n",
       "      <td>successful</td>\n",
       "      <td>mr-incredible-by-camilla-whitehill-vault-festival</td>\n",
       "      <td>False</td>\n",
       "      <td>GB</td>\n",
       "      <td>...</td>\n",
       "      <td>{\"country\":\"GB\",\"urls\":{\"web\":{\"discover\":\"htt...</td>\n",
       "      <td>{\"urls\":{\"web\":{\"discover\":\"http://www.kicksta...</td>\n",
       "      <td>{\"background_image_opacity\":0.8,\"should_show_f...</td>\n",
       "      <td>True</td>\n",
       "      <td>{\"web\":{\"project\":\"https://www.kickstarter.com...</td>\n",
       "      <td>https://www.kickstarter.com/discover/categorie...</td>\n",
       "      <td>NaN</td>\n",
       "      <td>NaN</td>\n",
       "      <td>NaN</td>\n",
       "      <td>NaN</td>\n",
       "    </tr>\n",
       "    <tr>\n",
       "      <th>2</th>\n",
       "      <td>247074984</td>\n",
       "      <td>{\"small\":\"https://ksr-ugc.imgix.net/assets/012...</td>\n",
       "      <td>RUN</td>\n",
       "      <td>Yonni's pissed off in a world filled with scho...</td>\n",
       "      <td>1000.0</td>\n",
       "      <td>1200.0</td>\n",
       "      <td>successful</td>\n",
       "      <td>run-10</td>\n",
       "      <td>False</td>\n",
       "      <td>GB</td>\n",
       "      <td>...</td>\n",
       "      <td>{\"country\":\"GB\",\"urls\":{\"web\":{\"discover\":\"htt...</td>\n",
       "      <td>{\"urls\":{\"web\":{\"discover\":\"http://www.kicksta...</td>\n",
       "      <td>{\"background_image_opacity\":0.8,\"should_show_f...</td>\n",
       "      <td>True</td>\n",
       "      <td>{\"web\":{\"project\":\"https://www.kickstarter.com...</td>\n",
       "      <td>https://www.kickstarter.com/discover/categorie...</td>\n",
       "      <td>NaN</td>\n",
       "      <td>NaN</td>\n",
       "      <td>NaN</td>\n",
       "      <td>NaN</td>\n",
       "    </tr>\n",
       "    <tr>\n",
       "      <th>3</th>\n",
       "      <td>1941196813</td>\n",
       "      <td>{\"small\":\"https://ksr-ugc.imgix.net/assets/012...</td>\n",
       "      <td>9th International Meeting of Youth Theatre sap...</td>\n",
       "      <td>27. April bis 1. Mai 2016 in Brixen/Südtirol/I...</td>\n",
       "      <td>2000.0</td>\n",
       "      <td>2135.0</td>\n",
       "      <td>successful</td>\n",
       "      <td>9th-international-meeting-of-youth-theatre-sap...</td>\n",
       "      <td>False</td>\n",
       "      <td>IT</td>\n",
       "      <td>...</td>\n",
       "      <td>{\"country\":\"IT\",\"urls\":{\"web\":{\"discover\":\"htt...</td>\n",
       "      <td>{\"urls\":{\"web\":{\"discover\":\"http://www.kicksta...</td>\n",
       "      <td>{\"background_image_opacity\":0.8,\"should_show_f...</td>\n",
       "      <td>True</td>\n",
       "      <td>{\"web\":{\"project\":\"https://www.kickstarter.com...</td>\n",
       "      <td>https://www.kickstarter.com/discover/categorie...</td>\n",
       "      <td>NaN</td>\n",
       "      <td>NaN</td>\n",
       "      <td>NaN</td>\n",
       "      <td>NaN</td>\n",
       "    </tr>\n",
       "    <tr>\n",
       "      <th>4</th>\n",
       "      <td>421961595</td>\n",
       "      <td>{\"small\":\"https://ksr-ugc.imgix.net/assets/012...</td>\n",
       "      <td>Get Conti to the Ed Fringe!</td>\n",
       "      <td>The Italia Conti 2nd years are going to Ed Fri...</td>\n",
       "      <td>1000.0</td>\n",
       "      <td>1250.0</td>\n",
       "      <td>successful</td>\n",
       "      <td>get-conti-to-the-ed-fringe</td>\n",
       "      <td>False</td>\n",
       "      <td>GB</td>\n",
       "      <td>...</td>\n",
       "      <td>{\"country\":\"GB\",\"urls\":{\"web\":{\"discover\":\"htt...</td>\n",
       "      <td>{\"urls\":{\"web\":{\"discover\":\"http://www.kicksta...</td>\n",
       "      <td>{\"background_image_opacity\":0.8,\"should_show_f...</td>\n",
       "      <td>True</td>\n",
       "      <td>{\"web\":{\"project\":\"https://www.kickstarter.com...</td>\n",
       "      <td>https://www.kickstarter.com/discover/categorie...</td>\n",
       "      <td>NaN</td>\n",
       "      <td>NaN</td>\n",
       "      <td>NaN</td>\n",
       "      <td>NaN</td>\n",
       "    </tr>\n",
       "  </tbody>\n",
       "</table>\n",
       "<p>5 rows × 33 columns</p>\n",
       "</div>"
      ],
      "text/plain": [
       "           id                                              photo  \\\n",
       "0  1645666704  {\"small\":\"https://ksr-ugc.imgix.net/assets/012...   \n",
       "1   874638240  {\"small\":\"https://ksr-ugc.imgix.net/assets/012...   \n",
       "2   247074984  {\"small\":\"https://ksr-ugc.imgix.net/assets/012...   \n",
       "3  1941196813  {\"small\":\"https://ksr-ugc.imgix.net/assets/012...   \n",
       "4   421961595  {\"small\":\"https://ksr-ugc.imgix.net/assets/012...   \n",
       "\n",
       "                                                name  \\\n",
       "0  The Class Act Players Theatre Company Presents...   \n",
       "1  MR INCREDIBLE by Camilla Whitehill - VAULT Fes...   \n",
       "2                                                RUN   \n",
       "3  9th International Meeting of Youth Theatre sap...   \n",
       "4                        Get Conti to the Ed Fringe!   \n",
       "\n",
       "                                               blurb    goal  pledged  \\\n",
       "0  The Class Act Players put on another one of th...  1500.0   2925.0   \n",
       "1  A brand new play about love and entitlement, b...  2500.0   2936.0   \n",
       "2  Yonni's pissed off in a world filled with scho...  1000.0   1200.0   \n",
       "3  27. April bis 1. Mai 2016 in Brixen/Südtirol/I...  2000.0   2135.0   \n",
       "4  The Italia Conti 2nd years are going to Ed Fri...  1000.0   1250.0   \n",
       "\n",
       "        state                                               slug  \\\n",
       "0  successful  the-class-act-players-theatre-company-presents...   \n",
       "1  successful  mr-incredible-by-camilla-whitehill-vault-festival   \n",
       "2  successful                                             run-10   \n",
       "3  successful  9th-international-meeting-of-youth-theatre-sap...   \n",
       "4  successful                         get-conti-to-the-ed-fringe   \n",
       "\n",
       "   disable_communication country     ...       \\\n",
       "0                  False      US     ...        \n",
       "1                  False      GB     ...        \n",
       "2                  False      GB     ...        \n",
       "3                  False      IT     ...        \n",
       "4                  False      GB     ...        \n",
       "\n",
       "                                            location  \\\n",
       "0  {\"country\":\"US\",\"urls\":{\"web\":{\"discover\":\"htt...   \n",
       "1  {\"country\":\"GB\",\"urls\":{\"web\":{\"discover\":\"htt...   \n",
       "2  {\"country\":\"GB\",\"urls\":{\"web\":{\"discover\":\"htt...   \n",
       "3  {\"country\":\"IT\",\"urls\":{\"web\":{\"discover\":\"htt...   \n",
       "4  {\"country\":\"GB\",\"urls\":{\"web\":{\"discover\":\"htt...   \n",
       "\n",
       "                                            category  \\\n",
       "0  {\"urls\":{\"web\":{\"discover\":\"http://www.kicksta...   \n",
       "1  {\"urls\":{\"web\":{\"discover\":\"http://www.kicksta...   \n",
       "2  {\"urls\":{\"web\":{\"discover\":\"http://www.kicksta...   \n",
       "3  {\"urls\":{\"web\":{\"discover\":\"http://www.kicksta...   \n",
       "4  {\"urls\":{\"web\":{\"discover\":\"http://www.kicksta...   \n",
       "\n",
       "                                             profile  spotlight  \\\n",
       "0  {\"background_image_opacity\":0.8,\"should_show_f...       True   \n",
       "1  {\"background_image_opacity\":0.8,\"should_show_f...       True   \n",
       "2  {\"background_image_opacity\":0.8,\"should_show_f...       True   \n",
       "3  {\"background_image_opacity\":0.8,\"should_show_f...       True   \n",
       "4  {\"background_image_opacity\":0.8,\"should_show_f...       True   \n",
       "\n",
       "                                                urls  \\\n",
       "0  {\"web\":{\"project\":\"https://www.kickstarter.com...   \n",
       "1  {\"web\":{\"project\":\"https://www.kickstarter.com...   \n",
       "2  {\"web\":{\"project\":\"https://www.kickstarter.com...   \n",
       "3  {\"web\":{\"project\":\"https://www.kickstarter.com...   \n",
       "4  {\"web\":{\"project\":\"https://www.kickstarter.com...   \n",
       "\n",
       "                                          source_url  friends  is_starred  \\\n",
       "0  https://www.kickstarter.com/discover/categorie...      NaN         NaN   \n",
       "1  https://www.kickstarter.com/discover/categorie...      NaN         NaN   \n",
       "2  https://www.kickstarter.com/discover/categorie...      NaN         NaN   \n",
       "3  https://www.kickstarter.com/discover/categorie...      NaN         NaN   \n",
       "4  https://www.kickstarter.com/discover/categorie...      NaN         NaN   \n",
       "\n",
       "   is_backing  permissions  \n",
       "0         NaN          NaN  \n",
       "1         NaN          NaN  \n",
       "2         NaN          NaN  \n",
       "3         NaN          NaN  \n",
       "4         NaN          NaN  \n",
       "\n",
       "[5 rows x 33 columns]"
      ]
     },
     "execution_count": 2,
     "metadata": {},
     "output_type": "execute_result"
    }
   ],
   "source": [
    "data_file = os.path.join(\"Resources\", \"KickstarterData.csv\")\n",
    "df = pd.read_csv(data_file)\n",
    "df.head()"
   ]
  },
  {
   "cell_type": "code",
   "execution_count": 3,
   "metadata": {},
   "outputs": [
    {
     "name": "stdout",
     "output_type": "stream",
     "text": [
      "Index(['id', 'photo', 'name', 'blurb', 'goal', 'pledged', 'state', 'slug',\n",
      "       'disable_communication', 'country', 'currency', 'currency_symbol',\n",
      "       'currency_trailing_code', 'deadline', 'state_changed_at', 'created_at',\n",
      "       'launched_at', 'staff_pick', 'is_starrable', 'backers_count',\n",
      "       'static_usd_rate', 'usd_pledged', 'creator', 'location', 'category',\n",
      "       'profile', 'spotlight', 'urls', 'source_url', 'friends', 'is_starred',\n",
      "       'is_backing', 'permissions'],\n",
      "      dtype='object')\n"
     ]
    }
   ],
   "source": [
    "# Get a list of all of our columns for easy reference\n",
    "print(df.columns)"
   ]
  },
  {
   "cell_type": "code",
   "execution_count": 4,
   "metadata": {
    "collapsed": true
   },
   "outputs": [],
   "source": [
    "# create a new DataFrame with \"name\", \"backers_count\", \"pledged\", \"state\", \"country\", \"staff_pick\"\n",
    "labels = [\"name\", \"backers_count\", \"pledged\", \"state\", \"country\", \"staff_pick\"]\n",
    "kickstarter_df = df.loc[:,labels]"
   ]
  },
  {
   "cell_type": "code",
   "execution_count": 5,
   "metadata": {},
   "outputs": [
    {
     "data": {
      "text/plain": [
       "name              object\n",
       "backers_count      int64\n",
       "pledged          float64\n",
       "state             object\n",
       "country           object\n",
       "staff_pick          bool\n",
       "dtype: object"
      ]
     },
     "execution_count": 5,
     "metadata": {},
     "output_type": "execute_result"
    }
   ],
   "source": [
    "#list the dtypes in our new dataframe\n",
    "kickstarter_df.dtypes"
   ]
  },
  {
   "cell_type": "code",
   "execution_count": 6,
   "metadata": {},
   "outputs": [
    {
     "data": {
      "text/plain": [
       "name                 object\n",
       "backers_count         int64\n",
       "pledged             float64\n",
       "state                object\n",
       "country              object\n",
       "staff_pick             bool\n",
       "average_donation    float64\n",
       "dtype: object"
      ]
     },
     "execution_count": 6,
     "metadata": {},
     "output_type": "execute_result"
    }
   ],
   "source": [
    "# Create a new column that finds the average amount pledged to a project\n",
    "# average_donation = pledged / backers_count\n",
    "kickstarter_df[\"average_donation\"] = kickstarter_df['pledged']/kickstarter_df['backers_count']\n",
    "kickstarter_df.dtypes"
   ]
  },
  {
   "cell_type": "code",
   "execution_count": 7,
   "metadata": {},
   "outputs": [
    {
     "data": {
      "text/plain": [
       "(4120, 7)"
      ]
     },
     "execution_count": 7,
     "metadata": {},
     "output_type": "execute_result"
    }
   ],
   "source": [
    "# print the number of rows. Should be 4120\n",
    "#len(kickstarter_df.index)\n",
    "kickstarter_df.shape\n",
    "#kickstarter_df.count()"
   ]
  },
  {
   "cell_type": "code",
   "execution_count": 8,
   "metadata": {
    "scrolled": true
   },
   "outputs": [],
   "source": [
    "# Sort out any projects that made no money at all\n",
    "filtered_kickstarter = kickstarter_df[kickstarter_df[\"pledged\"] > 0.0]"
   ]
  },
  {
   "cell_type": "code",
   "execution_count": 9,
   "metadata": {
    "scrolled": true
   },
   "outputs": [
    {
     "data": {
      "text/plain": [
       "(3307, 7)"
      ]
     },
     "execution_count": 9,
     "metadata": {},
     "output_type": "execute_result"
    }
   ],
   "source": [
    "# print the number of rows again. Should be 3307\n",
    "filtered_kickstarter.shape"
   ]
  },
  {
   "cell_type": "code",
   "execution_count": 11,
   "metadata": {
    "scrolled": true
   },
   "outputs": [
    {
     "data": {
      "text/html": [
       "<div>\n",
       "<style>\n",
       "    .dataframe thead tr:only-child th {\n",
       "        text-align: right;\n",
       "    }\n",
       "\n",
       "    .dataframe thead th {\n",
       "        text-align: left;\n",
       "    }\n",
       "\n",
       "    .dataframe tbody tr th {\n",
       "        vertical-align: top;\n",
       "    }\n",
       "</style>\n",
       "<table border=\"1\" class=\"dataframe\">\n",
       "  <thead>\n",
       "    <tr style=\"text-align: right;\">\n",
       "      <th></th>\n",
       "      <th>name</th>\n",
       "      <th>backers_count</th>\n",
       "      <th>pledged</th>\n",
       "      <th>state</th>\n",
       "      <th>country</th>\n",
       "      <th>staff_pick</th>\n",
       "      <th>average_donation</th>\n",
       "    </tr>\n",
       "  </thead>\n",
       "  <tbody>\n",
       "    <tr>\n",
       "      <th>0</th>\n",
       "      <td>The Class Act Players Theatre Company Presents...</td>\n",
       "      <td>17</td>\n",
       "      <td>2925.0</td>\n",
       "      <td>successful</td>\n",
       "      <td>US</td>\n",
       "      <td>False</td>\n",
       "      <td>172.058824</td>\n",
       "    </tr>\n",
       "    <tr>\n",
       "      <th>8</th>\n",
       "      <td>Forefront Festival 2015</td>\n",
       "      <td>68</td>\n",
       "      <td>7230.0</td>\n",
       "      <td>successful</td>\n",
       "      <td>US</td>\n",
       "      <td>False</td>\n",
       "      <td>106.323529</td>\n",
       "    </tr>\n",
       "    <tr>\n",
       "      <th>11</th>\n",
       "      <td>Hamlet the Hip-Hopera</td>\n",
       "      <td>132</td>\n",
       "      <td>10103.0</td>\n",
       "      <td>successful</td>\n",
       "      <td>US</td>\n",
       "      <td>True</td>\n",
       "      <td>76.537879</td>\n",
       "    </tr>\n",
       "    <tr>\n",
       "      <th>14</th>\n",
       "      <td>Pride Con</td>\n",
       "      <td>60</td>\n",
       "      <td>15110.0</td>\n",
       "      <td>successful</td>\n",
       "      <td>US</td>\n",
       "      <td>False</td>\n",
       "      <td>251.833333</td>\n",
       "    </tr>\n",
       "    <tr>\n",
       "      <th>15</th>\n",
       "      <td>En Garde Arts Emerging Artists Festival BOSSS</td>\n",
       "      <td>80</td>\n",
       "      <td>10306.0</td>\n",
       "      <td>successful</td>\n",
       "      <td>US</td>\n",
       "      <td>True</td>\n",
       "      <td>128.825000</td>\n",
       "    </tr>\n",
       "  </tbody>\n",
       "</table>\n",
       "</div>"
      ],
      "text/plain": [
       "                                                 name  backers_count  pledged  \\\n",
       "0   The Class Act Players Theatre Company Presents...             17   2925.0   \n",
       "8                             Forefront Festival 2015             68   7230.0   \n",
       "11                              Hamlet the Hip-Hopera            132  10103.0   \n",
       "14                                          Pride Con             60  15110.0   \n",
       "15      En Garde Arts Emerging Artists Festival BOSSS             80  10306.0   \n",
       "\n",
       "         state country  staff_pick  average_donation  \n",
       "0   successful      US       False        172.058824  \n",
       "8   successful      US       False        106.323529  \n",
       "11  successful      US        True         76.537879  \n",
       "14  successful      US       False        251.833333  \n",
       "15  successful      US        True        128.825000  "
      ]
     },
     "execution_count": 11,
     "metadata": {},
     "output_type": "execute_result"
    }
   ],
   "source": [
    "# Collect only those projects that were hosted in the US\n",
    "us_kickstarter = filtered_kickstarter[filtered_kickstarter['country'] == \"US\"]\n",
    "us_kickstarter.head()"
   ]
  },
  {
   "cell_type": "code",
   "execution_count": 12,
   "metadata": {},
   "outputs": [
    {
     "name": "stderr",
     "output_type": "stream",
     "text": [
      "C:\\Users\\Admin\\Documents\\Anaconda3\\lib\\site-packages\\ipykernel_launcher.py:3: SettingWithCopyWarning: \n",
      "A value is trying to be set on a copy of a slice from a DataFrame.\n",
      "Try using .loc[row_indexer,col_indexer] = value instead\n",
      "\n",
      "See the caveats in the documentation: http://pandas.pydata.org/pandas-docs/stable/indexing.html#indexing-view-versus-copy\n",
      "  This is separate from the ipykernel package so we can avoid doing imports until\n",
      "C:\\Users\\Admin\\Documents\\Anaconda3\\lib\\site-packages\\ipykernel_launcher.py:4: SettingWithCopyWarning: \n",
      "A value is trying to be set on a copy of a slice from a DataFrame.\n",
      "Try using .loc[row_indexer,col_indexer] = value instead\n",
      "\n",
      "See the caveats in the documentation: http://pandas.pydata.org/pandas-docs/stable/indexing.html#indexing-view-versus-copy\n",
      "  after removing the cwd from sys.path.\n"
     ]
    },
    {
     "data": {
      "text/html": [
       "<div>\n",
       "<style>\n",
       "    .dataframe thead tr:only-child th {\n",
       "        text-align: right;\n",
       "    }\n",
       "\n",
       "    .dataframe thead th {\n",
       "        text-align: left;\n",
       "    }\n",
       "\n",
       "    .dataframe tbody tr th {\n",
       "        vertical-align: top;\n",
       "    }\n",
       "</style>\n",
       "<table border=\"1\" class=\"dataframe\">\n",
       "  <thead>\n",
       "    <tr style=\"text-align: right;\">\n",
       "      <th></th>\n",
       "      <th>name</th>\n",
       "      <th>backers_count</th>\n",
       "      <th>pledged</th>\n",
       "      <th>state</th>\n",
       "      <th>country</th>\n",
       "      <th>staff_pick</th>\n",
       "      <th>average_donation</th>\n",
       "    </tr>\n",
       "  </thead>\n",
       "  <tbody>\n",
       "    <tr>\n",
       "      <th>0</th>\n",
       "      <td>The Class Act Players Theatre Company Presents...</td>\n",
       "      <td>17</td>\n",
       "      <td>$2925.00</td>\n",
       "      <td>successful</td>\n",
       "      <td>US</td>\n",
       "      <td>False</td>\n",
       "      <td>$172.06</td>\n",
       "    </tr>\n",
       "    <tr>\n",
       "      <th>8</th>\n",
       "      <td>Forefront Festival 2015</td>\n",
       "      <td>68</td>\n",
       "      <td>$7230.00</td>\n",
       "      <td>successful</td>\n",
       "      <td>US</td>\n",
       "      <td>False</td>\n",
       "      <td>$106.32</td>\n",
       "    </tr>\n",
       "    <tr>\n",
       "      <th>11</th>\n",
       "      <td>Hamlet the Hip-Hopera</td>\n",
       "      <td>132</td>\n",
       "      <td>$10103.00</td>\n",
       "      <td>successful</td>\n",
       "      <td>US</td>\n",
       "      <td>True</td>\n",
       "      <td>$76.54</td>\n",
       "    </tr>\n",
       "    <tr>\n",
       "      <th>14</th>\n",
       "      <td>Pride Con</td>\n",
       "      <td>60</td>\n",
       "      <td>$15110.00</td>\n",
       "      <td>successful</td>\n",
       "      <td>US</td>\n",
       "      <td>False</td>\n",
       "      <td>$251.83</td>\n",
       "    </tr>\n",
       "    <tr>\n",
       "      <th>15</th>\n",
       "      <td>En Garde Arts Emerging Artists Festival BOSSS</td>\n",
       "      <td>80</td>\n",
       "      <td>$10306.00</td>\n",
       "      <td>successful</td>\n",
       "      <td>US</td>\n",
       "      <td>True</td>\n",
       "      <td>$128.82</td>\n",
       "    </tr>\n",
       "  </tbody>\n",
       "</table>\n",
       "</div>"
      ],
      "text/plain": [
       "                                                 name  backers_count  \\\n",
       "0   The Class Act Players Theatre Company Presents...             17   \n",
       "8                             Forefront Festival 2015             68   \n",
       "11                              Hamlet the Hip-Hopera            132   \n",
       "14                                          Pride Con             60   \n",
       "15      En Garde Arts Emerging Artists Festival BOSSS             80   \n",
       "\n",
       "      pledged       state country  staff_pick average_donation  \n",
       "0    $2925.00  successful      US       False          $172.06  \n",
       "8    $7230.00  successful      US       False          $106.32  \n",
       "11  $10103.00  successful      US        True           $76.54  \n",
       "14  $15110.00  successful      US       False          $251.83  \n",
       "15  $10306.00  successful      US        True          $128.82  "
      ]
     },
     "execution_count": 12,
     "metadata": {},
     "output_type": "execute_result"
    }
   ],
   "source": [
    "# Format our \"average_donation\", and \"pledged\" columns\n",
    "# to go to two decimal places, include a dollar sign, and use comma notation\n",
    "us_kickstarter[\"average_donation\"] = us_kickstarter[\"average_donation\"].map(\"${:.2f}\".format)\n",
    "us_kickstarter[\"pledged\"] = us_kickstarter[\"pledged\"].map(\"${:.2f}\".format)\n",
    "us_kickstarter.head()"
   ]
  },
  {
   "cell_type": "code",
   "execution_count": 13,
   "metadata": {},
   "outputs": [
    {
     "name": "stdout",
     "output_type": "stream",
     "text": [
      "89273\n"
     ]
    }
   ],
   "source": [
    "# Calculate the total number of backers for all US Projects. Should be 89273\n",
    "print(us_kickstarter['backers_count'].sum())"
   ]
  },
  {
   "cell_type": "code",
   "execution_count": 14,
   "metadata": {},
   "outputs": [
    {
     "name": "stdout",
     "output_type": "stream",
     "text": [
      "41.931892907468296\n"
     ]
    }
   ],
   "source": [
    "#Calculate the average number of backers for all US Projects. Should be 41.93\n",
    "print(us_kickstarter['backers_count'].sum()/len(us_kickstarter))"
   ]
  },
  {
   "cell_type": "code",
   "execution_count": 20,
   "metadata": {
    "scrolled": true
   },
   "outputs": [
    {
     "data": {
      "text/html": [
       "<div>\n",
       "<style>\n",
       "    .dataframe thead tr:only-child th {\n",
       "        text-align: right;\n",
       "    }\n",
       "\n",
       "    .dataframe thead th {\n",
       "        text-align: left;\n",
       "    }\n",
       "\n",
       "    .dataframe tbody tr th {\n",
       "        vertical-align: top;\n",
       "    }\n",
       "</style>\n",
       "<table border=\"1\" class=\"dataframe\">\n",
       "  <thead>\n",
       "    <tr style=\"text-align: right;\">\n",
       "      <th></th>\n",
       "      <th>name</th>\n",
       "      <th>backers_count</th>\n",
       "      <th>pledged</th>\n",
       "      <th>state</th>\n",
       "      <th>country</th>\n",
       "      <th>staff_pick</th>\n",
       "      <th>average_donation</th>\n",
       "    </tr>\n",
       "  </thead>\n",
       "  <tbody>\n",
       "    <tr>\n",
       "      <th>11</th>\n",
       "      <td>Hamlet the Hip-Hopera</td>\n",
       "      <td>132</td>\n",
       "      <td>$10103.00</td>\n",
       "      <td>successful</td>\n",
       "      <td>US</td>\n",
       "      <td>True</td>\n",
       "      <td>$76.54</td>\n",
       "    </tr>\n",
       "    <tr>\n",
       "      <th>15</th>\n",
       "      <td>En Garde Arts Emerging Artists Festival BOSSS</td>\n",
       "      <td>80</td>\n",
       "      <td>$10306.00</td>\n",
       "      <td>successful</td>\n",
       "      <td>US</td>\n",
       "      <td>True</td>\n",
       "      <td>$128.82</td>\n",
       "    </tr>\n",
       "    <tr>\n",
       "      <th>39</th>\n",
       "      <td>\"Poor People\" at FringeNYC 2015</td>\n",
       "      <td>34</td>\n",
       "      <td>$5682.00</td>\n",
       "      <td>successful</td>\n",
       "      <td>US</td>\n",
       "      <td>True</td>\n",
       "      <td>$167.12</td>\n",
       "    </tr>\n",
       "    <tr>\n",
       "      <th>44</th>\n",
       "      <td>Queen Mab's Steampunk and Fairie Street Festival</td>\n",
       "      <td>62</td>\n",
       "      <td>$3363.00</td>\n",
       "      <td>successful</td>\n",
       "      <td>US</td>\n",
       "      <td>True</td>\n",
       "      <td>$54.24</td>\n",
       "    </tr>\n",
       "    <tr>\n",
       "      <th>45</th>\n",
       "      <td>RAFT: a new play by Emily Kitchens</td>\n",
       "      <td>120</td>\n",
       "      <td>$7826.00</td>\n",
       "      <td>successful</td>\n",
       "      <td>US</td>\n",
       "      <td>True</td>\n",
       "      <td>$65.22</td>\n",
       "    </tr>\n",
       "  </tbody>\n",
       "</table>\n",
       "</div>"
      ],
      "text/plain": [
       "                                                name  backers_count  \\\n",
       "11                             Hamlet the Hip-Hopera            132   \n",
       "15     En Garde Arts Emerging Artists Festival BOSSS             80   \n",
       "39                   \"Poor People\" at FringeNYC 2015             34   \n",
       "44  Queen Mab's Steampunk and Fairie Street Festival             62   \n",
       "45                RAFT: a new play by Emily Kitchens            120   \n",
       "\n",
       "      pledged       state country  staff_pick average_donation  \n",
       "11  $10103.00  successful      US        True           $76.54  \n",
       "15  $10306.00  successful      US        True          $128.82  \n",
       "39   $5682.00  successful      US        True          $167.12  \n",
       "44   $3363.00  successful      US        True           $54.24  \n",
       "45   $7826.00  successful      US        True           $65.22  "
      ]
     },
     "execution_count": 20,
     "metadata": {},
     "output_type": "execute_result"
    }
   ],
   "source": [
    "# Collect only those US campaigns that have \n",
    "# been picked as a \"Staff Pick\" == True\n",
    "# create a new dataFrame with this condition\n",
    "staff_pick_US = us_kickstarter.loc[us_kickstarter[\"staff_pick\"] == True]\n",
    "staff_pick_US.head()"
   ]
  },
  {
   "cell_type": "code",
   "execution_count": 21,
   "metadata": {},
   "outputs": [
    {
     "data": {
      "text/plain": [
       "state\n",
       "canceled        6\n",
       "failed         21\n",
       "live            2\n",
       "successful    145\n",
       "Name: name, dtype: int64"
      ]
     },
     "execution_count": 21,
     "metadata": {},
     "output_type": "execute_result"
    }
   ],
   "source": [
    "# Group this \"Staff Pick\" DataFrame by the 'state' of the campaigns \n",
    "# Count them and see if staff picks matter (Seems to matter quite a bit)\n",
    "\n",
    "state_groups = staff_pick_US.groupby(\"state\")\n",
    "state_groups[\"name\"].count()"
   ]
  },
  {
   "cell_type": "code",
   "execution_count": null,
   "metadata": {
    "collapsed": true
   },
   "outputs": [],
   "source": []
  }
 ],
 "metadata": {
  "kernelspec": {
   "display_name": "Python 3",
   "language": "python",
   "name": "python3"
  },
  "language_info": {
   "codemirror_mode": {
    "name": "ipython",
    "version": 3
   },
   "file_extension": ".py",
   "mimetype": "text/x-python",
   "name": "python",
   "nbconvert_exporter": "python",
   "pygments_lexer": "ipython3",
   "version": "3.6.3"
  }
 },
 "nbformat": 4,
 "nbformat_minor": 2
}
