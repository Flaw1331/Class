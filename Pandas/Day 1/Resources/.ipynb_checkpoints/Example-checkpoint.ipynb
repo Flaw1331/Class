{
 "cells": [
  {
   "cell_type": "code",
   "execution_count": 5,
   "metadata": {
    "collapsed": true
   },
   "outputs": [],
   "source": [
    "import os\n",
    "import csv\n",
    "census_csv = os.path.join(\"Census_KCMO.csv\")\n",
    "my_kcmo_data = []\n",
    "houses_over_1m = 63"
   ]
  },
  {
   "cell_type": "code",
   "execution_count": 6,
   "metadata": {},
   "outputs": [
    {
     "data": {
      "text/plain": [
       "'C:\\\\Users\\\\Admin\\\\Documents\\\\Python Scripts\\\\Examples Tues\\\\Resources\\\\Resources'"
      ]
     },
     "execution_count": 6,
     "metadata": {},
     "output_type": "execute_result"
    }
   ],
   "source": [
    "pwd"
   ]
  },
  {
   "cell_type": "code",
   "execution_count": 8,
   "metadata": {},
   "outputs": [],
   "source": [
    "with open(census_csv, newline=\"\") as csvfile:\n",
    "    csv_reader = csv.reader(csvfile,delimiter=\",\")\n",
    "    header = next(csv_reader)\n",
    "    for row in csv_reader:\n",
    "        if row[houses_over_1m] != \"\":\n",
    "            my_kcmo_data.append(row)"
   ]
  },
  {
   "cell_type": "code",
   "execution_count": null,
   "metadata": {
    "collapsed": true
   },
   "outputs": [],
   "source": [
    "for row in my_kcmo_data:\n",
    "    print(row[1] + \". Housing Units: \" + row[40])"
   ]
  }
 ],
 "metadata": {
  "kernelspec": {
   "display_name": "Python 3",
   "language": "python",
   "name": "python3"
  },
  "language_info": {
   "codemirror_mode": {
    "name": "ipython",
    "version": 3
   },
   "file_extension": ".py",
   "mimetype": "text/x-python",
   "name": "python",
   "nbconvert_exporter": "python",
   "pygments_lexer": "ipython3",
   "version": "3.6.3"
  }
 },
 "nbformat": 4,
 "nbformat_minor": 2
}
