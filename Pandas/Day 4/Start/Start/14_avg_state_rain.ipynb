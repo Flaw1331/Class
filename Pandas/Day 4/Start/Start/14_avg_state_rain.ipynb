{
 "cells": [
  {
   "cell_type": "code",
   "execution_count": 43,
   "metadata": {
    "collapsed": true
   },
   "outputs": [],
   "source": [
    "# Dependencies\n",
    "import matplotlib.pyplot as plt\n",
    "import numpy as np\n",
    "import pandas as pd\n",
    "import os"
   ]
  },
  {
   "cell_type": "code",
   "execution_count": 44,
   "metadata": {},
   "outputs": [
    {
     "data": {
      "text/html": [
       "<div>\n",
       "<style>\n",
       "    .dataframe thead tr:only-child th {\n",
       "        text-align: right;\n",
       "    }\n",
       "\n",
       "    .dataframe thead th {\n",
       "        text-align: left;\n",
       "    }\n",
       "\n",
       "    .dataframe tbody tr th {\n",
       "        vertical-align: top;\n",
       "    }\n",
       "</style>\n",
       "<table border=\"1\" class=\"dataframe\">\n",
       "  <thead>\n",
       "    <tr style=\"text-align: right;\">\n",
       "      <th></th>\n",
       "      <th>State</th>\n",
       "      <th>Inches</th>\n",
       "      <th>Milli­metres</th>\n",
       "      <th>Rank</th>\n",
       "    </tr>\n",
       "  </thead>\n",
       "  <tbody>\n",
       "    <tr>\n",
       "      <th>0</th>\n",
       "      <td>Alabama</td>\n",
       "      <td>58.3</td>\n",
       "      <td>1480</td>\n",
       "      <td>4</td>\n",
       "    </tr>\n",
       "    <tr>\n",
       "      <th>1</th>\n",
       "      <td>Alaska</td>\n",
       "      <td>22.5</td>\n",
       "      <td>572</td>\n",
       "      <td>39</td>\n",
       "    </tr>\n",
       "    <tr>\n",
       "      <th>2</th>\n",
       "      <td>Arizona</td>\n",
       "      <td>13.6</td>\n",
       "      <td>345</td>\n",
       "      <td>47</td>\n",
       "    </tr>\n",
       "    <tr>\n",
       "      <th>3</th>\n",
       "      <td>Arkansas</td>\n",
       "      <td>50.6</td>\n",
       "      <td>1284</td>\n",
       "      <td>8</td>\n",
       "    </tr>\n",
       "    <tr>\n",
       "      <th>4</th>\n",
       "      <td>California</td>\n",
       "      <td>22.2</td>\n",
       "      <td>563</td>\n",
       "      <td>40</td>\n",
       "    </tr>\n",
       "  </tbody>\n",
       "</table>\n",
       "</div>"
      ],
      "text/plain": [
       "        State  Inches  Milli­metres  Rank\n",
       "0     Alabama    58.3          1480     4\n",
       "1      Alaska    22.5           572    39\n",
       "2     Arizona    13.6           345    47\n",
       "3    Arkansas    50.6          1284     8\n",
       "4  California    22.2           563    40"
      ]
     },
     "execution_count": 44,
     "metadata": {},
     "output_type": "execute_result"
    }
   ],
   "source": [
    "# Load in csv\n",
    "filename = os.path.join(\"Resources\", \"avg_rain_state.csv\")\n",
    "rain_df = pd.read_csv(filename)\n",
    "rain_df.head()"
   ]
  },
  {
   "cell_type": "markdown",
   "metadata": {},
   "source": [
    "create a chart that looks like this one:\n",
    "![Image](Resources/avg_state_rain.png)"
   ]
  },
  {
   "cell_type": "code",
   "execution_count": 45,
   "metadata": {
    "collapsed": true
   },
   "outputs": [],
   "source": [
    "# Set x axis and tick locations\n",
    "x_axis = np.arange(len(rain_df))\n",
    "tick_locations = [value+0.4 for value in x_axis]"
   ]
  },
  {
   "cell_type": "code",
   "execution_count": 46,
   "metadata": {},
   "outputs": [
    {
     "data": {
      "text/plain": [
       "([<matplotlib.axis.XTick at 0x235d5651240>,\n",
       "  <matplotlib.axis.XTick at 0x235d56598d0>,\n",
       "  <matplotlib.axis.XTick at 0x235d567d8d0>,\n",
       "  <matplotlib.axis.XTick at 0x235d58bf390>,\n",
       "  <matplotlib.axis.XTick at 0x235d58bf9e8>,\n",
       "  <matplotlib.axis.XTick at 0x235d58c5080>,\n",
       "  <matplotlib.axis.XTick at 0x235d58c5710>,\n",
       "  <matplotlib.axis.XTick at 0x235d58c5da0>,\n",
       "  <matplotlib.axis.XTick at 0x235d58ca470>,\n",
       "  <matplotlib.axis.XTick at 0x235d58cab00>,\n",
       "  <matplotlib.axis.XTick at 0x235d58cf1d0>,\n",
       "  <matplotlib.axis.XTick at 0x235d58cf860>,\n",
       "  <matplotlib.axis.XTick at 0x235d58cfef0>,\n",
       "  <matplotlib.axis.XTick at 0x235d58d65c0>,\n",
       "  <matplotlib.axis.XTick at 0x235d58d6c50>,\n",
       "  <matplotlib.axis.XTick at 0x235d58dc320>,\n",
       "  <matplotlib.axis.XTick at 0x235d58dc9b0>,\n",
       "  <matplotlib.axis.XTick at 0x235d58e3080>,\n",
       "  <matplotlib.axis.XTick at 0x235d58e3710>,\n",
       "  <matplotlib.axis.XTick at 0x235d58e3da0>,\n",
       "  <matplotlib.axis.XTick at 0x235d58e9470>,\n",
       "  <matplotlib.axis.XTick at 0x235d58e9b00>,\n",
       "  <matplotlib.axis.XTick at 0x235d58ef1d0>,\n",
       "  <matplotlib.axis.XTick at 0x235d58ef860>,\n",
       "  <matplotlib.axis.XTick at 0x235d58efef0>,\n",
       "  <matplotlib.axis.XTick at 0x235d58f75c0>,\n",
       "  <matplotlib.axis.XTick at 0x235d58f7c50>,\n",
       "  <matplotlib.axis.XTick at 0x235d58fc320>,\n",
       "  <matplotlib.axis.XTick at 0x235d58fc9b0>,\n",
       "  <matplotlib.axis.XTick at 0x235d5902080>,\n",
       "  <matplotlib.axis.XTick at 0x235d5902710>,\n",
       "  <matplotlib.axis.XTick at 0x235d5902da0>,\n",
       "  <matplotlib.axis.XTick at 0x235d590a470>,\n",
       "  <matplotlib.axis.XTick at 0x235d590ab00>,\n",
       "  <matplotlib.axis.XTick at 0x235d590f1d0>,\n",
       "  <matplotlib.axis.XTick at 0x235d590f860>,\n",
       "  <matplotlib.axis.XTick at 0x235d590fef0>,\n",
       "  <matplotlib.axis.XTick at 0x235d59155c0>,\n",
       "  <matplotlib.axis.XTick at 0x235d5915c50>,\n",
       "  <matplotlib.axis.XTick at 0x235d591a320>,\n",
       "  <matplotlib.axis.XTick at 0x235d591a9b0>,\n",
       "  <matplotlib.axis.XTick at 0x235d5921080>,\n",
       "  <matplotlib.axis.XTick at 0x235d5921710>,\n",
       "  <matplotlib.axis.XTick at 0x235d5921da0>,\n",
       "  <matplotlib.axis.XTick at 0x235d5928470>,\n",
       "  <matplotlib.axis.XTick at 0x235d5928b00>,\n",
       "  <matplotlib.axis.XTick at 0x235d5692710>,\n",
       "  <matplotlib.axis.XTick at 0x235d592e160>,\n",
       "  <matplotlib.axis.XTick at 0x235d592e7f0>,\n",
       "  <matplotlib.axis.XTick at 0x235d592ee80>],\n",
       " <a list of 50 Text xticklabel objects>)"
      ]
     },
     "execution_count": 46,
     "metadata": {},
     "output_type": "execute_result"
    }
   ],
   "source": [
    "# Create a list indicating where to write x labels and set figure size to adjust for space\n",
    "plt.figure(figsize=(20,3))\n",
    "plt.bar(x_axis, rain_df[\"Inches\"], color='r', alpha=0.5, align=\"edge\")\n",
    "plt.xticks(tick_locations, rain_df[\"State\"], rotation='vertical')"
   ]
  },
  {
   "cell_type": "code",
   "execution_count": 47,
   "metadata": {},
   "outputs": [
    {
     "data": {
      "text/plain": [
       "(0, 73.700000000000003)"
      ]
     },
     "execution_count": 47,
     "metadata": {},
     "output_type": "execute_result"
    }
   ],
   "source": [
    "# Set x and y limits\n",
    "plt.xlim(-0.25, len(x_axis))\n",
    "plt.ylim(0, max(rain_df[\"Inches\"])+10)"
   ]
  },
  {
   "cell_type": "code",
   "execution_count": 48,
   "metadata": {},
   "outputs": [
    {
     "data": {
      "text/plain": [
       "Text(0,0.5,'State')"
      ]
     },
     "execution_count": 48,
     "metadata": {},
     "output_type": "execute_result"
    }
   ],
   "source": [
    "# Set a Title and labels\n",
    "plt.title(\"Average Rain Per State\")\n",
    "plt.xlabel(\"Average Amount of Rainfall in Inches\")\n",
    "plt.ylabel(\"State\")"
   ]
  },
  {
   "cell_type": "code",
   "execution_count": 49,
   "metadata": {},
   "outputs": [
    {
     "data": {
      "image/png": "[encoded data removed]",
      "text/plain": [
       "<matplotlib.figure.Figure at 0x235d5649128>"
      ]
     },
     "metadata": {},
     "output_type": "display_data"
    }
   ],
   "source": [
    "# Save our graph and show the grap\n",
    "plt.savefig(\"state_rainfall.png\")\n",
    "plt.show()"
   ]
  },
  {
   "cell_type": "code",
   "execution_count": null,
   "metadata": {
    "collapsed": true
   },
   "outputs": [],
   "source": []
  }
 ],
 "metadata": {
  "kernelspec": {
   "display_name": "Python 3",
   "language": "python",
   "name": "python3"
  },
  "language_info": {
   "codemirror_mode": {
    "name": "ipython",
    "version": 3
   },
   "file_extension": ".py",
   "mimetype": "text/x-python",
   "name": "python",
   "nbconvert_exporter": "python",
   "pygments_lexer": "ipython3",
   "version": "3.6.3"
  }
 },
 "nbformat": 4,
 "nbformat_minor": 2
}
