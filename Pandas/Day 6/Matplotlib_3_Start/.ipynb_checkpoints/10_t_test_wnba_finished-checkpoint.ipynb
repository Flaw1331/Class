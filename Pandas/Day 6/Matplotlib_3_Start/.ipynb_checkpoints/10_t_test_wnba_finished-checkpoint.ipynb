{
 "cells": [
  {
   "cell_type": "code",
   "execution_count": 35,
   "metadata": {
    "collapsed": true
   },
   "outputs": [],
   "source": [
    "# Dependencies\n",
    "import matplotlib.pyplot as plt\n",
    "import numpy as np\n",
    "import pandas as pd\n",
    "from scipy.stats import sem, ttest_ind\n",
    "import os"
   ]
  },
  {
   "cell_type": "code",
   "execution_count": 36,
   "metadata": {},
   "outputs": [],
   "source": [
    "file_name1 = os.path.join(\"Resources\", \"general_heights.csv\")\n",
    "general_heights = pd.read_csv(file_name1)\n",
    "file_name2 = os.path.join(\"Resources\", \"wnba_data.csv\")\n",
    "wnba_data = pd.read_csv(file_name2)\n",
    "wnba_heights = wnba_data.iloc[:, -1]"
   ]
  },
  {
   "cell_type": "markdown",
   "metadata": {},
   "source": [
    "## T-Test\n",
    "\n",
    "We have height data from the Women's National Basketball Association, and from the general population. \n",
    "\n",
    "Perform a T-Test to see if the means of these two populations are equal, or if they are significantly different. Use an alpha level of 0.05.\n",
    "\n",
    "\n",
    "\n",
    "Then, calculate the Standard Error of the Mean for both populations and chart the error bars. This is similar to what we did in the 04-SEM Ipython Notebook.\n",
    "\n",
    "**Hints:**\n",
    "\n",
    "* Since we have two independent data samples we will use a two sample t-test: **ttest_ind**\n",
    "\n",
    "* since we don't know if the variances are equal or not use **equal_var=False**\n"
   ]
  },
  {
   "cell_type": "code",
   "execution_count": 37,
   "metadata": {},
   "outputs": [
    {
     "name": "stdout",
     "output_type": "stream",
     "text": [
      "[-16.94119778]\n",
      "[  3.14741363e-33]\n"
     ]
    }
   ],
   "source": [
    "(t_stat, p) = ttest_ind(general_heights, wnba_heights, equal_var=False)\n",
    "\n",
    "print(t_stat)\n",
    "print(p)"
   ]
  },
  {
   "cell_type": "code",
   "execution_count": 38,
   "metadata": {},
   "outputs": [
    {
     "name": "stdout",
     "output_type": "stream",
     "text": [
      "The mean height of WNBA players is 72.32.\n",
      "The mean height of women sampled is 64.68416666666667.\n"
     ]
    }
   ],
   "source": [
    "# Report\n",
    "print(\"The mean height of WNBA players is {}.\".format(wnba_heights.mean()))\n",
    "print(\"The mean height of women sampled is {}.\".format(\n",
    "    general_heights.values.mean()))"
   ]
  },
  {
   "cell_type": "code",
   "execution_count": 39,
   "metadata": {},
   "outputs": [
    {
     "name": "stdout",
     "output_type": "stream",
     "text": [
      "p is 3.147413627696938e-33.\n",
      "The difference in sample means is significant.\n"
     ]
    }
   ],
   "source": [
    "print(\"p is {}.\".format(p[0]))\n",
    "if p < 0.05:\n",
    "    print(\"The difference in sample means is significant.\")\n",
    "else:\n",
    "    print(\"The difference in sample means is not significant.\")"
   ]
  },
  {
   "cell_type": "code",
   "execution_count": 40,
   "metadata": {},
   "outputs": [],
   "source": [
    "# Calculate sample means\n",
    "means = [general_heights.mean().values[0], wnba_heights.mean()]\n",
    "x_axis = np.arange(0, len(means))\n",
    "sem = [general_heights.sem().values[0], wnba_heights.sem()]"
   ]
  },
  {
   "cell_type": "code",
   "execution_count": 43,
   "metadata": {},
   "outputs": [
    {
     "data": {
      "image/png": "[encoded data removed]",
      "text/plain": [
       "<matplotlib.figure.Figure at 0x11bc3f860>"
      ]
     },
     "metadata": {},
     "output_type": "display_data"
    }
   ],
   "source": [
    "# Plot\n",
    "tick_labels = [\"General Public\", \"WNBA Players\"]\n",
    "fig, ax = plt.subplots()\n",
    "plt.title(\"Mean Height of Women in General Population and WNBA\",\n",
    "             fontsize=12, fontweight=\"bold\")\n",
    "ax.errorbar(x_axis, means, yerr=sem, fmt=\"o\")\n",
    "ax.set_xticklabels(tick_labels)\n",
    "ax.set_xticks([0, 1])\n",
    "ax.set_ylabel(\"Height (Inches)\")\n",
    "plt.show()"
   ]
  },
  {
   "cell_type": "code",
   "execution_count": null,
   "metadata": {
    "collapsed": true
   },
   "outputs": [],
   "source": []
  }
 ],
 "metadata": {
  "kernelspec": {
   "display_name": "Python 3",
   "language": "python",
   "name": "python3"
  },
  "language_info": {
   "codemirror_mode": {
    "name": "ipython",
    "version": 3
   },
   "file_extension": ".py",
   "mimetype": "text/x-python",
   "name": "python",
   "nbconvert_exporter": "python",
   "pygments_lexer": "ipython3",
   "version": "3.6.3"
  }
 },
 "nbformat": 4,
 "nbformat_minor": 2
}
