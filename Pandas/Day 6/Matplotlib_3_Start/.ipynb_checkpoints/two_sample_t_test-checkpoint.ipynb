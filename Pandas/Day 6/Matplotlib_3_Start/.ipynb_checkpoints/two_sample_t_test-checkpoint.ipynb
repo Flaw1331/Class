{
 "cells": [
  {
   "cell_type": "code",
   "execution_count": 1,
   "metadata": {
    "collapsed": true
   },
   "outputs": [],
   "source": [
    "from random import randint\n",
    "\n",
    "import matplotlib.pyplot as plt\n",
    "import numpy as np\n",
    "import pandas as pd\n",
    "from scipy.stats import sem, ttest_ind\n",
    "import os"
   ]
  },
  {
   "cell_type": "code",
   "execution_count": 2,
   "metadata": {
    "collapsed": true
   },
   "outputs": [],
   "source": [
    "# Generate\n",
    "high_prices = [randint(1, 5) * 500000 for x in range(1, 100)]\n",
    "high_means = np.mean(high_prices)\n",
    "high_sem = sem(high_prices)"
   ]
  },
  {
   "cell_type": "code",
   "execution_count": 3,
   "metadata": {
    "collapsed": true
   },
   "outputs": [],
   "source": [
    "medium_prices = [randint(1, 5) * 100000 for x in range(1, 100)]\n",
    "medium_means = np.mean(medium_prices)\n",
    "medium_sem = sem(medium_prices)"
   ]
  },
  {
   "cell_type": "code",
   "execution_count": 4,
   "metadata": {
    "collapsed": true
   },
   "outputs": [],
   "source": [
    "low_prices = [randint(1, 5) * 50000 for x in range(1, 100)]\n",
    "low_means = np.mean(low_prices)\n",
    "low_sem = sem(low_prices)"
   ]
  },
  {
   "cell_type": "code",
   "execution_count": 5,
   "metadata": {
    "collapsed": true
   },
   "outputs": [],
   "source": [
    "means = [high_means, medium_means, low_means]\n",
    "sems = [high_sem, medium_sem, low_sem]\n",
    "labels = [\"High Prices\", \"Medium Prices\", \"Low Prices\"]"
   ]
  },
  {
   "cell_type": "code",
   "execution_count": 6,
   "metadata": {},
   "outputs": [
    {
     "data": {
      "image/png": "[encoded data removed]",
      "text/plain": [
       "<matplotlib.figure.Figure at 0x1122587b8>"
      ]
     },
     "metadata": {},
     "output_type": "display_data"
    }
   ],
   "source": [
    "fig, ax = plt.subplots()\n",
    "ax.errorbar(np.arange(0, len(means)), means, yerr=sems, fmt=\"o\")\n",
    "ax.set_xlim(-0.5, 2.5)\n",
    "ax.set_xticklabels(labels)\n",
    "ax.set_xticks([0, 1, 2])\n",
    "ax.set_ylabel(\"Mean House Price\")\n",
    "plt.show()"
   ]
  },
  {
   "cell_type": "code",
   "execution_count": 7,
   "metadata": {
    "collapsed": true
   },
   "outputs": [],
   "source": [
    "# t-test\n",
    "# We want to test that our null hypothesis H0 that μX=μY\n",
    "# (\"the average of our high_means homes equals the average of our low_means homes)\n",
    "\n",
    "# This is a two-sided test for the null hypothesis \n",
    "# that 2 independent samples have identical population average (expected) values."
   ]
  },
  {
   "cell_type": "code",
   "execution_count": 8,
   "metadata": {
    "collapsed": true
   },
   "outputs": [],
   "source": [
    "(t_stat, p) = ttest_ind(high_prices, low_prices, equal_var=False)\n",
    "\n",
    "# equal_var = False is Welch’s t-test, \n",
    "#             which does not assume equal population variance\n",
    "# equal_var = True, perform a standard (Student t-test). Independent 2 sample test \n",
    "#             that assumes equal population variances\n",
    "\n",
    "# usually set to False Therefore, unless it is known that the \n",
    "# population variances of the two samples are equal. \n",
    "# See https://stats.stackexchange.com/questions/305/when-conducting-a-t-test-why-would-one-prefer-to-assume-or-test-for-equal-vari\n",
    "\n"
   ]
  },
  {
   "cell_type": "code",
   "execution_count": 9,
   "metadata": {},
   "outputs": [
    {
     "name": "stdout",
     "output_type": "stream",
     "text": [
      "2.58919365891e-36\n",
      "The differences between the high and low prices are significant.\n"
     ]
    }
   ],
   "source": [
    "print(p)\n",
    "# 95% confidence level, so p needs to be below 0.05\n",
    "if p < 0.05:\n",
    "    print(\"The differences between the high and low prices are significant.\")\n",
    "else:\n",
    "    print(\"The differences between high and low prices are due to chance.\")\n",
    "\n"
   ]
  },
  {
   "cell_type": "code",
   "execution_count": 18,
   "metadata": {
    "collapsed": true
   },
   "outputs": [],
   "source": [
    "# The test yields an incredibly low p-value, which means there is a less than \n",
    "# 0.1% chance we'd see sample data this far apart if the two groups \n",
    "# tested are actually identical. "
   ]
  },
  {
   "cell_type": "code",
   "execution_count": null,
   "metadata": {
    "collapsed": true
   },
   "outputs": [],
   "source": []
  }
 ],
 "metadata": {
  "kernelspec": {
   "display_name": "Python 3",
   "language": "python",
   "name": "python3"
  },
  "language_info": {
   "codemirror_mode": {
    "name": "ipython",
    "version": 3
   },
   "file_extension": ".py",
   "mimetype": "text/x-python",
   "name": "python",
   "nbconvert_exporter": "python",
   "pygments_lexer": "ipython3",
   "version": "3.6.3"
  }
 },
 "nbformat": 4,
 "nbformat_minor": 2
}
