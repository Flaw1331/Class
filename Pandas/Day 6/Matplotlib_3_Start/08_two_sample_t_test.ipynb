{
 "cells": [
  {
   "cell_type": "code",
   "execution_count": 1,
   "metadata": {
    "collapsed": true
   },
   "outputs": [],
   "source": [
    "import pandas as pd\n",
    "from scipy.stats import sem, ttest_ind, ttest_rel\n",
    "import matplotlib.pyplot as plt\n",
    "import numpy as np\n",
    "\n"
   ]
  },
  {
   "cell_type": "markdown",
   "metadata": {},
   "source": [
    "## Related Groups. Two Sample T-Test.\n",
    "To motivate citizens to conserve gasoline, a non-profit is considering a national conservation campaign. Before doing so, they are going to conduct a local experiment. 12 families are randomly selected, and the amount of gasoline monitored one month before and after the advertising campaign.\n"
   ]
  },
  {
   "cell_type": "code",
   "execution_count": 2,
   "metadata": {},
   "outputs": [
    {
     "data": {
      "text/html": [
       "<div>\n",
       "<style>\n",
       "    .dataframe thead tr:only-child th {\n",
       "        text-align: right;\n",
       "    }\n",
       "\n",
       "    .dataframe thead th {\n",
       "        text-align: left;\n",
       "    }\n",
       "\n",
       "    .dataframe tbody tr th {\n",
       "        vertical-align: top;\n",
       "    }\n",
       "</style>\n",
       "<table border=\"1\" class=\"dataframe\">\n",
       "  <thead>\n",
       "    <tr style=\"text-align: right;\">\n",
       "      <th></th>\n",
       "      <th>after_campaign</th>\n",
       "      <th>before_campaign</th>\n",
       "    </tr>\n",
       "  </thead>\n",
       "  <tbody>\n",
       "    <tr>\n",
       "      <th>0</th>\n",
       "      <td>48</td>\n",
       "      <td>55</td>\n",
       "    </tr>\n",
       "    <tr>\n",
       "      <th>1</th>\n",
       "      <td>38</td>\n",
       "      <td>43</td>\n",
       "    </tr>\n",
       "    <tr>\n",
       "      <th>2</th>\n",
       "      <td>53</td>\n",
       "      <td>51</td>\n",
       "    </tr>\n",
       "    <tr>\n",
       "      <th>3</th>\n",
       "      <td>58</td>\n",
       "      <td>62</td>\n",
       "    </tr>\n",
       "    <tr>\n",
       "      <th>4</th>\n",
       "      <td>36</td>\n",
       "      <td>35</td>\n",
       "    </tr>\n",
       "    <tr>\n",
       "      <th>5</th>\n",
       "      <td>42</td>\n",
       "      <td>48</td>\n",
       "    </tr>\n",
       "    <tr>\n",
       "      <th>6</th>\n",
       "      <td>55</td>\n",
       "      <td>58</td>\n",
       "    </tr>\n",
       "    <tr>\n",
       "      <th>7</th>\n",
       "      <td>40</td>\n",
       "      <td>45</td>\n",
       "    </tr>\n",
       "    <tr>\n",
       "      <th>8</th>\n",
       "      <td>49</td>\n",
       "      <td>48</td>\n",
       "    </tr>\n",
       "    <tr>\n",
       "      <th>9</th>\n",
       "      <td>50</td>\n",
       "      <td>54</td>\n",
       "    </tr>\n",
       "    <tr>\n",
       "      <th>10</th>\n",
       "      <td>58</td>\n",
       "      <td>56</td>\n",
       "    </tr>\n",
       "    <tr>\n",
       "      <th>11</th>\n",
       "      <td>25</td>\n",
       "      <td>32</td>\n",
       "    </tr>\n",
       "  </tbody>\n",
       "</table>\n",
       "</div>"
      ],
      "text/plain": [
       "    after_campaign  before_campaign\n",
       "0               48               55\n",
       "1               38               43\n",
       "2               53               51\n",
       "3               58               62\n",
       "4               36               35\n",
       "5               42               48\n",
       "6               55               58\n",
       "7               40               45\n",
       "8               49               48\n",
       "9               50               54\n",
       "10              58               56\n",
       "11              25               32"
      ]
     },
     "execution_count": 2,
     "metadata": {},
     "output_type": "execute_result"
    }
   ],
   "source": [
    "data_frame = pd.DataFrame({\n",
    "    'before_campaign':[55, 43, 51, 62, 35, 48, 58, 45, 48, 54, 56, 32],\n",
    "    'after_campaign':[48, 38, 53, 58, 36, 42, 55, 40, 49, 50, 58, 25]})\n",
    "data_frame\n",
    "\n"
   ]
  },
  {
   "cell_type": "code",
   "execution_count": 3,
   "metadata": {},
   "outputs": [
    {
     "data": {
      "image/png": "[encoded data removed]",
      "text/plain": [
       "<matplotlib.figure.Figure at 0x116f4f518>"
      ]
     },
     "metadata": {},
     "output_type": "display_data"
    }
   ],
   "source": [
    "after_sem = sem(data_frame['after_campaign'])\n",
    "after_means = np.mean(data_frame['after_campaign'])\n",
    "before_sem = sem(data_frame['before_campaign'])\n",
    "before_means = np.mean(data_frame['before_campaign'])\n",
    "\n",
    "means = [before_means, after_means]\n",
    "sems = [before_sem, after_sem]\n",
    "labels = [\"Before Campaign\", \"After Campaign\"]\n",
    "\n",
    "fig, ax = plt.subplots()\n",
    "ax.errorbar(np.arange(0, len(means)), means, yerr=sems, fmt=\"o\")\n",
    "ax.set_xlim(-0.5, 1.5)\n",
    "ax.set_xticklabels(labels)\n",
    "ax.set_xticks([0, 1])\n",
    "ax.set_ylabel(\"Gallons of Gas / Month\")\n",
    "plt.show()\n"
   ]
  },
  {
   "cell_type": "code",
   "execution_count": 4,
   "metadata": {},
   "outputs": [
    {
     "name": "stdout",
     "output_type": "stream",
     "text": [
      "2.90659179488\n",
      "0.0142757917597\n"
     ]
    }
   ],
   "source": [
    "# Since it's the same families before and after use ttest_rel\n",
    "# Dependent T-Test for Paired Samples\n",
    "(t_stat, p) = ttest_rel(data_frame['before_campaign'], \n",
    "                        data_frame['after_campaign'])\n",
    "\n",
    "print (t_stat)\n",
    "print (p)"
   ]
  },
  {
   "cell_type": "code",
   "execution_count": 5,
   "metadata": {},
   "outputs": [
    {
     "name": "stdout",
     "output_type": "stream",
     "text": [
      "0.0142757917597\n",
      "The differences are significant.\n"
     ]
    }
   ],
   "source": [
    "print(p)\n",
    "# 95% confidence level, so p needs to be below 0.05\n",
    "if p < 0.05:\n",
    "    print(\"The differences are significant.\")\n",
    "else:\n",
    "    print(\"The differences are due to chance.\")\n",
    "\n",
    "\n"
   ]
  },
  {
   "cell_type": "markdown",
   "metadata": {},
   "source": [
    "## Independent Groups. Two Sample T-Test.\n",
    "\n",
    "Now, let's say the conservation campaign was done using the independent groups design. \n",
    "\n",
    "Instead of using the same families in each condition, there would be two groups of familes. \n",
    "\n",
    "One group would be monitored before the campaign and the other group monitored after the campaign. \n",
    "\n",
    "To evaluate the null hypothesis, each sample would be treated as an independent sample randomly selected. \n",
    "\n",
    "The families in group 1 (before) are monitored for 1 month with respect to the amount of gasoline used before the conser vation campaign is conducted, and the families in group 2 are monitored for 1 month after the campaign has been conducted.\n",
    "\n",
    "\n"
   ]
  },
  {
   "cell_type": "code",
   "execution_count": 6,
   "metadata": {},
   "outputs": [
    {
     "data": {
      "text/html": [
       "<div>\n",
       "<style>\n",
       "    .dataframe thead tr:only-child th {\n",
       "        text-align: right;\n",
       "    }\n",
       "\n",
       "    .dataframe thead th {\n",
       "        text-align: left;\n",
       "    }\n",
       "\n",
       "    .dataframe tbody tr th {\n",
       "        vertical-align: top;\n",
       "    }\n",
       "</style>\n",
       "<table border=\"1\" class=\"dataframe\">\n",
       "  <thead>\n",
       "    <tr style=\"text-align: right;\">\n",
       "      <th></th>\n",
       "      <th>after_family</th>\n",
       "      <th>before_family</th>\n",
       "    </tr>\n",
       "  </thead>\n",
       "  <tbody>\n",
       "    <tr>\n",
       "      <th>0</th>\n",
       "      <td>48</td>\n",
       "      <td>55</td>\n",
       "    </tr>\n",
       "    <tr>\n",
       "      <th>1</th>\n",
       "      <td>38</td>\n",
       "      <td>43</td>\n",
       "    </tr>\n",
       "    <tr>\n",
       "      <th>2</th>\n",
       "      <td>53</td>\n",
       "      <td>51</td>\n",
       "    </tr>\n",
       "    <tr>\n",
       "      <th>3</th>\n",
       "      <td>58</td>\n",
       "      <td>62</td>\n",
       "    </tr>\n",
       "    <tr>\n",
       "      <th>4</th>\n",
       "      <td>36</td>\n",
       "      <td>35</td>\n",
       "    </tr>\n",
       "    <tr>\n",
       "      <th>5</th>\n",
       "      <td>42</td>\n",
       "      <td>48</td>\n",
       "    </tr>\n",
       "    <tr>\n",
       "      <th>6</th>\n",
       "      <td>55</td>\n",
       "      <td>58</td>\n",
       "    </tr>\n",
       "    <tr>\n",
       "      <th>7</th>\n",
       "      <td>40</td>\n",
       "      <td>45</td>\n",
       "    </tr>\n",
       "    <tr>\n",
       "      <th>8</th>\n",
       "      <td>49</td>\n",
       "      <td>48</td>\n",
       "    </tr>\n",
       "    <tr>\n",
       "      <th>9</th>\n",
       "      <td>50</td>\n",
       "      <td>54</td>\n",
       "    </tr>\n",
       "    <tr>\n",
       "      <th>10</th>\n",
       "      <td>58</td>\n",
       "      <td>56</td>\n",
       "    </tr>\n",
       "    <tr>\n",
       "      <th>11</th>\n",
       "      <td>25</td>\n",
       "      <td>32</td>\n",
       "    </tr>\n",
       "  </tbody>\n",
       "</table>\n",
       "</div>"
      ],
      "text/plain": [
       "    after_family  before_family\n",
       "0             48             55\n",
       "1             38             43\n",
       "2             53             51\n",
       "3             58             62\n",
       "4             36             35\n",
       "5             42             48\n",
       "6             55             58\n",
       "7             40             45\n",
       "8             49             48\n",
       "9             50             54\n",
       "10            58             56\n",
       "11            25             32"
      ]
     },
     "execution_count": 6,
     "metadata": {},
     "output_type": "execute_result"
    }
   ],
   "source": [
    "data_frame = pd.DataFrame({\n",
    "    'before_family':[55, 43, 51, 62, 35, 48, 58, 45, 48, 54, 56, 32],\n",
    "    'after_family':[48, 38, 53, 58, 36, 42, 55, 40, 49, 50, 58, 25]})\n",
    "data_frame"
   ]
  },
  {
   "cell_type": "code",
   "execution_count": 7,
   "metadata": {},
   "outputs": [
    {
     "name": "stdout",
     "output_type": "stream",
     "text": [
      "0.74801291112\n",
      "0.46245296686\n"
     ]
    }
   ],
   "source": [
    "# This is the Independent Two sample t-test. Groups are unrelated.\n",
    "(t_stat, p) = ttest_ind(data_frame['before_family'], \n",
    "                        data_frame['after_family'], equal_var=False)\n",
    "\n",
    "print (t_stat)\n",
    "print (p)\n",
    "# equal_var = False is Welch’s t-test, \n",
    "#             which does not assume equal population variance\n",
    "# equal_var = True, perform a standard (Student t-test). Independent 2 sample test \n",
    "#             that assumes equal population variances\n",
    "\n",
    "# usually set to False Therefore, unless it is known that the \n",
    "# population variances of the two samples are equal. \n",
    "# See https://stats.stackexchange.com/questions/305/when-conducting-a-t-test-why-would-one-prefer-to-assume-or-test-for-equal-vari\n",
    "\n"
   ]
  },
  {
   "cell_type": "code",
   "execution_count": 8,
   "metadata": {},
   "outputs": [
    {
     "name": "stdout",
     "output_type": "stream",
     "text": [
      "0.46245296686\n",
      "The differences are due to chance.\n"
     ]
    }
   ],
   "source": [
    "print(p)\n",
    "# 95% confidence level, so p needs to be below 0.05\n",
    "if p < 0.05:\n",
    "    print(\"The differences are significant.\")\n",
    "else:\n",
    "    print(\"The differences are due to chance.\")\n",
    "\n",
    "\n"
   ]
  },
  {
   "cell_type": "code",
   "execution_count": null,
   "metadata": {
    "collapsed": true
   },
   "outputs": [],
   "source": []
  }
 ],
 "metadata": {
  "kernelspec": {
   "display_name": "Python 3",
   "language": "python",
   "name": "python3"
  },
  "language_info": {
   "codemirror_mode": {
    "name": "ipython",
    "version": 3
   },
   "file_extension": ".py",
   "mimetype": "text/x-python",
   "name": "python",
   "nbconvert_exporter": "python",
   "pygments_lexer": "ipython3",
   "version": "3.6.3"
  }
 },
 "nbformat": 4,
 "nbformat_minor": 2
}
