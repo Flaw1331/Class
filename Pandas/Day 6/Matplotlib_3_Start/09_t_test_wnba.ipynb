{
 "cells": [
  {
   "cell_type": "code",
   "execution_count": 25,
   "metadata": {
    "collapsed": true
   },
   "outputs": [],
   "source": [
    "# Dependencies\n",
    "import matplotlib.pyplot as plt\n",
    "import numpy as np\n",
    "import pandas as pd\n",
    "from scipy.stats import sem, ttest_ind\n",
    "import os"
   ]
  },
  {
   "cell_type": "code",
   "execution_count": 27,
   "metadata": {
    "collapsed": true
   },
   "outputs": [],
   "source": [
    "file_name1 = os.path.join(\"Resources\", \"general_heights.csv\")\n",
    "general_heights = pd.read_csv(file_name1)\n",
    "file_name2 = os.path.join(\"Resources\", \"wnba_data.csv\")\n",
    "wnba_data = pd.read_csv(file_name2)\n",
    "wnba_heights = wnba_data.iloc[:, -1]"
   ]
  },
  {
   "cell_type": "markdown",
   "metadata": {},
   "source": [
    "## T-Test\n",
    "\n",
    "We have height data from the Women's National Basketball Association, and from the general population. \n",
    "\n",
    "Perform a T-Test to see if the means of these two populations are equal, or if they are significantly different. Use an alpha level of 0.05.\n",
    "\n",
    "\n",
    "\n",
    "Then, calculate the Standard Error of the Mean for both populations and chart the error bars. This is similar to what we did in the 04-SEM Ipython Notebook.\n",
    "\n",
    "**Hints:**\n",
    "\n",
    "* Since we have two independent data samples we will use a two sample t-test: **ttest_ind**\n",
    "\n",
    "* since we don't know if the variances are equal or not use **equal_var=False**\n"
   ]
  },
  {
   "cell_type": "code",
   "execution_count": null,
   "metadata": {},
   "outputs": [],
   "source": []
  },
  {
   "cell_type": "code",
   "execution_count": null,
   "metadata": {},
   "outputs": [],
   "source": []
  },
  {
   "cell_type": "code",
   "execution_count": null,
   "metadata": {},
   "outputs": [],
   "source": []
  },
  {
   "cell_type": "code",
   "execution_count": null,
   "metadata": {
    "collapsed": true
   },
   "outputs": [],
   "source": []
  },
  {
   "cell_type": "code",
   "execution_count": null,
   "metadata": {},
   "outputs": [],
   "source": []
  },
  {
   "cell_type": "code",
   "execution_count": null,
   "metadata": {
    "collapsed": true
   },
   "outputs": [],
   "source": []
  }
 ],
 "metadata": {
  "kernelspec": {
   "display_name": "Python 3",
   "language": "python",
   "name": "python3"
  },
  "language_info": {
   "codemirror_mode": {
    "name": "ipython",
    "version": 3
   },
   "file_extension": ".py",
   "mimetype": "text/x-python",
   "name": "python",
   "nbconvert_exporter": "python",
   "pygments_lexer": "ipython3",
   "version": "3.6.3"
  }
 },
 "nbformat": 4,
 "nbformat_minor": 2
}
