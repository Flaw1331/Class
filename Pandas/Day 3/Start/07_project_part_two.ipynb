{
 "cells": [
  {
   "cell_type": "markdown",
   "metadata": {},
   "source": [
    "# Bootcamp Data Set, Pt. 2\n",
    "\n",
    "In this activity, you will be cleaning the same data set from before, but this time, extracting different data.\n",
    "\n",
    "## Instructions\n",
    "\n",
    "* The goal for this assignment is to recreate [BootcampOutputPart2.xlsx](../output/BootcampOutputPart2.xlsx).\n",
    "\n",
    "* Using Pandas, load the [CSV provided in Resources](../Resources/03-Stu_Project_Part_1/2016-FCC-New-Coders-Survey-Data.csv). \n",
    "\n",
    "* Create a new table using the following columns: `[0, 1, 2, 3, 4, 6, 7, 8, 9, 10, 11, 29, 30, 32, 36, 37, 45, 48, 56, 110, 111]`.\n",
    "\n",
    "* The data set currently uses 0.0 to represent \"No\" or \"False\", and \"1.0\" to represent \"Yes\"/\"True\"â€”an entry of 0.0 for row 2 in the **Attended Bootcamp** column, for instance, indicates that the respondent with ID 2 did not attend a bootcamp. Replace all instances of \"0.0\" with No, and all instances of \"1.0\" with \"Yes\".\n",
    "\n",
    "* Extract rows corresponding only to respondents who attended a bootcamp.\n",
    "\n",
    "* Create a DataFrame with two columns: One with the bootcamp name, and one with the number of respondents who went to each bootcamp.\n",
    "\n",
    "* Create another DataFrame with two columns: One for the bootcamp name, and one for the number of respondents who recommend it.\n",
    "\n",
    "* Create a new DataFrame by merging the previous two DataFrames on the appropriate column.\n",
    "\n",
    "* In your new DataFrame, create a new column containing the percentage of respondents for each bootcamp who would recommend that bootcamp.\n",
    "\n",
    "* Sort the new DataFrame in descending order of the percentage of recommenders you just calculated.\n",
    "\n",
    "* Use `map` and `format` to make the `\"% Recommended\"` column look more presentable.\n",
    "\n",
    "* Finally, export your DataFrame to an Excel file."
   ]
  },
  {
   "cell_type": "code",
   "execution_count": 46,
   "metadata": {
    "collapsed": true
   },
   "outputs": [],
   "source": [
    "# Dependencies"
   ]
  },
  {
   "cell_type": "code",
   "execution_count": 47,
   "metadata": {
    "collapsed": true
   },
   "outputs": [],
   "source": [
    "# load CSV"
   ]
  },
  {
   "cell_type": "code",
   "execution_count": 1,
   "metadata": {},
   "outputs": [],
   "source": [
    "# Read with pandas--low_memory required to suppress errors about mixed data types"
   ]
  },
  {
   "cell_type": "code",
   "execution_count": 2,
   "metadata": {},
   "outputs": [],
   "source": [
    "# Take only columns 0, 1, 2, 3, 4, 6, 7, 8, 9, 10, 11, 29, 30, 32, 36, 37, 45, 48, 56, 110, 111"
   ]
  },
  {
   "cell_type": "code",
   "execution_count": 3,
   "metadata": {},
   "outputs": [],
   "source": [
    "# Change reading 0 and 1 to No and Yes, respectively"
   ]
  },
  {
   "cell_type": "code",
   "execution_count": 4,
   "metadata": {},
   "outputs": [],
   "source": [
    "# Extract rows for only those who attended a bootcamp"
   ]
  },
  {
   "cell_type": "code",
   "execution_count": 5,
   "metadata": {},
   "outputs": [],
   "source": [
    "# Create DataFrame of the different boot camps that had a significant number of attendees"
   ]
  },
  {
   "cell_type": "code",
   "execution_count": 6,
   "metadata": {},
   "outputs": [],
   "source": [
    "# Count how many attendees of each bootcamp would recommend the bootcamp"
   ]
  },
  {
   "cell_type": "code",
   "execution_count": 7,
   "metadata": {},
   "outputs": [],
   "source": [
    "# Merge the two created data frames on the name of tbe bootcamp"
   ]
  },
  {
   "cell_type": "code",
   "execution_count": 8,
   "metadata": {},
   "outputs": [],
   "source": [
    "# Calculate percentage of eac bootcamp's students who are recommenders"
   ]
  },
  {
   "cell_type": "code",
   "execution_count": 9,
   "metadata": {
    "collapsed": true
   },
   "outputs": [],
   "source": [
    "# Export to excel and remove index"
   ]
  },
  {
   "cell_type": "code",
   "execution_count": null,
   "metadata": {
    "collapsed": true
   },
   "outputs": [],
   "source": []
  }
 ],
 "metadata": {
  "anaconda-cloud": {},
  "kernelspec": {
   "display_name": "Python 3",
   "language": "python",
   "name": "python3"
  },
  "language_info": {
   "codemirror_mode": {
    "name": "ipython",
    "version": 3
   },
   "file_extension": ".py",
   "mimetype": "text/x-python",
   "name": "python",
   "nbconvert_exporter": "python",
   "pygments_lexer": "ipython3",
   "version": "3.6.2"
  }
 },
 "nbformat": 4,
 "nbformat_minor": 2
}
