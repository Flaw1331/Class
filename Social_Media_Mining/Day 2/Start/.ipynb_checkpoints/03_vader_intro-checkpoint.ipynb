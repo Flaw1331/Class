{
 "cells": [
  {
   "cell_type": "markdown",
   "metadata": {},
   "source": [
    "### **V**alence **A**ware **D**ictionary and s**e**ntiment **Reasoner** ([VADER](https://github.com/cjhutto/vaderSentiment)).\n",
    "\n",
    "<img src='Vader_1.jpg' width=200/>\n",
    "\n",
    "* VADER https://github.com/cjhutto/vaderSentiment).\n",
    "\n",
    "* To install `pip install vaderSentiment==2.5`.\n",
    "\n",
    "See the formal scientific paper about Vader, vader_paper.pdf in this folder.\n",
    "\n",
    "\n",
    "* **Sentiment analysis** - working out if a piece of text is positive, negative or neutral. \n",
    "\n",
    "### Vader Tips from http://programminghistorian.github.io/ph-submissions/lessons/exploratory-data-analysis-with-nlp\n",
    "\n",
    "* The majority of sentiment analysis approaches take one of two forms: **polarity-based**, where pieces of texts are classified as either positive or negative, or **valence-based**, where the intensity of the sentiment is taken into account. For example, the words ‘good’ and ‘excellent’ would be treated the same in a polarity-based approach, whereas ‘excellent’ would be treated as more positive than ‘good’ in a valence-based approach.\n",
    " \n",
    "* Unlike other techniques that require training on related text before use, Vader is ready to go for analysis without any special setup. Vader is unique in that it makes fine-tuned distinctions between varying degrees of positivity and negative and words and features. For example, Vader scores “comfort” moderately positively and “euphoria” extremely positively. \n",
    "\n",
    "* Vader looks at punctuation. `I love it!` ranks higher than `I love it`\n",
    "\n",
    "* Vader looks at caps. `I LOVE IT!` ranks higher than `I love it!`\n",
    "\n",
    "* Vader looks at degree modifiers. `I effing love it` is higher than `I kinda love it`. Intensity will increase or decrease based on modifiers.\n",
    "\n",
    "* Vader looks at 'but'. `I love it but it's not for me.`\n",
    "\n",
    "* Vader looks at emoticons.\n",
    "\n",
    "* Like any text analysis tool, Vader should be evaluated critically and in the context of the assumptions it makes about communication. Vader was developed in the mid-2010s primarily for microblogging and social media (especially Twitter). Not as good with political speeches, formal emails, or books.\n",
    "\n",
    "* Sentiment analysis in general has trouble with irony, sarcasm, and mockery. It also doesn't understand larger themes.\n",
    "\n",
    "* It is more complicated, but you can update the dictionary with your own positive and negative weights.\n",
    "\n",
    "## Natural Language Processing\n",
    "\n",
    "* Vader is the tip of the iceberg of Natural Language Processing. If you are interested in this, check out the Natural Language Toolkit: http://www.nltk.org\n",
    "\n",
    "* Also, great twitter analysis of Trumps tweets in R to determine which tweets come from him and which come from staffers. See: http://varianceexplained.org/r/trump-tweets/. "
   ]
  },
  {
   "cell_type": "code",
   "execution_count": 3,
   "metadata": {
    "collapsed": true
   },
   "outputs": [],
   "source": [
    "from vaderSentiment.vaderSentiment import SentimentIntensityAnalyzer"
   ]
  },
  {
   "cell_type": "code",
   "execution_count": 4,
   "metadata": {
    "collapsed": true
   },
   "outputs": [],
   "source": [
    "analyzer = SentimentIntensityAnalyzer()"
   ]
  },
  {
   "cell_type": "code",
   "execution_count": 8,
   "metadata": {},
   "outputs": [
    {
     "name": "stdout",
     "output_type": "stream",
     "text": [
      "smart, beautiful, and funny!\n",
      "Compound Score: 0.8687\n",
      "Positive Score: 0.907\n",
      "Neutral Score: 0.093\n",
      "Negative Score: 0.0\n"
     ]
    }
   ],
   "source": [
    "target_string = \"smart, beautiful, and funny!\"\n",
    "\n",
    "# Run analysis\n",
    "compound = analyzer.polarity_scores(target_string)[\"compound\"]\n",
    "pos = analyzer.polarity_scores(target_string)[\"pos\"]\n",
    "neu = analyzer.polarity_scores(target_string)[\"neu\"]\n",
    "neg = analyzer.polarity_scores(target_string)[\"neg\"]\n",
    "\n",
    "# Print Analysis\n",
    "print(target_string)\n",
    "print(f\"Compound Score: {compound}\")\n",
    "print(f\"Positive Score: {pos}\")\n",
    "print(f\"Neutral Score: {neu}\")\n",
    "print(f\"Negative Score: {neg}\")\n",
    "\n"
   ]
  },
  {
   "cell_type": "markdown",
   "metadata": {},
   "source": [
    "## Sentiment Scoring\n",
    "* positive sentiment: compound score >= 0.5\n",
    "* neutral sentiment: (compound score > -0.5) and (compound score < 0.5)\n",
    "* negative sentiment: compound score <= -0.5"
   ]
  },
  {
   "cell_type": "code",
   "execution_count": 11,
   "metadata": {
    "collapsed": true
   },
   "outputs": [],
   "source": [
    "def AnalyzeText(target_string):\n",
    "    compound = analyzer.polarity_scores(target_string)[\"compound\"]\n",
    "    pos = analyzer.polarity_scores(target_string)[\"pos\"]\n",
    "    neu = analyzer.polarity_scores(target_string)[\"neu\"]\n",
    "    neg = analyzer.polarity_scores(target_string)[\"neg\"]\n",
    "\n",
    "    # Print Analysis\n",
    "    print(target_string)\n",
    "    print(f\"Compound Score: {compound}\")\n",
    "    print(f\"Positive Score: {pos}\")\n",
    "    print(f\"Neutral Score: {neu}\")\n",
    "    print(f\"Negative Score: {neg}\")\n",
    "    print()"
   ]
  },
  {
   "cell_type": "code",
   "execution_count": 35,
   "metadata": {},
   "outputs": [
    {
     "name": "stdout",
     "output_type": "stream",
     "text": [
      "I just got a call from my boss - does he realise it's Saturday?\n",
      "Compound Score: 0.0\n",
      "Positive Score: 0.0\n",
      "Neutral Score: 1.0\n",
      "Negative Score: 0.0\n",
      "\n"
     ]
    }
   ],
   "source": [
    "AnalyzeText(\"I just got a call from my boss - does he realise it's Saturday?\")"
   ]
  },
  {
   "cell_type": "code",
   "execution_count": 36,
   "metadata": {},
   "outputs": [
    {
     "name": "stdout",
     "output_type": "stream",
     "text": [
      "I just got a call from my boss -does he realise it's Saturday? :(\n",
      "Compound Score: -0.4404\n",
      "Positive Score: 0.0\n",
      "Neutral Score: 0.791\n",
      "Negative Score: 0.209\n",
      "\n"
     ]
    }
   ],
   "source": [
    "AnalyzeText(\"I just got a call from my boss -\"\\\n",
    "\"does he realise it's Saturday? :(\")"
   ]
  },
  {
   "cell_type": "code",
   "execution_count": 37,
   "metadata": {},
   "outputs": [
    {
     "name": "stdout",
     "output_type": "stream",
     "text": [
      "I just got a call from my boss - does he realise it's Saturday? smh :(\n",
      "Compound Score: -0.6369\n",
      "Positive Score: 0.0\n",
      "Neutral Score: 0.679\n",
      "Negative Score: 0.321\n",
      "\n"
     ]
    }
   ],
   "source": [
    "# smh - shaking my head\n",
    "AnalyzeText(\"I just got a call from my boss \"\\\n",
    "\"- does he realise it's Saturday? smh :(\")"
   ]
  },
  {
   "cell_type": "code",
   "execution_count": 25,
   "metadata": {},
   "outputs": [
    {
     "name": "stdout",
     "output_type": "stream",
     "text": [
      "The food is good.\n",
      "Compound Score: 0.4404\n",
      "Positive Score: 0.492\n",
      "Neutral Score: 0.508\n",
      "Negative Score: 0.0\n",
      "\n"
     ]
    }
   ],
   "source": [
    "AnalyzeText(\"The food is good.\")"
   ]
  },
  {
   "cell_type": "code",
   "execution_count": 26,
   "metadata": {},
   "outputs": [
    {
     "name": "stdout",
     "output_type": "stream",
     "text": [
      "The food is GOOD.\n",
      "Compound Score: 0.5622\n",
      "Positive Score: 0.548\n",
      "Neutral Score: 0.452\n",
      "Negative Score: 0.0\n",
      "\n"
     ]
    }
   ],
   "source": [
    "AnalyzeText(\"The food is GOOD.\")"
   ]
  },
  {
   "cell_type": "code",
   "execution_count": 27,
   "metadata": {},
   "outputs": [
    {
     "name": "stdout",
     "output_type": "stream",
     "text": [
      "The food is GOOD!\n",
      "Compound Score: 0.6027\n",
      "Positive Score: 0.567\n",
      "Neutral Score: 0.433\n",
      "Negative Score: 0.0\n",
      "\n"
     ]
    }
   ],
   "source": [
    "AnalyzeText(\"The food is GOOD!\")"
   ]
  },
  {
   "cell_type": "code",
   "execution_count": 29,
   "metadata": {},
   "outputs": [
    {
     "name": "stdout",
     "output_type": "stream",
     "text": [
      "The food is really GOOD!\n",
      "Compound Score: 0.6391\n",
      "Positive Score: 0.513\n",
      "Neutral Score: 0.487\n",
      "Negative Score: 0.0\n",
      "\n"
     ]
    }
   ],
   "source": [
    "AnalyzeText(\"The food is really GOOD!\")"
   ]
  },
  {
   "cell_type": "code",
   "execution_count": 32,
   "metadata": {},
   "outputs": [
    {
     "name": "stdout",
     "output_type": "stream",
     "text": [
      "The food is really GOOD! But the service is dreadful.\n",
      "Compound Score: 0.3222\n",
      "Positive Score: 0.279\n",
      "Neutral Score: 0.529\n",
      "Negative Score: 0.192\n",
      "\n"
     ]
    }
   ],
   "source": [
    "AnalyzeText(\"The food is really GOOD! But the service is dreadful.\")"
   ]
  },
  {
   "cell_type": "code",
   "execution_count": 46,
   "metadata": {},
   "outputs": [
    {
     "name": "stdout",
     "output_type": "stream",
     "text": [
      "The Grocers’! oh, the Grocers’! nearly closed, with perhaps two shutters down, or one; but through those gaps such glimpses! It was not alone that the scales descending on the counter made a merry sound, or that the twine and roller parted company so briskly, or that the canisters were rattled up and down like juggling tricks, or even that the blended scents of tea and coffee were so grateful to the nose, or even that the raisins were so plentiful and rare, the almonds so extremely white, the sticks of cinnamon so long and straight, the other spices so delicious, the candied fruits so caked and spotted with molten sugar as to make the coldest lookers-on feel faint and subsequently bilious. \n",
      "Compound Score: 0.9796\n",
      "Positive Score: 0.181\n",
      "Neutral Score: 0.806\n",
      "Negative Score: 0.012\n",
      "\n"
     ]
    }
   ],
   "source": [
    "# Charles Dickens. A Christmas Carol\n",
    "AnalyzeText(\"The Grocers’! oh, the Grocers’! nearly closed, with perhaps two shutters down, or one; but through those gaps such glimpses! It was not alone that the scales descending on the counter made a merry sound, or that the twine and roller parted company so briskly, or that the canisters were rattled up and down like juggling tricks, or even that the blended scents of tea and coffee were so grateful to the nose, or even that the raisins were so plentiful and rare, the almonds so extremely white, the sticks of cinnamon so long and straight, the other spices so delicious, the candied fruits so caked and spotted with molten sugar as to make the coldest lookers-on feel faint and subsequently bilious. \")"
   ]
  },
  {
   "cell_type": "code",
   "execution_count": 43,
   "metadata": {},
   "outputs": [
    {
     "name": "stdout",
     "output_type": "stream",
     "text": [
      "And so, as Tiny Tim said,\"A Merry Christmas to us all; God bless us, every one!\"\n",
      "Compound Score: 0.8268\n",
      "Positive Score: 0.401\n",
      "Neutral Score: 0.599\n",
      "Negative Score: 0.0\n",
      "\n"
     ]
    }
   ],
   "source": [
    "# Charles Dickens. A Christmas Carol\n",
    "AnalyzeText('And so, as Tiny Tim said,\\\n",
    "\"A Merry Christmas to us all; God bless us, every one!\"')"
   ]
  },
  {
   "cell_type": "code",
   "execution_count": 33,
   "metadata": {},
   "outputs": [
    {
     "name": "stdout",
     "output_type": "stream",
     "text": [
      "One morning, when Gregor Samsa woke from troubled dreams, he found himself transformed in his bed into a horrible vermin. He lay on his armour-like back, and if he lifted his head a little he could see his brown belly, slightly domed and divided by arches into stiff sections. The bedding was hardly able to cover it and seemed ready to slide off any moment. His many legs, pitifully thin compared with the size of the rest of him, waved about helplessly as he looked.\n",
      "Compound Score: -0.7096\n",
      "Positive Score: 0.056\n",
      "Neutral Score: 0.825\n",
      "Negative Score: 0.119\n",
      "\n"
     ]
    }
   ],
   "source": [
    "# Franz Kafka - The Metamorphosis\n",
    "AnalyzeText(\"One morning, when Gregor Samsa woke from troubled dreams, \\\n",
    "he found himself transformed in his bed into a horrible vermin. \\\n",
    "He lay on his armour-like back, and if he lifted his head a little \\\n",
    "he could see his brown belly, slightly domed and divided by arches \\\n",
    "into stiff sections. The bedding was hardly able to cover it and \\\n",
    "seemed ready to slide off any moment. His many legs, pitifully \\\n",
    "thin compared with the size of the rest of him, waved about \\\n",
    "helplessly as he looked.\")"
   ]
  },
  {
   "cell_type": "code",
   "execution_count": 34,
   "metadata": {},
   "outputs": [
    {
     "name": "stdout",
     "output_type": "stream",
     "text": [
      "When we recognise the virtues, the talent, the beauty of Mother Earth, something is born in us, some kind of connection, love is born.\n",
      "Compound Score: 0.9231\n",
      "Positive Score: 0.399\n",
      "Neutral Score: 0.601\n",
      "Negative Score: 0.0\n",
      "\n"
     ]
    }
   ],
   "source": [
    "# Thich Nhat Hanh\n",
    "AnalyzeText(\"When we recognise the virtues, the talent, the beauty of \\\n",
    "Mother Earth, something is born in us, some kind of connection, \\\n",
    "love is born.\")"
   ]
  },
  {
   "cell_type": "code",
   "execution_count": null,
   "metadata": {
    "collapsed": true
   },
   "outputs": [],
   "source": []
  },
  {
   "cell_type": "code",
   "execution_count": null,
   "metadata": {
    "collapsed": true
   },
   "outputs": [],
   "source": []
  }
 ],
 "metadata": {
  "kernelspec": {
   "display_name": "Python 3",
   "language": "python",
   "name": "python3"
  },
  "language_info": {
   "codemirror_mode": {
    "name": "ipython",
    "version": 3
   },
   "file_extension": ".py",
   "mimetype": "text/x-python",
   "name": "python",
   "nbconvert_exporter": "python",
   "pygments_lexer": "ipython3",
   "version": "3.6.3"
  }
 },
 "nbformat": 4,
 "nbformat_minor": 2
}
