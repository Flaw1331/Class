{
 "cells": [
  {
   "cell_type": "markdown",
   "metadata": {},
   "source": [
    "# Frequent Twitter Miles\n",
    "\n",
    "Airlines get a lot of flack on twitter, especially from big time Journalists who think they are the only ones affected by flying. Well lets see what kind of tone everyone else takes when tweeting at them.\n",
    "\n",
    "## Instructions\n",
    "\n",
    "Your goal is to analyze 1500 tweets for 7 popular airlines and run a VADER sentiment analysis on them. \n",
    "\n",
    "Taking the usual \"Compound\", \"Positive\", \"Negative\" and \"Netural\" results and print them to Ipython Notebook"
   ]
  },
  {
   "cell_type": "code",
   "execution_count": 1,
   "metadata": {
    "collapsed": true
   },
   "outputs": [],
   "source": [
    "import json\n",
    "import tweepy \n",
    "import os"
   ]
  },
  {
   "cell_type": "code",
   "execution_count": 2,
   "metadata": {
    "collapsed": true
   },
   "outputs": [],
   "source": [
    "api_dir = os.path.dirname(os.path.dirname(os.path.dirname(os.path.dirname(os.path.dirname(os.path.realpath('__file__'))))))\n",
    "file_name = os.path.join(api_dir, \"api_keys.json\")\n",
    "data = json.load(open(file_name))\n",
    "\n",
    "consumer_key = data['twitter_consumer_key']\n",
    "consumer_secret = data['twitter_consumer_secret']\n",
    "access_token = data['twitter_access_token']\n",
    "access_token_secret = data['twitter_access_token_secret']"
   ]
  },
  {
   "cell_type": "code",
   "execution_count": 5,
   "metadata": {
    "collapsed": true
   },
   "outputs": [],
   "source": [
    "# Target Search Term\n",
    "target_terms = (\"@SouthwestAir\", \"@AmericanAir\", \"@SpiritAirlines\",\n",
    "                \"@Virginatlantic\", \"@Delta\", \"@AlaskaAir\", \"@KLM\")\n",
    "\n",
    "# \"Real Person of Interest\" Filters\n",
    "min_tweets = 5\n",
    "max_tweets = 10000\n",
    "max_followers = 2500\n",
    "max_following = 2500\n",
    "lang = \"en\"\n",
    "\n",
    "# Array to hold sentiment\n",
    "sentiment_array = []\n",
    "\n",
    "# Variable for holding the oldest tweet\n",
    "oldest_tweet = \"\""
   ]
  },
  {
   "cell_type": "code",
   "execution_count": 6,
   "metadata": {
    "collapsed": true
   },
   "outputs": [],
   "source": [
    "# @TODO: UNCOMMENT THE FOLLOWING BLOCK AND COMPLETE THE CODE\n",
    "#\n",
    "# # Loop through all target users\n",
    "# # YOUR CODE HERE\n",
    "# raise NotImplementedError()\n",
    "\n",
    "#     # Variables for holding sentiments\n",
    "#     # YOUR CODE HERE\n",
    "#     raise NotImplementedError()\n",
    "\n",
    "#     # Loop through 10 times (total of 1500 tweets)\n",
    "#     # YOUR CODE HERE\n",
    "#     raise NotImplementedError()\n",
    "\n",
    "#         # Run search around each tweet\n",
    "#         # YOUR CODE HERE\n",
    "#         raise NotImplementedError()\n",
    "\n",
    "#         # Loop through all tweets\n",
    "#         # YOUR CODE HERE\n",
    "#         raise NotImplementedError()\n",
    "\n",
    "#             # Use filters to check if user meets conditions\n",
    "#             # YOUR CODE HERE\n",
    "#             raise NotImplementedError()\n",
    "\n",
    "#                 # Run Vader Analysis on each tweet\n",
    "#                 # YOUR CODE HERE\n",
    "#                 raise NotImplementedError()\n",
    "\n",
    "#                 # Add each value to the appropriate array\n",
    "#                 # YOUR CODE HERE\n",
    "#                 raise NotImplementedError()\n",
    "\n",
    "#     # Store the Average Sentiments\n",
    "#     # YOUR CODE HERE\n",
    "#     raise NotImplementedError()\n",
    "\n",
    "#     # Print the Sentiments\n",
    "#     # YOUR CODE HERE\n",
    "#     raise NotImplementedError()\n",
    "\n"
   ]
  },
  {
   "cell_type": "code",
   "execution_count": null,
   "metadata": {
    "collapsed": true
   },
   "outputs": [],
   "source": []
  }
 ],
 "metadata": {
  "kernelspec": {
   "display_name": "Python 3",
   "language": "python",
   "name": "python3"
  },
  "language_info": {
   "codemirror_mode": {
    "name": "ipython",
    "version": 3
   },
   "file_extension": ".py",
   "mimetype": "text/x-python",
   "name": "python",
   "nbconvert_exporter": "python",
   "pygments_lexer": "ipython3",
   "version": "3.6.3"
  }
 },
 "nbformat": 4,
 "nbformat_minor": 2
}
