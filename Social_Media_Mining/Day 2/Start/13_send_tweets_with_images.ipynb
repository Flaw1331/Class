{
 "cells": [
  {
   "cell_type": "code",
   "execution_count": 1,
   "metadata": {
    "collapsed": true
   },
   "outputs": [],
   "source": [
    "import json\n",
    "import tweepy \n",
    "import os"
   ]
  },
  {
   "cell_type": "code",
   "execution_count": 3,
   "metadata": {},
   "outputs": [],
   "source": [
    "api_dir = os.path.dirname(os.path.dirname(os.path.dirname(os.path.dirname(os.path.dirname(os.path.realpath('__file__'))))))\n",
    "file_name = os.path.join(api_dir, \"api_keys.json\")\n",
    "data = json.load(open(file_name))\n",
    "\n",
    "consumer_key = data['twitter_consumer_key']\n",
    "consumer_secret = data['twitter_consumer_secret']\n",
    "access_token = data['twitter_access_token']\n",
    "access_token_secret = data['twitter_access_token_secret']"
   ]
  },
  {
   "cell_type": "code",
   "execution_count": 6,
   "metadata": {
    "collapsed": true
   },
   "outputs": [],
   "source": [
    "auth = tweepy.OAuthHandler(consumer_key, consumer_secret)\n",
    "auth.set_access_token(access_token, access_token_secret)\n",
    "api = tweepy.API(auth, parser=tweepy.parsers.JSONParser())\n"
   ]
  },
  {
   "cell_type": "code",
   "execution_count": 7,
   "metadata": {},
   "outputs": [
    {
     "data": {
      "text/plain": [
       "{'contributors': None,\n",
       " 'coordinates': None,\n",
       " 'created_at': 'Sun Jan 21 21:26:11 +0000 2018',\n",
       " 'entities': {'hashtags': [],\n",
       "  'media': [{'display_url': 'pic.twitter.com/6mSL0BQm19',\n",
       "    'expanded_url': 'https://twitter.com/_friendly_robot/status/955189808296476672/photo/1',\n",
       "    'id': 955189806136418304,\n",
       "    'id_str': '955189806136418304',\n",
       "    'indices': [81, 104],\n",
       "    'media_url': 'http://pbs.twimg.com/media/DUGEEV_V4AAUkTT.jpg',\n",
       "    'media_url_https': 'https://pbs.twimg.com/media/DUGEEV_V4AAUkTT.jpg',\n",
       "    'sizes': {'large': {'h': 960, 'resize': 'fit', 'w': 720},\n",
       "     'medium': {'h': 960, 'resize': 'fit', 'w': 720},\n",
       "     'small': {'h': 680, 'resize': 'fit', 'w': 510},\n",
       "     'thumb': {'h': 150, 'resize': 'crop', 'w': 150}},\n",
       "    'type': 'photo',\n",
       "    'url': 'https://t.co/6mSL0BQm19'}],\n",
       "  'symbols': [],\n",
       "  'urls': [],\n",
       "  'user_mentions': []},\n",
       " 'extended_entities': {'media': [{'display_url': 'pic.twitter.com/6mSL0BQm19',\n",
       "    'expanded_url': 'https://twitter.com/_friendly_robot/status/955189808296476672/photo/1',\n",
       "    'id': 955189806136418304,\n",
       "    'id_str': '955189806136418304',\n",
       "    'indices': [81, 104],\n",
       "    'media_url': 'http://pbs.twimg.com/media/DUGEEV_V4AAUkTT.jpg',\n",
       "    'media_url_https': 'https://pbs.twimg.com/media/DUGEEV_V4AAUkTT.jpg',\n",
       "    'sizes': {'large': {'h': 960, 'resize': 'fit', 'w': 720},\n",
       "     'medium': {'h': 960, 'resize': 'fit', 'w': 720},\n",
       "     'small': {'h': 680, 'resize': 'fit', 'w': 510},\n",
       "     'thumb': {'h': 150, 'resize': 'crop', 'w': 150}},\n",
       "    'type': 'photo',\n",
       "    'url': 'https://t.co/6mSL0BQm19'}]},\n",
       " 'favorite_count': 0,\n",
       " 'favorited': False,\n",
       " 'geo': None,\n",
       " 'id': 955189808296476672,\n",
       " 'id_str': '955189808296476672',\n",
       " 'in_reply_to_screen_name': None,\n",
       " 'in_reply_to_status_id': None,\n",
       " 'in_reply_to_status_id_str': None,\n",
       " 'in_reply_to_user_id': None,\n",
       " 'in_reply_to_user_id_str': None,\n",
       " 'is_quote_status': False,\n",
       " 'lang': 'en',\n",
       " 'place': None,\n",
       " 'possibly_sensitive': False,\n",
       " 'retweet_count': 0,\n",
       " 'retweeted': False,\n",
       " 'source': '<a href=\"https://www.google.com\" rel=\"nofollow\">sample_app_bot</a>',\n",
       " 'text': \"I don't always make joseph ducreux memes, but when I do I tweet them with python https://t.co/6mSL0BQm19\",\n",
       " 'truncated': False,\n",
       " 'user': {'contributors_enabled': False,\n",
       "  'created_at': 'Sat Jan 13 01:04:53 +0000 2018',\n",
       "  'default_profile': False,\n",
       "  'default_profile_image': False,\n",
       "  'description': '',\n",
       "  'entities': {'description': {'urls': []}},\n",
       "  'favourites_count': 0,\n",
       "  'follow_request_sent': False,\n",
       "  'followers_count': 1,\n",
       "  'following': False,\n",
       "  'friends_count': 1,\n",
       "  'geo_enabled': False,\n",
       "  'has_extended_profile': False,\n",
       "  'id': 951983355091935232,\n",
       "  'id_str': '951983355091935232',\n",
       "  'is_translation_enabled': False,\n",
       "  'is_translator': False,\n",
       "  'lang': 'en',\n",
       "  'listed_count': 0,\n",
       "  'location': 'Overland Park, KS',\n",
       "  'name': 'friendly_robot',\n",
       "  'notifications': False,\n",
       "  'profile_background_color': '000000',\n",
       "  'profile_background_image_url': 'http://abs.twimg.com/images/themes/theme1/bg.png',\n",
       "  'profile_background_image_url_https': 'https://abs.twimg.com/images/themes/theme1/bg.png',\n",
       "  'profile_background_tile': False,\n",
       "  'profile_image_url': 'http://pbs.twimg.com/profile_images/951984310927552512/-_Un4r0W_normal.jpg',\n",
       "  'profile_image_url_https': 'https://pbs.twimg.com/profile_images/951984310927552512/-_Un4r0W_normal.jpg',\n",
       "  'profile_link_color': 'ABB8C2',\n",
       "  'profile_sidebar_border_color': '000000',\n",
       "  'profile_sidebar_fill_color': '000000',\n",
       "  'profile_text_color': '000000',\n",
       "  'profile_use_background_image': False,\n",
       "  'protected': False,\n",
       "  'screen_name': '_friendly_robot',\n",
       "  'statuses_count': 44,\n",
       "  'time_zone': 'Pacific Time (US & Canada)',\n",
       "  'translator_type': 'none',\n",
       "  'url': None,\n",
       "  'utc_offset': -28800,\n",
       "  'verified': False}}"
      ]
     },
     "execution_count": 7,
     "metadata": {},
     "output_type": "execute_result"
    }
   ],
   "source": [
    "# Create a status update\n",
    "api.update_with_media(\"louvre.jpg\",\n",
    "                      \"I don't always make joseph ducreux memes, but when I do I tweet them with python\")\n"
   ]
  },
  {
   "cell_type": "code",
   "execution_count": null,
   "metadata": {
    "collapsed": true
   },
   "outputs": [],
   "source": []
  }
 ],
 "metadata": {
  "kernelspec": {
   "display_name": "Python 3",
   "language": "python",
   "name": "python3"
  },
  "language_info": {
   "codemirror_mode": {
    "name": "ipython",
    "version": 3
   },
   "file_extension": ".py",
   "mimetype": "text/x-python",
   "name": "python",
   "nbconvert_exporter": "python",
   "pygments_lexer": "ipython3",
   "version": "3.6.3"
  }
 },
 "nbformat": 4,
 "nbformat_minor": 2
}
