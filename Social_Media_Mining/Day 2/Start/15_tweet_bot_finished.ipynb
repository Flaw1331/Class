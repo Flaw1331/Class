{
 "cells": [
  {
   "cell_type": "markdown",
   "metadata": {},
   "source": [
    "# Hello Twitter World\n",
    "\n",
    "You've spent so much time analyzing and reading everyone elses tweet's that you now have alot on your mind. Well fear not! Now is your time to talk to the world.\n",
    "\n",
    "## Instructions\n",
    "\n",
    "Update your twitter with two separate  status updates.\n",
    "\n",
    "Update your twitter with a photo and a witty comment to go with it.\n",
    "\n",
    "After this is successful look up how to add friends. Once you have done so become twitter followers with someone near you.\n",
    "\n",
    "Once you are both twitter followers of each other you can then send direct messages to one another.\n",
    "\n",
    "Use the [tweepy docs](http://tweepy.readthedocs.io/en/v3.5.0/api.html) for reference\n",
    "\n",
    "## Bonus\n",
    "\n",
    "Retweet a tweet from someone else's account.\n",
    "\n",
    "## Double Bonus\n",
    "\n",
    "Delete some of your most recent tweets.\n",
    "\n"
   ]
  },
  {
   "cell_type": "code",
   "execution_count": 6,
   "metadata": {
    "collapsed": true
   },
   "outputs": [],
   "source": [
    "import json\n",
    "import tweepy \n",
    "import os"
   ]
  },
  {
   "cell_type": "code",
   "execution_count": 7,
   "metadata": {
    "collapsed": true
   },
   "outputs": [],
   "source": [
    "api_dir = os.path.dirname(os.path.dirname(os.path.dirname(os.path.dirname(os.path.dirname(os.path.realpath('__file__'))))))\n",
    "file_name = os.path.join(api_dir, \"api_keys.json\")\n",
    "data = json.load(open(file_name))\n",
    "\n",
    "consumer_key = data['twitter_consumer_key']\n",
    "consumer_secret = data['twitter_consumer_secret']\n",
    "access_token = data['twitter_access_token']\n",
    "access_token_secret = data['twitter_access_token_secret']"
   ]
  },
  {
   "cell_type": "code",
   "execution_count": 3,
   "metadata": {
    "collapsed": true
   },
   "outputs": [],
   "source": [
    "auth = tweepy.OAuthHandler(consumer_key, consumer_secret)\n",
    "auth.set_access_token(access_token, access_token_secret)\n",
    "api = tweepy.API(auth, parser=tweepy.parsers.JSONParser())"
   ]
  },
  {
   "cell_type": "code",
   "execution_count": 4,
   "metadata": {
    "collapsed": true
   },
   "outputs": [],
   "source": [
    "# Note: Twitter prevents tweeting the same status or message multiple\n",
    "# times. Be sure to change the text when testing.\n"
   ]
  },
  {
   "cell_type": "code",
   "execution_count": 5,
   "metadata": {
    "collapsed": true
   },
   "outputs": [],
   "source": [
    "# Create two status updates\n",
    "api.update_status(\"Hello There!\")\n",
    "api.update_status(\"It's a great day!\")\n",
    "\n"
   ]
  },
  {
   "cell_type": "code",
   "execution_count": 6,
   "metadata": {
    "collapsed": true
   },
   "outputs": [],
   "source": [
    "# Create a status update with an image\n",
    "api.update_with_media(\"some_image.jpg\", \"some message \")"
   ]
  },
  {
   "cell_type": "code",
   "execution_count": 7,
   "metadata": {
    "collapsed": true
   },
   "outputs": [],
   "source": [
    "# Create a friendship with another user\n",
    "api.create_friendship(screen_name=\"@PlotBot5\", follow=True)\n"
   ]
  },
  {
   "cell_type": "code",
   "execution_count": 8,
   "metadata": {
    "collapsed": true
   },
   "outputs": [],
   "source": [
    "# Send a direct message to another user (Hint: You will need them to\n",
    "# follow your account)\n",
    "api.send_direct_message(user=\"plotbot5\", text=\"hiiiiiii!!!!!!\")\n"
   ]
  },
  {
   "cell_type": "code",
   "execution_count": 9,
   "metadata": {
    "collapsed": true
   },
   "outputs": [],
   "source": [
    "# Bonus: Retweet any tweet from someone else's account (Hint: You will\n",
    "# need to locate a tweet's id)\n",
    "target_user = \"@ddjournalism\"\n",
    "public_tweets = api.user_timeline(target_user)\n",
    "tweet_id = public_tweets[0][\"id\"]\n",
    "api.retweet(tweet_id)"
   ]
  },
  {
   "cell_type": "code",
   "execution_count": 10,
   "metadata": {
    "collapsed": true
   },
   "outputs": [],
   "source": [
    "# Bonus: Delete your most recent tweet (Hint: \"Destroy\")\n",
    "my_tweets = api.user_timeline()\n",
    "tweet_id = my_tweets[0][\"id\"]\n",
    "api.destroy_status(tweet_id)"
   ]
  },
  {
   "cell_type": "code",
   "execution_count": null,
   "metadata": {
    "collapsed": true
   },
   "outputs": [],
   "source": [
    "# Bonus: Delete your most recent sent message (Hint: \"Destroy\")\n",
    "my_messages = api.sent_direct_messages()\n",
    "message_id = my_messages[0][\"id\"]\n",
    "api.destroy_direct_message(message_id)\n"
   ]
  }
 ],
 "metadata": {
  "kernelspec": {
   "display_name": "Python 3",
   "language": "python",
   "name": "python3"
  },
  "language_info": {
   "codemirror_mode": {
    "name": "ipython",
    "version": 3
   },
   "file_extension": ".py",
   "mimetype": "text/x-python",
   "name": "python",
   "nbconvert_exporter": "python",
   "pygments_lexer": "ipython3",
   "version": "3.6.3"
  }
 },
 "nbformat": 4,
 "nbformat_minor": 2
}
