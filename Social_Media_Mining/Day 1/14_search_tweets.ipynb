{
 "cells": [
  {
   "cell_type": "code",
   "execution_count": 1,
   "metadata": {
    "collapsed": true
   },
   "outputs": [],
   "source": [
    "import tweepy\n",
    "import json\n",
    "import numpy as np\n",
    "from datetime import datetime\n",
    "import matplotlib.pyplot as plt\n",
    "import os\n",
    "from dateutil import parser\n",
    "from datetime import timedelta"
   ]
  },
  {
   "cell_type": "code",
   "execution_count": 2,
   "metadata": {
    "collapsed": true
   },
   "outputs": [],
   "source": [
    "api_dir = os.path.dirname(os.path.dirname(os.path.dirname(os.path.dirname(os.path.dirname(os.path.realpath('__file__'))))))\n",
    "file_name = os.path.join(api_dir, \"api_keys.json\")\n",
    "data = json.load(open(file_name))\n",
    "\n",
    "gkey = data['google_places_api_key']\n",
    "consumer_key = data['twitter_consumer_key']\n",
    "consumer_secret = data['twitter_consumer_secret']\n",
    "access_token = data['twitter_access_token']\n",
    "access_token_secret = data['twitter_access_token_secret']"
   ]
  },
  {
   "cell_type": "code",
   "execution_count": 7,
   "metadata": {
    "collapsed": true
   },
   "outputs": [],
   "source": [
    "# Setup Tweepy API Authentication\n",
    "auth = tweepy.OAuthHandler(consumer_key, consumer_secret)\n",
    "auth.set_access_token(access_token, access_token_secret)\n",
    "api = tweepy.API(auth, parser=tweepy.parsers.JSONParser())"
   ]
  },
  {
   "cell_type": "code",
   "execution_count": 8,
   "metadata": {
    "collapsed": true
   },
   "outputs": [],
   "source": [
    "# term you want to search for\n",
    "search_term = \"#victory\""
   ]
  },
  {
   "cell_type": "code",
   "execution_count": 9,
   "metadata": {},
   "outputs": [
    {
     "name": "stdout",
     "output_type": "stream",
     "text": [
      "RT @KishwerM: Kya yeh sach hai #shilpafans ?  #victory ? #BB11\n",
      "RT @luckiestsquid: IT IS COMPLETE. #Victory #criticalrolefanart #CriticalRole #CriticalRoleSpoilers @VoiceOfOBrien @LauraBaileyVO @matthewm…\n",
      "RT @luckiestsquid: IT IS COMPLETE. #Victory #criticalrolefanart #CriticalRole #CriticalRoleSpoilers @VoiceOfOBrien @LauraBaileyVO @matthewm…\n",
      "RT @luckiestsquid: IT IS COMPLETE. #Victory #criticalrolefanart #CriticalRole #CriticalRoleSpoilers @VoiceOfOBrien @LauraBaileyVO @matthewm…\n",
      "RT @luckiestsquid: IT IS COMPLETE. #Victory #criticalrolefanart #CriticalRole #CriticalRoleSpoilers @VoiceOfOBrien @LauraBaileyVO @matthewm…\n",
      "RT @luckiestsquid: IT IS COMPLETE. #Victory #criticalrolefanart #CriticalRole #CriticalRoleSpoilers @VoiceOfOBrien @LauraBaileyVO @matthewm…\n",
      "RT @luckiestsquid: IT IS COMPLETE. #Victory #criticalrolefanart #CriticalRole #CriticalRoleSpoilers @VoiceOfOBrien @LauraBaileyVO @matthewm…\n",
      "#Vikings postgame celebration photo .... #Victory #Drama https://t.co/U27VCLSoat\n",
      "RT @luckiestsquid: IT IS COMPLETE. #Victory #criticalrolefanart #CriticalRole #CriticalRoleSpoilers @VoiceOfOBrien @LauraBaileyVO @matthewm…\n",
      "RT @luckiestsquid: IT IS COMPLETE. #Victory #criticalrolefanart #CriticalRole #CriticalRoleSpoilers @VoiceOfOBrien @LauraBaileyVO @matthewm…\n",
      "RT @luckiestsquid: IT IS COMPLETE. #Victory #criticalrolefanart #CriticalRole #CriticalRoleSpoilers @VoiceOfOBrien @LauraBaileyVO @matthewm…\n",
      "Wow incredible polo Reyes 👊👊👊💪💪 #UFCSTL Congrats!! #TeamMexico night #Victory\n",
      "RT @luckiestsquid: IT IS COMPLETE. #Victory #criticalrolefanart #CriticalRole #CriticalRoleSpoilers @VoiceOfOBrien @LauraBaileyVO @matthewm…\n",
      "When you beat your cattle farmer husband at his own game @NerbasBrosAngus #Winning  #riskybusinessboardgame #Victory https://t.co/KvYetXN4JV\n",
      "RT @luckiestsquid: IT IS COMPLETE. #Victory #criticalrolefanart #CriticalRole #CriticalRoleSpoilers @VoiceOfOBrien @LauraBaileyVO @matthewm…\n"
     ]
    }
   ],
   "source": [
    "public_tweets = api.search(search_term, rpp=10)\n",
    "\n",
    "# View Search Object\n",
    "# print(public_tweets)\n",
    "\n",
    "# Loop through all tweets\n",
    "for tweet in public_tweets[\"statuses\"]:\n",
    "\n",
    "    # Utilize JSON dumps to generate a pretty-printed json\n",
    "    # print(json.dumps(tweet, sort_keys=True, indent=4, separators=(',', ': ')))\n",
    "    print(tweet[\"text\"])\n"
   ]
  },
  {
   "cell_type": "code",
   "execution_count": null,
   "metadata": {
    "collapsed": true
   },
   "outputs": [],
   "source": []
  }
 ],
 "metadata": {
  "kernelspec": {
   "display_name": "Python 3",
   "language": "python",
   "name": "python3"
  },
  "language_info": {
   "codemirror_mode": {
    "name": "ipython",
    "version": 3
   },
   "file_extension": ".py",
   "mimetype": "text/x-python",
   "name": "python",
   "nbconvert_exporter": "python",
   "pygments_lexer": "ipython3",
   "version": "3.6.3"
  }
 },
 "nbformat": 4,
 "nbformat_minor": 2
}
