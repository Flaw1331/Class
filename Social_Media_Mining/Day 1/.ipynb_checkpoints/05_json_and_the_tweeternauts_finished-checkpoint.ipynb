{
 "cells": [
  {
   "cell_type": "markdown",
   "metadata": {
    "collapsed": true
   },
   "source": [
    "### 8. Everyone Do: JSON and the Tweeternauts\n",
    "\n",
    "* Up to this point, we've been retrieving the entire info, or \"status,\" about each tweet in JSON format. While comprehensive, it is not easy to read!\n",
    "\n",
    "* We will now work on parsing the JSON data format to extract only the data that we need.\n",
    "\n",
    "** Hint: **\n",
    "* The `sample_data` is a list of tweets, but that you'll probably only need `sample_data[0]` to answer the questions 1, 2, 4, and 5.\n"
   ]
  },
  {
   "cell_type": "code",
   "execution_count": 1,
   "metadata": {
    "collapsed": true
   },
   "outputs": [],
   "source": [
    "import json\n",
    "import os"
   ]
  },
  {
   "cell_type": "code",
   "execution_count": 2,
   "metadata": {
    "collapsed": true
   },
   "outputs": [],
   "source": [
    "file_name = os.path.join(\"Resources\", \"SampleX.json\")\n",
    "# load SampleX.json into sample_data variable\n",
    "sample_data = json.load(open(file_name))"
   ]
  },
  {
   "cell_type": "code",
   "execution_count": 19,
   "metadata": {},
   "outputs": [
    {
     "name": "stdout",
     "output_type": "stream",
     "text": [
      "User Account: The Associated Press\n"
     ]
    }
   ],
   "source": [
    "# Question 1: What account are the tweets associated with?\n",
    "print(\"User Account: \" + sample_data[0][\"user\"][\"name\"])"
   ]
  },
  {
   "cell_type": "code",
   "execution_count": 20,
   "metadata": {},
   "outputs": [
    {
     "name": "stdout",
     "output_type": "stream",
     "text": [
      "Follower Count: 10149654\n"
     ]
    }
   ],
   "source": [
    "# Question 2: How many followers does this account have associated with it?\n",
    "print(\"Follower Count: \" + str(sample_data[0][\"user\"][\"followers_count\"]))"
   ]
  },
  {
   "cell_type": "code",
   "execution_count": 21,
   "metadata": {},
   "outputs": [
    {
     "name": "stdout",
     "output_type": "stream",
     "text": [
      "Tweets: 20\n"
     ]
    }
   ],
   "source": [
    "# Question 3: How many tweets are included in the Sample?\n",
    "print('Tweets: {}'.format(len(sample_data)))"
   ]
  },
  {
   "cell_type": "code",
   "execution_count": 22,
   "metadata": {},
   "outputs": [
    {
     "name": "stdout",
     "output_type": "stream",
     "text": [
      "Tweet Count (Total) 168829\n"
     ]
    }
   ],
   "source": [
    "# Question 4: How many tweets total has this account made?\n",
    "print(\"Tweet Count (Total) {}\".format(\n",
    "    sample_data[0][\"user\"][\"statuses_count\"]))\n"
   ]
  },
  {
   "cell_type": "code",
   "execution_count": 23,
   "metadata": {},
   "outputs": [
    {
     "name": "stdout",
     "output_type": "stream",
     "text": [
      "Most Recent Tweet: RT @AP_Politics: Official says couple hundred Marines arrive in Syria with artillery to help with Islamic State fight, by @lbaldor \n",
      "https:/…\n",
      "\n"
     ]
    }
   ],
   "source": [
    "# Question 5: What was the text in the most recent tweet?\n",
    "print(\"Most Recent Tweet: %s\" % (sample_data[0][\"text\"]))\n",
    "print(\"\")"
   ]
  },
  {
   "cell_type": "code",
   "execution_count": 24,
   "metadata": {},
   "outputs": [
    {
     "name": "stdout",
     "output_type": "stream",
     "text": [
      "All Tweets:\n",
      "RT @AP_Politics: Official says couple hundred Marines arrive in Syria with artillery to help with Islamic State fight, by @lbaldor \n",
      "https:/…\n",
      "\n",
      "RT @APWestRegion: Uber's self-driving cars are coming back to California streets, but don't look for them on the app right away https://t.c…\n",
      "\n",
      "RT @APCentralRegion: #Chicago police take a page from #NYC’s police playbook: Focus on building community trust. https://t.co/CbkSSIHNAp ht…\n",
      "\n",
      "RT @APEastRegion: \"Fearless Girl\" statue stares down Wall Street's iconic bull, stirring conversation on #InternationalWomensDay. https://t…\n",
      "\n",
      "RT @AP_Politics: #APFactCheck: How accurate are the Congressional Budget Office estimates? https://t.co/CLSWguXTmN https://t.co/nsREGVQmkS\n",
      "\n",
      "RT @APHealthScience: More than 11,700 daily U.S. heat records were set last month, the second warmest February on record. @borenbears https…\n",
      "\n",
      "RT @APWestRegion: To meet Trump's order to hire 5,000 agents, Border Patrol considers letting some applicants skip lie-detector tests https…\n",
      "\n",
      "RT @APSouthRegion: Woman tells 911 operator her boss will kill her if she leaves the mansion where she works. https://t.co/Cq2TOQdZsE https…\n",
      "\n",
      "RT @AP_Oddities: Florida city's former website taken over by someone hosting pornographic content. https://t.co/f4rivs71Db #odd\n",
      "\n",
      "RT @APCentralRegion: It may take until Thanksgiving to repair a sewer line that caused a football field-sized sinkhole in Michigan. https:/…\n",
      "\n",
      "RT @AP_Sports: From 4-0 down, Barcelona completes amazing comeback against Paris Saint-Germain with 3 goals after the 88th minute https://t…\n",
      "\n",
      "RT @AP_Politics: Meet White House Counsel Don McGahn, President Donald Trump's in-house guard rail. https://t.co/AM7GSpyy6E https://t.co/Kk…\n",
      "\n",
      "RT @APEastRegion: WATCH: FBI Director James Comey says cyber threats facing U.S. are enormous, require cooperation. Video by @ngowi. https:…\n",
      "\n",
      "Should you trust your gut instincts? @OhioState weighs the research. (By @ConversationUS, a source of news from aca… https://t.co/F3faisEfEr\n",
      "\n",
      "RT @AP_Oddities: 'Hey, look, I got a new piercing:' Ski instructor tries to jump between trees while snowboarding, impales lip. https://t.c…\n",
      "\n",
      "AP FACT CHECK: A former inmate didn't murder his girlfriend after receiving a pardon from President Obama. https://t.co/UyzL6T260n\n",
      "\n",
      "Female artists in Rio de Janeiro promote women's rights through their painting and graffiti. https://t.co/PQybjQ2wgA https://t.co/0Bcw8zRkdM\n",
      "\n",
      "With her hands firmly planted on her waist, 'Fearless Girl' statue stares down Wall Street's iconic bull. https://t.co/DTmaDzY62M\n",
      "\n",
      "Heritage reduced to rubble - @AP gets first look inside Mosul museum post IS destruction. https://t.co/lLRBir27dE https://t.co/Hy18VMtw1z\n",
      "\n",
      "RT @APSouthRegion: More from @AP's interview with #CaseyAnthony: The Florida woman, shown now and then, in her own words on Caylee. https:/…\n",
      "\n"
     ]
    }
   ],
   "source": [
    "# Question 6: What was the text associated with each of the tweets\n",
    "# included in this sample data?\n",
    "print(\"All Tweets:\")\n",
    "for tweet in sample_data:\n",
    "    print(tweet[\"text\"])\n",
    "    print()\n"
   ]
  },
  {
   "cell_type": "code",
   "execution_count": 25,
   "metadata": {},
   "outputs": [
    {
     "name": "stdout",
     "output_type": "stream",
     "text": [
      "Most Popular Tweet: With her hands firmly planted on her waist, 'Fearless Girl' statue stares down Wall Street's iconic bull. https://t.co/DTmaDzY62M\n",
      "Number of Retweets: 466\n",
      "\n"
     ]
    },
    {
     "data": {
      "text/plain": [
       "466"
      ]
     },
     "execution_count": 25,
     "metadata": {},
     "output_type": "execute_result"
    }
   ],
   "source": [
    "# Question 7 (Bonus): Which of the user's tweets was most frequently\n",
    "# retweeted? How many retweets were there?\n",
    "top_tweet = \"\"\n",
    "retweet_count = 0\n",
    "\n",
    "for tweet in sample_data:\n",
    "    if(tweet[\"retweet_count\"] > retweet_count):\n",
    "        top_tweet = tweet[\"text\"]\n",
    "        retweet_count = tweet[\"retweet_count\"]\n",
    "print(\"Most Popular Tweet: \" + top_tweet)\n",
    "print(\"Number of Retweets: \" + str(retweet_count))\n",
    "print(\"\")\n",
    "\n",
    "max([part['retweet_count'] for part in sample_data])\n"
   ]
  },
  {
   "cell_type": "code",
   "execution_count": null,
   "metadata": {
    "collapsed": true
   },
   "outputs": [],
   "source": []
  }
 ],
 "metadata": {
  "kernelspec": {
   "display_name": "Python 3",
   "language": "python",
   "name": "python3"
  },
  "language_info": {
   "codemirror_mode": {
    "name": "ipython",
    "version": 3
   },
   "file_extension": ".py",
   "mimetype": "text/x-python",
   "name": "python",
   "nbconvert_exporter": "python",
   "pygments_lexer": "ipython3",
   "version": "3.6.3"
  }
 },
 "nbformat": 4,
 "nbformat_minor": 2
}
