{
 "cells": [
  {
   "cell_type": "markdown",
   "metadata": {},
   "source": [
    "# Popular Twitter Accounts\n",
    "\n",
    "## Instructions\n",
    "\n",
    "* In this activity, you are given an incomplete CSV file of Twitter's most popular accounts. You will use this CSV file in conjunction with Tweepy's API to create a pandas DataFrame.\n",
    "\n",
    "* Consult the Jupyter Notebook file for instructions, but here are your tasks:\n",
    "\n",
    "* The \"PopularAccounts.csv\" file has columns whose info needs to be filled in.\n",
    "\n",
    "* Create a pandas DataFrame and import the CSV file into it.\n",
    "\n",
    "* Call Tweepy's API to retrieve the info for the missing columns in the starter CSV.\n",
    "\n",
    "* Export the results to a new CSV file called \"PopularAccounts_New.csv\"\n",
    "\n",
    "* Calculate the averages of a user's tweets, # of followers, etc., then create a DataFrame of the averages."
   ]
  },
  {
   "cell_type": "code",
   "execution_count": 1,
   "metadata": {
    "collapsed": true
   },
   "outputs": [],
   "source": [
    "import tweepy\n",
    "import json\n",
    "import pandas as pd\n",
    "import os\n",
    "# Your Twitter API Keys\n",
    "api_dir = os.path.dirname(os.path.dirname(os.path.dirname(os.path.dirname(os.path.dirname(os.path.realpath('__file__'))))))\n",
    "file_name = os.path.join(api_dir, \"api_keys.json\")\n",
    "data = json.load(open(file_name))\n",
    "\n",
    "gkey = data['google_places_api_key']\n",
    "consumer_key = data['twitter_consumer_key']\n",
    "consumer_secret = data['twitter_consumer_secret']\n",
    "access_token = data['twitter_access_token']\n",
    "access_token_secret = data['twitter_access_token_secret']\n",
    "\n",
    "\n",
    "auth = tweepy.OAuthHandler(consumer_key, consumer_secret)\n",
    "auth.set_access_token(access_token, access_token_secret)\n",
    "api = tweepy.API(auth, parser=tweepy.parsers.JSONParser())"
   ]
  },
  {
   "cell_type": "markdown",
   "metadata": {},
   "source": [
    "### Iterrows?\n",
    "\n",
    "Iterrows will allow you to parse through a Panda's dataframe.\n",
    "It returns two values for each iteration.\n",
    "\n",
    "* index = index of the Data Frame\n",
    "* data = everything in your object. In the case below 'names' and 'tweets' "
   ]
  },
  {
   "cell_type": "code",
   "execution_count": 57,
   "metadata": {},
   "outputs": [
    {
     "name": "stdout",
     "output_type": "stream",
     "text": [
      "Index: 0\n",
      "Henry\n",
      "100\n",
      "\n",
      "Index: 1\n",
      "Bob\n",
      "110\n",
      "\n",
      "Index: 2\n",
      "Sam\n",
      "120\n",
      "\n"
     ]
    }
   ],
   "source": [
    "my_tweets = [{'name':\"Henry\", 'tweets':100}, {'name':\"Bob\",'tweets':110}, {'name':'Sam','tweets':120}]\n",
    "df = pd.DataFrame(my_tweets)\n",
    "for index, row in df.iterrows():\n",
    "    print(\"Index: \" + str(index))\n",
    "    print(row['name'])\n",
    "    print(row['tweets'])\n",
    "    print()"
   ]
  },
  {
   "cell_type": "markdown",
   "metadata": {},
   "source": [
    "## Iterrows is quirky\n",
    "\n",
    "If you need to change your DataFrame, you can't change the data variable in the code below.\n",
    "You have to df.set_value(index, 'tweets', value) as shown below:"
   ]
  },
  {
   "cell_type": "code",
   "execution_count": 58,
   "metadata": {},
   "outputs": [
    {
     "name": "stdout",
     "output_type": "stream",
     "text": [
      "    name  tweets\n",
      "0  Henry     243\n",
      "1    Bob     243\n",
      "2    Sam     243\n"
     ]
    }
   ],
   "source": [
    "my_tweets = [{'name':\"Henry\", 'tweets':100}, {'name':\"Bob\",'tweets':110}, {'name':'Sam','tweets':120}]\n",
    "df = pd.DataFrame(my_tweets)\n",
    "for index, data in df.iterrows():\n",
    "    # can't do data['tweets'] = data['tweets'] + 123 or similar here. Must use set_value\n",
    "    new_tweets = row['tweets'] + 123\n",
    "    df.set_value(index, 'tweets', new_tweets)\n",
    "\n",
    "print(df)\n"
   ]
  },
  {
   "cell_type": "code",
   "execution_count": 59,
   "metadata": {
    "collapsed": true
   },
   "outputs": [],
   "source": [
    "file_name = os.path.join(\"Resources\", \"PopularAccounts.csv\")\n",
    "popular_tweeters = pd.read_csv(file_name, dtype=str)"
   ]
  },
  {
   "cell_type": "code",
   "execution_count": 60,
   "metadata": {},
   "outputs": [
    {
     "data": {
      "text/html": [
       "<div>\n",
       "<style>\n",
       "    .dataframe thead tr:only-child th {\n",
       "        text-align: right;\n",
       "    }\n",
       "\n",
       "    .dataframe thead th {\n",
       "        text-align: left;\n",
       "    }\n",
       "\n",
       "    .dataframe tbody tr th {\n",
       "        vertical-align: top;\n",
       "    }\n",
       "</style>\n",
       "<table border=\"1\" class=\"dataframe\">\n",
       "  <thead>\n",
       "    <tr style=\"text-align: right;\">\n",
       "      <th></th>\n",
       "      <th>Screen Name</th>\n",
       "      <th>Real Name</th>\n",
       "      <th>Tweets</th>\n",
       "      <th>Followers</th>\n",
       "      <th>Following</th>\n",
       "      <th>Favorites Count</th>\n",
       "    </tr>\n",
       "  </thead>\n",
       "  <tbody>\n",
       "    <tr>\n",
       "      <th>0</th>\n",
       "      <td>katyperry</td>\n",
       "      <td>NaN</td>\n",
       "      <td>NaN</td>\n",
       "      <td>NaN</td>\n",
       "      <td>NaN</td>\n",
       "      <td>NaN</td>\n",
       "    </tr>\n",
       "    <tr>\n",
       "      <th>1</th>\n",
       "      <td>justinbieber</td>\n",
       "      <td>NaN</td>\n",
       "      <td>NaN</td>\n",
       "      <td>NaN</td>\n",
       "      <td>NaN</td>\n",
       "      <td>NaN</td>\n",
       "    </tr>\n",
       "    <tr>\n",
       "      <th>2</th>\n",
       "      <td>BarackObama</td>\n",
       "      <td>NaN</td>\n",
       "      <td>NaN</td>\n",
       "      <td>NaN</td>\n",
       "      <td>NaN</td>\n",
       "      <td>NaN</td>\n",
       "    </tr>\n",
       "    <tr>\n",
       "      <th>3</th>\n",
       "      <td>Taylorswift13</td>\n",
       "      <td>NaN</td>\n",
       "      <td>NaN</td>\n",
       "      <td>NaN</td>\n",
       "      <td>NaN</td>\n",
       "      <td>NaN</td>\n",
       "    </tr>\n",
       "    <tr>\n",
       "      <th>4</th>\n",
       "      <td>rihanna</td>\n",
       "      <td>NaN</td>\n",
       "      <td>NaN</td>\n",
       "      <td>NaN</td>\n",
       "      <td>NaN</td>\n",
       "      <td>NaN</td>\n",
       "    </tr>\n",
       "  </tbody>\n",
       "</table>\n",
       "</div>"
      ],
      "text/plain": [
       "     Screen Name Real Name Tweets Followers Following Favorites Count\n",
       "0      katyperry       NaN    NaN       NaN       NaN             NaN\n",
       "1   justinbieber       NaN    NaN       NaN       NaN             NaN\n",
       "2    BarackObama       NaN    NaN       NaN       NaN             NaN\n",
       "3  Taylorswift13       NaN    NaN       NaN       NaN             NaN\n",
       "4        rihanna       NaN    NaN       NaN       NaN             NaN"
      ]
     },
     "execution_count": 60,
     "metadata": {},
     "output_type": "execute_result"
    }
   ],
   "source": [
    "popular_tweeters.head()"
   ]
  },
  {
   "cell_type": "code",
   "execution_count": 62,
   "metadata": {},
   "outputs": [
    {
     "ename": "SyntaxError",
     "evalue": "invalid syntax (<ipython-input-62-d95af2c80099>, line 11)",
     "output_type": "error",
     "traceback": [
      "\u001b[0;36m  File \u001b[0;32m\"<ipython-input-62-d95af2c80099>\"\u001b[0;36m, line \u001b[0;32m11\u001b[0m\n\u001b[0;31m    user_account = #add code here\u001b[0m\n\u001b[0m                                 ^\u001b[0m\n\u001b[0;31mSyntaxError\u001b[0m\u001b[0;31m:\u001b[0m invalid syntax\n"
     ]
    }
   ],
   "source": [
    "# Iterate through DataFrame\n",
    "for index, row in popular_tweeters.iterrows():\n",
    "    \n",
    "    # Error handling\n",
    "    try:\n",
    "        # Grab the username\n",
    "        target_user = row[\"Screen Name\"]\n",
    "\n",
    "        # Use the tweepy api to get_user located in the target_user variable\n",
    "        # Use the username with the Twitter API get_user\n",
    "        user_account = #add code here\n",
    "        user_real_name = user_account[\"name\"]\n",
    "        print(user_real_name)\n",
    "\n",
    "        # Get the specific column data: statuses_count, \n",
    "        # followers_count, favourites_count, friends_count\n",
    "\n",
    "        # Replace the row information for each\n",
    "        popular_tweeters.set_value(index, \"Real Name\", user_real_name)\n",
    "        # set [\"statuses_count\"] for the \"Tweets\" column\n",
    "        # set [\"followers_count\"] for the \"Followers\" column\n",
    "        # set [\"favorites_count\"] for the \"Favorites Count column\n",
    "        # set [\"friends_count\"] for the \"Following\" column\n",
    "    \n",
    "    # If an error is encountered, move on with the next iteration of the loop\n",
    "    except tweepy.TweepError:\n",
    "        print (\"target user skipped: \" + target_user)\n",
    "        continue\n",
    "        \n",
    "# Export the new CSV as \"PopularAccounts_New.csv\"\n",
    "# Hint: use the to_csv() method\n"
   ]
  },
  {
   "cell_type": "code",
   "execution_count": 63,
   "metadata": {
    "collapsed": true
   },
   "outputs": [],
   "source": [
    "#popular_tweeters.head"
   ]
  },
  {
   "cell_type": "code",
   "execution_count": 64,
   "metadata": {
    "collapsed": true
   },
   "outputs": [],
   "source": [
    "# Calculate Averages of the following: \n",
    "# \"Tweets\"; \"Followers\"; \"Follwing\"; \"Favorites Count\"\n",
    "\n",
    "# Create a dictionary\n",
    "averages = {\"Average Tweet Count\": average_tweet_count, \n",
    "            \"Average Follower Count\": average_followers, \n",
    "            \"Average Following Count\": average_following_count,\n",
    "            \"Average Favorites Count\": average_favorites_count}\n",
    "\n",
    "# Create a Dataframe of the averages\n"
   ]
  },
  {
   "cell_type": "code",
   "execution_count": 65,
   "metadata": {},
   "outputs": [
    {
     "data": {
      "text/html": [
       "<div>\n",
       "<style>\n",
       "    .dataframe thead tr:only-child th {\n",
       "        text-align: right;\n",
       "    }\n",
       "\n",
       "    .dataframe thead th {\n",
       "        text-align: left;\n",
       "    }\n",
       "\n",
       "    .dataframe tbody tr th {\n",
       "        vertical-align: top;\n",
       "    }\n",
       "</style>\n",
       "<table border=\"1\" class=\"dataframe\">\n",
       "  <thead>\n",
       "    <tr style=\"text-align: right;\">\n",
       "      <th></th>\n",
       "      <th>Average Favorites Count</th>\n",
       "      <th>Average Follower Count</th>\n",
       "      <th>Average Following Count</th>\n",
       "      <th>Average Tweet Count</th>\n",
       "    </tr>\n",
       "  </thead>\n",
       "  <tbody>\n",
       "    <tr>\n",
       "      <th>Top Accounts</th>\n",
       "      <td>1794.306122</td>\n",
       "      <td>4.927553e+07</td>\n",
       "      <td>32685.530612</td>\n",
       "      <td>31360.632653</td>\n",
       "    </tr>\n",
       "  </tbody>\n",
       "</table>\n",
       "</div>"
      ],
      "text/plain": [
       "              Average Favorites Count  Average Follower Count  \\\n",
       "Top Accounts              1794.306122            4.927553e+07   \n",
       "\n",
       "              Average Following Count  Average Tweet Count  \n",
       "Top Accounts             32685.530612         31360.632653  "
      ]
     },
     "execution_count": 65,
     "metadata": {},
     "output_type": "execute_result"
    }
   ],
   "source": [
    "data_frame"
   ]
  },
  {
   "cell_type": "code",
   "execution_count": null,
   "metadata": {
    "collapsed": true
   },
   "outputs": [],
   "source": []
  }
 ],
 "metadata": {
  "kernelspec": {
   "display_name": "Python 3",
   "language": "python",
   "name": "python3"
  },
  "language_info": {
   "codemirror_mode": {
    "name": "ipython",
    "version": 3
   },
   "file_extension": ".py",
   "mimetype": "text/x-python",
   "name": "python",
   "nbconvert_exporter": "python",
   "pygments_lexer": "ipython3",
   "version": "3.6.3"
  }
 },
 "nbformat": 4,
 "nbformat_minor": 2
}
