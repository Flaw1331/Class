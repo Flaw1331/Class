{
 "cells": [
  {
   "cell_type": "code",
   "execution_count": 2,
   "metadata": {
    "collapsed": true
   },
   "outputs": [],
   "source": [
    "import json\n",
    "import tweepy \n",
    "import datetime\n",
    "import os\n",
    "import numpy as np\n",
    "from dateutil import parser"
   ]
  },
  {
   "cell_type": "code",
   "execution_count": 3,
   "metadata": {},
   "outputs": [],
   "source": [
    "api_dir = os.path.dirname(os.path.dirname(os.path.dirname(os.path.dirname(os.path.dirname(os.path.realpath('__file__'))))))\n",
    "file_name = os.path.join(api_dir, \"api_keys.json\")\n",
    "data = json.load(open(file_name))\n",
    "\n",
    "gkey = data['google_places_api_key']\n",
    "consumer_key = data['twitter_consumer_key']\n",
    "consumer_secret = data['twitter_consumer_secret']\n",
    "access_token = data['twitter_access_token']\n",
    "access_token_secret = data['twitter_access_token_secret']\n",
    "\n"
   ]
  },
  {
   "cell_type": "code",
   "execution_count": 23,
   "metadata": {
    "collapsed": true
   },
   "outputs": [],
   "source": [
    "# Setup Tweepy API Authentication\n",
    "auth = tweepy.OAuthHandler(consumer_key, consumer_secret)\n",
    "auth.set_access_token(access_token, access_token_secret)\n",
    "api = tweepy.API(auth, parser=tweepy.parsers.JSONParser())\n"
   ]
  },
  {
   "cell_type": "code",
   "execution_count": 24,
   "metadata": {
    "collapsed": true
   },
   "outputs": [],
   "source": [
    "target_user = 'latimes'\n",
    "public_tweets = api.user_timeline(target_user)\n",
    "\n",
    "# A list to hold tweet timestamps\n",
    "tweet_times = []\n",
    "\n",
    "for tweet in public_tweets:\n",
    "    \n",
    "    raw_time = tweet[\"created_at\"]\n",
    "    tweet_times.append(raw_time)"
   ]
  },
  {
   "cell_type": "code",
   "execution_count": 25,
   "metadata": {},
   "outputs": [
    {
     "name": "stdout",
     "output_type": "stream",
     "text": [
      "[{'created_at': 'Fri Jan 19 13:35:11 +0000 2018', 'id': 954346500829712385, 'id_str': '954346500829712385', 'text': '2017 was one of the three hottest years on record, NASA and NOAA scientists say https://t.co/u4kLYqUu8R https://t.co/lb6jXvRfrA', 'truncated': False, 'entities': {'hashtags': [], 'symbols': [], 'user_mentions': [], 'urls': [{'url': 'https://t.co/u4kLYqUu8R', 'expanded_url': 'http://lat.ms/2EUc26W', 'display_url': 'lat.ms/2EUc26W', 'indices': [80, 103]}], 'media': [{'id': 954346498233454595, 'id_str': '954346498233454595', 'indices': [104, 127], 'media_url': 'http://pbs.twimg.com/media/DT6FFXPX0AMgkIB.jpg', 'media_url_https': 'https://pbs.twimg.com/media/DT6FFXPX0AMgkIB.jpg', 'url': 'https://t.co/lb6jXvRfrA', 'display_url': 'pic.twitter.com/lb6jXvRfrA', 'expanded_url': 'https://twitter.com/latimes/status/954346500829712385/photo/1', 'type': 'photo', 'sizes': {'thumb': {'w': 150, 'h': 150, 'resize': 'crop'}, 'small': {'w': 680, 'h': 383, 'resize': 'fit'}, 'large': {'w': 1280, 'h': 720, 'resize': 'fit'}, 'medium': {'w': 1200, 'h': 675, 'resize': 'fit'}}}]}, 'extended_entities': {'media': [{'id': 954346498233454595, 'id_str': '954346498233454595', 'indices': [104, 127], 'media_url': 'http://pbs.twimg.com/media/DT6FFXPX0AMgkIB.jpg', 'media_url_https': 'https://pbs.twimg.com/media/DT6FFXPX0AMgkIB.jpg', 'url': 'https://t.co/lb6jXvRfrA', 'display_url': 'pic.twitter.com/lb6jXvRfrA', 'expanded_url': 'https://twitter.com/latimes/status/954346500829712385/photo/1', 'type': 'photo', 'sizes': {'thumb': {'w': 150, 'h': 150, 'resize': 'crop'}, 'small': {'w': 680, 'h': 383, 'resize': 'fit'}, 'large': {'w': 1280, 'h': 720, 'resize': 'fit'}, 'medium': {'w': 1200, 'h': 675, 'resize': 'fit'}}}]}, 'source': '<a href=\"http://www.hootsuite.com\" rel=\"nofollow\">Hootsuite</a>', 'in_reply_to_status_id': None, 'in_reply_to_status_id_str': None, 'in_reply_to_user_id': None, 'in_reply_to_user_id_str': None, 'in_reply_to_screen_name': None, 'user': {'id': 16664681, 'id_str': '16664681', 'name': 'Los Angeles Times', 'screen_name': 'latimes', 'location': 'Los Angeles, CA', 'description': 'News from Los Angeles and the world. Staffed by http://t.co/zb8HyvYyAJ editors.', 'url': 'http://t.co/JvbZRDfNzf', 'entities': {'url': {'urls': [{'url': 'http://t.co/JvbZRDfNzf', 'expanded_url': 'http://latimes.com/', 'display_url': 'latimes.com', 'indices': [0, 22]}]}, 'description': {'urls': [{'url': 'http://t.co/zb8HyvYyAJ', 'expanded_url': 'http://latimes.com', 'display_url': 'latimes.com', 'indices': [48, 70]}]}}, 'protected': False, 'followers_count': 3182038, 'friends_count': 10654, 'listed_count': 30388, 'created_at': 'Thu Oct 09 11:07:42 +0000 2008', 'favourites_count': 1902, 'utc_offset': -28800, 'time_zone': 'Pacific Time (US & Canada)', 'geo_enabled': True, 'verified': True, 'statuses_count': 188119, 'lang': 'en', 'contributors_enabled': False, 'is_translator': False, 'is_translation_enabled': False, 'profile_background_color': 'FFFFFF', 'profile_background_image_url': 'http://pbs.twimg.com/profile_background_images/596769492/sp4uqn6gr7cwmjefat2j.jpeg', 'profile_background_image_url_https': 'https://pbs.twimg.com/profile_background_images/596769492/sp4uqn6gr7cwmjefat2j.jpeg', 'profile_background_tile': False, 'profile_image_url': 'http://pbs.twimg.com/profile_images/546329819919560704/XMWy2Z50_normal.jpeg', 'profile_image_url_https': 'https://pbs.twimg.com/profile_images/546329819919560704/XMWy2Z50_normal.jpeg', 'profile_banner_url': 'https://pbs.twimg.com/profile_banners/16664681/1402448809', 'profile_link_color': '009999', 'profile_sidebar_border_color': 'FFFFFF', 'profile_sidebar_fill_color': 'EFEFEF', 'profile_text_color': '615F61', 'profile_use_background_image': True, 'has_extended_profile': False, 'default_profile': False, 'default_profile_image': False, 'following': False, 'follow_request_sent': False, 'notifications': False, 'translator_type': 'regular'}, 'geo': None, 'coordinates': None, 'place': None, 'contributors': None, 'is_quote_status': False, 'retweet_count': 41, 'favorite_count': 23, 'favorited': False, 'retweeted': False, 'possibly_sensitive': False, 'lang': 'en'}, {'created_at': 'Fri Jan 19 13:05:13 +0000 2018', 'id': 954338960628768768, 'id_str': '954338960628768768', 'text': 'Brigitte Bardot is the latest French icon to criticize #MeToo movement https://t.co/wWXEwN3lcD https://t.co/9bFAYAgyXx', 'truncated': False, 'entities': {'hashtags': [{'text': 'MeToo', 'indices': [55, 61]}], 'symbols': [], 'user_mentions': [], 'urls': [{'url': 'https://t.co/wWXEwN3lcD', 'expanded_url': 'http://lat.ms/2DiWysT', 'display_url': 'lat.ms/2DiWysT', 'indices': [71, 94]}], 'media': [{'id': 954338958950899712, 'id_str': '954338958950899712', 'indices': [95, 118], 'media_url': 'http://pbs.twimg.com/media/DT5-OhOVoAAuOZt.jpg', 'media_url_https': 'https://pbs.twimg.com/media/DT5-OhOVoAAuOZt.jpg', 'url': 'https://t.co/9bFAYAgyXx', 'display_url': 'pic.twitter.com/9bFAYAgyXx', 'expanded_url': 'https://twitter.com/latimes/status/954338960628768768/photo/1', 'type': 'photo', 'sizes': {'thumb': {'w': 150, 'h': 150, 'resize': 'crop'}, 'large': {'w': 899, 'h': 617, 'resize': 'fit'}, 'medium': {'w': 899, 'h': 617, 'resize': 'fit'}, 'small': {'w': 680, 'h': 467, 'resize': 'fit'}}}]}, 'extended_entities': {'media': [{'id': 954338958950899712, 'id_str': '954338958950899712', 'indices': [95, 118], 'media_url': 'http://pbs.twimg.com/media/DT5-OhOVoAAuOZt.jpg', 'media_url_https': 'https://pbs.twimg.com/media/DT5-OhOVoAAuOZt.jpg', 'url': 'https://t.co/9bFAYAgyXx', 'display_url': 'pic.twitter.com/9bFAYAgyXx', 'expanded_url': 'https://twitter.com/latimes/status/954338960628768768/photo/1', 'type': 'photo', 'sizes': {'thumb': {'w': 150, 'h': 150, 'resize': 'crop'}, 'large': {'w': 899, 'h': 617, 'resize': 'fit'}, 'medium': {'w': 899, 'h': 617, 'resize': 'fit'}, 'small': {'w': 680, 'h': 467, 'resize': 'fit'}}}]}, 'source': '<a href=\"http://www.hootsuite.com\" rel=\"nofollow\">Hootsuite</a>', 'in_reply_to_status_id': None, 'in_reply_to_status_id_str': None, 'in_reply_to_user_id': None, 'in_reply_to_user_id_str': None, 'in_reply_to_screen_name': None, 'user': {'id': 16664681, 'id_str': '16664681', 'name': 'Los Angeles Times', 'screen_name': 'latimes', 'location': 'Los Angeles, CA', 'description': 'News from Los Angeles and the world. Staffed by http://t.co/zb8HyvYyAJ editors.', 'url': 'http://t.co/JvbZRDfNzf', 'entities': {'url': {'urls': [{'url': 'http://t.co/JvbZRDfNzf', 'expanded_url': 'http://latimes.com/', 'display_url': 'latimes.com', 'indices': [0, 22]}]}, 'description': {'urls': [{'url': 'http://t.co/zb8HyvYyAJ', 'expanded_url': 'http://latimes.com', 'display_url': 'latimes.com', 'indices': [48, 70]}]}}, 'protected': False, 'followers_count': 3182038, 'friends_count': 10654, 'listed_count': 30388, 'created_at': 'Thu Oct 09 11:07:42 +0000 2008', 'favourites_count': 1902, 'utc_offset': -28800, 'time_zone': 'Pacific Time (US & Canada)', 'geo_enabled': True, 'verified': True, 'statuses_count': 188119, 'lang': 'en', 'contributors_enabled': False, 'is_translator': False, 'is_translation_enabled': False, 'profile_background_color': 'FFFFFF', 'profile_background_image_url': 'http://pbs.twimg.com/profile_background_images/596769492/sp4uqn6gr7cwmjefat2j.jpeg', 'profile_background_image_url_https': 'https://pbs.twimg.com/profile_background_images/596769492/sp4uqn6gr7cwmjefat2j.jpeg', 'profile_background_tile': False, 'profile_image_url': 'http://pbs.twimg.com/profile_images/546329819919560704/XMWy2Z50_normal.jpeg', 'profile_image_url_https': 'https://pbs.twimg.com/profile_images/546329819919560704/XMWy2Z50_normal.jpeg', 'profile_banner_url': 'https://pbs.twimg.com/profile_banners/16664681/1402448809', 'profile_link_color': '009999', 'profile_sidebar_border_color': 'FFFFFF', 'profile_sidebar_fill_color': 'EFEFEF', 'profile_text_color': '615F61', 'profile_use_background_image': True, 'has_extended_profile': False, 'default_profile': False, 'default_profile_image': False, 'following': False, 'follow_request_sent': False, 'notifications': False, 'translator_type': 'regular'}, 'geo': None, 'coordinates': None, 'place': None, 'contributors': None, 'is_quote_status': False, 'retweet_count': 8, 'favorite_count': 17, 'favorited': False, 'retweeted': False, 'possibly_sensitive': False, 'lang': 'en'}, {'created_at': 'Fri Jan 19 13:05:11 +0000 2018', 'id': 954338951363522560, 'id_str': '954338951363522560', 'text': \"There's a shutdown drama in Washington. Stop us if you’ve heard this one before https://t.co/pzKsV0Uo1y\", 'truncated': False, 'entities': {'hashtags': [], 'symbols': [], 'user_mentions': [], 'urls': [{'url': 'https://t.co/pzKsV0Uo1y', 'expanded_url': 'http://lat.ms/2mWup4N', 'display_url': 'lat.ms/2mWup4N', 'indices': [80, 103]}]}, 'source': '<a href=\"http://www.hootsuite.com\" rel=\"nofollow\">Hootsuite</a>', 'in_reply_to_status_id': None, 'in_reply_to_status_id_str': None, 'in_reply_to_user_id': None, 'in_reply_to_user_id_str': None, 'in_reply_to_screen_name': None, 'user': {'id': 16664681, 'id_str': '16664681', 'name': 'Los Angeles Times', 'screen_name': 'latimes', 'location': 'Los Angeles, CA', 'description': 'News from Los Angeles and the world. Staffed by http://t.co/zb8HyvYyAJ editors.', 'url': 'http://t.co/JvbZRDfNzf', 'entities': {'url': {'urls': [{'url': 'http://t.co/JvbZRDfNzf', 'expanded_url': 'http://latimes.com/', 'display_url': 'latimes.com', 'indices': [0, 22]}]}, 'description': {'urls': [{'url': 'http://t.co/zb8HyvYyAJ', 'expanded_url': 'http://latimes.com', 'display_url': 'latimes.com', 'indices': [48, 70]}]}}, 'protected': False, 'followers_count': 3182038, 'friends_count': 10654, 'listed_count': 30388, 'created_at': 'Thu Oct 09 11:07:42 +0000 2008', 'favourites_count': 1902, 'utc_offset': -28800, 'time_zone': 'Pacific Time (US & Canada)', 'geo_enabled': True, 'verified': True, 'statuses_count': 188119, 'lang': 'en', 'contributors_enabled': False, 'is_translator': False, 'is_translation_enabled': False, 'profile_background_color': 'FFFFFF', 'profile_background_image_url': 'http://pbs.twimg.com/profile_background_images/596769492/sp4uqn6gr7cwmjefat2j.jpeg', 'profile_background_image_url_https': 'https://pbs.twimg.com/profile_background_images/596769492/sp4uqn6gr7cwmjefat2j.jpeg', 'profile_background_tile': False, 'profile_image_url': 'http://pbs.twimg.com/profile_images/546329819919560704/XMWy2Z50_normal.jpeg', 'profile_image_url_https': 'https://pbs.twimg.com/profile_images/546329819919560704/XMWy2Z50_normal.jpeg', 'profile_banner_url': 'https://pbs.twimg.com/profile_banners/16664681/1402448809', 'profile_link_color': '009999', 'profile_sidebar_border_color': 'FFFFFF', 'profile_sidebar_fill_color': 'EFEFEF', 'profile_text_color': '615F61', 'profile_use_background_image': True, 'has_extended_profile': False, 'default_profile': False, 'default_profile_image': False, 'following': False, 'follow_request_sent': False, 'notifications': False, 'translator_type': 'regular'}, 'geo': None, 'coordinates': None, 'place': None, 'contributors': None, 'is_quote_status': False, 'retweet_count': 9, 'favorite_count': 15, 'favorited': False, 'retweeted': False, 'possibly_sensitive': False, 'lang': 'en'}, {'created_at': 'Fri Jan 19 12:55:01 +0000 2018', 'id': 954336391172972544, 'id_str': '954336391172972544', 'text': 'Captive children suffered years of abuse, starvation and cruelty by parents, authorities say https://t.co/A0jjD3jCvi https://t.co/US29YMslfj', 'truncated': False, 'entities': {'hashtags': [], 'symbols': [], 'user_mentions': [], 'urls': [{'url': 'https://t.co/A0jjD3jCvi', 'expanded_url': 'http://lat.ms/2DObC2F', 'display_url': 'lat.ms/2DObC2F', 'indices': [93, 116]}], 'media': [{'id': 954336388421505025, 'id_str': '954336388421505025', 'indices': [117, 140], 'media_url': 'http://pbs.twimg.com/media/DT5745QX0AESKtK.jpg', 'media_url_https': 'https://pbs.twimg.com/media/DT5745QX0AESKtK.jpg', 'url': 'https://t.co/US29YMslfj', 'display_url': 'pic.twitter.com/US29YMslfj', 'expanded_url': 'https://twitter.com/latimes/status/954336391172972544/photo/1', 'type': 'photo', 'sizes': {'thumb': {'w': 150, 'h': 150, 'resize': 'crop'}, 'medium': {'w': 700, 'h': 394, 'resize': 'fit'}, 'large': {'w': 700, 'h': 394, 'resize': 'fit'}, 'small': {'w': 680, 'h': 383, 'resize': 'fit'}}}]}, 'extended_entities': {'media': [{'id': 954336388421505025, 'id_str': '954336388421505025', 'indices': [117, 140], 'media_url': 'http://pbs.twimg.com/media/DT5745QX0AESKtK.jpg', 'media_url_https': 'https://pbs.twimg.com/media/DT5745QX0AESKtK.jpg', 'url': 'https://t.co/US29YMslfj', 'display_url': 'pic.twitter.com/US29YMslfj', 'expanded_url': 'https://twitter.com/latimes/status/954336391172972544/photo/1', 'type': 'photo', 'sizes': {'thumb': {'w': 150, 'h': 150, 'resize': 'crop'}, 'medium': {'w': 700, 'h': 394, 'resize': 'fit'}, 'large': {'w': 700, 'h': 394, 'resize': 'fit'}, 'small': {'w': 680, 'h': 383, 'resize': 'fit'}}}]}, 'source': '<a href=\"http://www.hootsuite.com\" rel=\"nofollow\">Hootsuite</a>', 'in_reply_to_status_id': None, 'in_reply_to_status_id_str': None, 'in_reply_to_user_id': None, 'in_reply_to_user_id_str': None, 'in_reply_to_screen_name': None, 'user': {'id': 16664681, 'id_str': '16664681', 'name': 'Los Angeles Times', 'screen_name': 'latimes', 'location': 'Los Angeles, CA', 'description': 'News from Los Angeles and the world. Staffed by http://t.co/zb8HyvYyAJ editors.', 'url': 'http://t.co/JvbZRDfNzf', 'entities': {'url': {'urls': [{'url': 'http://t.co/JvbZRDfNzf', 'expanded_url': 'http://latimes.com/', 'display_url': 'latimes.com', 'indices': [0, 22]}]}, 'description': {'urls': [{'url': 'http://t.co/zb8HyvYyAJ', 'expanded_url': 'http://latimes.com', 'display_url': 'latimes.com', 'indices': [48, 70]}]}}, 'protected': False, 'followers_count': 3182038, 'friends_count': 10654, 'listed_count': 30388, 'created_at': 'Thu Oct 09 11:07:42 +0000 2008', 'favourites_count': 1902, 'utc_offset': -28800, 'time_zone': 'Pacific Time (US & Canada)', 'geo_enabled': True, 'verified': True, 'statuses_count': 188119, 'lang': 'en', 'contributors_enabled': False, 'is_translator': False, 'is_translation_enabled': False, 'profile_background_color': 'FFFFFF', 'profile_background_image_url': 'http://pbs.twimg.com/profile_background_images/596769492/sp4uqn6gr7cwmjefat2j.jpeg', 'profile_background_image_url_https': 'https://pbs.twimg.com/profile_background_images/596769492/sp4uqn6gr7cwmjefat2j.jpeg', 'profile_background_tile': False, 'profile_image_url': 'http://pbs.twimg.com/profile_images/546329819919560704/XMWy2Z50_normal.jpeg', 'profile_image_url_https': 'https://pbs.twimg.com/profile_images/546329819919560704/XMWy2Z50_normal.jpeg', 'profile_banner_url': 'https://pbs.twimg.com/profile_banners/16664681/1402448809', 'profile_link_color': '009999', 'profile_sidebar_border_color': 'FFFFFF', 'profile_sidebar_fill_color': 'EFEFEF', 'profile_text_color': '615F61', 'profile_use_background_image': True, 'has_extended_profile': False, 'default_profile': False, 'default_profile_image': False, 'following': False, 'follow_request_sent': False, 'notifications': False, 'translator_type': 'regular'}, 'geo': None, 'coordinates': None, 'place': None, 'contributors': None, 'is_quote_status': False, 'retweet_count': 9, 'favorite_count': 7, 'favorited': False, 'retweeted': False, 'possibly_sensitive': False, 'lang': 'en'}, {'created_at': 'Fri Jan 19 12:40:15 +0000 2018', 'id': 954332678614142976, 'id_str': '954332678614142976', 'text': 'In bizarre reversal under Trump, consumer agency reveals moves to protect payday lenders https://t.co/oRopkNDYQm https://t.co/dCgqlyJLHF', 'truncated': False, 'entities': {'hashtags': [], 'symbols': [], 'user_mentions': [], 'urls': [{'url': 'https://t.co/oRopkNDYQm', 'expanded_url': 'http://lat.ms/2mRIWO2', 'display_url': 'lat.ms/2mRIWO2', 'indices': [89, 112]}], 'media': [{'id': 954332676785229824, 'id_str': '954332676785229824', 'indices': [113, 136], 'media_url': 'http://pbs.twimg.com/media/DT54g2VU0AA4RVS.jpg', 'media_url_https': 'https://pbs.twimg.com/media/DT54g2VU0AA4RVS.jpg', 'url': 'https://t.co/dCgqlyJLHF', 'display_url': 'pic.twitter.com/dCgqlyJLHF', 'expanded_url': 'https://twitter.com/latimes/status/954332678614142976/photo/1', 'type': 'photo', 'sizes': {'small': {'w': 680, 'h': 383, 'resize': 'fit'}, 'thumb': {'w': 150, 'h': 150, 'resize': 'crop'}, 'large': {'w': 700, 'h': 394, 'resize': 'fit'}, 'medium': {'w': 700, 'h': 394, 'resize': 'fit'}}}]}, 'extended_entities': {'media': [{'id': 954332676785229824, 'id_str': '954332676785229824', 'indices': [113, 136], 'media_url': 'http://pbs.twimg.com/media/DT54g2VU0AA4RVS.jpg', 'media_url_https': 'https://pbs.twimg.com/media/DT54g2VU0AA4RVS.jpg', 'url': 'https://t.co/dCgqlyJLHF', 'display_url': 'pic.twitter.com/dCgqlyJLHF', 'expanded_url': 'https://twitter.com/latimes/status/954332678614142976/photo/1', 'type': 'photo', 'sizes': {'small': {'w': 680, 'h': 383, 'resize': 'fit'}, 'thumb': {'w': 150, 'h': 150, 'resize': 'crop'}, 'large': {'w': 700, 'h': 394, 'resize': 'fit'}, 'medium': {'w': 700, 'h': 394, 'resize': 'fit'}}}]}, 'source': '<a href=\"http://www.hootsuite.com\" rel=\"nofollow\">Hootsuite</a>', 'in_reply_to_status_id': None, 'in_reply_to_status_id_str': None, 'in_reply_to_user_id': None, 'in_reply_to_user_id_str': None, 'in_reply_to_screen_name': None, 'user': {'id': 16664681, 'id_str': '16664681', 'name': 'Los Angeles Times', 'screen_name': 'latimes', 'location': 'Los Angeles, CA', 'description': 'News from Los Angeles and the world. Staffed by http://t.co/zb8HyvYyAJ editors.', 'url': 'http://t.co/JvbZRDfNzf', 'entities': {'url': {'urls': [{'url': 'http://t.co/JvbZRDfNzf', 'expanded_url': 'http://latimes.com/', 'display_url': 'latimes.com', 'indices': [0, 22]}]}, 'description': {'urls': [{'url': 'http://t.co/zb8HyvYyAJ', 'expanded_url': 'http://latimes.com', 'display_url': 'latimes.com', 'indices': [48, 70]}]}}, 'protected': False, 'followers_count': 3182038, 'friends_count': 10654, 'listed_count': 30388, 'created_at': 'Thu Oct 09 11:07:42 +0000 2008', 'favourites_count': 1902, 'utc_offset': -28800, 'time_zone': 'Pacific Time (US & Canada)', 'geo_enabled': True, 'verified': True, 'statuses_count': 188119, 'lang': 'en', 'contributors_enabled': False, 'is_translator': False, 'is_translation_enabled': False, 'profile_background_color': 'FFFFFF', 'profile_background_image_url': 'http://pbs.twimg.com/profile_background_images/596769492/sp4uqn6gr7cwmjefat2j.jpeg', 'profile_background_image_url_https': 'https://pbs.twimg.com/profile_background_images/596769492/sp4uqn6gr7cwmjefat2j.jpeg', 'profile_background_tile': False, 'profile_image_url': 'http://pbs.twimg.com/profile_images/546329819919560704/XMWy2Z50_normal.jpeg', 'profile_image_url_https': 'https://pbs.twimg.com/profile_images/546329819919560704/XMWy2Z50_normal.jpeg', 'profile_banner_url': 'https://pbs.twimg.com/profile_banners/16664681/1402448809', 'profile_link_color': '009999', 'profile_sidebar_border_color': 'FFFFFF', 'profile_sidebar_fill_color': 'EFEFEF', 'profile_text_color': '615F61', 'profile_use_background_image': True, 'has_extended_profile': False, 'default_profile': False, 'default_profile_image': False, 'following': False, 'follow_request_sent': False, 'notifications': False, 'translator_type': 'regular'}, 'geo': None, 'coordinates': None, 'place': None, 'contributors': None, 'is_quote_status': False, 'retweet_count': 39, 'favorite_count': 25, 'favorited': False, 'retweeted': False, 'possibly_sensitive': False, 'lang': 'en'}, {'created_at': 'Fri Jan 19 11:14:07 +0000 2018', 'id': 954311001297563648, 'id_str': '954311001297563648', 'text': \"As Trump's first year in office ends, his support base has eroded and the opposition is energized… https://t.co/qyroFv9Lzz\", 'truncated': True, 'entities': {'hashtags': [], 'symbols': [], 'user_mentions': [], 'urls': [{'url': 'https://t.co/qyroFv9Lzz', 'expanded_url': 'https://twitter.com/i/web/status/954311001297563648', 'display_url': 'twitter.com/i/web/status/9…', 'indices': [99, 122]}]}, 'source': '<a href=\"http://www.hootsuite.com\" rel=\"nofollow\">Hootsuite</a>', 'in_reply_to_status_id': None, 'in_reply_to_status_id_str': None, 'in_reply_to_user_id': None, 'in_reply_to_user_id_str': None, 'in_reply_to_screen_name': None, 'user': {'id': 16664681, 'id_str': '16664681', 'name': 'Los Angeles Times', 'screen_name': 'latimes', 'location': 'Los Angeles, CA', 'description': 'News from Los Angeles and the world. Staffed by http://t.co/zb8HyvYyAJ editors.', 'url': 'http://t.co/JvbZRDfNzf', 'entities': {'url': {'urls': [{'url': 'http://t.co/JvbZRDfNzf', 'expanded_url': 'http://latimes.com/', 'display_url': 'latimes.com', 'indices': [0, 22]}]}, 'description': {'urls': [{'url': 'http://t.co/zb8HyvYyAJ', 'expanded_url': 'http://latimes.com', 'display_url': 'latimes.com', 'indices': [48, 70]}]}}, 'protected': False, 'followers_count': 3182038, 'friends_count': 10654, 'listed_count': 30388, 'created_at': 'Thu Oct 09 11:07:42 +0000 2008', 'favourites_count': 1902, 'utc_offset': -28800, 'time_zone': 'Pacific Time (US & Canada)', 'geo_enabled': True, 'verified': True, 'statuses_count': 188119, 'lang': 'en', 'contributors_enabled': False, 'is_translator': False, 'is_translation_enabled': False, 'profile_background_color': 'FFFFFF', 'profile_background_image_url': 'http://pbs.twimg.com/profile_background_images/596769492/sp4uqn6gr7cwmjefat2j.jpeg', 'profile_background_image_url_https': 'https://pbs.twimg.com/profile_background_images/596769492/sp4uqn6gr7cwmjefat2j.jpeg', 'profile_background_tile': False, 'profile_image_url': 'http://pbs.twimg.com/profile_images/546329819919560704/XMWy2Z50_normal.jpeg', 'profile_image_url_https': 'https://pbs.twimg.com/profile_images/546329819919560704/XMWy2Z50_normal.jpeg', 'profile_banner_url': 'https://pbs.twimg.com/profile_banners/16664681/1402448809', 'profile_link_color': '009999', 'profile_sidebar_border_color': 'FFFFFF', 'profile_sidebar_fill_color': 'EFEFEF', 'profile_text_color': '615F61', 'profile_use_background_image': True, 'has_extended_profile': False, 'default_profile': False, 'default_profile_image': False, 'following': False, 'follow_request_sent': False, 'notifications': False, 'translator_type': 'regular'}, 'geo': None, 'coordinates': None, 'place': None, 'contributors': None, 'is_quote_status': False, 'retweet_count': 53, 'favorite_count': 109, 'favorited': False, 'retweeted': False, 'possibly_sensitive': False, 'lang': 'en'}, {'created_at': 'Fri Jan 19 10:00:48 +0000 2018', 'id': 954292549056974848, 'id_str': '954292549056974848', 'text': 'UCLA fraternities no longer can host parties with alcohol at their houses https://t.co/soaLvTLuTY', 'truncated': False, 'entities': {'hashtags': [], 'symbols': [], 'user_mentions': [], 'urls': [{'url': 'https://t.co/soaLvTLuTY', 'expanded_url': 'http://lat.ms/2mThEI0', 'display_url': 'lat.ms/2mThEI0', 'indices': [74, 97]}]}, 'source': '<a href=\"http://www.hootsuite.com\" rel=\"nofollow\">Hootsuite</a>', 'in_reply_to_status_id': None, 'in_reply_to_status_id_str': None, 'in_reply_to_user_id': None, 'in_reply_to_user_id_str': None, 'in_reply_to_screen_name': None, 'user': {'id': 16664681, 'id_str': '16664681', 'name': 'Los Angeles Times', 'screen_name': 'latimes', 'location': 'Los Angeles, CA', 'description': 'News from Los Angeles and the world. Staffed by http://t.co/zb8HyvYyAJ editors.', 'url': 'http://t.co/JvbZRDfNzf', 'entities': {'url': {'urls': [{'url': 'http://t.co/JvbZRDfNzf', 'expanded_url': 'http://latimes.com/', 'display_url': 'latimes.com', 'indices': [0, 22]}]}, 'description': {'urls': [{'url': 'http://t.co/zb8HyvYyAJ', 'expanded_url': 'http://latimes.com', 'display_url': 'latimes.com', 'indices': [48, 70]}]}}, 'protected': False, 'followers_count': 3182038, 'friends_count': 10654, 'listed_count': 30388, 'created_at': 'Thu Oct 09 11:07:42 +0000 2008', 'favourites_count': 1902, 'utc_offset': -28800, 'time_zone': 'Pacific Time (US & Canada)', 'geo_enabled': True, 'verified': True, 'statuses_count': 188119, 'lang': 'en', 'contributors_enabled': False, 'is_translator': False, 'is_translation_enabled': False, 'profile_background_color': 'FFFFFF', 'profile_background_image_url': 'http://pbs.twimg.com/profile_background_images/596769492/sp4uqn6gr7cwmjefat2j.jpeg', 'profile_background_image_url_https': 'https://pbs.twimg.com/profile_background_images/596769492/sp4uqn6gr7cwmjefat2j.jpeg', 'profile_background_tile': False, 'profile_image_url': 'http://pbs.twimg.com/profile_images/546329819919560704/XMWy2Z50_normal.jpeg', 'profile_image_url_https': 'https://pbs.twimg.com/profile_images/546329819919560704/XMWy2Z50_normal.jpeg', 'profile_banner_url': 'https://pbs.twimg.com/profile_banners/16664681/1402448809', 'profile_link_color': '009999', 'profile_sidebar_border_color': 'FFFFFF', 'profile_sidebar_fill_color': 'EFEFEF', 'profile_text_color': '615F61', 'profile_use_background_image': True, 'has_extended_profile': False, 'default_profile': False, 'default_profile_image': False, 'following': False, 'follow_request_sent': False, 'notifications': False, 'translator_type': 'regular'}, 'geo': None, 'coordinates': None, 'place': None, 'contributors': None, 'is_quote_status': False, 'retweet_count': 34, 'favorite_count': 78, 'favorited': False, 'retweeted': False, 'possibly_sensitive': False, 'lang': 'en'}, {'created_at': 'Fri Jan 19 09:53:08 +0000 2018', 'id': 954290620666994688, 'id_str': '954290620666994688', 'text': '10,000 Californians barred from owning guns are still armed. This law aims to change that https://t.co/7iLqIV7zDk https://t.co/WcS4hVaOxe', 'truncated': False, 'entities': {'hashtags': [], 'symbols': [], 'user_mentions': [], 'urls': [{'url': 'https://t.co/7iLqIV7zDk', 'expanded_url': 'http://lat.ms/2Bfnmbv', 'display_url': 'lat.ms/2Bfnmbv', 'indices': [90, 113]}], 'media': [{'id': 954290618515238912, 'id_str': '954290618515238912', 'indices': [114, 137], 'media_url': 'http://pbs.twimg.com/media/DT5SQvEWsAA2mIH.jpg', 'media_url_https': 'https://pbs.twimg.com/media/DT5SQvEWsAA2mIH.jpg', 'url': 'https://t.co/WcS4hVaOxe', 'display_url': 'pic.twitter.com/WcS4hVaOxe', 'expanded_url': 'https://twitter.com/latimes/status/954290620666994688/photo/1', 'type': 'photo', 'sizes': {'thumb': {'w': 150, 'h': 150, 'resize': 'crop'}, 'medium': {'w': 700, 'h': 394, 'resize': 'fit'}, 'large': {'w': 700, 'h': 394, 'resize': 'fit'}, 'small': {'w': 680, 'h': 383, 'resize': 'fit'}}}]}, 'extended_entities': {'media': [{'id': 954290618515238912, 'id_str': '954290618515238912', 'indices': [114, 137], 'media_url': 'http://pbs.twimg.com/media/DT5SQvEWsAA2mIH.jpg', 'media_url_https': 'https://pbs.twimg.com/media/DT5SQvEWsAA2mIH.jpg', 'url': 'https://t.co/WcS4hVaOxe', 'display_url': 'pic.twitter.com/WcS4hVaOxe', 'expanded_url': 'https://twitter.com/latimes/status/954290620666994688/photo/1', 'type': 'photo', 'sizes': {'thumb': {'w': 150, 'h': 150, 'resize': 'crop'}, 'medium': {'w': 700, 'h': 394, 'resize': 'fit'}, 'large': {'w': 700, 'h': 394, 'resize': 'fit'}, 'small': {'w': 680, 'h': 383, 'resize': 'fit'}}}]}, 'source': '<a href=\"http://www.hootsuite.com\" rel=\"nofollow\">Hootsuite</a>', 'in_reply_to_status_id': None, 'in_reply_to_status_id_str': None, 'in_reply_to_user_id': None, 'in_reply_to_user_id_str': None, 'in_reply_to_screen_name': None, 'user': {'id': 16664681, 'id_str': '16664681', 'name': 'Los Angeles Times', 'screen_name': 'latimes', 'location': 'Los Angeles, CA', 'description': 'News from Los Angeles and the world. Staffed by http://t.co/zb8HyvYyAJ editors.', 'url': 'http://t.co/JvbZRDfNzf', 'entities': {'url': {'urls': [{'url': 'http://t.co/JvbZRDfNzf', 'expanded_url': 'http://latimes.com/', 'display_url': 'latimes.com', 'indices': [0, 22]}]}, 'description': {'urls': [{'url': 'http://t.co/zb8HyvYyAJ', 'expanded_url': 'http://latimes.com', 'display_url': 'latimes.com', 'indices': [48, 70]}]}}, 'protected': False, 'followers_count': 3182038, 'friends_count': 10654, 'listed_count': 30388, 'created_at': 'Thu Oct 09 11:07:42 +0000 2008', 'favourites_count': 1902, 'utc_offset': -28800, 'time_zone': 'Pacific Time (US & Canada)', 'geo_enabled': True, 'verified': True, 'statuses_count': 188119, 'lang': 'en', 'contributors_enabled': False, 'is_translator': False, 'is_translation_enabled': False, 'profile_background_color': 'FFFFFF', 'profile_background_image_url': 'http://pbs.twimg.com/profile_background_images/596769492/sp4uqn6gr7cwmjefat2j.jpeg', 'profile_background_image_url_https': 'https://pbs.twimg.com/profile_background_images/596769492/sp4uqn6gr7cwmjefat2j.jpeg', 'profile_background_tile': False, 'profile_image_url': 'http://pbs.twimg.com/profile_images/546329819919560704/XMWy2Z50_normal.jpeg', 'profile_image_url_https': 'https://pbs.twimg.com/profile_images/546329819919560704/XMWy2Z50_normal.jpeg', 'profile_banner_url': 'https://pbs.twimg.com/profile_banners/16664681/1402448809', 'profile_link_color': '009999', 'profile_sidebar_border_color': 'FFFFFF', 'profile_sidebar_fill_color': 'EFEFEF', 'profile_text_color': '615F61', 'profile_use_background_image': True, 'has_extended_profile': False, 'default_profile': False, 'default_profile_image': False, 'following': False, 'follow_request_sent': False, 'notifications': False, 'translator_type': 'regular'}, 'geo': None, 'coordinates': None, 'place': None, 'contributors': None, 'is_quote_status': False, 'retweet_count': 14, 'favorite_count': 24, 'favorited': False, 'retweeted': False, 'possibly_sensitive': False, 'lang': 'en'}, {'created_at': 'Fri Jan 19 09:15:11 +0000 2018', 'id': 954281071398531072, 'id_str': '954281071398531072', 'text': 'Anna Faris looks to deal her secluded Midcentury retreat in Hollywood Hills https://t.co/8QgHG23TEG https://t.co/ty6lm1Dg6a', 'truncated': False, 'entities': {'hashtags': [], 'symbols': [], 'user_mentions': [], 'urls': [{'url': 'https://t.co/8QgHG23TEG', 'expanded_url': 'http://lat.ms/2DuFd3e', 'display_url': 'lat.ms/2DuFd3e', 'indices': [76, 99]}], 'media': [{'id': 954281069104254976, 'id_str': '954281069104254976', 'indices': [100, 123], 'media_url': 'http://pbs.twimg.com/media/DT5Jk4vW0AAAgn1.jpg', 'media_url_https': 'https://pbs.twimg.com/media/DT5Jk4vW0AAAgn1.jpg', 'url': 'https://t.co/ty6lm1Dg6a', 'display_url': 'pic.twitter.com/ty6lm1Dg6a', 'expanded_url': 'https://twitter.com/latimes/status/954281071398531072/photo/1', 'type': 'photo', 'sizes': {'thumb': {'w': 150, 'h': 150, 'resize': 'crop'}, 'medium': {'w': 900, 'h': 506, 'resize': 'fit'}, 'small': {'w': 680, 'h': 382, 'resize': 'fit'}, 'large': {'w': 900, 'h': 506, 'resize': 'fit'}}}]}, 'extended_entities': {'media': [{'id': 954281069104254976, 'id_str': '954281069104254976', 'indices': [100, 123], 'media_url': 'http://pbs.twimg.com/media/DT5Jk4vW0AAAgn1.jpg', 'media_url_https': 'https://pbs.twimg.com/media/DT5Jk4vW0AAAgn1.jpg', 'url': 'https://t.co/ty6lm1Dg6a', 'display_url': 'pic.twitter.com/ty6lm1Dg6a', 'expanded_url': 'https://twitter.com/latimes/status/954281071398531072/photo/1', 'type': 'photo', 'sizes': {'thumb': {'w': 150, 'h': 150, 'resize': 'crop'}, 'medium': {'w': 900, 'h': 506, 'resize': 'fit'}, 'small': {'w': 680, 'h': 382, 'resize': 'fit'}, 'large': {'w': 900, 'h': 506, 'resize': 'fit'}}}]}, 'source': '<a href=\"http://www.hootsuite.com\" rel=\"nofollow\">Hootsuite</a>', 'in_reply_to_status_id': None, 'in_reply_to_status_id_str': None, 'in_reply_to_user_id': None, 'in_reply_to_user_id_str': None, 'in_reply_to_screen_name': None, 'user': {'id': 16664681, 'id_str': '16664681', 'name': 'Los Angeles Times', 'screen_name': 'latimes', 'location': 'Los Angeles, CA', 'description': 'News from Los Angeles and the world. Staffed by http://t.co/zb8HyvYyAJ editors.', 'url': 'http://t.co/JvbZRDfNzf', 'entities': {'url': {'urls': [{'url': 'http://t.co/JvbZRDfNzf', 'expanded_url': 'http://latimes.com/', 'display_url': 'latimes.com', 'indices': [0, 22]}]}, 'description': {'urls': [{'url': 'http://t.co/zb8HyvYyAJ', 'expanded_url': 'http://latimes.com', 'display_url': 'latimes.com', 'indices': [48, 70]}]}}, 'protected': False, 'followers_count': 3182038, 'friends_count': 10654, 'listed_count': 30388, 'created_at': 'Thu Oct 09 11:07:42 +0000 2008', 'favourites_count': 1902, 'utc_offset': -28800, 'time_zone': 'Pacific Time (US & Canada)', 'geo_enabled': True, 'verified': True, 'statuses_count': 188119, 'lang': 'en', 'contributors_enabled': False, 'is_translator': False, 'is_translation_enabled': False, 'profile_background_color': 'FFFFFF', 'profile_background_image_url': 'http://pbs.twimg.com/profile_background_images/596769492/sp4uqn6gr7cwmjefat2j.jpeg', 'profile_background_image_url_https': 'https://pbs.twimg.com/profile_background_images/596769492/sp4uqn6gr7cwmjefat2j.jpeg', 'profile_background_tile': False, 'profile_image_url': 'http://pbs.twimg.com/profile_images/546329819919560704/XMWy2Z50_normal.jpeg', 'profile_image_url_https': 'https://pbs.twimg.com/profile_images/546329819919560704/XMWy2Z50_normal.jpeg', 'profile_banner_url': 'https://pbs.twimg.com/profile_banners/16664681/1402448809', 'profile_link_color': '009999', 'profile_sidebar_border_color': 'FFFFFF', 'profile_sidebar_fill_color': 'EFEFEF', 'profile_text_color': '615F61', 'profile_use_background_image': True, 'has_extended_profile': False, 'default_profile': False, 'default_profile_image': False, 'following': False, 'follow_request_sent': False, 'notifications': False, 'translator_type': 'regular'}, 'geo': None, 'coordinates': None, 'place': None, 'contributors': None, 'is_quote_status': False, 'retweet_count': 5, 'favorite_count': 40, 'favorited': False, 'retweeted': False, 'possibly_sensitive': False, 'lang': 'en'}, {'created_at': 'Fri Jan 19 08:15:10 +0000 2018', 'id': 954265966120140802, 'id_str': '954265966120140802', 'text': 'Dolly Parton earns two Guinness World Record certifications on eve of her birthday https://t.co/6qCG77zMgE https://t.co/vVS0ppcL0m', 'truncated': False, 'entities': {'hashtags': [], 'symbols': [], 'user_mentions': [], 'urls': [{'url': 'https://t.co/6qCG77zMgE', 'expanded_url': 'http://lat.ms/2ERTfJC', 'display_url': 'lat.ms/2ERTfJC', 'indices': [83, 106]}], 'media': [{'id': 954265963888824321, 'id_str': '954265963888824321', 'indices': [107, 130], 'media_url': 'http://pbs.twimg.com/media/DT471pbW0AE0iDj.jpg', 'media_url_https': 'https://pbs.twimg.com/media/DT471pbW0AE0iDj.jpg', 'url': 'https://t.co/vVS0ppcL0m', 'display_url': 'pic.twitter.com/vVS0ppcL0m', 'expanded_url': 'https://twitter.com/latimes/status/954265966120140802/photo/1', 'type': 'photo', 'sizes': {'medium': {'w': 900, 'h': 507, 'resize': 'fit'}, 'thumb': {'w': 150, 'h': 150, 'resize': 'crop'}, 'small': {'w': 680, 'h': 383, 'resize': 'fit'}, 'large': {'w': 900, 'h': 507, 'resize': 'fit'}}}]}, 'extended_entities': {'media': [{'id': 954265963888824321, 'id_str': '954265963888824321', 'indices': [107, 130], 'media_url': 'http://pbs.twimg.com/media/DT471pbW0AE0iDj.jpg', 'media_url_https': 'https://pbs.twimg.com/media/DT471pbW0AE0iDj.jpg', 'url': 'https://t.co/vVS0ppcL0m', 'display_url': 'pic.twitter.com/vVS0ppcL0m', 'expanded_url': 'https://twitter.com/latimes/status/954265966120140802/photo/1', 'type': 'photo', 'sizes': {'medium': {'w': 900, 'h': 507, 'resize': 'fit'}, 'thumb': {'w': 150, 'h': 150, 'resize': 'crop'}, 'small': {'w': 680, 'h': 383, 'resize': 'fit'}, 'large': {'w': 900, 'h': 507, 'resize': 'fit'}}}]}, 'source': '<a href=\"http://www.hootsuite.com\" rel=\"nofollow\">Hootsuite</a>', 'in_reply_to_status_id': None, 'in_reply_to_status_id_str': None, 'in_reply_to_user_id': None, 'in_reply_to_user_id_str': None, 'in_reply_to_screen_name': None, 'user': {'id': 16664681, 'id_str': '16664681', 'name': 'Los Angeles Times', 'screen_name': 'latimes', 'location': 'Los Angeles, CA', 'description': 'News from Los Angeles and the world. Staffed by http://t.co/zb8HyvYyAJ editors.', 'url': 'http://t.co/JvbZRDfNzf', 'entities': {'url': {'urls': [{'url': 'http://t.co/JvbZRDfNzf', 'expanded_url': 'http://latimes.com/', 'display_url': 'latimes.com', 'indices': [0, 22]}]}, 'description': {'urls': [{'url': 'http://t.co/zb8HyvYyAJ', 'expanded_url': 'http://latimes.com', 'display_url': 'latimes.com', 'indices': [48, 70]}]}}, 'protected': False, 'followers_count': 3182038, 'friends_count': 10654, 'listed_count': 30388, 'created_at': 'Thu Oct 09 11:07:42 +0000 2008', 'favourites_count': 1902, 'utc_offset': -28800, 'time_zone': 'Pacific Time (US & Canada)', 'geo_enabled': True, 'verified': True, 'statuses_count': 188119, 'lang': 'en', 'contributors_enabled': False, 'is_translator': False, 'is_translation_enabled': False, 'profile_background_color': 'FFFFFF', 'profile_background_image_url': 'http://pbs.twimg.com/profile_background_images/596769492/sp4uqn6gr7cwmjefat2j.jpeg', 'profile_background_image_url_https': 'https://pbs.twimg.com/profile_background_images/596769492/sp4uqn6gr7cwmjefat2j.jpeg', 'profile_background_tile': False, 'profile_image_url': 'http://pbs.twimg.com/profile_images/546329819919560704/XMWy2Z50_normal.jpeg', 'profile_image_url_https': 'https://pbs.twimg.com/profile_images/546329819919560704/XMWy2Z50_normal.jpeg', 'profile_banner_url': 'https://pbs.twimg.com/profile_banners/16664681/1402448809', 'profile_link_color': '009999', 'profile_sidebar_border_color': 'FFFFFF', 'profile_sidebar_fill_color': 'EFEFEF', 'profile_text_color': '615F61', 'profile_use_background_image': True, 'has_extended_profile': False, 'default_profile': False, 'default_profile_image': False, 'following': False, 'follow_request_sent': False, 'notifications': False, 'translator_type': 'regular'}, 'geo': None, 'coordinates': None, 'place': None, 'contributors': None, 'is_quote_status': False, 'retweet_count': 33, 'favorite_count': 144, 'favorited': False, 'retweeted': False, 'possibly_sensitive': False, 'lang': 'en'}, {'created_at': 'Fri Jan 19 07:37:19 +0000 2018', 'id': 954256440104976385, 'id_str': '954256440104976385', 'text': 'Viral video shows private security guard shooting pair of would-be robbers at Gardena 7-Eleven… https://t.co/7n9C55l3Cv', 'truncated': True, 'entities': {'hashtags': [], 'symbols': [], 'user_mentions': [], 'urls': [{'url': 'https://t.co/7n9C55l3Cv', 'expanded_url': 'https://twitter.com/i/web/status/954256440104976385', 'display_url': 'twitter.com/i/web/status/9…', 'indices': [96, 119]}]}, 'source': '<a href=\"http://www.hootsuite.com\" rel=\"nofollow\">Hootsuite</a>', 'in_reply_to_status_id': None, 'in_reply_to_status_id_str': None, 'in_reply_to_user_id': None, 'in_reply_to_user_id_str': None, 'in_reply_to_screen_name': None, 'user': {'id': 16664681, 'id_str': '16664681', 'name': 'Los Angeles Times', 'screen_name': 'latimes', 'location': 'Los Angeles, CA', 'description': 'News from Los Angeles and the world. Staffed by http://t.co/zb8HyvYyAJ editors.', 'url': 'http://t.co/JvbZRDfNzf', 'entities': {'url': {'urls': [{'url': 'http://t.co/JvbZRDfNzf', 'expanded_url': 'http://latimes.com/', 'display_url': 'latimes.com', 'indices': [0, 22]}]}, 'description': {'urls': [{'url': 'http://t.co/zb8HyvYyAJ', 'expanded_url': 'http://latimes.com', 'display_url': 'latimes.com', 'indices': [48, 70]}]}}, 'protected': False, 'followers_count': 3182038, 'friends_count': 10654, 'listed_count': 30388, 'created_at': 'Thu Oct 09 11:07:42 +0000 2008', 'favourites_count': 1902, 'utc_offset': -28800, 'time_zone': 'Pacific Time (US & Canada)', 'geo_enabled': True, 'verified': True, 'statuses_count': 188119, 'lang': 'en', 'contributors_enabled': False, 'is_translator': False, 'is_translation_enabled': False, 'profile_background_color': 'FFFFFF', 'profile_background_image_url': 'http://pbs.twimg.com/profile_background_images/596769492/sp4uqn6gr7cwmjefat2j.jpeg', 'profile_background_image_url_https': 'https://pbs.twimg.com/profile_background_images/596769492/sp4uqn6gr7cwmjefat2j.jpeg', 'profile_background_tile': False, 'profile_image_url': 'http://pbs.twimg.com/profile_images/546329819919560704/XMWy2Z50_normal.jpeg', 'profile_image_url_https': 'https://pbs.twimg.com/profile_images/546329819919560704/XMWy2Z50_normal.jpeg', 'profile_banner_url': 'https://pbs.twimg.com/profile_banners/16664681/1402448809', 'profile_link_color': '009999', 'profile_sidebar_border_color': 'FFFFFF', 'profile_sidebar_fill_color': 'EFEFEF', 'profile_text_color': '615F61', 'profile_use_background_image': True, 'has_extended_profile': False, 'default_profile': False, 'default_profile_image': False, 'following': False, 'follow_request_sent': False, 'notifications': False, 'translator_type': 'regular'}, 'geo': None, 'coordinates': None, 'place': None, 'contributors': None, 'is_quote_status': False, 'retweet_count': 38, 'favorite_count': 61, 'favorited': False, 'retweeted': False, 'possibly_sensitive': False, 'lang': 'en'}, {'created_at': 'Fri Jan 19 07:00:28 +0000 2018', 'id': 954247167723655168, 'id_str': '954247167723655168', 'text': 'Forget concussions. The real risk of CTE comes from repeated hits to the head, study shows https://t.co/Y9FU2vu4TV', 'truncated': False, 'entities': {'hashtags': [], 'symbols': [], 'user_mentions': [], 'urls': [{'url': 'https://t.co/Y9FU2vu4TV', 'expanded_url': 'http://lat.ms/2DpE65I', 'display_url': 'lat.ms/2DpE65I', 'indices': [91, 114]}]}, 'source': '<a href=\"http://www.hootsuite.com\" rel=\"nofollow\">Hootsuite</a>', 'in_reply_to_status_id': None, 'in_reply_to_status_id_str': None, 'in_reply_to_user_id': None, 'in_reply_to_user_id_str': None, 'in_reply_to_screen_name': None, 'user': {'id': 16664681, 'id_str': '16664681', 'name': 'Los Angeles Times', 'screen_name': 'latimes', 'location': 'Los Angeles, CA', 'description': 'News from Los Angeles and the world. Staffed by http://t.co/zb8HyvYyAJ editors.', 'url': 'http://t.co/JvbZRDfNzf', 'entities': {'url': {'urls': [{'url': 'http://t.co/JvbZRDfNzf', 'expanded_url': 'http://latimes.com/', 'display_url': 'latimes.com', 'indices': [0, 22]}]}, 'description': {'urls': [{'url': 'http://t.co/zb8HyvYyAJ', 'expanded_url': 'http://latimes.com', 'display_url': 'latimes.com', 'indices': [48, 70]}]}}, 'protected': False, 'followers_count': 3182038, 'friends_count': 10654, 'listed_count': 30388, 'created_at': 'Thu Oct 09 11:07:42 +0000 2008', 'favourites_count': 1902, 'utc_offset': -28800, 'time_zone': 'Pacific Time (US & Canada)', 'geo_enabled': True, 'verified': True, 'statuses_count': 188119, 'lang': 'en', 'contributors_enabled': False, 'is_translator': False, 'is_translation_enabled': False, 'profile_background_color': 'FFFFFF', 'profile_background_image_url': 'http://pbs.twimg.com/profile_background_images/596769492/sp4uqn6gr7cwmjefat2j.jpeg', 'profile_background_image_url_https': 'https://pbs.twimg.com/profile_background_images/596769492/sp4uqn6gr7cwmjefat2j.jpeg', 'profile_background_tile': False, 'profile_image_url': 'http://pbs.twimg.com/profile_images/546329819919560704/XMWy2Z50_normal.jpeg', 'profile_image_url_https': 'https://pbs.twimg.com/profile_images/546329819919560704/XMWy2Z50_normal.jpeg', 'profile_banner_url': 'https://pbs.twimg.com/profile_banners/16664681/1402448809', 'profile_link_color': '009999', 'profile_sidebar_border_color': 'FFFFFF', 'profile_sidebar_fill_color': 'EFEFEF', 'profile_text_color': '615F61', 'profile_use_background_image': True, 'has_extended_profile': False, 'default_profile': False, 'default_profile_image': False, 'following': False, 'follow_request_sent': False, 'notifications': False, 'translator_type': 'regular'}, 'geo': None, 'coordinates': None, 'place': None, 'contributors': None, 'is_quote_status': False, 'retweet_count': 40, 'favorite_count': 63, 'favorited': False, 'retweeted': False, 'possibly_sensitive': False, 'lang': 'en'}, {'created_at': 'Fri Jan 19 06:00:22 +0000 2018', 'id': 954232043524804608, 'id_str': '954232043524804608', 'text': 'When it comes to education policy, it\\'s \"the California way\" vs. Betsy DeVos https://t.co/4mzZXUnd6h https://t.co/89PxQqrtoe', 'truncated': False, 'entities': {'hashtags': [], 'symbols': [], 'user_mentions': [], 'urls': [{'url': 'https://t.co/4mzZXUnd6h', 'expanded_url': 'http://lat.ms/2DrHdJI', 'display_url': 'lat.ms/2DrHdJI', 'indices': [77, 100]}], 'media': [{'id': 954232041058451456, 'id_str': '954232041058451456', 'indices': [101, 124], 'media_url': 'http://pbs.twimg.com/media/DT4c_FCVwAAxgo7.jpg', 'media_url_https': 'https://pbs.twimg.com/media/DT4c_FCVwAAxgo7.jpg', 'url': 'https://t.co/89PxQqrtoe', 'display_url': 'pic.twitter.com/89PxQqrtoe', 'expanded_url': 'https://twitter.com/latimes/status/954232043524804608/photo/1', 'type': 'photo', 'sizes': {'thumb': {'w': 150, 'h': 150, 'resize': 'crop'}, 'medium': {'w': 1200, 'h': 675, 'resize': 'fit'}, 'large': {'w': 1600, 'h': 900, 'resize': 'fit'}, 'small': {'w': 680, 'h': 383, 'resize': 'fit'}}}]}, 'extended_entities': {'media': [{'id': 954232041058451456, 'id_str': '954232041058451456', 'indices': [101, 124], 'media_url': 'http://pbs.twimg.com/media/DT4c_FCVwAAxgo7.jpg', 'media_url_https': 'https://pbs.twimg.com/media/DT4c_FCVwAAxgo7.jpg', 'url': 'https://t.co/89PxQqrtoe', 'display_url': 'pic.twitter.com/89PxQqrtoe', 'expanded_url': 'https://twitter.com/latimes/status/954232043524804608/photo/1', 'type': 'photo', 'sizes': {'thumb': {'w': 150, 'h': 150, 'resize': 'crop'}, 'medium': {'w': 1200, 'h': 675, 'resize': 'fit'}, 'large': {'w': 1600, 'h': 900, 'resize': 'fit'}, 'small': {'w': 680, 'h': 383, 'resize': 'fit'}}}]}, 'source': '<a href=\"http://www.hootsuite.com\" rel=\"nofollow\">Hootsuite</a>', 'in_reply_to_status_id': None, 'in_reply_to_status_id_str': None, 'in_reply_to_user_id': None, 'in_reply_to_user_id_str': None, 'in_reply_to_screen_name': None, 'user': {'id': 16664681, 'id_str': '16664681', 'name': 'Los Angeles Times', 'screen_name': 'latimes', 'location': 'Los Angeles, CA', 'description': 'News from Los Angeles and the world. Staffed by http://t.co/zb8HyvYyAJ editors.', 'url': 'http://t.co/JvbZRDfNzf', 'entities': {'url': {'urls': [{'url': 'http://t.co/JvbZRDfNzf', 'expanded_url': 'http://latimes.com/', 'display_url': 'latimes.com', 'indices': [0, 22]}]}, 'description': {'urls': [{'url': 'http://t.co/zb8HyvYyAJ', 'expanded_url': 'http://latimes.com', 'display_url': 'latimes.com', 'indices': [48, 70]}]}}, 'protected': False, 'followers_count': 3182038, 'friends_count': 10654, 'listed_count': 30388, 'created_at': 'Thu Oct 09 11:07:42 +0000 2008', 'favourites_count': 1902, 'utc_offset': -28800, 'time_zone': 'Pacific Time (US & Canada)', 'geo_enabled': True, 'verified': True, 'statuses_count': 188119, 'lang': 'en', 'contributors_enabled': False, 'is_translator': False, 'is_translation_enabled': False, 'profile_background_color': 'FFFFFF', 'profile_background_image_url': 'http://pbs.twimg.com/profile_background_images/596769492/sp4uqn6gr7cwmjefat2j.jpeg', 'profile_background_image_url_https': 'https://pbs.twimg.com/profile_background_images/596769492/sp4uqn6gr7cwmjefat2j.jpeg', 'profile_background_tile': False, 'profile_image_url': 'http://pbs.twimg.com/profile_images/546329819919560704/XMWy2Z50_normal.jpeg', 'profile_image_url_https': 'https://pbs.twimg.com/profile_images/546329819919560704/XMWy2Z50_normal.jpeg', 'profile_banner_url': 'https://pbs.twimg.com/profile_banners/16664681/1402448809', 'profile_link_color': '009999', 'profile_sidebar_border_color': 'FFFFFF', 'profile_sidebar_fill_color': 'EFEFEF', 'profile_text_color': '615F61', 'profile_use_background_image': True, 'has_extended_profile': False, 'default_profile': False, 'default_profile_image': False, 'following': False, 'follow_request_sent': False, 'notifications': False, 'translator_type': 'regular'}, 'geo': None, 'coordinates': None, 'place': None, 'contributors': None, 'is_quote_status': False, 'retweet_count': 16, 'favorite_count': 45, 'favorited': False, 'retweeted': False, 'possibly_sensitive': False, 'lang': 'en'}, {'created_at': 'Fri Jan 19 05:00:19 +0000 2018', 'id': 954216929463545856, 'id_str': '954216929463545856', 'text': 'Taxpayers may pay for secret Zuma satellite lost after SpaceX launch https://t.co/RoStZQb9Mo https://t.co/ZujPjf0Ukg', 'truncated': False, 'entities': {'hashtags': [], 'symbols': [], 'user_mentions': [], 'urls': [{'url': 'https://t.co/RoStZQb9Mo', 'expanded_url': 'http://lat.ms/2mSVOEC', 'display_url': 'lat.ms/2mSVOEC', 'indices': [69, 92]}], 'media': [{'id': 954216927534166016, 'id_str': '954216927534166016', 'indices': [93, 116], 'media_url': 'http://pbs.twimg.com/media/DT4PPWxWsAAsduC.jpg', 'media_url_https': 'https://pbs.twimg.com/media/DT4PPWxWsAAsduC.jpg', 'url': 'https://t.co/ZujPjf0Ukg', 'display_url': 'pic.twitter.com/ZujPjf0Ukg', 'expanded_url': 'https://twitter.com/latimes/status/954216929463545856/photo/1', 'type': 'photo', 'sizes': {'thumb': {'w': 150, 'h': 150, 'resize': 'crop'}, 'medium': {'w': 1200, 'h': 675, 'resize': 'fit'}, 'small': {'w': 680, 'h': 383, 'resize': 'fit'}, 'large': {'w': 1600, 'h': 900, 'resize': 'fit'}}}]}, 'extended_entities': {'media': [{'id': 954216927534166016, 'id_str': '954216927534166016', 'indices': [93, 116], 'media_url': 'http://pbs.twimg.com/media/DT4PPWxWsAAsduC.jpg', 'media_url_https': 'https://pbs.twimg.com/media/DT4PPWxWsAAsduC.jpg', 'url': 'https://t.co/ZujPjf0Ukg', 'display_url': 'pic.twitter.com/ZujPjf0Ukg', 'expanded_url': 'https://twitter.com/latimes/status/954216929463545856/photo/1', 'type': 'photo', 'sizes': {'thumb': {'w': 150, 'h': 150, 'resize': 'crop'}, 'medium': {'w': 1200, 'h': 675, 'resize': 'fit'}, 'small': {'w': 680, 'h': 383, 'resize': 'fit'}, 'large': {'w': 1600, 'h': 900, 'resize': 'fit'}}}]}, 'source': '<a href=\"http://www.hootsuite.com\" rel=\"nofollow\">Hootsuite</a>', 'in_reply_to_status_id': None, 'in_reply_to_status_id_str': None, 'in_reply_to_user_id': None, 'in_reply_to_user_id_str': None, 'in_reply_to_screen_name': None, 'user': {'id': 16664681, 'id_str': '16664681', 'name': 'Los Angeles Times', 'screen_name': 'latimes', 'location': 'Los Angeles, CA', 'description': 'News from Los Angeles and the world. Staffed by http://t.co/zb8HyvYyAJ editors.', 'url': 'http://t.co/JvbZRDfNzf', 'entities': {'url': {'urls': [{'url': 'http://t.co/JvbZRDfNzf', 'expanded_url': 'http://latimes.com/', 'display_url': 'latimes.com', 'indices': [0, 22]}]}, 'description': {'urls': [{'url': 'http://t.co/zb8HyvYyAJ', 'expanded_url': 'http://latimes.com', 'display_url': 'latimes.com', 'indices': [48, 70]}]}}, 'protected': False, 'followers_count': 3182038, 'friends_count': 10654, 'listed_count': 30388, 'created_at': 'Thu Oct 09 11:07:42 +0000 2008', 'favourites_count': 1902, 'utc_offset': -28800, 'time_zone': 'Pacific Time (US & Canada)', 'geo_enabled': True, 'verified': True, 'statuses_count': 188119, 'lang': 'en', 'contributors_enabled': False, 'is_translator': False, 'is_translation_enabled': False, 'profile_background_color': 'FFFFFF', 'profile_background_image_url': 'http://pbs.twimg.com/profile_background_images/596769492/sp4uqn6gr7cwmjefat2j.jpeg', 'profile_background_image_url_https': 'https://pbs.twimg.com/profile_background_images/596769492/sp4uqn6gr7cwmjefat2j.jpeg', 'profile_background_tile': False, 'profile_image_url': 'http://pbs.twimg.com/profile_images/546329819919560704/XMWy2Z50_normal.jpeg', 'profile_image_url_https': 'https://pbs.twimg.com/profile_images/546329819919560704/XMWy2Z50_normal.jpeg', 'profile_banner_url': 'https://pbs.twimg.com/profile_banners/16664681/1402448809', 'profile_link_color': '009999', 'profile_sidebar_border_color': 'FFFFFF', 'profile_sidebar_fill_color': 'EFEFEF', 'profile_text_color': '615F61', 'profile_use_background_image': True, 'has_extended_profile': False, 'default_profile': False, 'default_profile_image': False, 'following': False, 'follow_request_sent': False, 'notifications': False, 'translator_type': 'regular'}, 'geo': None, 'coordinates': None, 'place': None, 'contributors': None, 'is_quote_status': False, 'retweet_count': 16, 'favorite_count': 35, 'favorited': False, 'retweeted': False, 'possibly_sensitive': False, 'lang': 'en'}, {'created_at': 'Fri Jan 19 04:40:05 +0000 2018', 'id': 954211839981867008, 'id_str': '954211839981867008', 'text': 'Review: Closeted preacher faces a reckoning in delicately wrought drama \"The Revival\" https://t.co/yRnGkZAcVq https://t.co/Uyixw50zP0', 'truncated': False, 'entities': {'hashtags': [], 'symbols': [], 'user_mentions': [], 'urls': [{'url': 'https://t.co/yRnGkZAcVq', 'expanded_url': 'http://lat.ms/2rph6hY', 'display_url': 'lat.ms/2rph6hY', 'indices': [86, 109]}], 'media': [{'id': 954211837259714560, 'id_str': '954211837259714560', 'indices': [110, 133], 'media_url': 'http://pbs.twimg.com/media/DT4KnEBWkAAJzs2.jpg', 'media_url_https': 'https://pbs.twimg.com/media/DT4KnEBWkAAJzs2.jpg', 'url': 'https://t.co/Uyixw50zP0', 'display_url': 'pic.twitter.com/Uyixw50zP0', 'expanded_url': 'https://twitter.com/latimes/status/954211839981867008/photo/1', 'type': 'photo', 'sizes': {'thumb': {'w': 150, 'h': 150, 'resize': 'crop'}, 'medium': {'w': 1200, 'h': 675, 'resize': 'fit'}, 'large': {'w': 1600, 'h': 900, 'resize': 'fit'}, 'small': {'w': 680, 'h': 383, 'resize': 'fit'}}}]}, 'extended_entities': {'media': [{'id': 954211837259714560, 'id_str': '954211837259714560', 'indices': [110, 133], 'media_url': 'http://pbs.twimg.com/media/DT4KnEBWkAAJzs2.jpg', 'media_url_https': 'https://pbs.twimg.com/media/DT4KnEBWkAAJzs2.jpg', 'url': 'https://t.co/Uyixw50zP0', 'display_url': 'pic.twitter.com/Uyixw50zP0', 'expanded_url': 'https://twitter.com/latimes/status/954211839981867008/photo/1', 'type': 'photo', 'sizes': {'thumb': {'w': 150, 'h': 150, 'resize': 'crop'}, 'medium': {'w': 1200, 'h': 675, 'resize': 'fit'}, 'large': {'w': 1600, 'h': 900, 'resize': 'fit'}, 'small': {'w': 680, 'h': 383, 'resize': 'fit'}}}]}, 'source': '<a href=\"http://www.hootsuite.com\" rel=\"nofollow\">Hootsuite</a>', 'in_reply_to_status_id': None, 'in_reply_to_status_id_str': None, 'in_reply_to_user_id': None, 'in_reply_to_user_id_str': None, 'in_reply_to_screen_name': None, 'user': {'id': 16664681, 'id_str': '16664681', 'name': 'Los Angeles Times', 'screen_name': 'latimes', 'location': 'Los Angeles, CA', 'description': 'News from Los Angeles and the world. Staffed by http://t.co/zb8HyvYyAJ editors.', 'url': 'http://t.co/JvbZRDfNzf', 'entities': {'url': {'urls': [{'url': 'http://t.co/JvbZRDfNzf', 'expanded_url': 'http://latimes.com/', 'display_url': 'latimes.com', 'indices': [0, 22]}]}, 'description': {'urls': [{'url': 'http://t.co/zb8HyvYyAJ', 'expanded_url': 'http://latimes.com', 'display_url': 'latimes.com', 'indices': [48, 70]}]}}, 'protected': False, 'followers_count': 3182038, 'friends_count': 10654, 'listed_count': 30388, 'created_at': 'Thu Oct 09 11:07:42 +0000 2008', 'favourites_count': 1902, 'utc_offset': -28800, 'time_zone': 'Pacific Time (US & Canada)', 'geo_enabled': True, 'verified': True, 'statuses_count': 188119, 'lang': 'en', 'contributors_enabled': False, 'is_translator': False, 'is_translation_enabled': False, 'profile_background_color': 'FFFFFF', 'profile_background_image_url': 'http://pbs.twimg.com/profile_background_images/596769492/sp4uqn6gr7cwmjefat2j.jpeg', 'profile_background_image_url_https': 'https://pbs.twimg.com/profile_background_images/596769492/sp4uqn6gr7cwmjefat2j.jpeg', 'profile_background_tile': False, 'profile_image_url': 'http://pbs.twimg.com/profile_images/546329819919560704/XMWy2Z50_normal.jpeg', 'profile_image_url_https': 'https://pbs.twimg.com/profile_images/546329819919560704/XMWy2Z50_normal.jpeg', 'profile_banner_url': 'https://pbs.twimg.com/profile_banners/16664681/1402448809', 'profile_link_color': '009999', 'profile_sidebar_border_color': 'FFFFFF', 'profile_sidebar_fill_color': 'EFEFEF', 'profile_text_color': '615F61', 'profile_use_background_image': True, 'has_extended_profile': False, 'default_profile': False, 'default_profile_image': False, 'following': False, 'follow_request_sent': False, 'notifications': False, 'translator_type': 'regular'}, 'geo': None, 'coordinates': None, 'place': None, 'contributors': None, 'is_quote_status': False, 'retweet_count': 2, 'favorite_count': 12, 'favorited': False, 'retweeted': False, 'possibly_sensitive': False, 'lang': 'en'}, {'created_at': 'Fri Jan 19 04:20:04 +0000 2018', 'id': 954206802761125894, 'id_str': '954206802761125894', 'text': 'No one is talking about building a wall, but Ireland fears a \"Brexit\" divide https://t.co/6CQ7m3Z6rj https://t.co/AXpxWvnb69', 'truncated': False, 'entities': {'hashtags': [], 'symbols': [], 'user_mentions': [], 'urls': [{'url': 'https://t.co/6CQ7m3Z6rj', 'expanded_url': 'http://lat.ms/2DqIpOw', 'display_url': 'lat.ms/2DqIpOw', 'indices': [77, 100]}], 'media': [{'id': 954206800357806080, 'id_str': '954206800357806080', 'indices': [101, 124], 'media_url': 'http://pbs.twimg.com/media/DT4GB4GW0AAq3yT.jpg', 'media_url_https': 'https://pbs.twimg.com/media/DT4GB4GW0AAq3yT.jpg', 'url': 'https://t.co/AXpxWvnb69', 'display_url': 'pic.twitter.com/AXpxWvnb69', 'expanded_url': 'https://twitter.com/latimes/status/954206802761125894/photo/1', 'type': 'photo', 'sizes': {'thumb': {'w': 150, 'h': 150, 'resize': 'crop'}, 'small': {'w': 680, 'h': 383, 'resize': 'fit'}, 'medium': {'w': 1200, 'h': 675, 'resize': 'fit'}, 'large': {'w': 1600, 'h': 900, 'resize': 'fit'}}}]}, 'extended_entities': {'media': [{'id': 954206800357806080, 'id_str': '954206800357806080', 'indices': [101, 124], 'media_url': 'http://pbs.twimg.com/media/DT4GB4GW0AAq3yT.jpg', 'media_url_https': 'https://pbs.twimg.com/media/DT4GB4GW0AAq3yT.jpg', 'url': 'https://t.co/AXpxWvnb69', 'display_url': 'pic.twitter.com/AXpxWvnb69', 'expanded_url': 'https://twitter.com/latimes/status/954206802761125894/photo/1', 'type': 'photo', 'sizes': {'thumb': {'w': 150, 'h': 150, 'resize': 'crop'}, 'small': {'w': 680, 'h': 383, 'resize': 'fit'}, 'medium': {'w': 1200, 'h': 675, 'resize': 'fit'}, 'large': {'w': 1600, 'h': 900, 'resize': 'fit'}}}]}, 'source': '<a href=\"http://www.hootsuite.com\" rel=\"nofollow\">Hootsuite</a>', 'in_reply_to_status_id': None, 'in_reply_to_status_id_str': None, 'in_reply_to_user_id': None, 'in_reply_to_user_id_str': None, 'in_reply_to_screen_name': None, 'user': {'id': 16664681, 'id_str': '16664681', 'name': 'Los Angeles Times', 'screen_name': 'latimes', 'location': 'Los Angeles, CA', 'description': 'News from Los Angeles and the world. Staffed by http://t.co/zb8HyvYyAJ editors.', 'url': 'http://t.co/JvbZRDfNzf', 'entities': {'url': {'urls': [{'url': 'http://t.co/JvbZRDfNzf', 'expanded_url': 'http://latimes.com/', 'display_url': 'latimes.com', 'indices': [0, 22]}]}, 'description': {'urls': [{'url': 'http://t.co/zb8HyvYyAJ', 'expanded_url': 'http://latimes.com', 'display_url': 'latimes.com', 'indices': [48, 70]}]}}, 'protected': False, 'followers_count': 3182038, 'friends_count': 10654, 'listed_count': 30388, 'created_at': 'Thu Oct 09 11:07:42 +0000 2008', 'favourites_count': 1902, 'utc_offset': -28800, 'time_zone': 'Pacific Time (US & Canada)', 'geo_enabled': True, 'verified': True, 'statuses_count': 188119, 'lang': 'en', 'contributors_enabled': False, 'is_translator': False, 'is_translation_enabled': False, 'profile_background_color': 'FFFFFF', 'profile_background_image_url': 'http://pbs.twimg.com/profile_background_images/596769492/sp4uqn6gr7cwmjefat2j.jpeg', 'profile_background_image_url_https': 'https://pbs.twimg.com/profile_background_images/596769492/sp4uqn6gr7cwmjefat2j.jpeg', 'profile_background_tile': False, 'profile_image_url': 'http://pbs.twimg.com/profile_images/546329819919560704/XMWy2Z50_normal.jpeg', 'profile_image_url_https': 'https://pbs.twimg.com/profile_images/546329819919560704/XMWy2Z50_normal.jpeg', 'profile_banner_url': 'https://pbs.twimg.com/profile_banners/16664681/1402448809', 'profile_link_color': '009999', 'profile_sidebar_border_color': 'FFFFFF', 'profile_sidebar_fill_color': 'EFEFEF', 'profile_text_color': '615F61', 'profile_use_background_image': True, 'has_extended_profile': False, 'default_profile': False, 'default_profile_image': False, 'following': False, 'follow_request_sent': False, 'notifications': False, 'translator_type': 'regular'}, 'geo': None, 'coordinates': None, 'place': None, 'contributors': None, 'is_quote_status': False, 'retweet_count': 41, 'favorite_count': 67, 'favorited': False, 'retweeted': False, 'possibly_sensitive': False, 'lang': 'en'}, {'created_at': 'Fri Jan 19 04:05:04 +0000 2018', 'id': 954203026532786181, 'id_str': '954203026532786181', 'text': \"A look at Sundance Film Festival's stronger than usual 2018 lineup https://t.co/XkiVsoWUwI https://t.co/8s53h77syZ\", 'truncated': False, 'entities': {'hashtags': [], 'symbols': [], 'user_mentions': [], 'urls': [{'url': 'https://t.co/XkiVsoWUwI', 'expanded_url': 'http://lat.ms/2DjoQDw', 'display_url': 'lat.ms/2DjoQDw', 'indices': [67, 90]}], 'media': [{'id': 954203024477638656, 'id_str': '954203024477638656', 'indices': [91, 114], 'media_url': 'http://pbs.twimg.com/media/DT4CmF2X0AA6lh8.jpg', 'media_url_https': 'https://pbs.twimg.com/media/DT4CmF2X0AA6lh8.jpg', 'url': 'https://t.co/8s53h77syZ', 'display_url': 'pic.twitter.com/8s53h77syZ', 'expanded_url': 'https://twitter.com/latimes/status/954203026532786181/photo/1', 'type': 'photo', 'sizes': {'thumb': {'w': 150, 'h': 150, 'resize': 'crop'}, 'small': {'w': 680, 'h': 383, 'resize': 'fit'}, 'medium': {'w': 1200, 'h': 675, 'resize': 'fit'}, 'large': {'w': 1600, 'h': 900, 'resize': 'fit'}}}]}, 'extended_entities': {'media': [{'id': 954203024477638656, 'id_str': '954203024477638656', 'indices': [91, 114], 'media_url': 'http://pbs.twimg.com/media/DT4CmF2X0AA6lh8.jpg', 'media_url_https': 'https://pbs.twimg.com/media/DT4CmF2X0AA6lh8.jpg', 'url': 'https://t.co/8s53h77syZ', 'display_url': 'pic.twitter.com/8s53h77syZ', 'expanded_url': 'https://twitter.com/latimes/status/954203026532786181/photo/1', 'type': 'photo', 'sizes': {'thumb': {'w': 150, 'h': 150, 'resize': 'crop'}, 'small': {'w': 680, 'h': 383, 'resize': 'fit'}, 'medium': {'w': 1200, 'h': 675, 'resize': 'fit'}, 'large': {'w': 1600, 'h': 900, 'resize': 'fit'}}}]}, 'source': '<a href=\"http://www.hootsuite.com\" rel=\"nofollow\">Hootsuite</a>', 'in_reply_to_status_id': None, 'in_reply_to_status_id_str': None, 'in_reply_to_user_id': None, 'in_reply_to_user_id_str': None, 'in_reply_to_screen_name': None, 'user': {'id': 16664681, 'id_str': '16664681', 'name': 'Los Angeles Times', 'screen_name': 'latimes', 'location': 'Los Angeles, CA', 'description': 'News from Los Angeles and the world. Staffed by http://t.co/zb8HyvYyAJ editors.', 'url': 'http://t.co/JvbZRDfNzf', 'entities': {'url': {'urls': [{'url': 'http://t.co/JvbZRDfNzf', 'expanded_url': 'http://latimes.com/', 'display_url': 'latimes.com', 'indices': [0, 22]}]}, 'description': {'urls': [{'url': 'http://t.co/zb8HyvYyAJ', 'expanded_url': 'http://latimes.com', 'display_url': 'latimes.com', 'indices': [48, 70]}]}}, 'protected': False, 'followers_count': 3182038, 'friends_count': 10654, 'listed_count': 30388, 'created_at': 'Thu Oct 09 11:07:42 +0000 2008', 'favourites_count': 1902, 'utc_offset': -28800, 'time_zone': 'Pacific Time (US & Canada)', 'geo_enabled': True, 'verified': True, 'statuses_count': 188119, 'lang': 'en', 'contributors_enabled': False, 'is_translator': False, 'is_translation_enabled': False, 'profile_background_color': 'FFFFFF', 'profile_background_image_url': 'http://pbs.twimg.com/profile_background_images/596769492/sp4uqn6gr7cwmjefat2j.jpeg', 'profile_background_image_url_https': 'https://pbs.twimg.com/profile_background_images/596769492/sp4uqn6gr7cwmjefat2j.jpeg', 'profile_background_tile': False, 'profile_image_url': 'http://pbs.twimg.com/profile_images/546329819919560704/XMWy2Z50_normal.jpeg', 'profile_image_url_https': 'https://pbs.twimg.com/profile_images/546329819919560704/XMWy2Z50_normal.jpeg', 'profile_banner_url': 'https://pbs.twimg.com/profile_banners/16664681/1402448809', 'profile_link_color': '009999', 'profile_sidebar_border_color': 'FFFFFF', 'profile_sidebar_fill_color': 'EFEFEF', 'profile_text_color': '615F61', 'profile_use_background_image': True, 'has_extended_profile': False, 'default_profile': False, 'default_profile_image': False, 'following': False, 'follow_request_sent': False, 'notifications': False, 'translator_type': 'regular'}, 'geo': None, 'coordinates': None, 'place': None, 'contributors': None, 'is_quote_status': False, 'retweet_count': 15, 'favorite_count': 34, 'favorited': False, 'retweeted': False, 'possibly_sensitive': False, 'lang': 'en'}, {'created_at': 'Fri Jan 19 03:45:05 +0000 2018', 'id': 954197996283015169, 'id_str': '954197996283015169', 'text': 'Former banker sues Wells Fargo, says he blew whistle on mortgage practices https://t.co/1uHBjzYLS7', 'truncated': False, 'entities': {'hashtags': [], 'symbols': [], 'user_mentions': [], 'urls': [{'url': 'https://t.co/1uHBjzYLS7', 'expanded_url': 'http://lat.ms/2DtrSZa', 'display_url': 'lat.ms/2DtrSZa', 'indices': [75, 98]}]}, 'source': '<a href=\"http://www.hootsuite.com\" rel=\"nofollow\">Hootsuite</a>', 'in_reply_to_status_id': None, 'in_reply_to_status_id_str': None, 'in_reply_to_user_id': None, 'in_reply_to_user_id_str': None, 'in_reply_to_screen_name': None, 'user': {'id': 16664681, 'id_str': '16664681', 'name': 'Los Angeles Times', 'screen_name': 'latimes', 'location': 'Los Angeles, CA', 'description': 'News from Los Angeles and the world. Staffed by http://t.co/zb8HyvYyAJ editors.', 'url': 'http://t.co/JvbZRDfNzf', 'entities': {'url': {'urls': [{'url': 'http://t.co/JvbZRDfNzf', 'expanded_url': 'http://latimes.com/', 'display_url': 'latimes.com', 'indices': [0, 22]}]}, 'description': {'urls': [{'url': 'http://t.co/zb8HyvYyAJ', 'expanded_url': 'http://latimes.com', 'display_url': 'latimes.com', 'indices': [48, 70]}]}}, 'protected': False, 'followers_count': 3182038, 'friends_count': 10654, 'listed_count': 30388, 'created_at': 'Thu Oct 09 11:07:42 +0000 2008', 'favourites_count': 1902, 'utc_offset': -28800, 'time_zone': 'Pacific Time (US & Canada)', 'geo_enabled': True, 'verified': True, 'statuses_count': 188119, 'lang': 'en', 'contributors_enabled': False, 'is_translator': False, 'is_translation_enabled': False, 'profile_background_color': 'FFFFFF', 'profile_background_image_url': 'http://pbs.twimg.com/profile_background_images/596769492/sp4uqn6gr7cwmjefat2j.jpeg', 'profile_background_image_url_https': 'https://pbs.twimg.com/profile_background_images/596769492/sp4uqn6gr7cwmjefat2j.jpeg', 'profile_background_tile': False, 'profile_image_url': 'http://pbs.twimg.com/profile_images/546329819919560704/XMWy2Z50_normal.jpeg', 'profile_image_url_https': 'https://pbs.twimg.com/profile_images/546329819919560704/XMWy2Z50_normal.jpeg', 'profile_banner_url': 'https://pbs.twimg.com/profile_banners/16664681/1402448809', 'profile_link_color': '009999', 'profile_sidebar_border_color': 'FFFFFF', 'profile_sidebar_fill_color': 'EFEFEF', 'profile_text_color': '615F61', 'profile_use_background_image': True, 'has_extended_profile': False, 'default_profile': False, 'default_profile_image': False, 'following': False, 'follow_request_sent': False, 'notifications': False, 'translator_type': 'regular'}, 'geo': None, 'coordinates': None, 'place': None, 'contributors': None, 'is_quote_status': False, 'retweet_count': 25, 'favorite_count': 45, 'favorited': False, 'retweeted': False, 'possibly_sensitive': False, 'lang': 'en'}, {'created_at': 'Fri Jan 19 03:21:25 +0000 2018', 'id': 954192042451615745, 'id_str': '954192042451615745', 'text': 'Apple plants a flag in Culver City, further expanding its presence in Hollywood https://t.co/Wtzoh3xBWp https://t.co/3y4VETTs9c', 'truncated': False, 'entities': {'hashtags': [], 'symbols': [], 'user_mentions': [], 'urls': [{'url': 'https://t.co/Wtzoh3xBWp', 'expanded_url': 'http://lat.ms/2EWKTQD', 'display_url': 'lat.ms/2EWKTQD', 'indices': [80, 103]}], 'media': [{'id': 954192039477940224, 'id_str': '954192039477940224', 'indices': [104, 127], 'media_url': 'http://pbs.twimg.com/media/DT34mriWkAA44Fw.jpg', 'media_url_https': 'https://pbs.twimg.com/media/DT34mriWkAA44Fw.jpg', 'url': 'https://t.co/3y4VETTs9c', 'display_url': 'pic.twitter.com/3y4VETTs9c', 'expanded_url': 'https://twitter.com/latimes/status/954192042451615745/photo/1', 'type': 'photo', 'sizes': {'large': {'w': 1600, 'h': 900, 'resize': 'fit'}, 'thumb': {'w': 150, 'h': 150, 'resize': 'crop'}, 'small': {'w': 680, 'h': 383, 'resize': 'fit'}, 'medium': {'w': 1200, 'h': 675, 'resize': 'fit'}}}]}, 'extended_entities': {'media': [{'id': 954192039477940224, 'id_str': '954192039477940224', 'indices': [104, 127], 'media_url': 'http://pbs.twimg.com/media/DT34mriWkAA44Fw.jpg', 'media_url_https': 'https://pbs.twimg.com/media/DT34mriWkAA44Fw.jpg', 'url': 'https://t.co/3y4VETTs9c', 'display_url': 'pic.twitter.com/3y4VETTs9c', 'expanded_url': 'https://twitter.com/latimes/status/954192042451615745/photo/1', 'type': 'photo', 'sizes': {'large': {'w': 1600, 'h': 900, 'resize': 'fit'}, 'thumb': {'w': 150, 'h': 150, 'resize': 'crop'}, 'small': {'w': 680, 'h': 383, 'resize': 'fit'}, 'medium': {'w': 1200, 'h': 675, 'resize': 'fit'}}}]}, 'source': '<a href=\"http://www.hootsuite.com\" rel=\"nofollow\">Hootsuite</a>', 'in_reply_to_status_id': None, 'in_reply_to_status_id_str': None, 'in_reply_to_user_id': None, 'in_reply_to_user_id_str': None, 'in_reply_to_screen_name': None, 'user': {'id': 16664681, 'id_str': '16664681', 'name': 'Los Angeles Times', 'screen_name': 'latimes', 'location': 'Los Angeles, CA', 'description': 'News from Los Angeles and the world. Staffed by http://t.co/zb8HyvYyAJ editors.', 'url': 'http://t.co/JvbZRDfNzf', 'entities': {'url': {'urls': [{'url': 'http://t.co/JvbZRDfNzf', 'expanded_url': 'http://latimes.com/', 'display_url': 'latimes.com', 'indices': [0, 22]}]}, 'description': {'urls': [{'url': 'http://t.co/zb8HyvYyAJ', 'expanded_url': 'http://latimes.com', 'display_url': 'latimes.com', 'indices': [48, 70]}]}}, 'protected': False, 'followers_count': 3182038, 'friends_count': 10654, 'listed_count': 30388, 'created_at': 'Thu Oct 09 11:07:42 +0000 2008', 'favourites_count': 1902, 'utc_offset': -28800, 'time_zone': 'Pacific Time (US & Canada)', 'geo_enabled': True, 'verified': True, 'statuses_count': 188119, 'lang': 'en', 'contributors_enabled': False, 'is_translator': False, 'is_translation_enabled': False, 'profile_background_color': 'FFFFFF', 'profile_background_image_url': 'http://pbs.twimg.com/profile_background_images/596769492/sp4uqn6gr7cwmjefat2j.jpeg', 'profile_background_image_url_https': 'https://pbs.twimg.com/profile_background_images/596769492/sp4uqn6gr7cwmjefat2j.jpeg', 'profile_background_tile': False, 'profile_image_url': 'http://pbs.twimg.com/profile_images/546329819919560704/XMWy2Z50_normal.jpeg', 'profile_image_url_https': 'https://pbs.twimg.com/profile_images/546329819919560704/XMWy2Z50_normal.jpeg', 'profile_banner_url': 'https://pbs.twimg.com/profile_banners/16664681/1402448809', 'profile_link_color': '009999', 'profile_sidebar_border_color': 'FFFFFF', 'profile_sidebar_fill_color': 'EFEFEF', 'profile_text_color': '615F61', 'profile_use_background_image': True, 'has_extended_profile': False, 'default_profile': False, 'default_profile_image': False, 'following': False, 'follow_request_sent': False, 'notifications': False, 'translator_type': 'regular'}, 'geo': None, 'coordinates': None, 'place': None, 'contributors': None, 'is_quote_status': False, 'retweet_count': 12, 'favorite_count': 32, 'favorited': False, 'retweeted': False, 'possibly_sensitive': False, 'lang': 'en'}, {'created_at': 'Fri Jan 19 03:00:27 +0000 2018', 'id': 954186763974701056, 'id_str': '954186763974701056', 'text': \"Trump's lawyers urge Supreme Court to reject DACA ruling by California judge https://t.co/9c3fSMP7NS https://t.co/6DUi238Sye\", 'truncated': False, 'entities': {'hashtags': [], 'symbols': [], 'user_mentions': [], 'urls': [{'url': 'https://t.co/9c3fSMP7NS', 'expanded_url': 'http://lat.ms/2DOMRn0', 'display_url': 'lat.ms/2DOMRn0', 'indices': [77, 100]}], 'media': [{'id': 954186760841461760, 'id_str': '954186760841461760', 'indices': [101, 124], 'media_url': 'http://pbs.twimg.com/media/DT3zzbFWAAA1heA.jpg', 'media_url_https': 'https://pbs.twimg.com/media/DT3zzbFWAAA1heA.jpg', 'url': 'https://t.co/6DUi238Sye', 'display_url': 'pic.twitter.com/6DUi238Sye', 'expanded_url': 'https://twitter.com/latimes/status/954186763974701056/photo/1', 'type': 'photo', 'sizes': {'thumb': {'w': 150, 'h': 150, 'resize': 'crop'}, 'medium': {'w': 900, 'h': 600, 'resize': 'fit'}, 'large': {'w': 900, 'h': 600, 'resize': 'fit'}, 'small': {'w': 680, 'h': 453, 'resize': 'fit'}}}]}, 'extended_entities': {'media': [{'id': 954186760841461760, 'id_str': '954186760841461760', 'indices': [101, 124], 'media_url': 'http://pbs.twimg.com/media/DT3zzbFWAAA1heA.jpg', 'media_url_https': 'https://pbs.twimg.com/media/DT3zzbFWAAA1heA.jpg', 'url': 'https://t.co/6DUi238Sye', 'display_url': 'pic.twitter.com/6DUi238Sye', 'expanded_url': 'https://twitter.com/latimes/status/954186763974701056/photo/1', 'type': 'photo', 'sizes': {'thumb': {'w': 150, 'h': 150, 'resize': 'crop'}, 'medium': {'w': 900, 'h': 600, 'resize': 'fit'}, 'large': {'w': 900, 'h': 600, 'resize': 'fit'}, 'small': {'w': 680, 'h': 453, 'resize': 'fit'}}}]}, 'source': '<a href=\"http://www.hootsuite.com\" rel=\"nofollow\">Hootsuite</a>', 'in_reply_to_status_id': None, 'in_reply_to_status_id_str': None, 'in_reply_to_user_id': None, 'in_reply_to_user_id_str': None, 'in_reply_to_screen_name': None, 'user': {'id': 16664681, 'id_str': '16664681', 'name': 'Los Angeles Times', 'screen_name': 'latimes', 'location': 'Los Angeles, CA', 'description': 'News from Los Angeles and the world. Staffed by http://t.co/zb8HyvYyAJ editors.', 'url': 'http://t.co/JvbZRDfNzf', 'entities': {'url': {'urls': [{'url': 'http://t.co/JvbZRDfNzf', 'expanded_url': 'http://latimes.com/', 'display_url': 'latimes.com', 'indices': [0, 22]}]}, 'description': {'urls': [{'url': 'http://t.co/zb8HyvYyAJ', 'expanded_url': 'http://latimes.com', 'display_url': 'latimes.com', 'indices': [48, 70]}]}}, 'protected': False, 'followers_count': 3182038, 'friends_count': 10654, 'listed_count': 30388, 'created_at': 'Thu Oct 09 11:07:42 +0000 2008', 'favourites_count': 1902, 'utc_offset': -28800, 'time_zone': 'Pacific Time (US & Canada)', 'geo_enabled': True, 'verified': True, 'statuses_count': 188119, 'lang': 'en', 'contributors_enabled': False, 'is_translator': False, 'is_translation_enabled': False, 'profile_background_color': 'FFFFFF', 'profile_background_image_url': 'http://pbs.twimg.com/profile_background_images/596769492/sp4uqn6gr7cwmjefat2j.jpeg', 'profile_background_image_url_https': 'https://pbs.twimg.com/profile_background_images/596769492/sp4uqn6gr7cwmjefat2j.jpeg', 'profile_background_tile': False, 'profile_image_url': 'http://pbs.twimg.com/profile_images/546329819919560704/XMWy2Z50_normal.jpeg', 'profile_image_url_https': 'https://pbs.twimg.com/profile_images/546329819919560704/XMWy2Z50_normal.jpeg', 'profile_banner_url': 'https://pbs.twimg.com/profile_banners/16664681/1402448809', 'profile_link_color': '009999', 'profile_sidebar_border_color': 'FFFFFF', 'profile_sidebar_fill_color': 'EFEFEF', 'profile_text_color': '615F61', 'profile_use_background_image': True, 'has_extended_profile': False, 'default_profile': False, 'default_profile_image': False, 'following': False, 'follow_request_sent': False, 'notifications': False, 'translator_type': 'regular'}, 'geo': None, 'coordinates': None, 'place': None, 'contributors': None, 'is_quote_status': False, 'retweet_count': 18, 'favorite_count': 26, 'favorited': False, 'retweeted': False, 'possibly_sensitive': False, 'lang': 'en'}]\n"
     ]
    }
   ],
   "source": [
    "print(public_tweets)"
   ]
  },
  {
   "cell_type": "code",
   "execution_count": 26,
   "metadata": {},
   "outputs": [
    {
     "data": {
      "text/plain": [
       "['Fri Jan 19 13:35:11 +0000 2018',\n",
       " 'Fri Jan 19 13:05:13 +0000 2018',\n",
       " 'Fri Jan 19 13:05:11 +0000 2018',\n",
       " 'Fri Jan 19 12:55:01 +0000 2018']"
      ]
     },
     "execution_count": 26,
     "metadata": {},
     "output_type": "execute_result"
    }
   ],
   "source": [
    "tweet_times[0:4]"
   ]
  },
  {
   "cell_type": "code",
   "execution_count": 27,
   "metadata": {},
   "outputs": [
    {
     "data": {
      "text/plain": [
       "datetime.datetime(2018, 1, 19, 13, 35, 11, tzinfo=tzutc())"
      ]
     },
     "execution_count": 27,
     "metadata": {},
     "output_type": "execute_result"
    }
   ],
   "source": [
    "from dateutil import parser\n",
    "first_tweet = parser.parse(tweet_times[0])\n",
    "first_tweet"
   ]
  },
  {
   "cell_type": "code",
   "execution_count": 28,
   "metadata": {},
   "outputs": [
    {
     "name": "stdout",
     "output_type": "stream",
     "text": [
      "2018-01-19 13:35:11+00:00\n"
     ]
    }
   ],
   "source": [
    "print(first_tweet)"
   ]
  },
  {
   "cell_type": "markdown",
   "metadata": {},
   "source": [
    "https://docs.python.org/3/library/datetime.html#strftime-and-strptime-behavior\n",
    "\n",
    "### you can use strftime, but f-strings are easier!"
   ]
  },
  {
   "cell_type": "code",
   "execution_count": 29,
   "metadata": {},
   "outputs": [
    {
     "name": "stdout",
     "output_type": "stream",
     "text": [
      "it was 2018-01-19 13:35:11+00:00\n"
     ]
    }
   ],
   "source": [
    "print(f'it was {first_tweet}')"
   ]
  },
  {
   "cell_type": "code",
   "execution_count": 30,
   "metadata": {},
   "outputs": [
    {
     "data": {
      "text/plain": [
       "'it was January 19, 2018 at 01:35PM'"
      ]
     },
     "execution_count": 30,
     "metadata": {},
     "output_type": "execute_result"
    }
   ],
   "source": [
    "f'it was {first_tweet:%B %d, %Y at %I:%M%p}'"
   ]
  },
  {
   "cell_type": "markdown",
   "metadata": {},
   "source": [
    "Says it happened at 5:40PM, but I happen to know it happened at 9:40AM\n",
    "\n"
   ]
  },
  {
   "cell_type": "markdown",
   "metadata": {},
   "source": [
    "\n",
    "\n",
    "Note tzinfo = tzutc or that +00:00 is tacked on to the end of the date time object. \n",
    "\n",
    "There is no time difference between Greenwich Mean Time and Coordinated Universal Time (UTC). But that's not our time, or time in LA.\n",
    "\n",
    "**List of time zones:**\n",
    "https://en.wikipedia.org/wiki/List_of_tz_database_time_zones\n",
    "\n",
    "#### Daylight savings time makes Time Zones really complicated!!\n",
    "\n",
    "For example: America/Phoenix is different, because 'most' of Arizona does not observe Daylight Savings Time. Same with Hawaii. Varies greatly from country to country and even city by city!\n",
    "\n",
    "This is also why twitter is giving you UTC. It's the time relative to GMT with no daylight savings adjustments made. That way, it's easier to move to whatever time zone you need it in. They can store it on the server in UTC, and let the user's device use javascript to display it in their time zone."
   ]
  },
  {
   "cell_type": "code",
   "execution_count": 31,
   "metadata": {},
   "outputs": [
    {
     "data": {
      "text/plain": [
       "datetime.datetime(2018, 1, 19, 5, 35, 11, tzinfo=tzfile('/usr/share/zoneinfo/America/Los_Angeles'))"
      ]
     },
     "execution_count": 31,
     "metadata": {},
     "output_type": "execute_result"
    }
   ],
   "source": [
    "from dateutil import tz\n",
    "\n",
    "#from_zone = tz.gettz('UTC')\n",
    "to_zone = tz.gettz('America/Los_Angeles')\n",
    "first_tweet.astimezone(to_zone)"
   ]
  },
  {
   "cell_type": "code",
   "execution_count": 32,
   "metadata": {},
   "outputs": [
    {
     "data": {
      "text/plain": [
       "'In LA it was January 19, 2018 at 05:35AM'"
      ]
     },
     "execution_count": 32,
     "metadata": {},
     "output_type": "execute_result"
    }
   ],
   "source": [
    "f'In LA it was {first_tweet.astimezone(to_zone):%B %d, %Y at %I:%M%p}'"
   ]
  },
  {
   "cell_type": "code",
   "execution_count": 33,
   "metadata": {},
   "outputs": [
    {
     "name": "stdout",
     "output_type": "stream",
     "text": [
      "Fri Jan 19 13:35:11 +0000 2018\n",
      "Fri Jan 19 13:05:13 +0000 2018\n",
      "<class 'str'>\n",
      "\n",
      "2018-01-19 13:35:11+00:00\n",
      "2018-01-19 13:05:13+00:00\n",
      "<class 'datetime.datetime'>\n"
     ]
    }
   ],
   "source": [
    "converted_timestamps = []\n",
    "for raw_time in tweet_times:\n",
    "    converted_time = parser.parse(raw_time)\n",
    "    converted_timestamps.append(converted_time)\n",
    "\n",
    "\n",
    "print(tweet_times[0])\n",
    "print(tweet_times[1])\n",
    "print(type(tweet_times[0]))\n",
    "print()\n",
    "print(converted_timestamps[0])\n",
    "print(converted_timestamps[1])\n",
    "print(type(converted_timestamps[0]))"
   ]
  },
  {
   "cell_type": "code",
   "execution_count": 34,
   "metadata": {},
   "outputs": [
    {
     "name": "stdout",
     "output_type": "stream",
     "text": [
      "Time difference: 0:29:58\n",
      "seconds: 1798\n"
     ]
    }
   ],
   "source": [
    "diff = converted_timestamps[0] - converted_timestamps[1]\n",
    "print(f\"Time difference: {diff}\")\n",
    "print(f'seconds: {diff.seconds}')"
   ]
  },
  {
   "cell_type": "code",
   "execution_count": 35,
   "metadata": {},
   "outputs": [
    {
     "data": {
      "text/plain": [
       "0"
      ]
     },
     "execution_count": 35,
     "metadata": {},
     "output_type": "execute_result"
    }
   ],
   "source": [
    "after = datetime.datetime(2018, 1, 14, 17, 40, 11)\n",
    "before = datetime.datetime(2017, 1, 14, 17, 40, 11)\n",
    "timediff = after - before\n",
    "timediff.seconds"
   ]
  },
  {
   "cell_type": "code",
   "execution_count": 36,
   "metadata": {},
   "outputs": [
    {
     "data": {
      "text/plain": [
       "31536000.0"
      ]
     },
     "execution_count": 36,
     "metadata": {},
     "output_type": "execute_result"
    }
   ],
   "source": [
    "timediff.total_seconds()"
   ]
  },
  {
   "cell_type": "code",
   "execution_count": 37,
   "metadata": {},
   "outputs": [
    {
     "data": {
      "text/plain": [
       "8760.0"
      ]
     },
     "execution_count": 37,
     "metadata": {},
     "output_type": "execute_result"
    }
   ],
   "source": [
    "timediff.total_seconds() / 3600.0 # hours"
   ]
  },
  {
   "cell_type": "code",
   "execution_count": 40,
   "metadata": {},
   "outputs": [
    {
     "name": "stdout",
     "output_type": "stream",
     "text": [
      "length of converted timestamps list: 20\n",
      "Avg. Hours Between Tweets: 0.556783625730994\n"
     ]
    }
   ],
   "source": [
    "print(f\"length of converted timestamps list: {len(converted_timestamps)}\")\n",
    "time_diffs = []\n",
    "\n",
    "for x in range(len(converted_timestamps) - 1):\n",
    "    time_diff = converted_timestamps[x] - converted_timestamps[x+1]\n",
    "    # print('time diff %s' % time_diff)\n",
    "    # print('time diff, in seconds %s' % time_diff.seconds)\n",
    "    # print('time diff, in minutes:', time_diff.seconds/60)\n",
    "    # print('time diff, hours', time_diff.seconds/3600)\n",
    "\n",
    "    # convert time_diff to hours\n",
    "    time_diff = time_diff.total_seconds()/3600\n",
    "    time_diffs.append(time_diff)\n",
    "\n",
    "\n",
    "print(f\"Avg. Hours Between Tweets: {np.mean(time_diffs)}\")\n",
    "\n",
    "\n"
   ]
  },
  {
   "cell_type": "code",
   "execution_count": null,
   "metadata": {
    "collapsed": true
   },
   "outputs": [],
   "source": []
  },
  {
   "cell_type": "code",
   "execution_count": null,
   "metadata": {
    "collapsed": true
   },
   "outputs": [],
   "source": []
  },
  {
   "cell_type": "code",
   "execution_count": null,
   "metadata": {
    "collapsed": true
   },
   "outputs": [],
   "source": [
    "\n"
   ]
  },
  {
   "cell_type": "code",
   "execution_count": null,
   "metadata": {
    "collapsed": true
   },
   "outputs": [],
   "source": []
  },
  {
   "cell_type": "code",
   "execution_count": null,
   "metadata": {
    "collapsed": true
   },
   "outputs": [],
   "source": []
  },
  {
   "cell_type": "code",
   "execution_count": null,
   "metadata": {
    "collapsed": true
   },
   "outputs": [],
   "source": []
  },
  {
   "cell_type": "code",
   "execution_count": null,
   "metadata": {
    "collapsed": true
   },
   "outputs": [],
   "source": []
  },
  {
   "cell_type": "code",
   "execution_count": null,
   "metadata": {
    "collapsed": true
   },
   "outputs": [],
   "source": [
    "\n"
   ]
  },
  {
   "cell_type": "code",
   "execution_count": null,
   "metadata": {
    "collapsed": true
   },
   "outputs": [],
   "source": []
  }
 ],
 "metadata": {
  "kernelspec": {
   "display_name": "Python 3",
   "language": "python",
   "name": "python3"
  },
  "language_info": {
   "codemirror_mode": {
    "name": "ipython",
    "version": 3
   },
   "file_extension": ".py",
   "mimetype": "text/x-python",
   "name": "python",
   "nbconvert_exporter": "python",
   "pygments_lexer": "ipython3",
   "version": "3.6.3"
  }
 },
 "nbformat": 4,
 "nbformat_minor": 2
}
