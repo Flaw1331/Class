{
 "cells": [
  {
   "cell_type": "markdown",
   "metadata": {},
   "source": [
    "# Twitter Velocity\n",
    "\n",
    "## Instructions\n",
    "\n",
    "* You are a political data consultant, and have been asked to evaluate how frequently Barack Obama tweets. As a savvy data visualization specialist, you decide on the following course of action: first, you will collect the timestamps of the 500 most recent tweets sent out by Obama. \n",
    "\n",
    "* After making a list of the timestamps, you will convert the timestamps into datetime objects. \n",
    "\n",
    "* Then you will calculate the time difference from one tweet to the next, and plot those data points in a scatterplot chart.\n",
    "\n",
    "* Your plot should look something like this:\n",
    "\n",
    "  ![velocity.png](Images/Obama.png)\n",
    "\n",
    "* See, in contrast, the tweet pattern of a major news organization, the LA Times, whose tweets are sent out much more frequently:\n",
    "\n",
    "  ![velocity1.png](Images/velocity1.png)\n",
    "\n",
    "* **Note**: Feel free to plot the tweets of another Twitter account. \n"
   ]
  },
  {
   "cell_type": "code",
   "execution_count": 1,
   "metadata": {
    "collapsed": true
   },
   "outputs": [],
   "source": [
    "import tweepy\n",
    "import json\n",
    "import numpy as np\n",
    "from datetime import datetime\n",
    "import matplotlib.pyplot as plt\n",
    "import os\n",
    "from dateutil import parser\n",
    "from datetime import timedelta"
   ]
  },
  {
   "cell_type": "code",
   "execution_count": 2,
   "metadata": {
    "collapsed": true
   },
   "outputs": [],
   "source": [
    "api_dir = os.path.dirname(os.path.dirname(os.path.dirname(os.path.dirname(os.path.dirname(os.path.realpath('__file__'))))))\n",
    "file_name = os.path.join(api_dir, \"api_keys.json\")\n",
    "data = json.load(open(file_name))\n",
    "\n",
    "gkey = data['google_places_api_key']\n",
    "consumer_key = data['twitter_consumer_key']\n",
    "consumer_secret = data['twitter_consumer_secret']\n",
    "access_token = data['twitter_access_token']\n",
    "access_token_secret = data['twitter_access_token_secret']"
   ]
  },
  {
   "cell_type": "code",
   "execution_count": 3,
   "metadata": {
    "collapsed": true
   },
   "outputs": [],
   "source": [
    "# Setup Tweepy API Authentication\n",
    "auth = tweepy.OAuthHandler(consumer_key, consumer_secret)\n",
    "auth.set_access_token(access_token, access_token_secret)\n",
    "api = tweepy.API(auth, parser=tweepy.parsers.JSONParser())\n",
    "\n"
   ]
  },
  {
   "cell_type": "code",
   "execution_count": 4,
   "metadata": {},
   "outputs": [
    {
     "data": {
      "text/plain": [
       "500"
      ]
     },
     "execution_count": 4,
     "metadata": {},
     "output_type": "execute_result"
    }
   ],
   "source": [
    "target_user = \"BarackObama\"\n",
    "tweet_times = []\n",
    "\n",
    "# Loop through 500 tweets\n",
    "for x in range(25):\n",
    "    public_tweets = api.user_timeline(target_user, page=x)\n",
    "    for tweet in public_tweets:\n",
    "        tweet_times.append(tweet[\"created_at\"])        \n",
    "        #print(tweet[\"created_at\"])\n",
    "\n",
    "len(tweet_times)"
   ]
  },
  {
   "cell_type": "code",
   "execution_count": 5,
   "metadata": {
    "collapsed": true,
    "scrolled": false
   },
   "outputs": [],
   "source": [
    "tweet_time_objects = []\n",
    "\n",
    "# Add each datetime object in tweet_times into the tweet_time_objects array\n",
    "# Use parser.parse to change the string into a datetime object\n",
    "    "
   ]
  },
  {
   "cell_type": "code",
   "execution_count": 6,
   "metadata": {
    "collapsed": true
   },
   "outputs": [],
   "source": [
    "# Sometimes the tweets do not come in the correct order.\n",
    "# Sort the datetime objects\n",
    "tweet_time_objects = sorted(tweet_time_objects, reverse=True)"
   ]
  },
  {
   "cell_type": "code",
   "execution_count": 12,
   "metadata": {
    "collapsed": true,
    "scrolled": false
   },
   "outputs": [],
   "source": [
    "# Calculate the time between tweets\n",
    "\n",
    "# see Notebok 11_datetime for more details on how to do this\n"
   ]
  },
  {
   "cell_type": "code",
   "execution_count": 59,
   "metadata": {},
   "outputs": [
    {
     "data": {
      "image/png": "[encoded data removed]",
      "text/plain": [
       "<matplotlib.figure.Figure at 0x1126a8080>"
      ]
     },
     "metadata": {},
     "output_type": "display_data"
    }
   ],
   "source": [
    "# Plot Time Between Tweets"
   ]
  },
  {
   "cell_type": "code",
   "execution_count": null,
   "metadata": {
    "collapsed": true
   },
   "outputs": [],
   "source": []
  }
 ],
 "metadata": {
  "anaconda-cloud": {},
  "kernelspec": {
   "display_name": "Python 3",
   "language": "python",
   "name": "python3"
  },
  "language_info": {
   "codemirror_mode": {
    "name": "ipython",
    "version": 3
   },
   "file_extension": ".py",
   "mimetype": "text/x-python",
   "name": "python",
   "nbconvert_exporter": "python",
   "pygments_lexer": "ipython3",
   "version": "3.6.3"
  }
 },
 "nbformat": 4,
 "nbformat_minor": 1
}
