{
 "cells": [
  {
   "cell_type": "code",
   "execution_count": 2,
   "metadata": {},
   "outputs": [
    {
     "ename": "FileNotFoundError",
     "evalue": "[Errno 2] No such file or directory: 'C:\\\\Users\\\\Admin\\\\Desktop\\\\api_keys.json'",
     "output_type": "error",
     "traceback": [
      "\u001b[1;31m---------------------------------------------------------------------------\u001b[0m",
      "\u001b[1;31mFileNotFoundError\u001b[0m                         Traceback (most recent call last)",
      "\u001b[1;32m<ipython-input-2-5514e78652fb>\u001b[0m in \u001b[0;36m<module>\u001b[1;34m()\u001b[0m\n\u001b[0;32m      7\u001b[0m \u001b[0mapi_dir\u001b[0m \u001b[1;33m=\u001b[0m \u001b[0mos\u001b[0m\u001b[1;33m.\u001b[0m\u001b[0mpath\u001b[0m\u001b[1;33m.\u001b[0m\u001b[0mdirname\u001b[0m\u001b[1;33m(\u001b[0m\u001b[0mos\u001b[0m\u001b[1;33m.\u001b[0m\u001b[0mpath\u001b[0m\u001b[1;33m.\u001b[0m\u001b[0mdirname\u001b[0m\u001b[1;33m(\u001b[0m\u001b[0mos\u001b[0m\u001b[1;33m.\u001b[0m\u001b[0mpath\u001b[0m\u001b[1;33m.\u001b[0m\u001b[0mdirname\u001b[0m\u001b[1;33m(\u001b[0m\u001b[0mos\u001b[0m\u001b[1;33m.\u001b[0m\u001b[0mpath\u001b[0m\u001b[1;33m.\u001b[0m\u001b[0mdirname\u001b[0m\u001b[1;33m(\u001b[0m\u001b[0mos\u001b[0m\u001b[1;33m.\u001b[0m\u001b[0mpath\u001b[0m\u001b[1;33m.\u001b[0m\u001b[0mdirname\u001b[0m\u001b[1;33m(\u001b[0m\u001b[0mos\u001b[0m\u001b[1;33m.\u001b[0m\u001b[0mpath\u001b[0m\u001b[1;33m.\u001b[0m\u001b[0mrealpath\u001b[0m\u001b[1;33m(\u001b[0m\u001b[1;34m'__file__'\u001b[0m\u001b[1;33m)\u001b[0m\u001b[1;33m)\u001b[0m\u001b[1;33m)\u001b[0m\u001b[1;33m)\u001b[0m\u001b[1;33m)\u001b[0m\u001b[1;33m)\u001b[0m\u001b[1;33m\u001b[0m\u001b[0m\n\u001b[0;32m      8\u001b[0m \u001b[0mfile_name\u001b[0m \u001b[1;33m=\u001b[0m \u001b[0mos\u001b[0m\u001b[1;33m.\u001b[0m\u001b[0mpath\u001b[0m\u001b[1;33m.\u001b[0m\u001b[0mjoin\u001b[0m\u001b[1;33m(\u001b[0m\u001b[0mapi_dir\u001b[0m\u001b[1;33m,\u001b[0m \u001b[1;34m\"api_keys.json\"\u001b[0m\u001b[1;33m)\u001b[0m\u001b[1;33m\u001b[0m\u001b[0m\n\u001b[1;32m----> 9\u001b[1;33m \u001b[0mdata\u001b[0m \u001b[1;33m=\u001b[0m \u001b[0mjson\u001b[0m\u001b[1;33m.\u001b[0m\u001b[0mload\u001b[0m\u001b[1;33m(\u001b[0m\u001b[0mopen\u001b[0m\u001b[1;33m(\u001b[0m\u001b[0mfile_name\u001b[0m\u001b[1;33m)\u001b[0m\u001b[1;33m)\u001b[0m\u001b[1;33m\u001b[0m\u001b[0m\n\u001b[0m\u001b[0;32m     10\u001b[0m \u001b[1;33m\u001b[0m\u001b[0m\n\u001b[0;32m     11\u001b[0m \u001b[0mgkey\u001b[0m \u001b[1;33m=\u001b[0m \u001b[0mdata\u001b[0m\u001b[1;33m[\u001b[0m\u001b[1;34m'google_places_api_key'\u001b[0m\u001b[1;33m]\u001b[0m\u001b[1;33m\u001b[0m\u001b[0m\n",
      "\u001b[1;31mFileNotFoundError\u001b[0m: [Errno 2] No such file or directory: 'C:\\\\Users\\\\Admin\\\\Desktop\\\\api_keys.json'"
     ]
    }
   ],
   "source": [
    "import tweepy\n",
    "import json\n",
    "import pandas as pd\n",
    "import os\n",
    "import matplotlib.pyplot as plt\n",
    "# Your Twitter API Keys\n",
    "api_dir = os.path.dirname(os.path.dirname(os.path.dirname(os.path.dirname(os.path.dirname(os.path.realpath('__file__'))))))\n",
    "file_name = os.path.join(api_dir, \"api_keys.json\")\n",
    "data = json.load(open(file_name))\n",
    "\n",
    "gkey = data['google_places_api_key']\n",
    "consumer_key = data['twitter_consumer_key']\n",
    "consumer_secret = data['twitter_consumer_secret']\n",
    "access_token = data['twitter_access_token']\n",
    "access_token_secret = data['twitter_access_token_secret']\n",
    "\n",
    "\n",
    "auth = tweepy.OAuthHandler(consumer_key, consumer_secret)\n",
    "auth.set_access_token(access_token, access_token_secret)\n",
    "api = tweepy.API(auth, parser=tweepy.parsers.JSONParser())"
   ]
  },
  {
   "cell_type": "code",
   "execution_count": null,
   "metadata": {
    "scrolled": true
   },
   "outputs": [],
   "source": [
    "# Array of Trains\n",
    "delayed_trains = {}\n",
    "    \n",
    "# Target User\n",
    "target_user = \"SubwayStats\"\n",
    "\n",
    "# Loop through 50 pages of \n",
    "for x in range(50):\n",
    "\n",
    "    # Get all tweets from home feed\n",
    "    public_tweets = api.user_timeline(target_user, page=x)\n",
    "\n",
    "    # Loop through all tweets\n",
    "    for tweet in public_tweets:\n",
    "        \n",
    "        # Break tweet text into an array of lowercase words\n",
    "        tweet_text = tweet[\"text\"].lower().split(\" \")\n",
    "        \n",
    "        # Print the tweet and date if it contains the word: \"delays\" or \"change\"\n",
    "        if(\"delays\" in tweet_text or \"change\" in tweet_text):\n",
    "            print(tweet[\"text\"].lower())\n",
    "            \n",
    "            # Loop through hashtags to extract the train names\n",
    "            for hashtag in tweet[\"entities\"][\"hashtags\"]:\n",
    "                \n",
    "                train_name = hashtag[\"text\"].lower()\n",
    "                \n",
    "                # Remove all hashtags that are extraneous\n",
    "                if (train_name != \"nycsubway\" and train_name != \"mta\" and train_name != \"nyc\"):\n",
    "                                        \n",
    "                    # If train is new, add it the list...\n",
    "                    if(train_name not in delayed_trains):\n",
    "                        delayed_trains[train_name] = 1\n",
    "                    \n",
    "                    # If it already exists add 1 to its count\n",
    "                    else:    \n",
    "                        delayed_trains[train_name] += 1 "
   ]
  },
  {
   "cell_type": "code",
   "execution_count": 4,
   "metadata": {},
   "outputs": [
    {
     "name": "stdout",
     "output_type": "stream",
     "text": [
      "{'ltrain': 46, '4train': 150, '5train': 150, '6train': 150, 'btrain': 194, 'dtrain': 194, 'ftrain': 194, 'mtrain': 194, 'atrain': 136, 'ctrain': 136, 'etrain': 136, '1train': 119, '2train': 119, '3train': 119, '7train': 53, 'gtrain': 20, 'strain': 23, 'ntrain': 147, 'qtrain': 147, 'rtrain': 147, 'wtrain': 147, 'jtrain': 19, 'ztrain': 19, 'sirtrain': 8}\n"
     ]
    },
    {
     "data": {
      "text/plain": [
       "1train      119\n",
       "2train      119\n",
       "3train      119\n",
       "4train      150\n",
       "5train      150\n",
       "6train      150\n",
       "7train       53\n",
       "atrain      136\n",
       "btrain      194\n",
       "ctrain      136\n",
       "dtrain      194\n",
       "etrain      136\n",
       "ftrain      194\n",
       "gtrain       20\n",
       "jtrain       19\n",
       "ltrain       46\n",
       "mtrain      194\n",
       "ntrain      147\n",
       "qtrain      147\n",
       "rtrain      147\n",
       "sirtrain      8\n",
       "strain       23\n",
       "wtrain      147\n",
       "ztrain       19\n",
       "dtype: int64"
      ]
     },
     "execution_count": 4,
     "metadata": {},
     "output_type": "execute_result"
    }
   ],
   "source": [
    "# Print the Train Delay counts\n",
    "print(delayed_trains)\n",
    "\n",
    "# Convert Train Delay object into a series\n",
    "delayed_trains_pd = pd.Series(delayed_trains)\n",
    "\n",
    "# Preview the results\n",
    "delayed_trains_pd"
   ]
  },
  {
   "cell_type": "code",
   "execution_count": 7,
   "metadata": {
    "scrolled": true
   },
   "outputs": [
    {
     "data": {
      "image/png": "[encoded data removed]",
      "text/plain": [
       "<matplotlib.figure.Figure at 0x10a159198>"
      ]
     },
     "metadata": {},
     "output_type": "display_data"
    }
   ],
   "source": [
    "# Create a plot  \n",
    "len(delayed_trains_pd.index)\n",
    "plt.bar(range(len(delayed_trains_pd.index)), delayed_trains_pd.values)\n",
    "plt.xticks(range(len(delayed_trains_pd.index)), delayed_trains_pd.index, rotation=45)\n",
    "plt.ylabel(\"Number of Delays\")\n",
    "plt.xlabel(\"Train Name\")\n",
    "plt.title(\"Number of Train Delays According to 1000 Subway Status Tweets...\")\n",
    "plt.show()"
   ]
  },
  {
   "cell_type": "code",
   "execution_count": null,
   "metadata": {
    "collapsed": true
   },
   "outputs": [],
   "source": []
  }
 ],
 "metadata": {
  "anaconda-cloud": {},
  "kernelspec": {
   "display_name": "Python 3",
   "language": "python",
   "name": "python3"
  }
 },
 "nbformat": 4,
 "nbformat_minor": 1
}
