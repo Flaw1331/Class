{
 "cells": [
  {
   "cell_type": "code",
   "execution_count": 1,
   "metadata": {
    "collapsed": true
   },
   "outputs": [],
   "source": [
    "import numpy as np\n",
    "import pandas as pd\n",
    "import json\n",
    "import tweepy\n",
    "import time\n",
    "import seaborn as sns\n",
    "import os\n",
    "import requests as req\n"
   ]
  },
  {
   "cell_type": "code",
   "execution_count": 3,
   "metadata": {},
   "outputs": [],
   "source": [
    "api_dir = os.path.dirname(os.path.dirname(os.path.dirname(os.path.dirname(os.path.dirname(os.path.realpath('__file__'))))))\n",
    "file_name = os.path.join(api_dir, \"api_keys.json\")\n",
    "data = json.load(open(file_name))\n",
    "\n",
    "consumer_key = data['twitter_consumer_key']\n",
    "consumer_secret = data['twitter_consumer_secret']\n",
    "access_token = data['twitter_access_token']\n",
    "access_token_secret = data['twitter_access_token_secret']"
   ]
  },
  {
   "cell_type": "code",
   "execution_count": 4,
   "metadata": {
    "collapsed": true
   },
   "outputs": [],
   "source": [
    "auth = tweepy.OAuthHandler(consumer_key, consumer_secret)\n",
    "auth.set_access_token(access_token, access_token_secret)\n",
    "api = tweepy.API(auth, parser=tweepy.parsers.JSONParser())"
   ]
  },
  {
   "cell_type": "code",
   "execution_count": 5,
   "metadata": {
    "collapsed": true
   },
   "outputs": [],
   "source": [
    "target_term = \"@SouthwestAir\"\n",
    "public_tweets = api.search(target_term, count=5, result_type=\"recent\")\n"
   ]
  },
  {
   "cell_type": "code",
   "execution_count": 6,
   "metadata": {},
   "outputs": [
    {
     "name": "stdout",
     "output_type": "stream",
     "text": [
      "@bostonbella @dkc103 @SouthwestAir @ColeyHunt @carlypearce You’re the sweetest! YAY ❤️😍🙌\n",
      "LoveDianaRose\n",
      "Maybe 4th time the charm @SouthwestAir ? I just need to get to chicago for classes 😭😭😭😭\n",
      "DavonSuttles\n",
      "@evansilva @SouthwestAir Evan I’m not sure if you get how this Twitter thing works. This online space is reserved f… https://t.co/pguOvwQZfG\n",
      "JustinFreeman18\n",
      "@SouthwestAir please offer some $59 flights to and from lax/Dallas. I would love to fly my elderly parents here for my daughters bday.\n",
      "said_kid\n",
      "@SouthwestAir Just wanna let you guys know how great my service has been today. Me and my very sunburnt friends cou… https://t.co/NG8MXXDWLx\n",
      "MarlaBones\n"
     ]
    }
   ],
   "source": [
    "for tweet in public_tweets[\"statuses\"]:\n",
    "\n",
    "    # Get ID and Author of most recent tweet directed to me\n",
    "    tweet_id = tweet[\"id\"]\n",
    "    tweet_author = tweet[\"user\"][\"screen_name\"]\n",
    "    tweet_text = tweet[\"text\"]\n",
    "\n",
    "    # Print Tweet Text and Tweet Author\n",
    "    print(tweet_text)\n",
    "    print(tweet_author)\n"
   ]
  },
  {
   "cell_type": "code",
   "execution_count": null,
   "metadata": {
    "collapsed": true
   },
   "outputs": [],
   "source": []
  }
 ],
 "metadata": {
  "kernelspec": {
   "display_name": "Python 3",
   "language": "python",
   "name": "python3"
  },
  "language_info": {
   "codemirror_mode": {
    "name": "ipython",
    "version": 3
   },
   "file_extension": ".py",
   "mimetype": "text/x-python",
   "name": "python",
   "nbconvert_exporter": "python",
   "pygments_lexer": "ipython3",
   "version": "3.6.3"
  }
 },
 "nbformat": 4,
 "nbformat_minor": 2
}
