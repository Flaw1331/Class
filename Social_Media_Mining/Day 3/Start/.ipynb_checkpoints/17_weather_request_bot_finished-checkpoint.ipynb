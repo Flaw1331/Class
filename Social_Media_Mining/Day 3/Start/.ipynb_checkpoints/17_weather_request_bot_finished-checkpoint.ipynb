{
 "cells": [
  {
   "cell_type": "code",
   "execution_count": null,
   "metadata": {
    "collapsed": true
   },
   "outputs": [],
   "source": []
  },
  {
   "cell_type": "code",
   "execution_count": 4,
   "metadata": {
    "collapsed": true
   },
   "outputs": [],
   "source": [
    "import numpy as np\n",
    "import pandas as pd\n",
    "import json\n",
    "import datetime\n",
    "import tweepy\n",
    "import time\n",
    "import seaborn as sns\n",
    "import os\n",
    "import requests as req"
   ]
  },
  {
   "cell_type": "code",
   "execution_count": 5,
   "metadata": {
    "collapsed": true
   },
   "outputs": [],
   "source": [
    "api_dir = os.path.dirname(os.path.dirname(os.path.dirname(os.path.dirname(os.path.dirname(os.path.realpath('__file__'))))))\n",
    "file_name = os.path.join(api_dir, \"api_keys.json\")\n",
    "data = json.load(open(file_name))\n",
    "\n",
    "consumer_key = data['twitter_consumer_key']\n",
    "consumer_secret = data['twitter_consumer_secret']\n",
    "access_token = data['twitter_access_token']\n",
    "access_token_secret = data['twitter_access_token_secret']"
   ]
  },
  {
   "cell_type": "code",
   "execution_count": 6,
   "metadata": {
    "collapsed": true
   },
   "outputs": [],
   "source": [
    "auth = tweepy.OAuthHandler(consumer_key, consumer_secret)\n",
    "auth.set_access_token(access_token, access_token_secret)\n",
    "api = tweepy.API(auth, parser=tweepy.parsers.JSONParser())"
   ]
  },
  {
   "cell_type": "code",
   "execution_count": 7,
   "metadata": {
    "collapsed": true
   },
   "outputs": [],
   "source": [
    "# Your Bot name\n",
    "target_term = \"@_friendly_robot\""
   ]
  },
  {
   "cell_type": "markdown",
   "metadata": {},
   "source": [
    "### REVIEW\n",
    "To get a list of hashtags sent to your bot use the function below"
   ]
  },
  {
   "cell_type": "code",
   "execution_count": 92,
   "metadata": {},
   "outputs": [
    {
     "name": "stdout",
     "output_type": "stream",
     "text": [
      "Paris\n"
     ]
    }
   ],
   "source": [
    "hash_tag = []\n",
    "# Search for most recent tweet directed to the account\n",
    "public_tweets = api.search(target_term, count=2)\n",
    "\n",
    "# Extract all hashtags from tweets directed to the account\n",
    "for tweet in public_tweets[\"statuses\"]:\n",
    "        \n",
    "    # Loop through all hashtags and print each one included\n",
    "    for hashtag in tweet[\"entities\"][\"hashtags\"]:\n",
    "        print(hashtag[\"text\"])\n",
    "        hash_tag.append(hashtag[\"text\"])"
   ]
  },
  {
   "cell_type": "code",
   "execution_count": 93,
   "metadata": {},
   "outputs": [
    {
     "data": {
      "text/plain": [
       "{'search_metadata': {'completed_in': 0.028,\n",
       "  'count': 2,\n",
       "  'max_id': 956520946319454209,\n",
       "  'max_id_str': '956520946319454209',\n",
       "  'query': '%40_friendly_robot',\n",
       "  'refresh_url': '?since_id=956520946319454209&q=%40_friendly_robot&include_entities=1',\n",
       "  'since_id': 0,\n",
       "  'since_id_str': '0'},\n",
       " 'statuses': [{'contributors': None,\n",
       "   'coordinates': None,\n",
       "   'created_at': 'Thu Jan 25 13:35:39 +0000 2018',\n",
       "   'entities': {'hashtags': [{'indices': [17, 23], 'text': 'Paris'}],\n",
       "    'symbols': [],\n",
       "    'urls': [],\n",
       "    'user_mentions': [{'id': 951983355091935232,\n",
       "      'id_str': '951983355091935232',\n",
       "      'indices': [0, 16],\n",
       "      'name': 'friendly_robot',\n",
       "      'screen_name': '_friendly_robot'}]},\n",
       "   'favorite_count': 0,\n",
       "   'favorited': False,\n",
       "   'geo': None,\n",
       "   'id': 956520946319454209,\n",
       "   'id_str': '956520946319454209',\n",
       "   'in_reply_to_screen_name': '_friendly_robot',\n",
       "   'in_reply_to_status_id': None,\n",
       "   'in_reply_to_status_id_str': None,\n",
       "   'in_reply_to_user_id': 951983355091935232,\n",
       "   'in_reply_to_user_id_str': '951983355091935232',\n",
       "   'is_quote_status': False,\n",
       "   'lang': 'en',\n",
       "   'metadata': {'iso_language_code': 'en', 'result_type': 'recent'},\n",
       "   'place': None,\n",
       "   'retweet_count': 0,\n",
       "   'retweeted': False,\n",
       "   'source': '<a href=\"http://twitter.com\" rel=\"nofollow\">Twitter Web Client</a>',\n",
       "   'text': '@_friendly_robot #Paris please',\n",
       "   'truncated': False,\n",
       "   'user': {'contributors_enabled': False,\n",
       "    'created_at': 'Sun Jun 17 02:42:26 +0000 2012',\n",
       "    'default_profile': False,\n",
       "    'default_profile_image': False,\n",
       "    'description': '',\n",
       "    'entities': {'description': {'urls': []}},\n",
       "    'favourites_count': 7,\n",
       "    'follow_request_sent': False,\n",
       "    'followers_count': 14,\n",
       "    'following': True,\n",
       "    'friends_count': 62,\n",
       "    'geo_enabled': False,\n",
       "    'has_extended_profile': False,\n",
       "    'id': 610452853,\n",
       "    'id_str': '610452853',\n",
       "    'is_translation_enabled': False,\n",
       "    'is_translator': False,\n",
       "    'lang': 'en',\n",
       "    'listed_count': 0,\n",
       "    'location': '',\n",
       "    'name': 'David Rinck',\n",
       "    'notifications': False,\n",
       "    'profile_background_color': '352726',\n",
       "    'profile_background_image_url': 'http://abs.twimg.com/images/themes/theme5/bg.gif',\n",
       "    'profile_background_image_url_https': 'https://abs.twimg.com/images/themes/theme5/bg.gif',\n",
       "    'profile_background_tile': False,\n",
       "    'profile_image_url': 'http://pbs.twimg.com/profile_images/2315018896/ME_normal.png',\n",
       "    'profile_image_url_https': 'https://pbs.twimg.com/profile_images/2315018896/ME_normal.png',\n",
       "    'profile_link_color': 'D02B55',\n",
       "    'profile_sidebar_border_color': '829D5E',\n",
       "    'profile_sidebar_fill_color': '99CC33',\n",
       "    'profile_text_color': '3E4415',\n",
       "    'profile_use_background_image': True,\n",
       "    'protected': False,\n",
       "    'screen_name': 'davidrinck',\n",
       "    'statuses_count': 11,\n",
       "    'time_zone': 'Arizona',\n",
       "    'translator_type': 'none',\n",
       "    'url': None,\n",
       "    'utc_offset': -25200,\n",
       "    'verified': False}}]}"
      ]
     },
     "execution_count": 93,
     "metadata": {},
     "output_type": "execute_result"
    }
   ],
   "source": [
    "public_tweets"
   ]
  },
  {
   "cell_type": "code",
   "execution_count": 94,
   "metadata": {
    "collapsed": true
   },
   "outputs": [],
   "source": [
    "weather_api_key = \"25bc90a1196e6f153eece0bc0b0fc9eb\""
   ]
  },
  {
   "cell_type": "code",
   "execution_count": null,
   "metadata": {
    "collapsed": true
   },
   "outputs": [],
   "source": []
  },
  {
   "cell_type": "code",
   "execution_count": 95,
   "metadata": {
    "collapsed": true
   },
   "outputs": [],
   "source": [
    "# Create a function that checks for tweets sent to the account,\n",
    "# parses for hashtags, then responds with the weather.\n",
    "def WeatherTweet():\n",
    "    print('Start-----')\n",
    "    public_tweets = api.search(target_term, count=1, result_type=\"recent\")\n",
    "    hash_tag = ''\n",
    "    for tweet in public_tweets[\"statuses\"]:\n",
    "        for tag in tweet[\"entities\"][\"hashtags\"]:\n",
    "            hash_tag = tag[\"text\"]\n",
    "            print(hash_tag)\n",
    "    \n",
    "    if hash_tag == 'stop' or hash_tag == '':\n",
    "        print('stopping')\n",
    "        return\n",
    "\n",
    "    # Utilize the hashtag to construct a Query URL for the OpenWeatherMap\n",
    "    url = \"http://api.openweathermap.org/data/2.5/weather?\"\n",
    "    city = hash_tag\n",
    "    units = \"imperial\"\n",
    "    query_url = url + \"appid=\" + weather_api_key + \"&q=\" + city + \"&units=\" + units\n",
    "\n",
    "    # Perform the API call to get the weather\n",
    "    weather_response = req.get(query_url)\n",
    "    weather_json = weather_response.json()\n",
    "    print(weather_json)\n",
    "\n",
    "    # Tweet the weather\n",
    "    try:\n",
    "        api.update_status(\n",
    "            f\"{hash_tag} weather as of {datetime.datetime.now().strftime('%I:%M %p')}: {weather_json['main']['temp']}F\")\n",
    "    except tweepy.TweepError:\n",
    "        print('an error occurred')\n",
    "    print('End-----')"
   ]
  },
  {
   "cell_type": "code",
   "execution_count": 96,
   "metadata": {},
   "outputs": [
    {
     "name": "stdout",
     "output_type": "stream",
     "text": [
      "Start-----\n",
      "Paris\n",
      "{'coord': {'lon': 2.35, 'lat': 48.86}, 'weather': [{'id': 310, 'main': 'Drizzle', 'description': 'light intensity drizzle rain', 'icon': '09d'}, {'id': 500, 'main': 'Rain', 'description': 'light rain', 'icon': '10d'}], 'base': 'stations', 'main': {'temp': 47.53, 'pressure': 1012, 'humidity': 87, 'temp_min': 46.4, 'temp_max': 48.2}, 'visibility': 10000, 'wind': {'speed': 4.7, 'deg': 220}, 'clouds': {'all': 92}, 'dt': 1516885200, 'sys': {'type': 1, 'id': 5610, 'message': 0.0216, 'country': 'FR', 'sunrise': 1516865340, 'sunset': 1516898256}, 'id': 2988507, 'name': 'Paris', 'cod': 200}\n",
      "End-----\n",
      "Start-----\n",
      "Paris\n",
      "{'coord': {'lon': 2.35, 'lat': 48.86}, 'weather': [{'id': 310, 'main': 'Drizzle', 'description': 'light intensity drizzle rain', 'icon': '09d'}, {'id': 501, 'main': 'Rain', 'description': 'moderate rain', 'icon': '10d'}], 'base': 'stations', 'main': {'temp': 47.53, 'pressure': 1012, 'humidity': 93, 'temp_min': 46.4, 'temp_max': 48.2}, 'visibility': 10000, 'wind': {'speed': 4.7, 'deg': 190}, 'clouds': {'all': 75}, 'dt': 1516887000, 'sys': {'type': 1, 'id': 5617, 'message': 0.0059, 'country': 'FR', 'sunrise': 1516865340, 'sunset': 1516898256}, 'id': 2988507, 'name': 'Paris', 'cod': 200}\n",
      "an error occurred\n",
      "End-----\n",
      "Start-----\n",
      "Paris\n",
      "{'coord': {'lon': 2.35, 'lat': 48.86}, 'weather': [{'id': 310, 'main': 'Drizzle', 'description': 'light intensity drizzle rain', 'icon': '09d'}, {'id': 500, 'main': 'Rain', 'description': 'light rain', 'icon': '10d'}], 'base': 'stations', 'main': {'temp': 47.53, 'pressure': 1012, 'humidity': 87, 'temp_min': 46.4, 'temp_max': 48.2}, 'visibility': 10000, 'wind': {'speed': 4.7, 'deg': 220}, 'clouds': {'all': 92}, 'dt': 1516885200, 'sys': {'type': 1, 'id': 5610, 'message': 0.0216, 'country': 'FR', 'sunrise': 1516865340, 'sunset': 1516898256}, 'id': 2988507, 'name': 'Paris', 'cod': 200}\n",
      "End-----\n"
     ]
    },
    {
     "ename": "KeyboardInterrupt",
     "evalue": "",
     "output_type": "error",
     "traceback": [
      "\u001b[0;31m-------------------------------------------\u001b[0m",
      "\u001b[0;31mKeyboardInterrupt\u001b[0mTraceback (most recent call last)",
      "\u001b[0;32m<ipython-input-96-59b0b909be1e>\u001b[0m in \u001b[0;36m<module>\u001b[0;34m()\u001b[0m\n\u001b[1;32m      6\u001b[0m \u001b[0;32mwhile\u001b[0m\u001b[0;34m(\u001b[0m\u001b[0;32mTrue\u001b[0m\u001b[0;34m)\u001b[0m\u001b[0;34m:\u001b[0m\u001b[0;34m\u001b[0m\u001b[0m\n\u001b[1;32m      7\u001b[0m     \u001b[0mWeatherTweet\u001b[0m\u001b[0;34m(\u001b[0m\u001b[0;34m)\u001b[0m\u001b[0;34m\u001b[0m\u001b[0m\n\u001b[0;32m----> 8\u001b[0;31m     \u001b[0mtime\u001b[0m\u001b[0;34m.\u001b[0m\u001b[0msleep\u001b[0m\u001b[0;34m(\u001b[0m\u001b[0;36m20\u001b[0m\u001b[0;34m)\u001b[0m\u001b[0;34m\u001b[0m\u001b[0m\n\u001b[0m",
      "\u001b[0;31mKeyboardInterrupt\u001b[0m: "
     ]
    }
   ],
   "source": [
    "# Set timer to run every 1 minute\n",
    "\n",
    "tweet_id = {}\n",
    "\n",
    "\n",
    "while(True):\n",
    "    WeatherTweet()\n",
    "    time.sleep(20)"
   ]
  },
  {
   "cell_type": "code",
   "execution_count": 37,
   "metadata": {},
   "outputs": [
    {
     "data": {
      "text/plain": [
       "['London']"
      ]
     },
     "execution_count": 37,
     "metadata": {},
     "output_type": "execute_result"
    }
   ],
   "source": [
    "hash_tag"
   ]
  },
  {
   "cell_type": "code",
   "execution_count": null,
   "metadata": {
    "collapsed": true
   },
   "outputs": [],
   "source": [
    "#  if \"hashtags\" in tweet[\"entities\"]:"
   ]
  }
 ],
 "metadata": {
  "kernelspec": {
   "display_name": "Python 3",
   "language": "python",
   "name": "python3"
  },
  "language_info": {
   "codemirror_mode": {
    "name": "ipython",
    "version": 3
   },
   "file_extension": ".py",
   "mimetype": "text/x-python",
   "name": "python",
   "nbconvert_exporter": "python",
   "pygments_lexer": "ipython3",
   "version": "3.6.3"
  }
 },
 "nbformat": 4,
 "nbformat_minor": 2
}
