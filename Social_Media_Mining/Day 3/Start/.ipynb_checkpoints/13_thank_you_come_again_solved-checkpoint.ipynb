{
 "cells": [
  {
   "cell_type": "code",
   "execution_count": 1,
   "metadata": {
    "collapsed": true
   },
   "outputs": [],
   "source": [
    "import numpy as np\n",
    "import pandas as pd\n",
    "import json\n",
    "import tweepy\n",
    "import time\n",
    "import seaborn as sns\n",
    "import os\n",
    "import requests as req\n"
   ]
  },
  {
   "cell_type": "code",
   "execution_count": 4,
   "metadata": {
    "collapsed": true
   },
   "outputs": [],
   "source": [
    "api_dir = os.path.dirname(os.path.dirname(os.path.dirname(os.path.dirname(os.path.dirname(os.path.realpath('__file__'))))))\n",
    "file_name = os.path.join(api_dir, \"api_keys.json\")\n",
    "data = json.load(open(file_name))\n",
    "\n",
    "consumer_key = data['twitter_consumer_key']\n",
    "consumer_secret = data['twitter_consumer_secret']\n",
    "access_token = data['twitter_access_token']\n",
    "access_token_secret = data['twitter_access_token_secret']"
   ]
  },
  {
   "cell_type": "code",
   "execution_count": 3,
   "metadata": {
    "collapsed": true
   },
   "outputs": [],
   "source": [
    "auth = tweepy.OAuthHandler(consumer_key, consumer_secret)\n",
    "auth.set_access_token(access_token, access_token_secret)\n",
    "api = tweepy.API(auth, parser=tweepy.parsers.JSONParser())"
   ]
  },
  {
   "cell_type": "code",
   "execution_count": 24,
   "metadata": {
    "collapsed": true
   },
   "outputs": [],
   "source": [
    "target_term = \"@_friendly_robot\"\n",
    "\n",
    "def ThankYou():\n",
    "    # Search for all tweets\n",
    "    public_tweets = api.search(target_term, count=100, result_type=\"recent\")\n",
    "\n",
    "    # Loop through all tweets\n",
    "    for tweet in public_tweets[\"statuses\"]:\n",
    "\n",
    "        # Get ID and Author of most recent tweet directed to me\n",
    "        tweet_id = tweet[\"id\"]\n",
    "        tweet_author = tweet[\"user\"][\"screen_name\"]\n",
    "\n",
    "        # Print the tweet_id\n",
    "        print(tweet_author)\n",
    "\n",
    "        # Use Try-Except to avoid the duplicate error\n",
    "        try:\n",
    "            # Respond to tweet\n",
    "            api.update_status(\n",
    "                \"Thank you for the kind words @%s!\" %\n",
    "                tweet_author,\n",
    "                in_reply_to_status_id=tweet_id)\n",
    "\n",
    "            # Print success message\n",
    "            print(\"Successful response, sir!\")\n",
    "\n",
    "        except Exception:            \n",
    "            # Print message if duplicate\n",
    "            print(\"Already responded to this one, sir!\")\n",
    "\n",
    "        # Print message to signify complete cycle\n",
    "        print(\"We're done for now.\")"
   ]
  },
  {
   "cell_type": "code",
   "execution_count": 23,
   "metadata": {},
   "outputs": [
    {
     "name": "stdout",
     "output_type": "stream",
     "text": [
      "davidrinck\n",
      "Successful response, sir!\n",
      "We're done for now.\n"
     ]
    }
   ],
   "source": [
    "ThankYou()"
   ]
  },
  {
   "cell_type": "code",
   "execution_count": null,
   "metadata": {
    "collapsed": true
   },
   "outputs": [],
   "source": []
  }
 ],
 "metadata": {
  "kernelspec": {
   "display_name": "Python 3",
   "language": "python",
   "name": "python3"
  },
  "language_info": {
   "codemirror_mode": {
    "name": "ipython",
    "version": 3
   },
   "file_extension": ".py",
   "mimetype": "text/x-python",
   "name": "python",
   "nbconvert_exporter": "python",
   "pygments_lexer": "ipython3",
   "version": "3.6.3"
  }
 },
 "nbformat": 4,
 "nbformat_minor": 2
}
