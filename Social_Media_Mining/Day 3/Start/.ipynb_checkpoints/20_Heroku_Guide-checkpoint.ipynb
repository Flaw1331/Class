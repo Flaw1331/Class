{
 "cells": [
  {
   "cell_type": "markdown",
   "metadata": {},
   "source": [
    "## Heroku Deployment Guide\n",
    "\n",
    "* Heroku is a cloud application platform. This means that we can run our scripts on Heroku's servers! Here are the steps to do get our apps running on Heroku.\n",
    "\n",
    "* First, set up your Python Script like this. The development part should look familiar. We've done this to grab the keys from our .json file. The Production script is a little different. It looks for a 'IS_HEROKU' environment variable and if it sees it, it will use Heroku's configuration settings instead of looking for a .json file\n",
    "\n",
    "\n",
    "![](Images/heroku_config.png)\n",
    "\n",
    "* Important: before deploying your code to a cloud server, verify that it runs without error locally (i.e. be able to run it from your console or in Jupyter Notebook without errors).\n",
    "\n",
    "* Push your code to Github. Include both the `Procfile` and `requirements.txt` files in the directory. \n",
    "\n",
    "* Open your `Procfile` with a text editor, and replace `ChatterBot.py` with the name of your Python script.\n",
    "\n",
    "  ![procfile](Images/procfile.png)\n",
    "  \n",
    "\n"
   ]
  },
  {
   "cell_type": "markdown",
   "metadata": {},
   "source": [
    "* Your `requirements.txt` should list the required modules, and their versions. Here, we require only the `tweepy` module, version `3.5.0`. You can run `conda list` from your console to display all the modules you have installed, as well as their version numbers.\n",
    "\n",
    "  ![requirements](Images/requirements.png)\n",
    "\n",
    "* Next, go to [heroku.com](heroku.com) and create an account.\n",
    "\n",
    "* After registering, click on `New`, then on `Create new app`. You will create a new `app` for each program.\n",
    "\n",
    "  ![heroku1.png](Images/heroku1.png)\n",
    "  \n",
    "* In the next screen, create your `App name`, a unique and meaningful name for your app. Click on `Create app`. \n",
    "\n",
    "  ![heroku2.png](Images/heroku2.png)\n",
    "\n",
    "* Next, select `Connect to Github`, and click the button at the bottom.\n",
    "\n",
    "  ![heroku3.png](Images/heroku3.png)\n",
    "  "
   ]
  },
  {
   "cell_type": "markdown",
   "metadata": {},
   "source": [
    "* In the field `repo-name`, enter the name of your Github repo, and click `Search`.\n",
    "\n",
    "  ![heroku4.png](Images/heroku4.png)\n",
    "  \n",
    "* Click `Connect` to link your Heroku app with your Github repo.\n",
    "\n",
    "  ![heroku5.png](Images/heroku5.png)  \n",
    "  \n",
    "* Click on `Enable Automatic Deploys`, which will allow the Heroku server to restart your app whenever you push a change to your Github repo.\n",
    "\n",
    "  ![heroku6.png](Images/heroku6.png)  \n",
    "  \n",
    "* Now, We need to set up our configuration variables. Go to *settings* in Heroku and add your keys as shown below:\n",
    "\n",
    "  ![](Images/heroku_stuff.png)\n",
    "  \n"
   ]
  },
  {
   "cell_type": "markdown",
   "metadata": {},
   "source": [
    "\n",
    "* Now, run! In order to debug things we can run from the console. In the upper right-hand side choose 'Run Console'\n",
    "\n",
    "![](Images/heroku_console.png)\n",
    "\n",
    "* Type in `python ChatterBot.py` to run your application\n",
    "\n",
    "![](Images/heroku_run.png)\n",
    "\n",
    "* Now we can see any errors that occur. Notice the 'production' line was printed from our code. In this case I had an error sending a duplicate status.\n",
    "\n",
    "![](Images/heroku_log.png)\n",
    "\n",
    "* You're done!"
   ]
  },
  {
   "cell_type": "markdown",
   "metadata": {},
   "source": [
    "## Automatic Deploys\n",
    "\n",
    "Instead of running from the console, for the apps that run constantly with while(true) you probably want to have the app run automatically.\n",
    "\n",
    "To do this, click on the `Resources` tab, followed by clicking the `edit` button with the pencil icon.\n",
    "\n",
    "  ![heroku7.png](Images/heroku7.png)\n",
    "\n",
    "* Slide the worker switch to the right, then click on `Confirm`.\n",
    "\n",
    "  ![heroku8.png](Images/heroku8.png)  \n",
    "\n",
    "* Your app should now be deployed!  "
   ]
  },
  {
   "cell_type": "code",
   "execution_count": null,
   "metadata": {
    "collapsed": true
   },
   "outputs": [],
   "source": []
  }
 ],
 "metadata": {
  "kernelspec": {
   "display_name": "Python 3",
   "language": "python",
   "name": "python3"
  },
  "language_info": {
   "codemirror_mode": {
    "name": "ipython",
    "version": 3
   },
   "file_extension": ".py",
   "mimetype": "text/x-python",
   "name": "python",
   "nbconvert_exporter": "python",
   "pygments_lexer": "ipython3",
   "version": "3.6.3"
  }
 },
 "nbformat": 4,
 "nbformat_minor": 2
}
