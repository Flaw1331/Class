{
 "cells": [
  {
   "cell_type": "markdown",
   "metadata": {
    "collapsed": true
   },
   "source": [
    "### Weather Request Bot\n",
    "\n",
    "Have a neighbor send a request to your bot like this:\n",
    "* @_friendly_robot #Paris\n",
    "\n",
    "Your bot should respond with the Weather at the current time in Paris, or wherever the tag corresponds to\n",
    "\n",
    "![](./tweet_weather.png)"
   ]
  },
  {
   "cell_type": "code",
   "execution_count": 9,
   "metadata": {
    "collapsed": true
   },
   "outputs": [],
   "source": [
    "import numpy as np\n",
    "import pandas as pd\n",
    "import json\n",
    "import datetime\n",
    "import tweepy\n",
    "import time\n",
    "import seaborn as sns\n",
    "import os\n",
    "import requests as req"
   ]
  },
  {
   "cell_type": "code",
   "execution_count": 20,
   "metadata": {
    "collapsed": true
   },
   "outputs": [],
   "source": [
    "api_dir = os.path.dirname(os.path.dirname(os.path.dirname(os.path.dirname(os.path.dirname(os.path.realpath('__file__'))))))\n",
    "file_name = os.path.join(api_dir, \"api_keys.json\")\n",
    "data = json.load(open(file_name))\n",
    "\n",
    "consumer_key = data['twitter_consumer_key']\n",
    "consumer_secret = data['twitter_consumer_secret']\n",
    "access_token = data['twitter_access_token']\n",
    "access_token_secret = data['twitter_access_token_secret']\n",
    "weather_api_key = data[\"open_weather_map_api_key\"]"
   ]
  },
  {
   "cell_type": "code",
   "execution_count": 21,
   "metadata": {
    "collapsed": true
   },
   "outputs": [],
   "source": [
    "auth = tweepy.OAuthHandler(consumer_key, consumer_secret)\n",
    "auth.set_access_token(access_token, access_token_secret)\n",
    "api = tweepy.API(auth, parser=tweepy.parsers.JSONParser())"
   ]
  },
  {
   "cell_type": "code",
   "execution_count": 22,
   "metadata": {
    "collapsed": true
   },
   "outputs": [],
   "source": [
    "# Your Bot name. Change to your bot's name\n",
    "target_term = \"@Flaw1334\""
   ]
  },
  {
   "cell_type": "markdown",
   "metadata": {},
   "source": [
    "### REVIEW\n",
    "To get a list of hashtags sent to your bot use the function below.\n",
    "\n",
    "If you don't see a hash tag in the list, no one has sent you a hashtag to display yet... "
   ]
  },
  {
   "cell_type": "code",
   "execution_count": 23,
   "metadata": {},
   "outputs": [
    {
     "name": "stdout",
     "output_type": "stream",
     "text": [
      "Cairo\n"
     ]
    }
   ],
   "source": [
    "hash_tag = []\n",
    "# Search for most recent tweet directed to the account\n",
    "public_tweets = api.search(target_term, count=2)\n",
    "\n",
    "# Extract all hashtags from tweets directed to the account\n",
    "for tweet in public_tweets[\"statuses\"]:\n",
    "        \n",
    "    # Loop through all hashtags and print each one included\n",
    "    for hashtag in tweet[\"entities\"][\"hashtags\"]:\n",
    "        print(hashtag[\"text\"])\n",
    "        hash_tag.append(hashtag[\"text\"])"
   ]
  },
  {
   "cell_type": "code",
   "execution_count": 24,
   "metadata": {},
   "outputs": [],
   "source": [
    "# use this to debug if no hash tags are coming through\n",
    "#public_tweets"
   ]
  },
  {
   "cell_type": "code",
   "execution_count": null,
   "metadata": {
    "collapsed": true
   },
   "outputs": [],
   "source": []
  },
  {
   "cell_type": "code",
   "execution_count": null,
   "metadata": {
    "collapsed": true
   },
   "outputs": [],
   "source": [
    "tweet_list = []"
   ]
  },
  {
   "cell_type": "code",
   "execution_count": 112,
   "metadata": {
    "collapsed": true
   },
   "outputs": [],
   "source": [
    "# Create a function that checks for tweets sent to the account,\n",
    "# parses for hashtags, then responds with the weather.\n",
    "def WeatherTweet():\n",
    "    print('Start-----')\n",
    "    # use Tweepy to search for your target_term. set count=1 and result_type='recent'\n",
    "    for tweet in public_tweets[\"statuses\"]:\n",
    "        \n",
    "        # Get ID and Author of most recent tweet directed to me\n",
    "        tweet_id = tweet[\"id\"]\n",
    "        tweet_author = tweet[\"user\"][\"screen_name\"]\n",
    "        tweet_text = tweet[\"text\"]\n",
    "    # parse through the ['statuses'] and look for ['entities']['hashtags'] as we did above\n",
    "    # log any hashtag for use in the weather api.\n",
    "        for hashtag in tweet[\"entities\"][\"hashtags\"]:\n",
    "            try:\n",
    "                url = \n",
    "    \n",
    "    \n",
    "    # Utilize the hashtag to construct a Query URL for the OpenWeatherMap\n",
    "    \n",
    "    \n",
    "    \n",
    "    # Perform the API call to get the weather. Go back to the OpenWeatherMap Ipython Notebooks today\n",
    "    # for a reminder on how to do this\n",
    "\n",
    "    \n",
    "    \n",
    "    # Tweet the weather\n",
    "    print('End-----')"
   ]
  },
  {
   "cell_type": "code",
   "execution_count": 123,
   "metadata": {
    "collapsed": true
   },
   "outputs": [],
   "source": [
    "# Set timer to run your WeatherTweet function every 1 minute\n",
    "while(True):\n",
    "    WeatherTweet()\n",
    "\n",
    "    counter = counter + 1\n",
    "    if counter==1:\n",
    "        break\n",
    "    time.sleep(10)"
   ]
  },
  {
   "cell_type": "code",
   "execution_count": null,
   "metadata": {
    "collapsed": true
   },
   "outputs": [],
   "source": []
  },
  {
   "cell_type": "code",
   "execution_count": 124,
   "metadata": {
    "collapsed": true
   },
   "outputs": [],
   "source": []
  },
  {
   "cell_type": "code",
   "execution_count": null,
   "metadata": {
    "collapsed": true
   },
   "outputs": [],
   "source": []
  }
 ],
 "metadata": {
  "kernelspec": {
   "display_name": "Python 3",
   "language": "python",
   "name": "python3"
  },
  "language_info": {
   "codemirror_mode": {
    "name": "ipython",
    "version": 3
   },
   "file_extension": ".py",
   "mimetype": "text/x-python",
   "name": "python",
   "nbconvert_exporter": "python",
   "pygments_lexer": "ipython3",
   "version": "3.6.3"
  }
 },
 "nbformat": 4,
 "nbformat_minor": 2
}
