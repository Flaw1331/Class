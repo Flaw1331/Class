{
 "cells": [
  {
   "cell_type": "markdown",
   "metadata": {},
   "source": [
    "# Now Plot it out\n",
    "\n",
    "Sentiment Analysis is already crazy fun, but how can we visualize it? In this exercise we will do just that!\n",
    "\n",
    "## Instructions\n",
    "\n",
    "Using Jupyter Notebook we are going to run sentiment analysis on \"@SouthwestAir\".\n",
    "\n",
    "On top of you regular analysis, you should also keep track of how many tweets ago was it tweeted.\n",
    "\n",
    "Next store our results into a pandas DataFrame and read results.\n",
    "\n",
    "Finally create a plot with the follow labels.\n",
    "\n",
    "* Title as \"Sentiment Analysis of Tweet (`date`) for `Twitter Handle`.\n",
    "\n",
    "* Y label as \"Tweet Polarity\"\n",
    "\n",
    "* X label as \"Tweets Ago\"\n"
   ]
  },
  {
   "cell_type": "code",
   "execution_count": 3,
   "metadata": {
    "collapsed": true
   },
   "outputs": [],
   "source": [
    "# Dependencies\n",
    "import numpy as np\n",
    "import pandas as pd\n",
    "import matplotlib.pyplot as plt\n",
    "import json\n",
    "import tweepy\n",
    "import time\n",
    "import seaborn as sns\n",
    "import os\n",
    "\n",
    "from vaderSentiment.vaderSentiment import SentimentIntensityAnalyzer\n",
    "analyzer = SentimentIntensityAnalyzer()"
   ]
  },
  {
   "cell_type": "code",
   "execution_count": 4,
   "metadata": {
    "collapsed": true
   },
   "outputs": [],
   "source": [
    "api_dir = os.path.dirname(os.path.dirname(os.path.dirname(os.path.dirname(os.path.dirname(os.path.realpath('__file__'))))))\n",
    "file_name = os.path.join(api_dir, \"api_keys.json\")\n",
    "data = json.load(open(file_name))\n",
    "\n",
    "consumer_key = data['twitter_consumer_key']\n",
    "consumer_secret = data['twitter_consumer_secret']\n",
    "access_token = data['twitter_access_token']\n",
    "access_token_secret = data['twitter_access_token_secret']"
   ]
  },
  {
   "cell_type": "code",
   "execution_count": 5,
   "metadata": {
    "collapsed": true
   },
   "outputs": [],
   "source": [
    "auth = tweepy.OAuthHandler(consumer_key, consumer_secret)\n",
    "auth.set_access_token(access_token, access_token_secret)\n",
    "api = tweepy.API(auth, parser=tweepy.parsers.JSONParser())"
   ]
  },
  {
   "cell_type": "code",
   "execution_count": 6,
   "metadata": {
    "collapsed": true
   },
   "outputs": [],
   "source": [
    "# Target Account\n",
    "target_user = \"@SouthwestAir\"\n",
    "\n",
    "# Counter\n",
    "counter = 1\n",
    "\n",
    "# Variables for holding sentiments\n",
    "sentiments = []\n",
    "\n",
    "# Loop through 5 pages of tweets (total 100 tweets)\n",
    "\n",
    "    # Get all tweets from home feed\n",
    "\n",
    "    # Loop through all tweets \n",
    "\n",
    "        # Print Tweets\n",
    "        # print(\"Tweet %s: %s\" % (counter, tweet[\"text\"]))\n",
    "        \n",
    "        # Run Vader Analysis on each tweet\n",
    "        \n",
    "        # Add sentiments for each tweet into an array\n",
    "        sentiments.append({\"Date\": tweet[\"created_at\"], \n",
    "                           \"Compound\": compound,\n",
    "                           \"Positive\": pos,\n",
    "                           \"Negative\": neu,\n",
    "                           \"Neutral\": neg,\n",
    "                           \"Tweets Ago\": counter})\n",
    "        \n",
    "        # Add to counter \n",
    "        counter = counter + 1\n"
   ]
  },
  {
   "cell_type": "code",
   "execution_count": 7,
   "metadata": {
    "collapsed": true
   },
   "outputs": [
    {
     "data": {
      "text/html": [
       "<div>\n",
       "<style>\n",
       "    .dataframe thead tr:only-child th {\n",
       "        text-align: right;\n",
       "    }\n",
       "\n",
       "    .dataframe thead th {\n",
       "        text-align: left;\n",
       "    }\n",
       "\n",
       "    .dataframe tbody tr th {\n",
       "        vertical-align: top;\n",
       "    }\n",
       "</style>\n",
       "<table border=\"1\" class=\"dataframe\">\n",
       "  <thead>\n",
       "    <tr style=\"text-align: right;\">\n",
       "      <th></th>\n",
       "      <th>Compound</th>\n",
       "      <th>Date</th>\n",
       "      <th>Negative</th>\n",
       "      <th>Neutral</th>\n",
       "      <th>Positive</th>\n",
       "      <th>Tweets Ago</th>\n",
       "    </tr>\n",
       "  </thead>\n",
       "  <tbody>\n",
       "    <tr>\n",
       "      <th>0</th>\n",
       "      <td>-0.4215</td>\n",
       "      <td>Sun Jan 21 20:58:22 +0000 2018</td>\n",
       "      <td>0.808</td>\n",
       "      <td>0.192</td>\n",
       "      <td>0.000</td>\n",
       "      <td>1</td>\n",
       "    </tr>\n",
       "    <tr>\n",
       "      <th>1</th>\n",
       "      <td>0.9230</td>\n",
       "      <td>Sun Jan 21 20:58:13 +0000 2018</td>\n",
       "      <td>0.601</td>\n",
       "      <td>0.000</td>\n",
       "      <td>0.399</td>\n",
       "      <td>2</td>\n",
       "    </tr>\n",
       "    <tr>\n",
       "      <th>2</th>\n",
       "      <td>0.6124</td>\n",
       "      <td>Sun Jan 21 20:50:25 +0000 2018</td>\n",
       "      <td>0.693</td>\n",
       "      <td>0.080</td>\n",
       "      <td>0.226</td>\n",
       "      <td>3</td>\n",
       "    </tr>\n",
       "    <tr>\n",
       "      <th>3</th>\n",
       "      <td>0.8268</td>\n",
       "      <td>Sun Jan 21 20:48:27 +0000 2018</td>\n",
       "      <td>0.588</td>\n",
       "      <td>0.000</td>\n",
       "      <td>0.412</td>\n",
       "      <td>4</td>\n",
       "    </tr>\n",
       "    <tr>\n",
       "      <th>4</th>\n",
       "      <td>0.8555</td>\n",
       "      <td>Sun Jan 21 20:46:50 +0000 2018</td>\n",
       "      <td>0.682</td>\n",
       "      <td>0.000</td>\n",
       "      <td>0.318</td>\n",
       "      <td>5</td>\n",
       "    </tr>\n",
       "  </tbody>\n",
       "</table>\n",
       "</div>"
      ],
      "text/plain": [
       "   Compound                            Date  Negative  Neutral  Positive  \\\n",
       "0   -0.4215  Sun Jan 21 20:58:22 +0000 2018     0.808    0.192     0.000   \n",
       "1    0.9230  Sun Jan 21 20:58:13 +0000 2018     0.601    0.000     0.399   \n",
       "2    0.6124  Sun Jan 21 20:50:25 +0000 2018     0.693    0.080     0.226   \n",
       "3    0.8268  Sun Jan 21 20:48:27 +0000 2018     0.588    0.000     0.412   \n",
       "4    0.8555  Sun Jan 21 20:46:50 +0000 2018     0.682    0.000     0.318   \n",
       "\n",
       "   Tweets Ago  \n",
       "0           1  \n",
       "1           2  \n",
       "2           3  \n",
       "3           4  \n",
       "4           5  "
      ]
     },
     "execution_count": 7,
     "metadata": {},
     "output_type": "execute_result"
    }
   ],
   "source": [
    "# Convert sentiments to DataFrame\n",
    "sentiments_pd = pd.DataFrame.from_dict(sentiments)\n",
    "sentiments_pd.head()"
   ]
  },
  {
   "cell_type": "code",
   "execution_count": 8,
   "metadata": {},
   "outputs": [
    {
     "data": {
      "image/png": "[encoded data removed]",
      "text/plain": [
       "<matplotlib.figure.Figure at 0x1a0e60b278>"
      ]
     },
     "metadata": {},
     "output_type": "display_data"
    }
   ],
   "source": [
    "# Create plot\n",
    "plt.plot(np.arange(len(sentiments_pd[\"Compound\"])),\n",
    "         sentiments_pd[\"Compound\"], marker=\"o\", linewidth=0.5,\n",
    "         alpha=0.8)\n",
    "\n",
    "from dateutil import parser\n",
    "first_tweet = parser.parse(sentiments_pd[\"Date\"][0])\n",
    "\n",
    "# # Incorporate the other graph properties\n",
    "plt.title(f\"Sentiment Analysis of Tweets for {target_user} ({first_tweet:%B %d, %Y})\")\n",
    "plt.ylabel(\"Tweet Polarity\")\n",
    "plt.xlabel(\"Tweets Ago\")\n",
    "plt.show()"
   ]
  },
  {
   "cell_type": "code",
   "execution_count": null,
   "metadata": {
    "collapsed": true
   },
   "outputs": [],
   "source": []
  }
 ],
 "metadata": {
  "anaconda-cloud": {},
  "kernelspec": {
   "display_name": "Python 3",
   "language": "python",
   "name": "python3"
  },
  "language_info": {
   "codemirror_mode": {
    "name": "ipython",
    "version": 3
   },
   "file_extension": ".py",
   "mimetype": "text/x-python",
   "name": "python",
   "nbconvert_exporter": "python",
   "pygments_lexer": "ipython3",
   "version": "3.6.3"
  }
 },
 "nbformat": 4,
 "nbformat_minor": 1
}
