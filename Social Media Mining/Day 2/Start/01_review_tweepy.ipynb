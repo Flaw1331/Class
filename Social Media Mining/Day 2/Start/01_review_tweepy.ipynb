{
 "cells": [
  {
   "cell_type": "markdown",
   "metadata": {},
   "source": [
    "### Instructions\n",
    "\n",
    "In this activity we are going to review Tweepy.\n",
    "\n",
    "Objectives:\n",
    "\n",
    "* Loop through 5 pages of tweets (100 tweets total)\n",
    "\n",
    "* Print out tweets using JSON dumps.\n",
    "\n",
    "* **Hint** You need to use a nested for loop and counter at the end of your loop to increment.\n"
   ]
  },
  {
   "cell_type": "code",
   "execution_count": 5,
   "metadata": {
    "collapsed": true
   },
   "outputs": [],
   "source": [
    "import json\n",
    "import tweepy \n",
    "import os"
   ]
  },
  {
   "cell_type": "code",
   "execution_count": 6,
   "metadata": {
    "collapsed": true
   },
   "outputs": [],
   "source": [
    "api_dir = os.path.dirname(os.path.dirname(os.path.dirname(os.path.dirname(os.path.dirname(os.path.realpath('__file__'))))))\n",
    "file_name = os.path.join(api_dir, \"api_keys.json\")\n",
    "data = json.load(open(file_name))\n",
    "\n",
    "consumer_key = data['twitter_consumer_key']\n",
    "consumer_secret = data['twitter_consumer_secret']\n",
    "access_token = data['twitter_access_token']\n",
    "access_token_secret = data['twitter_access_token_secret']"
   ]
  },
  {
   "cell_type": "code",
   "execution_count": 7,
   "metadata": {
    "collapsed": true
   },
   "outputs": [],
   "source": [
    "# Target User Account\n",
    "target_user = \"@tacobell\""
   ]
  },
  {
   "cell_type": "code",
   "execution_count": 4,
   "metadata": {
    "collapsed": true
   },
   "outputs": [],
   "source": [
    "auth = tweepy.OAuthHandler(consumer_key, consumer_secret)\n",
    "auth.set_access_token(access_token, access_token_secret)\n",
    "api = tweepy.API(auth, parser=tweepy.parsers.JSONParser())"
   ]
  },
  {
   "cell_type": "code",
   "execution_count": 9,
   "metadata": {},
   "outputs": [
    {
     "name": "stdout",
     "output_type": "stream",
     "text": [
      "Tweet 1: @jakerawr Happy Birthday, Jake. We miss you already. ❤️\n",
      "Tweet 2: @AllenHenry It happens.\n",
      "Tweet 3: @GoneFishkin Only twice?\n",
      "Tweet 4: @mariaa_lynn @spencerpratt Agreed.\n",
      "Tweet 5: @PG_ESAM It's true. 🙌\n",
      "Tweet 6: Yeah, you can have fries with that. $1 #NachoFries are here. https://t.co/qvqxrvhEX5\n",
      "Tweet 7: @Experian_US It will vary by location, but most restaurants will start serving them at 9AM or 10AM.\n",
      "Tweet 8: @SethhMiller Come get it.\n",
      "Tweet 9: @ashleykay_g Hang in there.\n",
      "Tweet 10: @hannerdawnn ❤️\n",
      "Tweet 11: @Cheybearry We got you.\n",
      "Tweet 12: @yung_planet Miss you more.\n",
      "Tweet 13: @nessydyer Thanks for the kind words.\n",
      "Tweet 14: @Schmil_Dog You deserve it.\n",
      "Tweet 15: Never forget. https://t.co/xkryYUP4R3\n",
      "Tweet 16: @commandz We think so too.\n",
      "Tweet 17: @_dontiknowyou 🙌\n",
      "Tweet 18: @brettallbrightt You can always order a Stacker with chicken instead of beef.\n",
      "Tweet 19: @he11oBrookeLynn 👍\n",
      "Tweet 20: @devdodge Glad we could help.\n",
      "Tweet 21: @jakerawr Happy Birthday, Jake. We miss you already. ❤️\n",
      "Tweet 22: @AllenHenry It happens.\n",
      "Tweet 23: @GoneFishkin Only twice?\n",
      "Tweet 24: @mariaa_lynn @spencerpratt Agreed.\n",
      "Tweet 25: @PG_ESAM It's true. 🙌\n",
      "Tweet 26: Yeah, you can have fries with that. $1 #NachoFries are here. https://t.co/qvqxrvhEX5\n",
      "Tweet 27: @Experian_US It will vary by location, but most restaurants will start serving them at 9AM or 10AM.\n",
      "Tweet 28: @SethhMiller Come get it.\n",
      "Tweet 29: @ashleykay_g Hang in there.\n",
      "Tweet 30: @hannerdawnn ❤️\n",
      "Tweet 31: @Cheybearry We got you.\n",
      "Tweet 32: @yung_planet Miss you more.\n",
      "Tweet 33: @nessydyer Thanks for the kind words.\n",
      "Tweet 34: @Schmil_Dog You deserve it.\n",
      "Tweet 35: Never forget. https://t.co/xkryYUP4R3\n",
      "Tweet 36: @commandz We think so too.\n",
      "Tweet 37: @_dontiknowyou 🙌\n",
      "Tweet 38: @brettallbrightt You can always order a Stacker with chicken instead of beef.\n",
      "Tweet 39: @he11oBrookeLynn 👍\n",
      "Tweet 40: @devdodge Glad we could help.\n",
      "Tweet 41: @EmmmBlake Every day.\n",
      "Tweet 42: @ddavis2102 Right back at you. ❤️\n",
      "Tweet 43: @LEGIQN @MLG Slay, Taco Boss. 🔥\n",
      "Tweet 44: @ashleylaurenpen Good times. 🙌\n",
      "Tweet 45: RT @thekatiewilson: Who can guess my go-to order? 😍🌮 @tacobell https://t.co/xmXki47oIP\n",
      "Tweet 46: @JackIdlas It's a good place to be.\n",
      "Tweet 47: This takes food baby to a whole new level. https://t.co/iP5AOEABP2\n",
      "Tweet 48: RT @ashleyargota9: My final birthday surprise was a visit to bae where we tasted all the secret @tacobell foods that you guys don’t know ex…\n",
      "Tweet 49: @ashleyargota9 @peterallenvogt Best day ever. 🎉\n",
      "Tweet 50: @Nick_Major It's encouraged.\n",
      "Tweet 51: The #LiveMásScholarship is back and we want to help you pursue your passion. Apply by March 18.… https://t.co/twC24ux9PM\n",
      "Tweet 52: @bohan ❤️\n",
      "Tweet 53: Not all heroes wear capes. https://t.co/EPsmnAy487\n",
      "Tweet 54: @tinaaturner We love you too.\n",
      "Tweet 55: @DarioDiBattista Don't blame you.\n",
      "Tweet 56: @NathanielJesse That's our kind of party.\n",
      "Tweet 57: @BryanWebb 👌\n",
      "Tweet 58: RT @LEGIQN: FREESTYLE ALERT! Unlock the power of EVERY dollar at @tacobell! 😈 With more than 20 cheesy, spicy, and crunchy menu items to ch…\n",
      "Tweet 59: @JessicaLu That's way too long. We miss you. 😢\n",
      "Tweet 60: We’re impressed. Our final #Belluminati code was cracked faster than we expected, which means that the most opulent… https://t.co/lpoTnlNluk\n",
      "Tweet 61: @MeghanWMcCarthy 😘\n",
      "Tweet 62: We turned your favorite popsicle into our newest freeze. \n",
      "The #OrangeCreamPopFreeze is here. https://t.co/LHCwca10VV\n",
      "Tweet 63: The final #Belluminati challenge is here. https://t.co/709FmpMe1T https://t.co/00aU9epQ4y\n",
      "Tweet 64: @ScooterMagruder 🙌\n",
      "Tweet 65: We’re back at the #CFPlayoffs Championship game with our friend @ScooterMagruder. Head to our Snapchat for a comple… https://t.co/hVT1zAKKpu\n",
      "Tweet 66: The Live Más Student Section will be back at the #CFPlayoffs Championship game tomorrow. Here’s what it’s like to g… https://t.co/lszVVOulVZ\n",
      "Tweet 67: @cinnamorolIs @haybuggy22 Pretty great, huh?\n",
      "Tweet 68: @iamKrayzieBone  https://t.co/XlQlNKsR5I\n",
      "Tweet 69: @Yael_irl See you tomorrow morning?\n",
      "Tweet 70: @Lilxvxmama Best love story we've seen in years.\n",
      "Tweet 71: This @lyft driver is our hero. https://t.co/rPJpkj6YYu\n",
      "Tweet 72: @AcaciaBrinley 🙌\n",
      "Tweet 73: @anna_corey 🙏\n",
      "Tweet 74: @erinmaewalsh ❤️\n",
      "Tweet 75: @shellyvazquezzz 🔥\n",
      "Tweet 76: @AdoreDelano Good call.\n",
      "Tweet 77: @markdsj 😅\n",
      "Tweet 78: @BreTT_Shevlin Right?\n",
      "Tweet 79: @JakeFoushee Same.\n",
      "Tweet 80: @iamKrayzieBone 👀\n",
      "Tweet 81: @sgarcia_3 Truth.\n",
      "Tweet 82: @kristendoute ❤️\n",
      "Tweet 83: @ashleyargota9 Good choice.\n",
      "Tweet 84: @rosebowlgame 🙌\n",
      "Tweet 85: Wake up with decadence. Try the $1 Breakfast Stacker today. https://t.co/k3NX9zubr7\n",
      "Tweet 86: With a little help from George, you guys unlocked the #Belluminati site and got tons of exclusive items. The items… https://t.co/Ss8rCrWc92\n",
      "Tweet 87: Look closely and you’ll find that the #Belluminati have hidden a code on every dollar bill. What is that code? Figu… https://t.co/kGABRxfVt4\n",
      "Tweet 88: Last time, those that were “in the know” were able to get special #Belluminati items for just one dollar. If you wa… https://t.co/wqirvuYkU7\n",
      "Tweet 89: RT @wowimjen: Thank you @tacobell for selecting me to be in the #Belluminati. I will be adding this achievement to my résumé. ❤️🌮 https://t…\n",
      "Tweet 90: You came, you zoomed, you figured out the secret password to our #Belluminati site that was hiding a bunch of decad… https://t.co/qST5oE4cu6\n",
      "Tweet 91: 20 decadent items for just 1 dollar? It’s not the Illuminati. It’s the #Belluminati. But who are they? Zoom in on t… https://t.co/nMMlu6GQsk\n",
      "Tweet 92: Exactly how powerful is the dollar at Taco Bell? Check back today at 12pm PST/3pm EST, and a few lucky people might… https://t.co/ZQ1jhyhTa4\n",
      "Tweet 93: @thekatiewilson @Forever21 Looking good.\n",
      "Tweet 94: @cindygallop @ExecutiveMoms @DeutschInc @kristinamonllos @Adweek 😏\n",
      "Tweet 95: @HolographicRibs 🙌\n",
      "Tweet 96: @HolographicRibs #TacoEmojiEngine  https://t.co/OGNf3ozfJD\n",
      "Tweet 97: @mogirlprobs Best way to start the year.\n",
      "Tweet 98: @Jess48041280 #TacoEmojiEngine  https://t.co/paUFxnTRfJ\n",
      "Tweet 99: @freyaheart #TacoEmojiEngine  https://t.co/7wSOpykdst\n",
      "Tweet 100: @papared1954 #TacoEmojiEngine  https://t.co/QIlXkqVQoo\n"
     ]
    }
   ],
   "source": [
    "# Counter\n",
    "counter = 1\n",
    "\n",
    "# @TODO: UNCOMMENT THE FOLLOWING BLOCK AND COMPLETE THE CODE\n",
    "# # Loop through 5 pages of tweets (total 100 tweets)\n",
    "\n",
    "#     # Get all tweets from home feed\n",
    "for x in range(5):\n",
    "    public_tweets = api.user_timeline(target_user, page=x)\n",
    "    for tweet in public_tweets:       \n",
    "        print(f\"Tweet {counter}: {tweet['text']}\")\n",
    "        counter += 1\n",
    "\n",
    "#     # Loop through all tweets\n",
    "#     for tweet in public_tweets:\n",
    "\n",
    "#         # Utilize JSON dumps to generate a pretty-printed json\n",
    "#         # print(json.dumps(\n",
    "#         #     tweet, sort_keys=True, indent=4, separators=(',', ': ')))\n",
    "\n",
    "#         # Print Tweet Text\n",
    "#         # YOUR CODE HERE\n",
    "#  \n",
    "\n",
    "#         # Add to Counter\n",
    "#         # YOUR CODE HERE\n"
   ]
  },
  {
   "cell_type": "code",
   "execution_count": null,
   "metadata": {
    "collapsed": true
   },
   "outputs": [],
   "source": []
  }
 ],
 "metadata": {
  "kernelspec": {
   "display_name": "Python 3",
   "language": "python",
   "name": "python3"
  },
  "language_info": {
   "codemirror_mode": {
    "name": "ipython",
    "version": 3
   },
   "file_extension": ".py",
   "mimetype": "text/x-python",
   "name": "python",
   "nbconvert_exporter": "python",
   "pygments_lexer": "ipython3",
   "version": "3.6.3"
  }
 },
 "nbformat": 4,
 "nbformat_minor": 2
}
