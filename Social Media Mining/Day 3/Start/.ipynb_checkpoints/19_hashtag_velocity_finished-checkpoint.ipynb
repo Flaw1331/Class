{
 "cells": [
  {
   "cell_type": "code",
   "execution_count": null,
   "metadata": {
    "collapsed": true
   },
   "outputs": [],
   "source": []
  },
  {
   "cell_type": "code",
   "execution_count": 1,
   "metadata": {
    "collapsed": true
   },
   "outputs": [],
   "source": [
    "import numpy as np\n",
    "import pandas as pd\n",
    "import json\n",
    "import datetime\n",
    "import tweepy\n",
    "import time\n",
    "import seaborn as sns\n",
    "import os\n",
    "import requests as req\n",
    "from dateutil import parser"
   ]
  },
  {
   "cell_type": "code",
   "execution_count": 2,
   "metadata": {
    "collapsed": true
   },
   "outputs": [],
   "source": [
    "api_dir = os.path.dirname(os.path.dirname(os.path.dirname(os.path.dirname(os.path.dirname(os.path.realpath('__file__'))))))\n",
    "file_name = os.path.join(api_dir, \"api_keys.json\")\n",
    "data = json.load(open(file_name))\n",
    "\n",
    "consumer_key = data['twitter_consumer_key']\n",
    "consumer_secret = data['twitter_consumer_secret']\n",
    "access_token = data['twitter_access_token']\n",
    "access_token_secret = data['twitter_access_token_secret']"
   ]
  },
  {
   "cell_type": "code",
   "execution_count": 3,
   "metadata": {
    "collapsed": true
   },
   "outputs": [],
   "source": [
    "auth = tweepy.OAuthHandler(consumer_key, consumer_secret)\n",
    "auth.set_access_token(access_token, access_token_secret)\n",
    "api = tweepy.API(auth, parser=tweepy.parsers.JSONParser())"
   ]
  },
  {
   "cell_type": "code",
   "execution_count": 36,
   "metadata": {
    "collapsed": true
   },
   "outputs": [],
   "source": [
    "# Your Bot name. Change to your bot's name\n",
    "target_term = \"@_friendly_robot\""
   ]
  },
  {
   "cell_type": "code",
   "execution_count": 37,
   "metadata": {
    "collapsed": true
   },
   "outputs": [],
   "source": [
    "# Create a function for determining the hashtag included in the most\n",
    "# recent tweet\n",
    "def HashtagExtractor():\n",
    "    hashtag = \"\"\n",
    "    public_tweets = api.search(target_term, count=1, result_type=\"recent\")\n",
    "    for tweet in public_tweets[\"statuses\"]:\n",
    "        try:\n",
    "            for hashtag in tweet[\"entities\"][\"hashtags\"]:\n",
    "                hashtag = hashtag[\"text\"]\n",
    "                print(hashtag)\n",
    "                return hashtag\n",
    "        except Exception: \n",
    "            print(\"No hashtag present in status\")\n",
    "    print(\"no hashtags found. returning None\")"
   ]
  },
  {
   "cell_type": "code",
   "execution_count": 38,
   "metadata": {
    "collapsed": true
   },
   "outputs": [],
   "source": [
    "def CreateAndTweetPlot(hashtag):\n",
    "    tweet_times = []\n",
    "    public_tweets = api.search(hashtag, count=100, result_type=\"recent\")\n",
    "\n",
    "    for tweet in public_tweets[\"statuses\"]:\n",
    "        tweet_times.append(tweet[\"created_at\"])\n",
    "        print(tweet[\"created_at\"])\n",
    "\n",
    "    tweet_time_objects = []\n",
    "    for x in range(len(tweet_times)):\n",
    "        tweet_datetime = parser.parse(tweet_times[x])\n",
    "        tweet_time_objects.append(tweet_datetime)\n",
    "\n",
    "    time_in_between = []\n",
    "    for x in range(len(tweet_time_objects) - 1):\n",
    "        hours_apart = (\n",
    "            (tweet_time_objects[x] - tweet_time_objects[x + 1]).total_seconds()) / 3600\n",
    "        time_in_between.append(hours_apart)\n",
    "\n",
    "    # Plot time between tweets\n",
    "    plt.plot(range(len(time_in_between)), time_in_between, marker=\"o\",\n",
    "             linewidth=0.25, alpha=0.8, color=\"r\")\n",
    "    plt.xlim([0, len(time_in_between)])\n",
    "    plt.ylabel(\"Hours Apart\")\n",
    "    plt.xlabel(\"Tweets Ago\")\n",
    "    plt.title(\"Tweet Velocity: %s\" % hashtag)\n",
    "\n",
    "    file_path = \"analysis.png\"\n",
    "    plt.savefig(file_path)\n",
    "\n",
    "\n",
    "    # Tweet the plot\n",
    "    api.update_with_media(\"analysis.png\", \"tweet analysis\")\n",
    "    print(\"All Done!\")\n",
    "\n",
    "\n"
   ]
  },
  {
   "cell_type": "code",
   "execution_count": null,
   "metadata": {
    "collapsed": true
   },
   "outputs": [],
   "source": []
  },
  {
   "cell_type": "code",
   "execution_count": 39,
   "metadata": {},
   "outputs": [
    {
     "name": "stdout",
     "output_type": "stream",
     "text": [
      "Paris\n",
      "Thu Jan 25 14:15:51 +0000 2018\n",
      "Thu Jan 25 14:15:40 +0000 2018\n",
      "Thu Jan 25 14:15:34 +0000 2018\n",
      "Thu Jan 25 14:15:27 +0000 2018\n",
      "Thu Jan 25 14:15:18 +0000 2018\n",
      "Thu Jan 25 14:15:02 +0000 2018\n",
      "Thu Jan 25 14:14:58 +0000 2018\n",
      "Thu Jan 25 14:14:46 +0000 2018\n",
      "Thu Jan 25 14:14:34 +0000 2018\n",
      "Thu Jan 25 14:14:30 +0000 2018\n",
      "Thu Jan 25 14:14:11 +0000 2018\n",
      "Thu Jan 25 14:14:11 +0000 2018\n",
      "Thu Jan 25 14:14:02 +0000 2018\n",
      "Thu Jan 25 14:13:54 +0000 2018\n",
      "Thu Jan 25 14:13:45 +0000 2018\n",
      "Thu Jan 25 14:13:42 +0000 2018\n",
      "Thu Jan 25 14:13:24 +0000 2018\n",
      "Thu Jan 25 14:13:20 +0000 2018\n",
      "Thu Jan 25 14:13:16 +0000 2018\n",
      "Thu Jan 25 14:13:11 +0000 2018\n",
      "Thu Jan 25 14:13:04 +0000 2018\n",
      "Thu Jan 25 14:13:01 +0000 2018\n",
      "Thu Jan 25 14:13:00 +0000 2018\n",
      "Thu Jan 25 14:12:46 +0000 2018\n",
      "Thu Jan 25 14:12:45 +0000 2018\n",
      "Thu Jan 25 14:12:33 +0000 2018\n",
      "Thu Jan 25 14:12:27 +0000 2018\n",
      "Thu Jan 25 14:12:25 +0000 2018\n",
      "Thu Jan 25 14:12:22 +0000 2018\n",
      "Thu Jan 25 14:12:15 +0000 2018\n",
      "Thu Jan 25 14:12:10 +0000 2018\n",
      "Thu Jan 25 14:12:07 +0000 2018\n",
      "Thu Jan 25 14:12:05 +0000 2018\n",
      "Thu Jan 25 14:12:00 +0000 2018\n",
      "Thu Jan 25 14:11:56 +0000 2018\n",
      "Thu Jan 25 14:11:49 +0000 2018\n",
      "Thu Jan 25 14:11:47 +0000 2018\n",
      "Thu Jan 25 14:11:29 +0000 2018\n",
      "Thu Jan 25 14:11:24 +0000 2018\n",
      "Thu Jan 25 14:11:17 +0000 2018\n",
      "Thu Jan 25 14:11:16 +0000 2018\n",
      "Thu Jan 25 14:11:14 +0000 2018\n",
      "Thu Jan 25 14:11:10 +0000 2018\n",
      "Thu Jan 25 14:10:56 +0000 2018\n",
      "Thu Jan 25 14:10:51 +0000 2018\n",
      "Thu Jan 25 14:10:49 +0000 2018\n",
      "Thu Jan 25 14:10:39 +0000 2018\n",
      "Thu Jan 25 14:10:39 +0000 2018\n",
      "Thu Jan 25 14:10:26 +0000 2018\n",
      "Thu Jan 25 14:10:21 +0000 2018\n",
      "Thu Jan 25 14:10:16 +0000 2018\n",
      "Thu Jan 25 14:10:12 +0000 2018\n",
      "Thu Jan 25 14:10:10 +0000 2018\n",
      "Thu Jan 25 14:10:09 +0000 2018\n",
      "Thu Jan 25 14:10:09 +0000 2018\n",
      "Thu Jan 25 14:10:08 +0000 2018\n",
      "Thu Jan 25 14:10:01 +0000 2018\n",
      "Thu Jan 25 14:09:51 +0000 2018\n",
      "Thu Jan 25 14:09:28 +0000 2018\n",
      "Thu Jan 25 14:09:22 +0000 2018\n",
      "Thu Jan 25 14:09:16 +0000 2018\n",
      "Thu Jan 25 14:09:07 +0000 2018\n",
      "Thu Jan 25 14:08:58 +0000 2018\n",
      "Thu Jan 25 14:08:35 +0000 2018\n",
      "Thu Jan 25 14:08:24 +0000 2018\n",
      "Thu Jan 25 14:08:21 +0000 2018\n",
      "Thu Jan 25 14:08:07 +0000 2018\n",
      "Thu Jan 25 14:08:01 +0000 2018\n",
      "Thu Jan 25 14:07:58 +0000 2018\n",
      "Thu Jan 25 14:07:46 +0000 2018\n",
      "Thu Jan 25 14:07:41 +0000 2018\n",
      "Thu Jan 25 14:07:25 +0000 2018\n",
      "Thu Jan 25 14:07:20 +0000 2018\n",
      "Thu Jan 25 14:07:11 +0000 2018\n",
      "Thu Jan 25 14:07:03 +0000 2018\n",
      "Thu Jan 25 14:06:58 +0000 2018\n",
      "Thu Jan 25 14:06:57 +0000 2018\n",
      "Thu Jan 25 14:06:57 +0000 2018\n",
      "Thu Jan 25 14:06:51 +0000 2018\n",
      "Thu Jan 25 14:06:48 +0000 2018\n",
      "Thu Jan 25 14:06:47 +0000 2018\n",
      "Thu Jan 25 14:06:39 +0000 2018\n",
      "Thu Jan 25 14:06:38 +0000 2018\n",
      "Thu Jan 25 14:06:17 +0000 2018\n",
      "Thu Jan 25 14:06:00 +0000 2018\n",
      "Thu Jan 25 14:05:45 +0000 2018\n",
      "Thu Jan 25 14:05:40 +0000 2018\n",
      "Thu Jan 25 14:05:40 +0000 2018\n",
      "Thu Jan 25 14:05:19 +0000 2018\n",
      "Thu Jan 25 14:05:11 +0000 2018\n",
      "Thu Jan 25 14:05:07 +0000 2018\n",
      "Thu Jan 25 14:04:51 +0000 2018\n",
      "Thu Jan 25 14:04:50 +0000 2018\n",
      "Thu Jan 25 14:04:45 +0000 2018\n",
      "Thu Jan 25 14:04:29 +0000 2018\n",
      "Thu Jan 25 14:04:06 +0000 2018\n",
      "Thu Jan 25 14:04:06 +0000 2018\n",
      "Thu Jan 25 14:04:01 +0000 2018\n",
      "Thu Jan 25 14:03:59 +0000 2018\n",
      "Thu Jan 25 14:03:51 +0000 2018\n",
      "All Done!\n"
     ]
    }
   ],
   "source": [
    "hashtag = \"#\" + HashtagExtractor()\n",
    "CreateAndTweetPlot(hashtag)"
   ]
  },
  {
   "cell_type": "code",
   "execution_count": null,
   "metadata": {
    "collapsed": true
   },
   "outputs": [],
   "source": [
    "# Call the function to run the two functions every minute\n",
    "#while(True):\n",
    "#    hashtag = \"#\" + HashtagExtractor()\n",
    "#    CreateAndTweetPlot(hashtag)\n",
    "#    time.sleep(60)\n",
    "\n"
   ]
  }
 ],
 "metadata": {
  "kernelspec": {
   "display_name": "Python 3",
   "language": "python",
   "name": "python3"
  },
  "language_info": {
   "codemirror_mode": {
    "name": "ipython",
    "version": 3
   },
   "file_extension": ".py",
   "mimetype": "text/x-python",
   "name": "python",
   "nbconvert_exporter": "python",
   "pygments_lexer": "ipython3",
   "version": "3.6.3"
  }
 },
 "nbformat": 4,
 "nbformat_minor": 2
}
