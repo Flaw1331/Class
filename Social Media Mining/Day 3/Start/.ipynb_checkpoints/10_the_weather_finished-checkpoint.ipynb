{
 "cells": [
  {
   "cell_type": "markdown",
   "metadata": {},
   "source": [
    "### Instructions\n",
    "\n",
    "* Create a function that gets the weather in London and Tweets it\n",
    "\n",
    "  * Construct a Query URL for the OpenWeatherMap\n",
    "\n",
    "  * Perform the API call to get the weather\n",
    "\n",
    "  * Set up your Twitter credentials\n",
    "\n",
    "  * Tweet the weather\n",
    "\n",
    "  * Print the success message\n",
    "\n",
    "  * Set timer to run every minute\n"
   ]
  },
  {
   "cell_type": "code",
   "execution_count": 1,
   "metadata": {
    "collapsed": true
   },
   "outputs": [],
   "source": [
    "import numpy as np\n",
    "import pandas as pd\n",
    "import json\n",
    "import tweepy\n",
    "import time\n",
    "import seaborn as sns\n",
    "import os\n",
    "import requests as req"
   ]
  },
  {
   "cell_type": "code",
   "execution_count": 2,
   "metadata": {
    "collapsed": true
   },
   "outputs": [],
   "source": [
    "api_dir = os.path.dirname(os.path.dirname(os.path.dirname(os.path.dirname(os.path.dirname(os.path.realpath('__file__'))))))\n",
    "file_name = os.path.join(api_dir, \"api_keys.json\")\n",
    "data = json.load(open(file_name))\n",
    "\n",
    "consumer_key = data['twitter_consumer_key']\n",
    "consumer_secret = data['twitter_consumer_secret']\n",
    "access_token = data['twitter_access_token']\n",
    "access_token_secret = data['twitter_access_token_secret']"
   ]
  },
  {
   "cell_type": "code",
   "execution_count": 3,
   "metadata": {
    "collapsed": true
   },
   "outputs": [],
   "source": [
    "auth = tweepy.OAuthHandler(consumer_key, consumer_secret)\n",
    "auth.set_access_token(access_token, access_token_secret)\n",
    "api = tweepy.API(auth, parser=tweepy.parsers.JSONParser())"
   ]
  },
  {
   "cell_type": "code",
   "execution_count": 11,
   "metadata": {
    "collapsed": true
   },
   "outputs": [],
   "source": [
    "weather_api_key = \"25bc90a1196e6f153eece0bc0b0fc9eb\"\n"
   ]
  },
  {
   "cell_type": "code",
   "execution_count": 14,
   "metadata": {
    "collapsed": true
   },
   "outputs": [],
   "source": [
    "# Create a function that gets the weather in London and Tweets it\n",
    "def WeatherTweet(counter):\n",
    "\n",
    "    # Construct a Query URL for the OpenWeatherMap\n",
    "    url = \"http://api.openweathermap.org/data/2.5/weather?\"\n",
    "    city = \"London\"\n",
    "    units = \"imperial\"\n",
    "    query_url = url + \"appid=\" + weather_api_key + \"&q=\" + city + \"&units=\" + units\n",
    "\n",
    "    weather_response = req.get(query_url)\n",
    "    weather_json = weather_response.json()\n",
    "    print(weather_json)\n",
    "    counter +=1\n",
    "    # Tweet the weather\n",
    "    api.update_status(f\"London Weather update {counter}: {weather_json['main']['temp']} degrees Fahrenheit.\")\n",
    "\n",
    "    # Print success message\n",
    "    print(\"Tweeted successfully, sir!\")\n",
    "\n",
    "\n"
   ]
  },
  {
   "cell_type": "code",
   "execution_count": 16,
   "metadata": {},
   "outputs": [
    {
     "name": "stdout",
     "output_type": "stream",
     "text": [
      "{'coord': {'lon': -0.13, 'lat': 51.51}, 'weather': [{'id': 804, 'main': 'Clouds', 'description': 'overcast clouds', 'icon': '04n'}], 'base': 'stations', 'main': {'temp': 45.5, 'pressure': 1019, 'humidity': 75, 'temp_min': 42.8, 'temp_max': 46.4}, 'visibility': 10000, 'wind': {'speed': 8.05, 'deg': 210}, 'clouds': {'all': 90}, 'dt': 1516670400, 'sys': {'type': 1, 'id': 5093, 'message': 0.0052, 'country': 'GB', 'sunrise': 1516693874, 'sunset': 1516725243}, 'id': 2643743, 'name': 'London', 'cod': 200}\n",
      "Tweeted successfully, sir!\n",
      "{'coord': {'lon': -0.13, 'lat': 51.51}, 'weather': [{'id': 804, 'main': 'Clouds', 'description': 'overcast clouds', 'icon': '04n'}], 'base': 'stations', 'main': {'temp': 45.61, 'pressure': 1018, 'humidity': 70, 'temp_min': 42.8, 'temp_max': 48.2}, 'visibility': 10000, 'wind': {'speed': 8.05, 'deg': 210}, 'clouds': {'all': 90}, 'dt': 1516672200, 'sys': {'type': 1, 'id': 5091, 'message': 0.0066, 'country': 'GB', 'sunrise': 1516693874, 'sunset': 1516725243}, 'id': 2643743, 'name': 'London', 'cod': 200}\n",
      "Tweeted successfully, sir!\n",
      "{'coord': {'lon': -0.13, 'lat': 51.51}, 'weather': [{'id': 804, 'main': 'Clouds', 'description': 'overcast clouds', 'icon': '04n'}], 'base': 'stations', 'main': {'temp': 45.5, 'pressure': 1019, 'humidity': 75, 'temp_min': 42.8, 'temp_max': 46.4}, 'visibility': 10000, 'wind': {'speed': 8.05, 'deg': 210}, 'clouds': {'all': 90}, 'dt': 1516670400, 'sys': {'type': 1, 'id': 5093, 'message': 0.0052, 'country': 'GB', 'sunrise': 1516693874, 'sunset': 1516725243}, 'id': 2643743, 'name': 'London', 'cod': 200}\n",
      "Tweeted successfully, sir!\n"
     ]
    }
   ],
   "source": [
    "counter = 0\n",
    "while(True):\n",
    "    \n",
    "    WeatherTweet(counter)\n",
    "    counter += 1\n",
    "    if counter == 3:\n",
    "        break\n",
    "    time.sleep(60)\n",
    "\n",
    "\n",
    "\n",
    "print('finished!')\n"
   ]
  },
  {
   "cell_type": "code",
   "execution_count": null,
   "metadata": {
    "collapsed": true
   },
   "outputs": [],
   "source": [
    "# Set timer to run every 1 hour\n",
    "counter = 0\n",
    "while(True):\n",
    "    #WeatherTweet(counter)\n",
    "    time.sleep(3600)\n",
    "    counter +=1\n",
    "\n",
    "\n"
   ]
  }
 ],
 "metadata": {
  "kernelspec": {
   "display_name": "Python 3",
   "language": "python",
   "name": "python3"
  },
  "language_info": {
   "codemirror_mode": {
    "name": "ipython",
    "version": 3
   },
   "file_extension": ".py",
   "mimetype": "text/x-python",
   "name": "python",
   "nbconvert_exporter": "python",
   "pygments_lexer": "ipython3",
   "version": "3.6.3"
  }
 },
 "nbformat": 4,
 "nbformat_minor": 2
}
