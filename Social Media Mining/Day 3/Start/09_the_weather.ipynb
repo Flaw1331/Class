{
 "cells": [
  {
   "cell_type": "markdown",
   "metadata": {},
   "source": [
    "### Instructions\n",
    "\n",
    "* Create a function that gets the weather in London and Tweets it\n",
    "\n",
    "  * Construct a Query URL for the OpenWeatherMap\n",
    "\n",
    "  * Perform the API call to get the weather\n",
    "\n",
    "  * Set up your Twitter credentials\n",
    "\n",
    "  * Tweet the weather\n",
    "\n",
    "  * Print the success message\n",
    "\n",
    "  * Set timer to run every minute\n"
   ]
  },
  {
   "cell_type": "code",
   "execution_count": 5,
   "metadata": {
    "collapsed": true
   },
   "outputs": [],
   "source": [
    "import numpy as np\n",
    "import pandas as pd\n",
    "import json\n",
    "import tweepy\n",
    "import time\n",
    "import seaborn as sns\n",
    "import os\n",
    "import requests as req"
   ]
  },
  {
   "cell_type": "code",
   "execution_count": 6,
   "metadata": {
    "collapsed": true
   },
   "outputs": [],
   "source": [
    "api_dir = os.path.dirname(os.path.dirname(os.path.dirname(os.path.dirname(os.path.dirname(os.path.realpath('__file__'))))))\n",
    "file_name = os.path.join(api_dir, \"api_keys.json\")\n",
    "data = json.load(open(file_name))\n",
    "\n",
    "consumer_key = data['twitter_consumer_key']\n",
    "consumer_secret = data['twitter_consumer_secret']\n",
    "access_token = data['twitter_access_token']\n",
    "access_token_secret = data['twitter_access_token_secret']\n",
    "weather_api_key = data[\"open_weather_map_api_key\"]"
   ]
  },
  {
   "cell_type": "code",
   "execution_count": 7,
   "metadata": {
    "collapsed": true
   },
   "outputs": [],
   "source": [
    "auth = tweepy.OAuthHandler(consumer_key, consumer_secret)\n",
    "auth.set_access_token(access_token, access_token_secret)\n",
    "api = tweepy.API(auth, parser=tweepy.parsers.JSONParser())"
   ]
  },
  {
   "cell_type": "code",
   "execution_count": 18,
   "metadata": {
    "collapsed": true
   },
   "outputs": [],
   "source": [
    "city = \"London\"\n"
   ]
  },
  {
   "cell_type": "code",
   "execution_count": 28,
   "metadata": {
    "collapsed": true
   },
   "outputs": [],
   "source": [
    "# Create a function that gets the weather in London and Tweets it\n",
    "def WeatherTweet(city):\n",
    "    \"\"\"Get Weather in London and Tweet it out.\"\"\"\n",
    "    # @TODO: Construct a Query URL for the OpenWeatherMap\n",
    "    url = \"https://api.openweathermap.org/data/2.5/weather?q=\" + str(city) + \"&appid=\" + weather_api_key\n",
    "\n",
    "    # @TODO: Perform the API call to get the weather\n",
    "    weather_json = req.get(url).json()\n",
    "    # print(json.dumps(weather_json, indent = 4, sort_keys=True))\n",
    "    temp = weather_json['main']['temp'] * (9/5) - 459.67\n",
    "    \n",
    "    \n",
    "    # @TODO: Twitter credentials\n",
    "    \n",
    "    \n",
    "    # @TODO: Tweet the weather\n",
    "    try:\n",
    "        api.update_status(f'Currently the Temperature (F) in {city} is: {temp} F')\n",
    "    except tweepy.TweepError:\n",
    "        print(\"Same Satatus already updated\")\n",
    "    \n",
    "    # @TODO: Print success message\n",
    "    print(\"You did it.....\")\n"
   ]
  },
  {
   "cell_type": "code",
   "execution_count": 29,
   "metadata": {},
   "outputs": [
    {
     "name": "stdout",
     "output_type": "stream",
     "text": [
      "Same Satatus already updated\n",
      "You did it.....\n"
     ]
    }
   ],
   "source": [
    "# @TODO: Set timer to run every 5 minutes. Run twice and exit\n",
    "counter = 0\n",
    "\n",
    "while(True):\n",
    "    WeatherTweet(city)\n",
    "\n",
    "    counter = counter + 1\n",
    "    if counter==1:\n",
    "        break\n",
    "    time.sleep(10)"
   ]
  },
  {
   "cell_type": "code",
   "execution_count": null,
   "metadata": {
    "collapsed": true
   },
   "outputs": [],
   "source": []
  }
 ],
 "metadata": {
  "kernelspec": {
   "display_name": "Python 3",
   "language": "python",
   "name": "python3"
  },
  "language_info": {
   "codemirror_mode": {
    "name": "ipython",
    "version": 3
   },
   "file_extension": ".py",
   "mimetype": "text/x-python",
   "name": "python",
   "nbconvert_exporter": "python",
   "pygments_lexer": "ipython3",
   "version": "3.6.3"
  }
 },
 "nbformat": 4,
 "nbformat_minor": 2
}
