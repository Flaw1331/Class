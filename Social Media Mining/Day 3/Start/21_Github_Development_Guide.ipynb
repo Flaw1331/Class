{
 "cells": [
  {
   "cell_type": "markdown",
   "metadata": {},
   "source": [
    "* **Step One**: Navigate to the `Heroku` folder in today's folder. Copy Heroku Folder to another place on your hard drive if you would like.\n",
    "\n",
    "![](Images/heroku_folder.png)"
   ]
  },
  {
   "cell_type": "markdown",
   "metadata": {},
   "source": [
    "The folder contents are:\n",
    "    * .gitignore - files that don't need to be uploaded to Github\n",
    "    * ChatterBot.py - this is our main file that will run on Heroku\n",
    "    * Procfile - consists of one line `worker: python ChatterBot.py`. This is Heroku's file to determine what commands are run by your application. We want a worker, which will run ChatterBot.py\n",
    "    * requirements.txt - These are the requirements, beyond python that our application will need. In this case we just have `tweepy==3.5.0`. Everything else comes with Python, so we don't have to worry about those files."
   ]
  },
  {
   "cell_type": "markdown",
   "metadata": {
    "collapsed": true
   },
   "source": [
    "\n",
    "* **Step Two**: Start by going into Heroku directory and typing git init\n",
    "\n",
    "![](Images/git_init.png)\n"
   ]
  },
  {
   "cell_type": "markdown",
   "metadata": {},
   "source": [
    "* **Step Three** In the terminal type: \n",
    "\n",
    "* `git add -A` to add all files\n",
    "* `git commit -m \"Initial Commit\"` to commit locally \n",
    "\n",
    "![](Images/github3.png)\n",
    "\n",
    "* **Step Four** Then create a repo on Github\n",
    "\n",
    "* **Step Five** in the repo created, make sure the setup is set to https \n"
   ]
  },
  {
   "cell_type": "markdown",
   "metadata": {},
   "source": [
    "![](Images/github.png)"
   ]
  },
  {
   "cell_type": "markdown",
   "metadata": {},
   "source": [
    "* **Step Six** Copy the `…or push an existing repository from the command line` code on the github page, or type them out:\n",
    "\n",
    "![](Images/github2.png)"
   ]
  },
  {
   "cell_type": "markdown",
   "metadata": {},
   "source": [
    "### If it all works, you should see something this on your Github page:\n",
    "\n",
    "![](Images/github4.png)"
   ]
  },
  {
   "cell_type": "markdown",
   "metadata": {
    "collapsed": true
   },
   "source": [
    "If you need to change the code in ChatterBot.py, make your changes and do this:"
   ]
  },
  {
   "cell_type": "markdown",
   "metadata": {},
   "source": [
    "* `git add -A`\n",
    "* `git commit -m \"Fixes.\"`\n",
    "* `git push -u origin master`\n",
    "\n",
    "This will first commit your changes locally, and then `push` them to the Github remote repository."
   ]
  },
  {
   "cell_type": "code",
   "execution_count": null,
   "metadata": {
    "collapsed": true
   },
   "outputs": [],
   "source": []
  }
 ],
 "metadata": {
  "kernelspec": {
   "display_name": "Python 3",
   "language": "python",
   "name": "python3"
  },
  "language_info": {
   "codemirror_mode": {
    "name": "ipython",
    "version": 3
   },
   "file_extension": ".py",
   "mimetype": "text/x-python",
   "name": "python",
   "nbconvert_exporter": "python",
   "pygments_lexer": "ipython3",
   "version": "3.6.3"
  }
 },
 "nbformat": 4,
 "nbformat_minor": 2
}
